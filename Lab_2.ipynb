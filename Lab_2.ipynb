{
 "cells": [
  {
   "cell_type": "code",
   "execution_count": 197,
   "id": "292fa859",
   "metadata": {},
   "outputs": [],
   "source": [
    "import numpy as np\n",
    "import sklearn\n",
    "import pandas as pd\n",
    "import plotly_express as px\n",
    "from sklearn.linear_model import LogisticRegression\n",
    "from sklearn.metrics import log_loss, mean_absolute_error, accuracy_score"
   ]
  },
  {
   "cell_type": "code",
   "execution_count": 198,
   "id": "375a9e9d",
   "metadata": {},
   "outputs": [],
   "source": [
    "bean_df = pd.read_excel(\"./Datasets/Dry_Bean_Dataset.xlsx\")"
   ]
  },
  {
   "cell_type": "code",
   "execution_count": 199,
   "id": "4a23ca77",
   "metadata": {},
   "outputs": [
    {
     "data": {
      "text/html": [
       "<div>\n",
       "<style scoped>\n",
       "    .dataframe tbody tr th:only-of-type {\n",
       "        vertical-align: middle;\n",
       "    }\n",
       "\n",
       "    .dataframe tbody tr th {\n",
       "        vertical-align: top;\n",
       "    }\n",
       "\n",
       "    .dataframe thead th {\n",
       "        text-align: right;\n",
       "    }\n",
       "</style>\n",
       "<table border=\"1\" class=\"dataframe\">\n",
       "  <thead>\n",
       "    <tr style=\"text-align: right;\">\n",
       "      <th></th>\n",
       "      <th>Area</th>\n",
       "      <th>Perimeter</th>\n",
       "      <th>MajorAxisLength</th>\n",
       "      <th>MinorAxisLength</th>\n",
       "      <th>AspectRation</th>\n",
       "      <th>Eccentricity</th>\n",
       "      <th>ConvexArea</th>\n",
       "      <th>EquivDiameter</th>\n",
       "      <th>Extent</th>\n",
       "      <th>Solidity</th>\n",
       "      <th>roundness</th>\n",
       "      <th>Compactness</th>\n",
       "      <th>ShapeFactor1</th>\n",
       "      <th>ShapeFactor2</th>\n",
       "      <th>ShapeFactor3</th>\n",
       "      <th>ShapeFactor4</th>\n",
       "      <th>Class</th>\n",
       "    </tr>\n",
       "  </thead>\n",
       "  <tbody>\n",
       "    <tr>\n",
       "      <th>0</th>\n",
       "      <td>28395</td>\n",
       "      <td>610.291</td>\n",
       "      <td>208.178117</td>\n",
       "      <td>173.888747</td>\n",
       "      <td>1.197191</td>\n",
       "      <td>0.549812</td>\n",
       "      <td>28715</td>\n",
       "      <td>190.141097</td>\n",
       "      <td>0.763923</td>\n",
       "      <td>0.988856</td>\n",
       "      <td>0.958027</td>\n",
       "      <td>0.913358</td>\n",
       "      <td>0.007332</td>\n",
       "      <td>0.003147</td>\n",
       "      <td>0.834222</td>\n",
       "      <td>0.998724</td>\n",
       "      <td>SEKER</td>\n",
       "    </tr>\n",
       "    <tr>\n",
       "      <th>1</th>\n",
       "      <td>28734</td>\n",
       "      <td>638.018</td>\n",
       "      <td>200.524796</td>\n",
       "      <td>182.734419</td>\n",
       "      <td>1.097356</td>\n",
       "      <td>0.411785</td>\n",
       "      <td>29172</td>\n",
       "      <td>191.272750</td>\n",
       "      <td>0.783968</td>\n",
       "      <td>0.984986</td>\n",
       "      <td>0.887034</td>\n",
       "      <td>0.953861</td>\n",
       "      <td>0.006979</td>\n",
       "      <td>0.003564</td>\n",
       "      <td>0.909851</td>\n",
       "      <td>0.998430</td>\n",
       "      <td>SEKER</td>\n",
       "    </tr>\n",
       "    <tr>\n",
       "      <th>2</th>\n",
       "      <td>29380</td>\n",
       "      <td>624.110</td>\n",
       "      <td>212.826130</td>\n",
       "      <td>175.931143</td>\n",
       "      <td>1.209713</td>\n",
       "      <td>0.562727</td>\n",
       "      <td>29690</td>\n",
       "      <td>193.410904</td>\n",
       "      <td>0.778113</td>\n",
       "      <td>0.989559</td>\n",
       "      <td>0.947849</td>\n",
       "      <td>0.908774</td>\n",
       "      <td>0.007244</td>\n",
       "      <td>0.003048</td>\n",
       "      <td>0.825871</td>\n",
       "      <td>0.999066</td>\n",
       "      <td>SEKER</td>\n",
       "    </tr>\n",
       "    <tr>\n",
       "      <th>3</th>\n",
       "      <td>30008</td>\n",
       "      <td>645.884</td>\n",
       "      <td>210.557999</td>\n",
       "      <td>182.516516</td>\n",
       "      <td>1.153638</td>\n",
       "      <td>0.498616</td>\n",
       "      <td>30724</td>\n",
       "      <td>195.467062</td>\n",
       "      <td>0.782681</td>\n",
       "      <td>0.976696</td>\n",
       "      <td>0.903936</td>\n",
       "      <td>0.928329</td>\n",
       "      <td>0.007017</td>\n",
       "      <td>0.003215</td>\n",
       "      <td>0.861794</td>\n",
       "      <td>0.994199</td>\n",
       "      <td>SEKER</td>\n",
       "    </tr>\n",
       "    <tr>\n",
       "      <th>4</th>\n",
       "      <td>30140</td>\n",
       "      <td>620.134</td>\n",
       "      <td>201.847882</td>\n",
       "      <td>190.279279</td>\n",
       "      <td>1.060798</td>\n",
       "      <td>0.333680</td>\n",
       "      <td>30417</td>\n",
       "      <td>195.896503</td>\n",
       "      <td>0.773098</td>\n",
       "      <td>0.990893</td>\n",
       "      <td>0.984877</td>\n",
       "      <td>0.970516</td>\n",
       "      <td>0.006697</td>\n",
       "      <td>0.003665</td>\n",
       "      <td>0.941900</td>\n",
       "      <td>0.999166</td>\n",
       "      <td>SEKER</td>\n",
       "    </tr>\n",
       "  </tbody>\n",
       "</table>\n",
       "</div>"
      ],
      "text/plain": [
       "    Area  Perimeter  MajorAxisLength  MinorAxisLength  AspectRation  \\\n",
       "0  28395    610.291       208.178117       173.888747      1.197191   \n",
       "1  28734    638.018       200.524796       182.734419      1.097356   \n",
       "2  29380    624.110       212.826130       175.931143      1.209713   \n",
       "3  30008    645.884       210.557999       182.516516      1.153638   \n",
       "4  30140    620.134       201.847882       190.279279      1.060798   \n",
       "\n",
       "   Eccentricity  ConvexArea  EquivDiameter    Extent  Solidity  roundness  \\\n",
       "0      0.549812       28715     190.141097  0.763923  0.988856   0.958027   \n",
       "1      0.411785       29172     191.272750  0.783968  0.984986   0.887034   \n",
       "2      0.562727       29690     193.410904  0.778113  0.989559   0.947849   \n",
       "3      0.498616       30724     195.467062  0.782681  0.976696   0.903936   \n",
       "4      0.333680       30417     195.896503  0.773098  0.990893   0.984877   \n",
       "\n",
       "   Compactness  ShapeFactor1  ShapeFactor2  ShapeFactor3  ShapeFactor4  Class  \n",
       "0     0.913358      0.007332      0.003147      0.834222      0.998724  SEKER  \n",
       "1     0.953861      0.006979      0.003564      0.909851      0.998430  SEKER  \n",
       "2     0.908774      0.007244      0.003048      0.825871      0.999066  SEKER  \n",
       "3     0.928329      0.007017      0.003215      0.861794      0.994199  SEKER  \n",
       "4     0.970516      0.006697      0.003665      0.941900      0.999166  SEKER  "
      ]
     },
     "execution_count": 199,
     "metadata": {},
     "output_type": "execute_result"
    }
   ],
   "source": [
    "bean_df.head()"
   ]
  },
  {
   "cell_type": "code",
   "execution_count": 200,
   "id": "f5c3ae4f",
   "metadata": {},
   "outputs": [],
   "source": [
    "X_train, X_test, Y_train, Y_test = sklearn.model_selection.train_test_split(bean_df.iloc[:,:-1], bean_df.iloc[:,-1], shuffle = True, test_size = 0.2, random_state = 42)    "
   ]
  },
  {
   "cell_type": "code",
   "execution_count": 201,
   "id": "4dd0039a",
   "metadata": {},
   "outputs": [],
   "source": [
    "def preprocessor(X):\n",
    "    centered_x = X-np.nanmean(X, axis=0)\n",
    "    return centered_x/np.nanstd(X,axis=0)"
   ]
  },
  {
   "cell_type": "code",
   "execution_count": 202,
   "id": "b522308c",
   "metadata": {},
   "outputs": [],
   "source": [
    "X_train = preprocessor(X_train)\n",
    "X_test = preprocessor(X_test)"
   ]
  },
  {
   "cell_type": "code",
   "execution_count": 203,
   "id": "e367bbef",
   "metadata": {},
   "outputs": [
    {
     "data": {
      "text/html": [
       "<div>\n",
       "<style scoped>\n",
       "    .dataframe tbody tr th:only-of-type {\n",
       "        vertical-align: middle;\n",
       "    }\n",
       "\n",
       "    .dataframe tbody tr th {\n",
       "        vertical-align: top;\n",
       "    }\n",
       "\n",
       "    .dataframe thead th {\n",
       "        text-align: right;\n",
       "    }\n",
       "</style>\n",
       "<table border=\"1\" class=\"dataframe\">\n",
       "  <thead>\n",
       "    <tr style=\"text-align: right;\">\n",
       "      <th></th>\n",
       "      <th>Area</th>\n",
       "      <th>Perimeter</th>\n",
       "      <th>MajorAxisLength</th>\n",
       "      <th>MinorAxisLength</th>\n",
       "      <th>AspectRation</th>\n",
       "      <th>Eccentricity</th>\n",
       "      <th>ConvexArea</th>\n",
       "      <th>EquivDiameter</th>\n",
       "      <th>Extent</th>\n",
       "      <th>Solidity</th>\n",
       "      <th>roundness</th>\n",
       "      <th>Compactness</th>\n",
       "      <th>ShapeFactor1</th>\n",
       "      <th>ShapeFactor2</th>\n",
       "      <th>ShapeFactor3</th>\n",
       "      <th>ShapeFactor4</th>\n",
       "    </tr>\n",
       "  </thead>\n",
       "  <tbody>\n",
       "    <tr>\n",
       "      <th>11073</th>\n",
       "      <td>-0.820047</td>\n",
       "      <td>-1.022026</td>\n",
       "      <td>-0.991690</td>\n",
       "      <td>-0.986587</td>\n",
       "      <td>-0.386834</td>\n",
       "      <td>-0.114146</td>\n",
       "      <td>-0.817952</td>\n",
       "      <td>-1.026081</td>\n",
       "      <td>-1.142598</td>\n",
       "      <td>-0.255293</td>\n",
       "      <td>0.485739</td>\n",
       "      <td>0.300833</td>\n",
       "      <td>1.344814</td>\n",
       "      <td>0.874096</td>\n",
       "      <td>0.265084</td>\n",
       "      <td>0.343163</td>\n",
       "    </tr>\n",
       "    <tr>\n",
       "      <th>13172</th>\n",
       "      <td>-0.509360</td>\n",
       "      <td>-0.464104</td>\n",
       "      <td>-0.569411</td>\n",
       "      <td>-0.499274</td>\n",
       "      <td>-0.303117</td>\n",
       "      <td>-0.024436</td>\n",
       "      <td>-0.504787</td>\n",
       "      <td>-0.552768</td>\n",
       "      <td>-0.881431</td>\n",
       "      <td>-0.707602</td>\n",
       "      <td>-0.572573</td>\n",
       "      <td>0.201238</td>\n",
       "      <td>0.485672</td>\n",
       "      <td>0.325515</td>\n",
       "      <td>0.163840</td>\n",
       "      <td>0.047028</td>\n",
       "    </tr>\n",
       "    <tr>\n",
       "      <th>11587</th>\n",
       "      <td>-0.754808</td>\n",
       "      <td>-0.950784</td>\n",
       "      <td>-1.049111</td>\n",
       "      <td>-0.675438</td>\n",
       "      <td>-0.990099</td>\n",
       "      <td>-0.933914</td>\n",
       "      <td>-0.755903</td>\n",
       "      <td>-0.921189</td>\n",
       "      <td>-0.322672</td>\n",
       "      <td>0.366882</td>\n",
       "      <td>0.729400</td>\n",
       "      <td>1.018143</td>\n",
       "      <td>0.765749</td>\n",
       "      <td>1.380299</td>\n",
       "      <td>1.016786</td>\n",
       "      <td>0.343229</td>\n",
       "    </tr>\n",
       "    <tr>\n",
       "      <th>12492</th>\n",
       "      <td>-0.630051</td>\n",
       "      <td>-0.791632</td>\n",
       "      <td>-0.781352</td>\n",
       "      <td>-0.614749</td>\n",
       "      <td>-0.543065</td>\n",
       "      <td>-0.294930</td>\n",
       "      <td>-0.632110</td>\n",
       "      <td>-0.729173</td>\n",
       "      <td>0.711150</td>\n",
       "      <td>0.450732</td>\n",
       "      <td>0.870363</td>\n",
       "      <td>0.478205</td>\n",
       "      <td>0.661370</td>\n",
       "      <td>0.701300</td>\n",
       "      <td>0.447282</td>\n",
       "      <td>0.419378</td>\n",
       "    </tr>\n",
       "    <tr>\n",
       "      <th>430</th>\n",
       "      <td>-0.583008</td>\n",
       "      <td>-0.675816</td>\n",
       "      <td>-0.797069</td>\n",
       "      <td>-0.448624</td>\n",
       "      <td>-0.812464</td>\n",
       "      <td>-0.655052</td>\n",
       "      <td>-0.584080</td>\n",
       "      <td>-0.659398</td>\n",
       "      <td>0.920037</td>\n",
       "      <td>0.245241</td>\n",
       "      <td>0.380612</td>\n",
       "      <td>0.814347</td>\n",
       "      <td>0.381755</td>\n",
       "      <td>0.902884</td>\n",
       "      <td>0.799199</td>\n",
       "      <td>0.989399</td>\n",
       "    </tr>\n",
       "  </tbody>\n",
       "</table>\n",
       "</div>"
      ],
      "text/plain": [
       "           Area  Perimeter  MajorAxisLength  MinorAxisLength  AspectRation  \\\n",
       "11073 -0.820047  -1.022026        -0.991690        -0.986587     -0.386834   \n",
       "13172 -0.509360  -0.464104        -0.569411        -0.499274     -0.303117   \n",
       "11587 -0.754808  -0.950784        -1.049111        -0.675438     -0.990099   \n",
       "12492 -0.630051  -0.791632        -0.781352        -0.614749     -0.543065   \n",
       "430   -0.583008  -0.675816        -0.797069        -0.448624     -0.812464   \n",
       "\n",
       "       Eccentricity  ConvexArea  EquivDiameter    Extent  Solidity  roundness  \\\n",
       "11073     -0.114146   -0.817952      -1.026081 -1.142598 -0.255293   0.485739   \n",
       "13172     -0.024436   -0.504787      -0.552768 -0.881431 -0.707602  -0.572573   \n",
       "11587     -0.933914   -0.755903      -0.921189 -0.322672  0.366882   0.729400   \n",
       "12492     -0.294930   -0.632110      -0.729173  0.711150  0.450732   0.870363   \n",
       "430       -0.655052   -0.584080      -0.659398  0.920037  0.245241   0.380612   \n",
       "\n",
       "       Compactness  ShapeFactor1  ShapeFactor2  ShapeFactor3  ShapeFactor4  \n",
       "11073     0.300833      1.344814      0.874096      0.265084      0.343163  \n",
       "13172     0.201238      0.485672      0.325515      0.163840      0.047028  \n",
       "11587     1.018143      0.765749      1.380299      1.016786      0.343229  \n",
       "12492     0.478205      0.661370      0.701300      0.447282      0.419378  \n",
       "430       0.814347      0.381755      0.902884      0.799199      0.989399  "
      ]
     },
     "execution_count": 203,
     "metadata": {},
     "output_type": "execute_result"
    }
   ],
   "source": [
    "X_train.head()"
   ]
  },
  {
   "cell_type": "code",
   "execution_count": 204,
   "id": "c3b15507",
   "metadata": {},
   "outputs": [],
   "source": [
    "class PCA():\n",
    "    def __init__(self):\n",
    "        self.U = None\n",
    "        self.L = None\n",
    "    \n",
    "    def fit(self, X):\n",
    "        C = X.T @ X\n",
    "        self.L, self.U = np.linalg.eig(C)\n",
    "\n",
    "        idx = np.argsort(self.L)[::-1]\n",
    "        self.L = np.array([self.L[i] for i in idx])\n",
    "        self.U = np.array([self.U[i] for i in idx])\n",
    "        print(self.U.shape, self.U[0])\n",
    "        return self.L, self.U\n",
    "\n",
    "    def transform(self, X, d):\n",
    "        return X @ self.U[:,:d]"
   ]
  },
  {
   "cell_type": "code",
   "execution_count": 205,
   "id": "b88b8d8f",
   "metadata": {},
   "outputs": [
    {
     "data": {
      "text/plain": [
       "(10888, 16)"
      ]
     },
     "execution_count": 205,
     "metadata": {},
     "output_type": "execute_result"
    }
   ],
   "source": [
    "X_train.shape"
   ]
  },
  {
   "cell_type": "code",
   "execution_count": 206,
   "id": "f5bc6500",
   "metadata": {},
   "outputs": [
    {
     "name": "stdout",
     "output_type": "stream",
     "text": [
      "(16, 16) [ 0.28270843  0.24526611 -0.06227101 -0.03012466 -0.08630606 -0.36924166\n",
      "  0.12551945  0.07131181  0.03559302 -0.39749258 -0.15952794  0.05130074\n",
      "  0.04624247  0.65395783  0.22557613  0.14991568]\n"
     ]
    }
   ],
   "source": [
    "pca = PCA()\n",
    "L, U = pca.fit(X_train)\n",
    "X_pca = pca.transform(X_train,2)"
   ]
  },
  {
   "cell_type": "code",
   "execution_count": 207,
   "id": "6306a769",
   "metadata": {},
   "outputs": [
    {
     "data": {
      "application/vnd.plotly.v1+json": {
       "config": {
        "plotlyServerURL": "https://plot.ly"
       },
       "data": [
        {
         "hovertemplate": "x=%{x}<br>y=%{y}<extra></extra>",
         "legendgroup": "",
         "marker": {
          "color": "#636efa",
          "symbol": "circle"
         },
         "mode": "markers",
         "name": "",
         "orientation": "v",
         "showlegend": false,
         "type": "scatter",
         "x": {
          "bdata": "AAECAwQFBgcICQoLDA0ODw==",
          "dtype": "i1"
         },
         "xaxis": "x",
         "y": {
          "bdata": "zwfpWJb1JkDbpkqupHclQC0GMXuOFiNA7rBahtMwIkCmDLd/1/UgQJwSq0C7bR5ArOEuJDJmHEDadWg0k1gZQEW/qXpd+xFAu8uDkbgXBkBob/iEiWEDQC7wBBz+H/M//4yiVfpf3z9z9jGXtrYBwHYzdS0jOQ7AXsq65z6ZD8A=",
          "dtype": "f8"
         },
         "yaxis": "y"
        }
       ],
       "layout": {
        "legend": {
         "tracegroupgap": 0
        },
        "margin": {
         "t": 60
        },
        "template": {
         "data": {
          "bar": [
           {
            "error_x": {
             "color": "#2a3f5f"
            },
            "error_y": {
             "color": "#2a3f5f"
            },
            "marker": {
             "line": {
              "color": "#E5ECF6",
              "width": 0.5
             },
             "pattern": {
              "fillmode": "overlay",
              "size": 10,
              "solidity": 0.2
             }
            },
            "type": "bar"
           }
          ],
          "barpolar": [
           {
            "marker": {
             "line": {
              "color": "#E5ECF6",
              "width": 0.5
             },
             "pattern": {
              "fillmode": "overlay",
              "size": 10,
              "solidity": 0.2
             }
            },
            "type": "barpolar"
           }
          ],
          "carpet": [
           {
            "aaxis": {
             "endlinecolor": "#2a3f5f",
             "gridcolor": "white",
             "linecolor": "white",
             "minorgridcolor": "white",
             "startlinecolor": "#2a3f5f"
            },
            "baxis": {
             "endlinecolor": "#2a3f5f",
             "gridcolor": "white",
             "linecolor": "white",
             "minorgridcolor": "white",
             "startlinecolor": "#2a3f5f"
            },
            "type": "carpet"
           }
          ],
          "choropleth": [
           {
            "colorbar": {
             "outlinewidth": 0,
             "ticks": ""
            },
            "type": "choropleth"
           }
          ],
          "contour": [
           {
            "colorbar": {
             "outlinewidth": 0,
             "ticks": ""
            },
            "colorscale": [
             [
              0,
              "#0d0887"
             ],
             [
              0.1111111111111111,
              "#46039f"
             ],
             [
              0.2222222222222222,
              "#7201a8"
             ],
             [
              0.3333333333333333,
              "#9c179e"
             ],
             [
              0.4444444444444444,
              "#bd3786"
             ],
             [
              0.5555555555555556,
              "#d8576b"
             ],
             [
              0.6666666666666666,
              "#ed7953"
             ],
             [
              0.7777777777777778,
              "#fb9f3a"
             ],
             [
              0.8888888888888888,
              "#fdca26"
             ],
             [
              1,
              "#f0f921"
             ]
            ],
            "type": "contour"
           }
          ],
          "contourcarpet": [
           {
            "colorbar": {
             "outlinewidth": 0,
             "ticks": ""
            },
            "type": "contourcarpet"
           }
          ],
          "heatmap": [
           {
            "colorbar": {
             "outlinewidth": 0,
             "ticks": ""
            },
            "colorscale": [
             [
              0,
              "#0d0887"
             ],
             [
              0.1111111111111111,
              "#46039f"
             ],
             [
              0.2222222222222222,
              "#7201a8"
             ],
             [
              0.3333333333333333,
              "#9c179e"
             ],
             [
              0.4444444444444444,
              "#bd3786"
             ],
             [
              0.5555555555555556,
              "#d8576b"
             ],
             [
              0.6666666666666666,
              "#ed7953"
             ],
             [
              0.7777777777777778,
              "#fb9f3a"
             ],
             [
              0.8888888888888888,
              "#fdca26"
             ],
             [
              1,
              "#f0f921"
             ]
            ],
            "type": "heatmap"
           }
          ],
          "histogram": [
           {
            "marker": {
             "pattern": {
              "fillmode": "overlay",
              "size": 10,
              "solidity": 0.2
             }
            },
            "type": "histogram"
           }
          ],
          "histogram2d": [
           {
            "colorbar": {
             "outlinewidth": 0,
             "ticks": ""
            },
            "colorscale": [
             [
              0,
              "#0d0887"
             ],
             [
              0.1111111111111111,
              "#46039f"
             ],
             [
              0.2222222222222222,
              "#7201a8"
             ],
             [
              0.3333333333333333,
              "#9c179e"
             ],
             [
              0.4444444444444444,
              "#bd3786"
             ],
             [
              0.5555555555555556,
              "#d8576b"
             ],
             [
              0.6666666666666666,
              "#ed7953"
             ],
             [
              0.7777777777777778,
              "#fb9f3a"
             ],
             [
              0.8888888888888888,
              "#fdca26"
             ],
             [
              1,
              "#f0f921"
             ]
            ],
            "type": "histogram2d"
           }
          ],
          "histogram2dcontour": [
           {
            "colorbar": {
             "outlinewidth": 0,
             "ticks": ""
            },
            "colorscale": [
             [
              0,
              "#0d0887"
             ],
             [
              0.1111111111111111,
              "#46039f"
             ],
             [
              0.2222222222222222,
              "#7201a8"
             ],
             [
              0.3333333333333333,
              "#9c179e"
             ],
             [
              0.4444444444444444,
              "#bd3786"
             ],
             [
              0.5555555555555556,
              "#d8576b"
             ],
             [
              0.6666666666666666,
              "#ed7953"
             ],
             [
              0.7777777777777778,
              "#fb9f3a"
             ],
             [
              0.8888888888888888,
              "#fdca26"
             ],
             [
              1,
              "#f0f921"
             ]
            ],
            "type": "histogram2dcontour"
           }
          ],
          "mesh3d": [
           {
            "colorbar": {
             "outlinewidth": 0,
             "ticks": ""
            },
            "type": "mesh3d"
           }
          ],
          "parcoords": [
           {
            "line": {
             "colorbar": {
              "outlinewidth": 0,
              "ticks": ""
             }
            },
            "type": "parcoords"
           }
          ],
          "pie": [
           {
            "automargin": true,
            "type": "pie"
           }
          ],
          "scatter": [
           {
            "fillpattern": {
             "fillmode": "overlay",
             "size": 10,
             "solidity": 0.2
            },
            "type": "scatter"
           }
          ],
          "scatter3d": [
           {
            "line": {
             "colorbar": {
              "outlinewidth": 0,
              "ticks": ""
             }
            },
            "marker": {
             "colorbar": {
              "outlinewidth": 0,
              "ticks": ""
             }
            },
            "type": "scatter3d"
           }
          ],
          "scattercarpet": [
           {
            "marker": {
             "colorbar": {
              "outlinewidth": 0,
              "ticks": ""
             }
            },
            "type": "scattercarpet"
           }
          ],
          "scattergeo": [
           {
            "marker": {
             "colorbar": {
              "outlinewidth": 0,
              "ticks": ""
             }
            },
            "type": "scattergeo"
           }
          ],
          "scattergl": [
           {
            "marker": {
             "colorbar": {
              "outlinewidth": 0,
              "ticks": ""
             }
            },
            "type": "scattergl"
           }
          ],
          "scattermap": [
           {
            "marker": {
             "colorbar": {
              "outlinewidth": 0,
              "ticks": ""
             }
            },
            "type": "scattermap"
           }
          ],
          "scattermapbox": [
           {
            "marker": {
             "colorbar": {
              "outlinewidth": 0,
              "ticks": ""
             }
            },
            "type": "scattermapbox"
           }
          ],
          "scatterpolar": [
           {
            "marker": {
             "colorbar": {
              "outlinewidth": 0,
              "ticks": ""
             }
            },
            "type": "scatterpolar"
           }
          ],
          "scatterpolargl": [
           {
            "marker": {
             "colorbar": {
              "outlinewidth": 0,
              "ticks": ""
             }
            },
            "type": "scatterpolargl"
           }
          ],
          "scatterternary": [
           {
            "marker": {
             "colorbar": {
              "outlinewidth": 0,
              "ticks": ""
             }
            },
            "type": "scatterternary"
           }
          ],
          "surface": [
           {
            "colorbar": {
             "outlinewidth": 0,
             "ticks": ""
            },
            "colorscale": [
             [
              0,
              "#0d0887"
             ],
             [
              0.1111111111111111,
              "#46039f"
             ],
             [
              0.2222222222222222,
              "#7201a8"
             ],
             [
              0.3333333333333333,
              "#9c179e"
             ],
             [
              0.4444444444444444,
              "#bd3786"
             ],
             [
              0.5555555555555556,
              "#d8576b"
             ],
             [
              0.6666666666666666,
              "#ed7953"
             ],
             [
              0.7777777777777778,
              "#fb9f3a"
             ],
             [
              0.8888888888888888,
              "#fdca26"
             ],
             [
              1,
              "#f0f921"
             ]
            ],
            "type": "surface"
           }
          ],
          "table": [
           {
            "cells": {
             "fill": {
              "color": "#EBF0F8"
             },
             "line": {
              "color": "white"
             }
            },
            "header": {
             "fill": {
              "color": "#C8D4E3"
             },
             "line": {
              "color": "white"
             }
            },
            "type": "table"
           }
          ]
         },
         "layout": {
          "annotationdefaults": {
           "arrowcolor": "#2a3f5f",
           "arrowhead": 0,
           "arrowwidth": 1
          },
          "autotypenumbers": "strict",
          "coloraxis": {
           "colorbar": {
            "outlinewidth": 0,
            "ticks": ""
           }
          },
          "colorscale": {
           "diverging": [
            [
             0,
             "#8e0152"
            ],
            [
             0.1,
             "#c51b7d"
            ],
            [
             0.2,
             "#de77ae"
            ],
            [
             0.3,
             "#f1b6da"
            ],
            [
             0.4,
             "#fde0ef"
            ],
            [
             0.5,
             "#f7f7f7"
            ],
            [
             0.6,
             "#e6f5d0"
            ],
            [
             0.7,
             "#b8e186"
            ],
            [
             0.8,
             "#7fbc41"
            ],
            [
             0.9,
             "#4d9221"
            ],
            [
             1,
             "#276419"
            ]
           ],
           "sequential": [
            [
             0,
             "#0d0887"
            ],
            [
             0.1111111111111111,
             "#46039f"
            ],
            [
             0.2222222222222222,
             "#7201a8"
            ],
            [
             0.3333333333333333,
             "#9c179e"
            ],
            [
             0.4444444444444444,
             "#bd3786"
            ],
            [
             0.5555555555555556,
             "#d8576b"
            ],
            [
             0.6666666666666666,
             "#ed7953"
            ],
            [
             0.7777777777777778,
             "#fb9f3a"
            ],
            [
             0.8888888888888888,
             "#fdca26"
            ],
            [
             1,
             "#f0f921"
            ]
           ],
           "sequentialminus": [
            [
             0,
             "#0d0887"
            ],
            [
             0.1111111111111111,
             "#46039f"
            ],
            [
             0.2222222222222222,
             "#7201a8"
            ],
            [
             0.3333333333333333,
             "#9c179e"
            ],
            [
             0.4444444444444444,
             "#bd3786"
            ],
            [
             0.5555555555555556,
             "#d8576b"
            ],
            [
             0.6666666666666666,
             "#ed7953"
            ],
            [
             0.7777777777777778,
             "#fb9f3a"
            ],
            [
             0.8888888888888888,
             "#fdca26"
            ],
            [
             1,
             "#f0f921"
            ]
           ]
          },
          "colorway": [
           "#636efa",
           "#EF553B",
           "#00cc96",
           "#ab63fa",
           "#FFA15A",
           "#19d3f3",
           "#FF6692",
           "#B6E880",
           "#FF97FF",
           "#FECB52"
          ],
          "font": {
           "color": "#2a3f5f"
          },
          "geo": {
           "bgcolor": "white",
           "lakecolor": "white",
           "landcolor": "#E5ECF6",
           "showlakes": true,
           "showland": true,
           "subunitcolor": "white"
          },
          "hoverlabel": {
           "align": "left"
          },
          "hovermode": "closest",
          "mapbox": {
           "style": "light"
          },
          "paper_bgcolor": "white",
          "plot_bgcolor": "#E5ECF6",
          "polar": {
           "angularaxis": {
            "gridcolor": "white",
            "linecolor": "white",
            "ticks": ""
           },
           "bgcolor": "#E5ECF6",
           "radialaxis": {
            "gridcolor": "white",
            "linecolor": "white",
            "ticks": ""
           }
          },
          "scene": {
           "xaxis": {
            "backgroundcolor": "#E5ECF6",
            "gridcolor": "white",
            "gridwidth": 2,
            "linecolor": "white",
            "showbackground": true,
            "ticks": "",
            "zerolinecolor": "white"
           },
           "yaxis": {
            "backgroundcolor": "#E5ECF6",
            "gridcolor": "white",
            "gridwidth": 2,
            "linecolor": "white",
            "showbackground": true,
            "ticks": "",
            "zerolinecolor": "white"
           },
           "zaxis": {
            "backgroundcolor": "#E5ECF6",
            "gridcolor": "white",
            "gridwidth": 2,
            "linecolor": "white",
            "showbackground": true,
            "ticks": "",
            "zerolinecolor": "white"
           }
          },
          "shapedefaults": {
           "line": {
            "color": "#2a3f5f"
           }
          },
          "ternary": {
           "aaxis": {
            "gridcolor": "white",
            "linecolor": "white",
            "ticks": ""
           },
           "baxis": {
            "gridcolor": "white",
            "linecolor": "white",
            "ticks": ""
           },
           "bgcolor": "#E5ECF6",
           "caxis": {
            "gridcolor": "white",
            "linecolor": "white",
            "ticks": ""
           }
          },
          "title": {
           "x": 0.05
          },
          "xaxis": {
           "automargin": true,
           "gridcolor": "white",
           "linecolor": "white",
           "ticks": "",
           "title": {
            "standoff": 15
           },
           "zerolinecolor": "white",
           "zerolinewidth": 2
          },
          "yaxis": {
           "automargin": true,
           "gridcolor": "white",
           "linecolor": "white",
           "ticks": "",
           "title": {
            "standoff": 15
           },
           "zerolinecolor": "white",
           "zerolinewidth": 2
          }
         }
        },
        "xaxis": {
         "anchor": "y",
         "domain": [
          0,
          1
         ],
         "title": {
          "text": "x"
         }
        },
        "yaxis": {
         "anchor": "x",
         "domain": [
          0,
          1
         ],
         "title": {
          "text": "y"
         }
        }
       }
      }
     },
     "metadata": {},
     "output_type": "display_data"
    }
   ],
   "source": [
    "px.scatter(\n",
    "    x = np.arange(0,len(L),1), \n",
    "    y = np.log(L))"
   ]
  },
  {
   "cell_type": "code",
   "execution_count": 208,
   "id": "b3502b1d",
   "metadata": {},
   "outputs": [
    {
     "data": {
      "application/vnd.plotly.v1+json": {
       "config": {
        "plotlyServerURL": "https://plot.ly"
       },
       "data": [
        {
         "hovertemplate": "x=%{x}<br>y=%{y}<extra></extra>",
         "legendgroup": "",
         "marker": {
          "color": "#636efa",
          "symbol": "circle"
         },
         "mode": "markers",
         "name": "",
         "orientation": "v",
         "showlegend": false,
         "type": "scatter",
         "x": {
          "bdata": "AAECAwQFBgcICQoLDA0ODw==",
          "dtype": "i1"
         },
         "xaxis": "x",
         "y": {
          "bdata": "WDWP8oad90BpVW34Y2bmQPvBGZi6RMtAvWDiZu9owUArQ300ONKyQKK9cdk2cp9AKERQ5+bukkA/UOQKhqaBQGHKRFAUZ1ZAin+Y2FSmL0BFuXGBBI0mQMrdgOnJbwpAJpdUgYYf+j9dMBNjGfe7P84PB/xpa5c/KPZutWC4kz8=",
          "dtype": "f8"
         },
         "yaxis": "y"
        }
       ],
       "layout": {
        "legend": {
         "tracegroupgap": 0
        },
        "margin": {
         "t": 60
        },
        "template": {
         "data": {
          "bar": [
           {
            "error_x": {
             "color": "#2a3f5f"
            },
            "error_y": {
             "color": "#2a3f5f"
            },
            "marker": {
             "line": {
              "color": "#E5ECF6",
              "width": 0.5
             },
             "pattern": {
              "fillmode": "overlay",
              "size": 10,
              "solidity": 0.2
             }
            },
            "type": "bar"
           }
          ],
          "barpolar": [
           {
            "marker": {
             "line": {
              "color": "#E5ECF6",
              "width": 0.5
             },
             "pattern": {
              "fillmode": "overlay",
              "size": 10,
              "solidity": 0.2
             }
            },
            "type": "barpolar"
           }
          ],
          "carpet": [
           {
            "aaxis": {
             "endlinecolor": "#2a3f5f",
             "gridcolor": "white",
             "linecolor": "white",
             "minorgridcolor": "white",
             "startlinecolor": "#2a3f5f"
            },
            "baxis": {
             "endlinecolor": "#2a3f5f",
             "gridcolor": "white",
             "linecolor": "white",
             "minorgridcolor": "white",
             "startlinecolor": "#2a3f5f"
            },
            "type": "carpet"
           }
          ],
          "choropleth": [
           {
            "colorbar": {
             "outlinewidth": 0,
             "ticks": ""
            },
            "type": "choropleth"
           }
          ],
          "contour": [
           {
            "colorbar": {
             "outlinewidth": 0,
             "ticks": ""
            },
            "colorscale": [
             [
              0,
              "#0d0887"
             ],
             [
              0.1111111111111111,
              "#46039f"
             ],
             [
              0.2222222222222222,
              "#7201a8"
             ],
             [
              0.3333333333333333,
              "#9c179e"
             ],
             [
              0.4444444444444444,
              "#bd3786"
             ],
             [
              0.5555555555555556,
              "#d8576b"
             ],
             [
              0.6666666666666666,
              "#ed7953"
             ],
             [
              0.7777777777777778,
              "#fb9f3a"
             ],
             [
              0.8888888888888888,
              "#fdca26"
             ],
             [
              1,
              "#f0f921"
             ]
            ],
            "type": "contour"
           }
          ],
          "contourcarpet": [
           {
            "colorbar": {
             "outlinewidth": 0,
             "ticks": ""
            },
            "type": "contourcarpet"
           }
          ],
          "heatmap": [
           {
            "colorbar": {
             "outlinewidth": 0,
             "ticks": ""
            },
            "colorscale": [
             [
              0,
              "#0d0887"
             ],
             [
              0.1111111111111111,
              "#46039f"
             ],
             [
              0.2222222222222222,
              "#7201a8"
             ],
             [
              0.3333333333333333,
              "#9c179e"
             ],
             [
              0.4444444444444444,
              "#bd3786"
             ],
             [
              0.5555555555555556,
              "#d8576b"
             ],
             [
              0.6666666666666666,
              "#ed7953"
             ],
             [
              0.7777777777777778,
              "#fb9f3a"
             ],
             [
              0.8888888888888888,
              "#fdca26"
             ],
             [
              1,
              "#f0f921"
             ]
            ],
            "type": "heatmap"
           }
          ],
          "histogram": [
           {
            "marker": {
             "pattern": {
              "fillmode": "overlay",
              "size": 10,
              "solidity": 0.2
             }
            },
            "type": "histogram"
           }
          ],
          "histogram2d": [
           {
            "colorbar": {
             "outlinewidth": 0,
             "ticks": ""
            },
            "colorscale": [
             [
              0,
              "#0d0887"
             ],
             [
              0.1111111111111111,
              "#46039f"
             ],
             [
              0.2222222222222222,
              "#7201a8"
             ],
             [
              0.3333333333333333,
              "#9c179e"
             ],
             [
              0.4444444444444444,
              "#bd3786"
             ],
             [
              0.5555555555555556,
              "#d8576b"
             ],
             [
              0.6666666666666666,
              "#ed7953"
             ],
             [
              0.7777777777777778,
              "#fb9f3a"
             ],
             [
              0.8888888888888888,
              "#fdca26"
             ],
             [
              1,
              "#f0f921"
             ]
            ],
            "type": "histogram2d"
           }
          ],
          "histogram2dcontour": [
           {
            "colorbar": {
             "outlinewidth": 0,
             "ticks": ""
            },
            "colorscale": [
             [
              0,
              "#0d0887"
             ],
             [
              0.1111111111111111,
              "#46039f"
             ],
             [
              0.2222222222222222,
              "#7201a8"
             ],
             [
              0.3333333333333333,
              "#9c179e"
             ],
             [
              0.4444444444444444,
              "#bd3786"
             ],
             [
              0.5555555555555556,
              "#d8576b"
             ],
             [
              0.6666666666666666,
              "#ed7953"
             ],
             [
              0.7777777777777778,
              "#fb9f3a"
             ],
             [
              0.8888888888888888,
              "#fdca26"
             ],
             [
              1,
              "#f0f921"
             ]
            ],
            "type": "histogram2dcontour"
           }
          ],
          "mesh3d": [
           {
            "colorbar": {
             "outlinewidth": 0,
             "ticks": ""
            },
            "type": "mesh3d"
           }
          ],
          "parcoords": [
           {
            "line": {
             "colorbar": {
              "outlinewidth": 0,
              "ticks": ""
             }
            },
            "type": "parcoords"
           }
          ],
          "pie": [
           {
            "automargin": true,
            "type": "pie"
           }
          ],
          "scatter": [
           {
            "fillpattern": {
             "fillmode": "overlay",
             "size": 10,
             "solidity": 0.2
            },
            "type": "scatter"
           }
          ],
          "scatter3d": [
           {
            "line": {
             "colorbar": {
              "outlinewidth": 0,
              "ticks": ""
             }
            },
            "marker": {
             "colorbar": {
              "outlinewidth": 0,
              "ticks": ""
             }
            },
            "type": "scatter3d"
           }
          ],
          "scattercarpet": [
           {
            "marker": {
             "colorbar": {
              "outlinewidth": 0,
              "ticks": ""
             }
            },
            "type": "scattercarpet"
           }
          ],
          "scattergeo": [
           {
            "marker": {
             "colorbar": {
              "outlinewidth": 0,
              "ticks": ""
             }
            },
            "type": "scattergeo"
           }
          ],
          "scattergl": [
           {
            "marker": {
             "colorbar": {
              "outlinewidth": 0,
              "ticks": ""
             }
            },
            "type": "scattergl"
           }
          ],
          "scattermap": [
           {
            "marker": {
             "colorbar": {
              "outlinewidth": 0,
              "ticks": ""
             }
            },
            "type": "scattermap"
           }
          ],
          "scattermapbox": [
           {
            "marker": {
             "colorbar": {
              "outlinewidth": 0,
              "ticks": ""
             }
            },
            "type": "scattermapbox"
           }
          ],
          "scatterpolar": [
           {
            "marker": {
             "colorbar": {
              "outlinewidth": 0,
              "ticks": ""
             }
            },
            "type": "scatterpolar"
           }
          ],
          "scatterpolargl": [
           {
            "marker": {
             "colorbar": {
              "outlinewidth": 0,
              "ticks": ""
             }
            },
            "type": "scatterpolargl"
           }
          ],
          "scatterternary": [
           {
            "marker": {
             "colorbar": {
              "outlinewidth": 0,
              "ticks": ""
             }
            },
            "type": "scatterternary"
           }
          ],
          "surface": [
           {
            "colorbar": {
             "outlinewidth": 0,
             "ticks": ""
            },
            "colorscale": [
             [
              0,
              "#0d0887"
             ],
             [
              0.1111111111111111,
              "#46039f"
             ],
             [
              0.2222222222222222,
              "#7201a8"
             ],
             [
              0.3333333333333333,
              "#9c179e"
             ],
             [
              0.4444444444444444,
              "#bd3786"
             ],
             [
              0.5555555555555556,
              "#d8576b"
             ],
             [
              0.6666666666666666,
              "#ed7953"
             ],
             [
              0.7777777777777778,
              "#fb9f3a"
             ],
             [
              0.8888888888888888,
              "#fdca26"
             ],
             [
              1,
              "#f0f921"
             ]
            ],
            "type": "surface"
           }
          ],
          "table": [
           {
            "cells": {
             "fill": {
              "color": "#EBF0F8"
             },
             "line": {
              "color": "white"
             }
            },
            "header": {
             "fill": {
              "color": "#C8D4E3"
             },
             "line": {
              "color": "white"
             }
            },
            "type": "table"
           }
          ]
         },
         "layout": {
          "annotationdefaults": {
           "arrowcolor": "#2a3f5f",
           "arrowhead": 0,
           "arrowwidth": 1
          },
          "autotypenumbers": "strict",
          "coloraxis": {
           "colorbar": {
            "outlinewidth": 0,
            "ticks": ""
           }
          },
          "colorscale": {
           "diverging": [
            [
             0,
             "#8e0152"
            ],
            [
             0.1,
             "#c51b7d"
            ],
            [
             0.2,
             "#de77ae"
            ],
            [
             0.3,
             "#f1b6da"
            ],
            [
             0.4,
             "#fde0ef"
            ],
            [
             0.5,
             "#f7f7f7"
            ],
            [
             0.6,
             "#e6f5d0"
            ],
            [
             0.7,
             "#b8e186"
            ],
            [
             0.8,
             "#7fbc41"
            ],
            [
             0.9,
             "#4d9221"
            ],
            [
             1,
             "#276419"
            ]
           ],
           "sequential": [
            [
             0,
             "#0d0887"
            ],
            [
             0.1111111111111111,
             "#46039f"
            ],
            [
             0.2222222222222222,
             "#7201a8"
            ],
            [
             0.3333333333333333,
             "#9c179e"
            ],
            [
             0.4444444444444444,
             "#bd3786"
            ],
            [
             0.5555555555555556,
             "#d8576b"
            ],
            [
             0.6666666666666666,
             "#ed7953"
            ],
            [
             0.7777777777777778,
             "#fb9f3a"
            ],
            [
             0.8888888888888888,
             "#fdca26"
            ],
            [
             1,
             "#f0f921"
            ]
           ],
           "sequentialminus": [
            [
             0,
             "#0d0887"
            ],
            [
             0.1111111111111111,
             "#46039f"
            ],
            [
             0.2222222222222222,
             "#7201a8"
            ],
            [
             0.3333333333333333,
             "#9c179e"
            ],
            [
             0.4444444444444444,
             "#bd3786"
            ],
            [
             0.5555555555555556,
             "#d8576b"
            ],
            [
             0.6666666666666666,
             "#ed7953"
            ],
            [
             0.7777777777777778,
             "#fb9f3a"
            ],
            [
             0.8888888888888888,
             "#fdca26"
            ],
            [
             1,
             "#f0f921"
            ]
           ]
          },
          "colorway": [
           "#636efa",
           "#EF553B",
           "#00cc96",
           "#ab63fa",
           "#FFA15A",
           "#19d3f3",
           "#FF6692",
           "#B6E880",
           "#FF97FF",
           "#FECB52"
          ],
          "font": {
           "color": "#2a3f5f"
          },
          "geo": {
           "bgcolor": "white",
           "lakecolor": "white",
           "landcolor": "#E5ECF6",
           "showlakes": true,
           "showland": true,
           "subunitcolor": "white"
          },
          "hoverlabel": {
           "align": "left"
          },
          "hovermode": "closest",
          "mapbox": {
           "style": "light"
          },
          "paper_bgcolor": "white",
          "plot_bgcolor": "#E5ECF6",
          "polar": {
           "angularaxis": {
            "gridcolor": "white",
            "linecolor": "white",
            "ticks": ""
           },
           "bgcolor": "#E5ECF6",
           "radialaxis": {
            "gridcolor": "white",
            "linecolor": "white",
            "ticks": ""
           }
          },
          "scene": {
           "xaxis": {
            "backgroundcolor": "#E5ECF6",
            "gridcolor": "white",
            "gridwidth": 2,
            "linecolor": "white",
            "showbackground": true,
            "ticks": "",
            "zerolinecolor": "white"
           },
           "yaxis": {
            "backgroundcolor": "#E5ECF6",
            "gridcolor": "white",
            "gridwidth": 2,
            "linecolor": "white",
            "showbackground": true,
            "ticks": "",
            "zerolinecolor": "white"
           },
           "zaxis": {
            "backgroundcolor": "#E5ECF6",
            "gridcolor": "white",
            "gridwidth": 2,
            "linecolor": "white",
            "showbackground": true,
            "ticks": "",
            "zerolinecolor": "white"
           }
          },
          "shapedefaults": {
           "line": {
            "color": "#2a3f5f"
           }
          },
          "ternary": {
           "aaxis": {
            "gridcolor": "white",
            "linecolor": "white",
            "ticks": ""
           },
           "baxis": {
            "gridcolor": "white",
            "linecolor": "white",
            "ticks": ""
           },
           "bgcolor": "#E5ECF6",
           "caxis": {
            "gridcolor": "white",
            "linecolor": "white",
            "ticks": ""
           }
          },
          "title": {
           "x": 0.05
          },
          "xaxis": {
           "automargin": true,
           "gridcolor": "white",
           "linecolor": "white",
           "ticks": "",
           "title": {
            "standoff": 15
           },
           "zerolinecolor": "white",
           "zerolinewidth": 2
          },
          "yaxis": {
           "automargin": true,
           "gridcolor": "white",
           "linecolor": "white",
           "ticks": "",
           "title": {
            "standoff": 15
           },
           "zerolinecolor": "white",
           "zerolinewidth": 2
          }
         }
        },
        "xaxis": {
         "anchor": "y",
         "domain": [
          0,
          1
         ],
         "title": {
          "text": "x"
         }
        },
        "yaxis": {
         "anchor": "x",
         "domain": [
          0,
          1
         ],
         "title": {
          "text": "y"
         }
        }
       }
      }
     },
     "metadata": {},
     "output_type": "display_data"
    }
   ],
   "source": [
    "px.scatter(\n",
    "    x = np.arange(0,len(L),1), \n",
    "    y = L)"
   ]
  },
  {
   "cell_type": "code",
   "execution_count": 209,
   "id": "c8511316",
   "metadata": {},
   "outputs": [
    {
     "data": {
      "application/vnd.plotly.v1+json": {
       "config": {
        "plotlyServerURL": "https://plot.ly"
       },
       "data": [
        {
         "hovertemplate": "color=DERMASON<br>x=%{x}<br>y=%{y}<extra></extra>",
         "legendgroup": "DERMASON",
         "marker": {
          "color": "#636efa",
          "symbol": "circle"
         },
         "mode": "markers",
         "name": "DERMASON",
         "showlegend": true,
         "type": "scattergl",
         "x": {
          "bdata": "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",
          "dtype": "f8"
         },
         "xaxis": "x",
         "y": {
          "bdata": "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",
          "dtype": "f8"
         },
         "yaxis": "y"
        },
        {
         "hovertemplate": "color=SEKER<br>x=%{x}<br>y=%{y}<extra></extra>",
         "legendgroup": "SEKER",
         "marker": {
          "color": "#EF553B",
          "symbol": "circle"
         },
         "mode": "markers",
         "name": "SEKER",
         "showlegend": true,
         "type": "scattergl",
         "x": {
          "bdata": "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",
          "dtype": "f8"
         },
         "xaxis": "x",
         "y": {
          "bdata": "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",
          "dtype": "f8"
         },
         "yaxis": "y"
        },
        {
         "hovertemplate": "color=BARBUNYA<br>x=%{x}<br>y=%{y}<extra></extra>",
         "legendgroup": "BARBUNYA",
         "marker": {
          "color": "#00cc96",
          "symbol": "circle"
         },
         "mode": "markers",
         "name": "BARBUNYA",
         "showlegend": true,
         "type": "scattergl",
         "x": {
          "bdata": "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",
          "dtype": "f8"
         },
         "xaxis": "x",
         "y": {
          "bdata": "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",
          "dtype": "f8"
         },
         "yaxis": "y"
        },
        {
         "hovertemplate": "color=SIRA<br>x=%{x}<br>y=%{y}<extra></extra>",
         "legendgroup": "SIRA",
         "marker": {
          "color": "#ab63fa",
          "symbol": "circle"
         },
         "mode": "markers",
         "name": "SIRA",
         "showlegend": true,
         "type": "scattergl",
         "x": {
          "bdata": "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",
          "dtype": "f8"
         },
         "xaxis": "x",
         "y": {
          "bdata": "9WZ1/sV/tz+z491Jrri7P1gMX2jzFNu/f7TQ1sc95793EvRfVvrwv9a+YiVVZbi/tAEXKFM147+uT9V53G/gP4JfRd9mSNU/Kn9Bo6HvzL9b6VBGWqHkv/0wesdvDpW/wZhnXfLY+L/t4Uxznj3Sv66iQ8e2HeK/IV2Z+wvT57+PqKCY4kTxP3FX9csnotg/szW+La7J4L9RV+XYNUjXv247xHb6VsW/lbrCrYStwL+YuCuL8mqJP4+qxu2gMP2/h+K/A5Tw5b/D10j3s8jZP0yAFDQ3Nte/2AR5CU8e47+hOs8Q3uXhvwZFzveMlPW/KxP2S8H/1j+CAugT9PXmv4dthhFXU7E/pXrewEe6x7/NGoWQwrHav/y2W1ze190/aJqIVqy34L8r6wtdYt/kv9n3Ck66a/A/NFPfUrN4579Q6Dd77VjIP1W0hS0mGcU/CsRbYEtouz/4qD9Ezcjmv04iVT/7qbO/FY6pykxPxT9yHwxrpubmv1RBags+C96/CFQNFXec6r//3EUtGnDGvxbHaPvE6+Q/Smwr701i878Ulk7dLSDiv9Nhx/8N8tG/yCNaEXm41j9eeHSBNhPXvxAqZPHSeLA/4AqhJFvLtD8VrQJdXU7oP1wMFWCDF9e/QiSuXeA5yr+dWMBYHzSwPzTVreuBdO2/2WFb4T1nyT+jQfQQP4TLP1ytjAQXvOo/3n6dpMdE97+lNgsTE0XXv02/Ts2VBOA/6UdadbXb778CaSOHpSOzvzTeJFu9Xss//th6fgw37b9fRm51Cdbtv0vqrT2Pu96/XoLn+De0978WpcJf/27qv6x2qVPWaPq/jZ+vg3dj979AHmbNCBj+vyR7mb0Vb+i/E9qNOI9Y3D9EoBrQTpz1v+uyIVXgDs2/3kEapsN+57/ks+VZ+9buv8xWRy7LrvS/CKzE/1SvkL+fE9mkFuuzPxhhazOGR+a/XtxWcPWBzL9DYaRteq3Ivwil4vxQlu6/Fvp03wNC7L8rCREXumXxP3yfKf60MOI/BXa6UlGZ0r8jRM3MIEHaP5xRQdOZpvW/wCa2aBQy97/wiUR6TF7uvz7x7r8vtfS/FU24duI807/hR29SSA3nPwDgEd7f9oi/uBswXQ5L+r9RYBz6pje7PzGVFIgaP9a/s4hPo+FL1D82mGGW798BwNsIGIm4cdu/5giPyurq9b+qKnJ3QIzbv/N9tuYqPrg/EH+lqqdd+b9oKu+f/0bBvyz4uQBvuuU/rmloZ+Qz7b9Ar40N8cOwP8loOBimbuq/ivdRASr20z+fi0Hdmufbv3RDe9nDHcc/5WQnr6nt0L+WNZ4nX1zgv+I/4tFfUem/BCPZi5Tn9b92V9Qc8DDDP1SyN8r7SN+/9tnYIXpv5b+QLAOEsBHPv2smuP2KBdC/EKwyf7Cjzr86+ZCPfzTpv7Fx8vWOIP2/K+yhzYCz8b/vyc0Me4rTP6Hpvf0Xwta/Vb4DEWQAn79rIBi1uW3CP0hLU9cU5++/UWaab0xJ5r9oi0hQ6Q7qvyXU4wQky9G/5M65nAuazb+TAEs5TkbQv8oO1JLVUOc/pcwISpdg8r/Zrdlab/j/vx3ki5IC2vq/6YINNPMV8r+sGZjMlNrYv39hhB/5qrw/ZEnVkqWr5r+YBVL/fLC3vxifFNdMqMs/758s6lrL37/N0GPLcCzxvx5GHABNk8G/YaLOQ/xE3r/IcmuL6LzIv9ELBxsg7Mq/TTeKLQEmtj/4K8DLM6nfv6uZg0k3x9E//ErGIGFj3b+NHfYDd+zivz5R1qMsf+u/ZPFQh8Cg5r+TLIdKFMXnv9WfGITuSce/2IZGQRml3z8ry4x5FvTAv7QVBoU6Xde/8erI/5KZ8L//GntQcN/sv2i+3vx/S9w//ASutigJ5T+sMvL2ryvUP+c1lmp+ita/n3DIU3uhtD8kD7MwCKqnv07nctdSSt6/CfjsIiFTvr9iqs7j/cvVvypULG2wCOq/6BlqJJVG5r99FYIhvIDiP9m8t5HfkOO/7FLDAMss4j8QAp3jD7f0v6TgKTznZum/caW8Ddbk3D8R3oUODajiPw3rcAzH6+e/bhXDcoIl5r+ia+GkwgX3v/R54tA/WOo/8TeXxvL5+L9TT/UZm9bLP2APmFNpeoS/IkOYv9gS9b8QNqB/NR3rP5ua0Dcf96A/ovCC1jJ677/7VMTrJ1vkP4InSTnYCfe/NYppTcJj5T8/zSrFZerxvyDkFDPrAuQ/mG0FJIGkm7/ReQ4U3HLvP60jaJ80adk/hRhQ5+/a0j9/Y/W3Yg76v+ngWL0HXdO/CCQovA/w2D9YBNmolcvGv2FJNyD+4+C/u6cdIoQevb81YJr4nBrMv6DXHTyTsr4/UFBOgUNYgT9VXOTLQZ/Jv4Ugg0/pQ7s/buC4yXI+4T/27tmPuurav1N3Dv1ait4/YJjuzFk8178JaczMugjuPwmIVIxwqfO/HM8zbM8Mm7+UefTiOBuiP2Zgxkn3Meq/xxrKVmZhrT/v4hwMn9TAv+mh0ieVA7G/KhQABXcnzr+GjDIUs7fLv3PqM99gYqg/JkOWFB8w2b8o7/I9sOXKP91p3E2KcOI/o3y+NkxE37+9kCWBjUbwvy1PZuvctOK/0fwk3KBK4L/eJnLAGePiP0EUGHQpEvu/So3bfhKg0L/J5NIxuH73v8JZ1IiPO+2/kvBkUElT2b935QqCPn3NPyXtkp7rC8S/KYREmNsJzD9WuQREk1TlvxJxMcUzLtg/63a1VWx0zj91621DBJ/rv5Npm2Kuc92/SNCW+adgyb+viGMXc0fIP9cTKNfgod6/aaFXfc852r/5v35D1v33v4z5m5Qhqbu/s32g1/hM0r+fJ23/20Hvvx+aDql0pOu/RDB+T9CEoD8b0P3P2fy4P7SZwhH5c7I/Jh4zjgTJ1z8qHERvIw73v/NS2YkWo/y/yJzth9ZV7r+RLKErcXf0v/+vFNyUYvC/UC/PlIMJ37/tfWKKYTbkvxKBDALruPS/Pfvp5gf/sb8dsk8uW7jJv7i66iANRK2/30JwNeUTuz9cSkmOPiLovyQr3ZoGLfm/SKs3J+jU4b+srkBlbZL4vzgo/6LXZrO/ScIDuf9fzD+jNxUoskjQvwCd2bz0F9a/2jdDAJ7Jzj8R+/hOVs/iP06Z9k7KLPK/qBWxRu7J5D91Aa8pt4yQP9zDETzFb9q/4L3OVJ/3+r8TFz4lwtCPP46qG5Fagsm/5pwVi7980r+pJot29Fvfv3yWYkvwDLi/xPJHR0694L9UvZuCsurKv4h+zZapH9K/AjUo5OfFxj+BN3hPfI3ePzo4J7ASg6E/F7M3uQrTur8hAhvdH/Thv4C2+xrCg7w/2EpF+wmj3j/bihMy3UD1v43ajjF0VOK/7bHQvfCF4z+Y8Xf0PpK8v3XzfaioseE/mdoja07L8783DjCNfCnPPykuaX7UCtu/F1SOBfkC1T/IKuTyuGPevwGpRoqM6PC/PmKGNep61L/oy5T2KVr+vy0JVOpb3gDAPD5jQMc14j9PtX+Vg0jsP1EqTi5ewMQ/a69bV9CRAMCZu3oNy7fXP3KOvIfjq+m/1JOOFHbZ37+RpM7eXlXqv6lE0zX9MO+/P86alhzP8r8wcOLAvc/mv0ijygCpzNI/X/cPe2ng5L/odWapXAv2vxpXZd8PVui/3+/z5kbq1b+9RL/ckcboP01D1S4VBue/bHjBsWkatD/5ZsZ0FEvuvwEzi/pDCME/aqMoeKTc+L/Ul0q3Qaf2v2WL03gI7d8//vRL5PtI7T/ysvESD4nDPxSc73dfh5e/PK2ZUhu+zz9jSNiGtCvnP07MvirjUPK/8KSQbdziw78TFGaQmvHwv/9gqZp088e/5jkU8XfE/L8dmchR2WPZP5zcuzPJOvC/z0ZuuUyf47+chSA2++bWP88BpjkFlf2/BACTZw7e0j+6lGS3aUPiP2Ro0KTVmc+/JOxKCCIi3L9k2DYIjIzFv98Y7TVquu+/xrHYgcWR6D+YTFb+Z+71vzowTCMdFfG/G4N9STS7+r+5FyoMcLz4v/3piRCgl+w/J/aFJDSivj8vjGCv1s7dPy8emI6MYM+/WG0U2PpJtz8ARnuuoxeVv49g7mNMGuo/J0tpfceM9L+d+g+3qyXxP59rr+9YitC/IsicHK+a279DICWZd/G2vx3H8Smq/um/1fgwteGu5T8jnqVpSHnfvwXsJxNja++/T9P7cMGw6z/je601vVblvyUUMN3DjN8/GWbdKbWq1j+CLA6Jr2fiv5CBUfWmCOs/t4/Qzcmt5T8nZcjaWwTBPyI9UDvdd+6/FF84ZSYKwr9UHjZNISa3P2mAJ3zjFOO/0KGPeEC86r8GsqRU0+17v3+Tg6uh4d6/kF1mC4ws079k9hnf8VWzP75NeVgR96S/9LSijdv82r9lhYeqLejov4pCu8ysv/O/sqtsOCvi7b9ecHS+Z1H+v472EswD/eq/bEDOUgF0oL92xdTwUoThP5ujcyKSWei/sNw2JzbR7r+eeiEZWoXVv23CB0Ope8C/Y2kzXmZiwr/uxzbmc/jlv2lqJUVsd/C/cS32tUg2yb8WSvMT+X7QP4J97pPDbNu/uyWAalZ04T/8a80OC8fFv/bKmAYlAc8/zstKm3XHuT85dB1b2GLqv1uLEcTek6y/gru/HfKzsT+SMXTD+wXZvxEb/pEXp6G/J0SF/Q706r/P+n9fzH8MwJXCuy/a9dq/h2h5C4SVzz+cHKsiYiHUv/5965w9reC/d201h4PSwb+nhgQwjiXmvwLJX/oN8cw/O7n4HNxJ9L+0zxzF8hrhv1ebv5SjsP2/DhXLiGAq1D8tHUKxIRLSv6DuU1wjHvO/XN2OajE89b9odC7HyzjfvymQndSDs9Q/x5h2EOOP6D9xrhTjE23Bv/XwaMmIbte/k1bKvJF6w7+P55qWWFPnPzWrHaKV/Oi/eHS54shZ1D/Wlqeg7Lvev7EV9Lb8AALArHwcHEwB8b8Z7bXiVOvZvxguHBEbVOa/AtmBxg6okL+T0Dfbpi3Rv9gLEoYlEcQ/ZW0ssEAZ6r93KEzBWY7EP/9JzIXUQXS/P47gBsj36r/OWjkO6Lrov2dNrHXEstG/cVPVNIRg7b8O6EhmRTHhv3J4I0i6XvG/0RxefRZE478GJqyRKSD5vyARY9sdwuO/70+3XPog0D9uWgo4A63JPyq0SgO8e/W/9Eb3Mlfs8r/TToEgR+vjv47GcjcSot4/7sF7LGGZ1b90MRgfIJzlvxrw/q/aowDA2QmCk2u73L/wwiBgFFG8v6sYccmdq/e/HrKNeNka17/HyXk2SEULwA/+ma/mCeE/POT1aPeQtz+cVgGqx3+QP7ugDohclsI/TGQtRrkm7r9TgV/WJhjgP++pnfnjz9a/JXj9wUdn0b94mOVAgDzNP+u5rQXDmui/0pNzngNd1b9Znb79APzzv5JrL8fcmcm/zJ/vVmUQoT8k1WX0LTjyP0W4DA7OEs4/FL/aL4X15b9s/1RcJALhv9gQ85vuMOU/wDif+HdYrz803RHhn1/avzCR5fjERu+/PxbChK0Lt783P7UpERfpP2BOpr1YfgTA5C8PBoF/0z+AreoKbBh/P1KI9s/Davi/7sSxkSz16L8Xm2JboziWv5tPdjpmkOG/+ok33d4T+L+wlDKk+6fdP0/3KzFO2eE/VAV32SnE8L/x6gbUDcTovwL6hS0uz6k/BXeeUeN/vT+OuxA3yBbwvzI6wYM+EPa/gCwjBs4R0L98Xc6ejKHPv6gVSfU0tvK/UcUWAnmR27//8+fbpaCrP867+G18IPS/B3Rk1KAX779sIvUVeN/nv8nsRXNM1PG/bofjmtE34L+xkk7/ItTsv5OyXfQJcfa/zYC430wL+79lHH8CWAHxv9mbVwhBOMW/+bIdIGdIwb9cA2eedXHlP4hueCGnEPC/1nFGdzNI6D9bwGHlodjsvwX1S5TyRtY/wL81EGwp6T/iuFdDgn7aP+Xi0Bk4wfu/d0QC+cT4wL9ohk7//7/sv9ic7uJtO7G/zhnCDaBKfb/aJHAyfFfnvxzQ1pDi8qk/Rqh9Kdb/2j8vCWVZkTjWP7UeD4esKeG/wvkcMmIP3L/QdmN2u2ylv9hueKLqfKC/bNAeBrmm47+LgNxZY7bEP16IVP4lKK4/EbZzM5n8y78q8oxy2k/cv9FEf/ljPPm/UtYvY/F217/AqGX+2+oEwMgUUsZLJ+o/AahzbxEH4T8DOysQcnG3P8GC2j78V9W/mWIoYH1m6r+K5RmjhcLdP6xGFTC/o9C/OaNewAUt4T9/L78etungvwQg+ipmrgLAeWpi8kkZ27/knmQ4aFzBP8QJiLBNAVE/7py9XXSu7r9hdOhMJ+vsv4Fy833TFOy/vfKhFORU7b/E4s14K5/vP2JF2MePIeu/6Bcty3D507/SW67ZQ//jvw0vvXyNb8i/8jS9VyK+7D9eSRmX16TgPwh0rXihQsi/p0bWFc+D2b8iJc6RzxLvv7I2UCJoDPW/3V6ywFTxwD/N5svsMM/Vv38DoYLvPe6/Pe0FurLH2L/limQAHUrqvyAC0BcuOfS/ASqZI0I31j8UpDbzLoHaPz3cp/2jwfa/dHQgG2bw8L8KVKV0yHHXvxvRZBj0B7S/CnByNWJMyT9+2Pbbc2Xyvw0hZ6nE0+e/xGJ7hEgg8r/DZQC3BwPEP0kxeGJsIaA/aHtIrHy93L8Vd7T3EQryP3yNYKTQCPS/g14fR7FG8L8Cp+jeA8jKP+xAuMF96u2/9d9/PnNc6L9mdpn2u/+6v7tsqz4R4sa/Q8XbaKXl1L+n5O/agHP4v426tcURHdc/meInuIO927/SvIJVV6TPP88fq/JmO/i/NRhbbADb5L+UlzSAXg4AwJOkBriVGOu/694d/Qh/9L/ugTYYFC+6PyM0taQzycq/TfyerKBH4j+ObWQ3lbjgv+e2EHY7ItI/IOU9/jk887+FCeE0JHHdPylevo3FSqY/G7JJ+SRfZz8pZEA57Dvgv3iEuWlzNN2/pU+8dp51nz8I+9vgSFvcv8j+E1QZwei/hhxezkNL5L/gRBA3JEDJP2RY0aarUO2/X9LX0gJxz7/w1QSquGoCwFHHkHGsuey/+trut4xkbD+KUwCSof7ov9NmGrXzw8A/BlWowzXe3r/InIMcJli0P1CQCTIzftS/TTecEDkF8r8JMLrazBD0P7GqYBSthNi/m425qgS/AsASLFpwH1PsP+2bxjvz79g/pwI2N+BVyj90Bqq9Ag8DwNdnFWBNStO/EDVPf8Cmyz/O9I/2vYrHP+Hr69QqY/W/GvExwDoQ4b8V3HhWdtbwvzik9Qc3APS/e/MiNJBc3j/fO05lPWr9v1IkruTxVng/5wrbYb5bBMDXvJPVfe/nvymTA9TNXNG/xJzXcuhvtD/YJfeGSnayP0abztt3Oda/WRjMr2xm3D9zTEM26Zbgv667507eW+u/fbww3HVM0b+cTJ91SFTYP7mDfu3xmeG/+YLy+02ox7+Z3ZARVyTBvwFGN1SHhPi/ottQSK7w8r8//4Fz3UHPPx1RQ3qnt7S/f3+pQQL1xD8+IlfcwSzRv8U02eRut/K/w2PXlRpHAMAY3wDfm3fZv98r6shzduA/V40c/+rW9b/OR0GdrcOEv1prPOBkFPK/P3+dcctxz7/xwWj4V4nlv5fG+vEg7+O/7xxPwcTY2T9Jna3KSsvhvwf6R/zg3dy/UNiTmPW20D8WxJbgiYLjv4FzWs1b1rk/tXh81OAC5b810iOIisjQP+OG57hg3NU/WIUGw8kdwD+SOnn49vKTv1dt5PN7e+O/rsXEUjgc6b9qw0hWNWunv1QWkLN2AO2/5PDuG4WE3T+6OV8oPnbgv4TKZvvTnua/ynxOIMcE5b8oNMWS97i8P/7DR6rkWN+/qkBWpqKe0L8QfdgA6pfkv/tuwxpweNA/jj9/CI188z8HeVsbrsrDv//JRNJr5u2/UKwu9X/49L8h4YDYK/HSv3kSj8CRRbk/Vsw0IB1VAsB4DYfeSjHSPzV4pRZuROO/jXSpr2588D8n1yYV7bMAQIE83QVNn8O/CCBPybVU9b8JyiVW39/5v4rqHpxS6cc/NILBTvZRsz8S/Lum7xP1v4ZUWjSW2NQ/rnQrhb3Y2L8Ldd0sDZ6gv7YyTg93knG/zsO0Y5jftj/KkpCHqA+gP9tdXL2VMds/zfHuk57VA8CQ7Bky8BH2v8Xtqo+OR+q/u6sR6wIz4L/PiCtWZ7boP5Z4+7g8c8W/GNVIJQ2Q1b/DoKhXdeC6P4jymw0lBtQ/I9x/myqB0r9ShH0AlNS3v7Yg4LZay/K/YwI4Id+tsr8hjbVecVvwv950bWrbdcE/Yn7r6iPz+b/ghJaYGuO+vw5Y1oG11IO/9DrHhiaT9b/W+Avm0fPlv2/cdWJJ1/S/LEBrEPxSqL+5OR2aXga4v2JWRt2V3eS/Qoz2aGhJ2L9taSW/KKvrv5Yhu4VajNU/MJy2ba5Mzb97y/C27Hz4v70P1hX4PsM/PE7FCAro9T+HgV6jnTDVv61PHYEYnM8/rBfqx1k51b/IvtD6niK6P0qVMItdc9G/rzmulBUH+L8XRytRzITlv+FUQRBR8eE/vttbRzpa07+/rVuxbkncP9ATl5GBNgzA/wJpHFVZmz+w/YALkGHhv1RIJ1pr1sm/H1JlRj1a2L8pCQ3g8j7yP69rvNPbfs6/I+h+5rdzqb/RLilk1SvUvw94dMFtu9S/AN1oMNXs87/N91Lxl/P0vy0YrfsJJOE/nwfD/Iog5T/pDX3bpYf2vxaQObZ5gtm/CihXfVVf+L+2rGVV8GWAv3FhSpq8UN0/3Nya9zlt+b/wXmI8X43pvyfALsr3Gd6/gXvQHOj/0T9cVghmMkz1v3q90VEjdtC/pk3EnQjw178E4rgLMOqzv8N43hw96O6/ymWonvD/478AVnpwmHjSv8g1dptPAGa/yGyPPPAhxz8ipyMIsxMAwNMuB2sPFds//Y5hw1P0uL9E5SqagSUAwGBNr4cbbNE//8XenUKS2b/kbwSbaMbuvzpZiaa5mMe/lmXgOfb1AcBokzTisJrhPxGRTi8y15S/nbnGpEYM6b8pbTv9hsfmv+sltN5Rfs6/WvuRW/KRoD80JpmMI0jfv7Gx19kvx/i/G8FB6BH7tb+0ok8ezg7pvxay2TUbmMK/M1ntp8BDzr+cyAV80lD4v3oDdatRdNo/8W2AXxvewL97cVsJm8jfvyAGR3BBIOa//enwXvhGxz9wFVA9DU3gv6qClP14mOK/raoClVhp079SlcGT2lHgvywZimAn/Oy/GSOCXVnN5r/Da+adD97hv+jZto2l+NS/4eDUn+9D4T/KZVW79iPyv4Fso9/A4fu/bN80VJfE9T+v9fjwZiviv3xjyTRsInQ/qFQvW/T31T/M/q9MEU73v/eEqsdEAuG/8L9Qqqlb3z8NQbczk1KuP5fSMwJMF+M/9lU7t6sz4j9PNXBfqdP7v61WPTF+Vvm/lcjP0dSr578X3kVnInXiP+uKa80+kso/0tJDdxoj6j8qiNHhVBHyv61vbfMAIbw/Dpj0+CcD579w0LLVYLXOP4Vk9N9sBtK/OJgU2U9iuz+cECSDGHHuv7UV4GjAI++/G6JSK/DbzL8enrGHbEboP+LPoVECCuS/U7FaC2PRgj/VIhHwKCnpv8Kp3y4iywLA0L7ColJW9b+zWgViK3TAv4z6cn6FbOE/lZUGHFe0BcCUIUQbBnrsv/6a/eBwiue/Ge8ASOL5jb+ygP/wT8jIP3EzSvdfweY/RdAM3DPt8b+KyZy25mDgP7604xkqQOe/NrQEKX3j1z9Y3ib7JCftPy4nF3rFt+m/lPgEKsNT1T80yep0Rdzsv9B5cWf9e+Q/cvFmB9tAuz+H2x0nNKnOv3sAdvHDFdK/Yli8Pa9j4b/ok4dNbF2xv9t84Mat0/O/6bHKevc8+b/bOVBxrIC/v9KgGX6dpqu/Bo9GKeOF+L8lSP7Wt8zhv8iXmg5e+Zi/0yxw9Z0js7+hPMrqNRvlP8DESafft9U/1I/2F/Nu4D+ZIc7Tc8jsv6cc7dsPi9m/zkQLD6VL0b8w/KgsU7nRv23NQ7rHIuU/UNJG885t4j/a9wFrltvTP9Fv0cllc/W/2kaHnAmwvj8TK3EIK/irv30UBT9iBeq/xuCYiLjf2b+tADdcSOrRPxZFwAuYe92/+brXO8zY7b/V9obBwtP2vw0YHZ1G4Oq/cvjcivo3AcBEeHUJ0WDdP/0Rnk0g/l2/8GaiR3b/0T9Rf++7b+t5vw6blr8mktw/FKoUGh6A6b+XfVV6t4L6vwYE65bIfvq/c43QN5vB7L/VNfDt2Ob0v8r+UX9kYL6/JDyNAbic9L8lYpTLmMjdPzPOiGevPfK/ItKRjmek4z8RDAhrBOLHvwZenX6UN/C/3XRri2ZO5b+6I/vA8CfVvxbkDWMFlts/2IEr/gR0AcC9vadFhkLzv6YkpmJzxuC/OBQLBSto5j+G7Re7UEblv48bAnFSCuG/9vn1fuR/7r8RQPZxVqarPzFeGXZ4cJ2/3s9Gvo2G279Yx7xkaTHjv6ZAwXm5Kt2/GzAbFTiF4b9JbmO2FGblv+5tJhgaoNy/4G7v3Xhmzr/gu1NT7zHhv4O8TveL022/mQh8WQbW3b+M1GKUYCX1v6Tc2PmXMoe/gBiWKkgv5r8HneC+J0Xiv7OWIS0Gnve/U+8BIFCBsT88fjL4aDfwvxSNVVfhyuO/lVLbd1t88b9Chf7s3H3Gv2LV/FlccdS/vKTlbRsEzz/8+l35H5HRP96D1N/sJOi/oIJfgTKC4j8maZ/lBoCSP24Ol8Mq7AnAqgFSoP/60r/wlUFx8w/fv6W5NiT2aPG/h7QG100v4z9TbCleJfTAP3hypP+WHuy/CqRmdSss5L8nad+QAzjOvxrjuPKGPuK/rTBO81C/2r/C5sIhx3Drvzj0r6tHFKw/sv/+0BE06b8JyFbNwk32vw/uoEcLdcy/cpJvB7kY8b8XuGYK2qDkv9aDVrqiZfK/+4MThPrq0L/T0vU4xnLfv0Zq3Nba4JI/7BA9oQRP9r+MQjlV+3jEv2guTlh809C/81DLwV3A57/9jB24P//Tv03rf1Znje+/6SJ2CZwk0L/tLJhvVXHQv2ovrDf8UOi/2rwSpFUl5r+qIjFHPw/lv8RDHuIvjMg/kgIniFaefT+JtD/nhZzzP/KRgZDkXva/cdxdjr+03r9OUOScSujhv7haRClNDdS/HP9l53AX8b9rMjzfpjPgv0+cXlaCyuC/F9D6aAPz6r9Nl74wcxbuvz7rbEnSlPK/iszK58ga7r+YYy73s6j5v3rbToTv2d8/iuTS94xtlr+xdaQFlA/ovzQY2j6lebK/SBs+YLfF5b/Dm0SlaGXVP+WwKkwtNsS/UJfHL/gN1T/nmnxCfdLmv9sOlBkkBOY/3jceYdoW1D+CNXvsw1DTPz0KsXSLTt0/GZmfFLNs4b9E11e0BaTxv8AMeeB3loK/YUm6YkRkpz9fTbIBz1TXv3V2pxdF7NW/5QtaTjBUt79wf1S6fznzv92Fqpqo6Ou/42ez5i/m5r9cHeOBhLnXv9nuEPpFrfq/yTZrfStVyT/uHfre0gDwv+vjaIGsTdy/ONAb/9oT2T8Avm9tqdG3v8zhrZOkW7m/D1+diaAaAMCZTpdifqbov1qpyN2SKd2/wfyOqJIXqb8KutV4t3bgP55zC4gn/fY/c8aK8JVY9r8hgF/4KyXov2ctX16zs/C/oNmvPH4v+b8LsvcJO0HjP56IrVX8WdM/PH1ZRvzP4L+F2USG9IrQv9FzDEthNOi/4Xfwoa+mxb/ah5RsC7fPv+YBv6uN7vy/0U8gPdMv4D9ZL/b52aT4vxm5O+iEiKq/pvSvjx/O4z+S7XZfph3nv22a3whIqsO/PsXBK3t5879DlM9VLLnUP0KHZheym8O/t1VjbFP50j/LF1eBDV/wv0DlJz1ORO+/fK8zjXkFsT8k/aK8dgbBv/ZS9zrs/qa/FQhDySl1yr/NvxkjBMn2v7ZIj2t+xue/NEo0ww0d4j/oGGgpqozGP0BbjMT6+c+/TgBNI5iBzr+DDLjdQ+2/P2lqoZLifOq/yYMeYRub6b/Z3dtPeVnwv3D3juwO4+i/j2Hn6wKr6L+VZWleXo7tv8TpgTDI7ZO/9vZX6WmT8780Nrnz68bov9YbrmjBRdK/lr7Suwo6vD8n2sE8L1nmvxUgjmhx9OG/Nx3nUX008b8NYTBXnnXxvzcoerpxKdK/XNNDaPp+qz8TAtDovbibP/jqFEDJMfy/Bd1r/4Iiyj8QbiGvHhGmvxRSc99T7ee/rIcDoBTqqT/NkkEK79Luv0FLETQjesq/mEN/vvj9+L9U7oeOdRLwv67Uhxezbry/Fw2oyALWsD9aTMxJ7+jsv3GSKQU7v9Q/VZkKs3Ye57+Tq4yQzyvRvw/tVAnEf+Q/SE36+ZAb7b+pxg1Ex0/Yvxvugp228ue/RTmAWGdu4r/DC2g87b7JP3rFxkh3s/C/kR5o9oBt5b8qzKoV0Wf5vzkVVVxNP7k/0Py+O3vS27+ukdiSs5fvv4/7zxtT0Pa/5sxz6iOq979QqVWJnQKrv7Duz6MmafS/R1nTeS7t0T9qLjNIQLHtP7LsG27WbOy/tluyylK38L/VcAPT1+L5v/DDvHik1+G/soaeD7pQ7L9AAesw/jX5vxYEpg5UR8s/9Znd14fNtb9aJF6q/bTmP4p99tZz1MM/4y1+p//A0b9WX3z1IZm1P3TU/57BAuS/vg2fhs1z4L9mJ0+pTPvTP65h7fjoUr0/SHQIbSQs2j/UsFD/zQHjv1dcRZlMp/G/QR2n1wfA6L+NYfWD3Z+zP95HN51KOuq/Z5LZVRLQ5r8vXxpDs/DfP5RePuBG7uI//maGlraesb+h9PQB7AjRv1y97PAkROs/zaWZVAUq6b/uMOaML5HZv1XCG2p206W/6QdxSX7C6L9ofs9EsGThv8rSMt9I1du/QUhoZSqslT8Wz9JMWN38v6XUnkMABvC/vJRRRgp+wD9OYgoTNQPuvxfggEZIbvy/e/7aLLdstb+GmlstWAK2P3RW0lXEJ/e/AcaaCmNn978wK8I22pDvv1PkhQG6k82/moK72WfLAMB5G5oupm7Lv9J9jsGOVvO/fMJzSKmh3b9mExWcU/zRvy/CjlSpg+S/phTWny9m3z/Tx6yKWEbgv7L5p5FBJey/HJRUdzzbs79JKA0lQ/0vv04D95KeDvu/CwjWSIS7nz9wBvLKanfGv56Z2a22wNO/PoiPHE7iub8WHcYr7pX6v9jZnxDdnMy/igoTY5OC7z9T0UU3ia3sv1uiMl6rSvS/yo/Mu1OWvb8f4Pvd2afEP1pzDZMfcMO/ZgD5x1JIcz9xAtxqImTyv2f3sgMS3d6/7puheI+Pyr+5QxlPFi1YP5zm0se3WO+/Xssv8nVKy796KK6zatPEv+ZnV0xEs+G/SSSdoWFt9r/qUq2jNlbBvyAQZthFRHg/agupnfhT3j8R0KpbawnVvw9dbOAracw/0bNSd0Xt6T9MOiRFjvKgvxmhdzKEntS/ut9dtLiW0b98P9CK+4bSv2e5TQr8Q9E/UUZ2RM5ovL9giaM2ffTivw1hOnrgY62/kFm/CaphAMDlv56IVaHXv2i4eIyOqfm/XpkyOKRZ6D8/CFJJmwnnvw87eXr2gPi//sBmrtCOzz9c4kQ1z4rUP/VNduhw382/bwBYn5ctmD/ET0C1RkPGv+7CS560COW/hTQcxObbpr+191h0aHCyv/vBusJpm62/tDtLUKSYpL95sZBD3t33v3bZTwiTde6/UaOMsInS4L9CKAkOJPDVP8T8UDDpreq/P0UkTMfArL+CHA7z3vXlv2vWySW0pPi/MrIlnxMn6b/UOqryI1LEv5bj8GzMivG/6m/Q2syZ+b/ZXbsw0bu+P14o3ktxJ+4/tMubZ2e4s7+CxXNTFW7Kv/4WL3C7jvC/hg3NZg/w0b/KZPCPoC3oP7FAPetomui/5PBHS2mp4b9X9g34WunqvyQ7+RMh1+i/sBBptyHn6L+xIWz15r3nv1LofdroHuG/XHheS42w1D/qolV3glD5vxVWAANosXM/jgQP1nHI4z8H8e/nf3jqP6bwXWZ099e/GCvjT7DNyr95gmq7jgDVP2Arm8Zi050/5Ptu0CIV1r9dWcwwd5TJP1ny3NFEues/AfuUhema9b+gFoxZ6+zav3G4ObsS5f6/OFVsuWAL97+tJiyostLLvweiHo2bT/W/z27o/ag39798mLoxeiHzv8t5Nq1qNdw/cNhmGPE1178FCI8WfhLyv3g9p/a3vOG/5GkaufkR77+eLe6NCTfbP1CsIAIOm+i/64duezZP5r+Sb0YbUFGMv9sJrQEg6+O/g0Dcr/OY0L+m84eKEKXkv2F77eofXeI/euO2hZd47j9y5Z9EeFfsvzpQi/7dWKc/yhk033Lizr8qJoQsEyXWv1iqUdD4AcA/fxX87LDj1D91Z02G5pLhv8vDSue/gta/d2Wi77mR5L9JMU3XALTuv9LfBc7didM/PyioqFhA7T/+/RocN/jNP0s4dWBvdfE/6qVGw/Epuj9ahSMbGILmv30x9h8bgPK/zoMtxFNN+L9rg51gbvSkP7uhaUr+rvG/Sy/4Znp18L+I88MKurvOv5+jcArxpeM/WJNpDp0E9D8FDGE4ooMBwI4JMBQ5LYC/Cp1h2zJ50D9XBreyJmrav9iCSQo3uem/C1O8gMM83T+exejyXC/tP7NwJGn/R+G/rOMaReKK2z8LgCb6xhu7P5ZJuHEr4O4/SUq+sbRZnz989ZT2PH3Ev+FUpQ1WVue/DkKlCXMEhz+G5/d0dyvXP8QoPXV3O9o/k2ZQt4H7/b89VFWfR7vfv1L5Xtj2sfK/VPxikT7Z5b8BzxHlG6LYv/rLrdHssdM/BoKHILbl1L9jqvmV+5KzP1Qy3HPApuo/HH/dIWHZ3r/dCzX2xl26v2lmFdI1z8c/UGnfSu5R479NRZCVs0PEP/GaPbCQ2+w/oUa0zpFguD/Z/BA8+prYP4fyFe11jO6/qwZqKglZ+L8azAyF0R4AwGwp9LM6CNI/tk3w7EH4nD+CWED4AWP1v4vPkojyKt2/NHefs2Pstj9w4HSMONTzv7Rro/KicATACqzID4nL2L+wKSQbiJbwvwx3wDzEx9c/cZcu8vWD3b8iddPfFKHIvxZnP+GkdN0/HnQF7Bzx4r8ZMvjBjM6lv31/7Sin6+O/bqSHe1e287/H4IUSNiLCv7Peg8ZSYeQ/VsXKaWda+L83JRSO4/7ivy3Xcg5mY7O/vaFPAx8+4b+eUNhYVx/lvybkao+xDALAvAMaI3cK6T+2W/sgknXUv79F8mJLZtQ/6V5LD+Vw67/3kakgvKHSv0U5DI3+7ty/8LYvafqw4b+TgWHifbLvvyuUy237BeS/mKf852wwqL98Z2PIH9biv6w2K+aPP/i/CndpCGzb4L+et83820fHv2Ms7efuWMk/uP0VdwOl7L/gve/lAuzhvxafqmlq07S/Z3ZJVCIk9b/d6kFC1OrgvwAZ9xU8lfO/PNsM/Dq5yT/OcJ/goNm5vzRiGELAidQ/Mv1ulin34b+Cc70Otdjtv3Xv99wKeNy/NuzLYrHi478p5UGDPu37vxKMGpoPAn+/xRQyJYIn7r8FdivZU4Dhv/Dm0l4k1/K/OJB8vkj+rz/J0D4zr7vpv2W5QYDt+fG/+PmBPrAyq7/uSW5/b9Gfv+UNOXH9Lui/SOg5j6YH97/YsVGy5q3fv5kOedxTevO/mHqc/J2Y8b+mul814JnwPw1WsKSCuNO/qPs4NAicwr/E9b38enXkv/r+jrgn6to/ZJQnWdSH+r/PoKIbKeXMv0T/xds4S/q/YzQLEfHK3D8ggjNsAiebPzSCVO3yluo/1jBZ3BS80L/9/SMnZwr+v9mCBVsRsNG/HqH5pIU93z+zd93XhJ71PwY9ZZRxy+m/JJA+9UTsyT8KDZDuOHbcP1hsKmjdurw/wvyUk5AV5T+h+DrwGF3mvzKOdnWXI+i/6/+GccTWyL/ueIijQePLPzy8QM7wf+4/82L6v4Fx07/T9739Z775vytePawjGMu/iRZ/2prO2z/hVHYQ6Xj7v4jF+L7S2ALA+iuTYKgvBcAlzD6jUNb7v7K8VbvVC9G/Q+eofGdN5r9To2cFNIrjvze6Tqy4ROW/hIgzKx4gmr891nC6vUXxP7noLk0Gw/q/ocWS5ZWe2z8Y+7qoKmXcv3tvfgvGedI/a7yWCbSf3L8m3LyO/zCZv8/+/0Gcmz4/hBUWtKZi1D8LXWKcS3HIP1+n1hYY7fG/1vSPG6p6wz8mFQ9NJMHqv2tyivAUBKA/2obnkP7exD/IwoRombTGP4tMz5bxCdY/LDXpbeIEs78d0C2DBHLZv2FVzMTZu9Q/ZsMRqMnr9b9hWA9THkvav7okf9jXl8y/51/0Ztq/ob9UEtJ//J/wv64dtkbNk7+/C6G1a+W8vL9NGPWVIzPhP3Y8LhLKBr0/sosrWZr8zD8IqPmjD7/SP7NjnZD55/u/aoWo1n+U079pEcAWePvEPyEtYXN+UPC/lKNGo9ZA8b99ukRqgjzYv+f9gMvd0tW/UiIt0mMq8r84APOuOhbTP57jedfIGdm/iJat/Zug1L85TMuTKwDqvwRdSAHh2+u/n0K4rRXt5D8lrpvXqX/ZPz/3+czLoem/nc+wEzSGAMCHDOraVx35v7m5TLg07dA/Blx7xWCi/b96zocnGKW2P+7NuS2IR88/BqYq+mC077/dZCqCvDnjP7IsPt6Bf+A/uh1m7MhW5L/8mVYZwcy/v7Nhjc2KPbk/BI8c8EDG4b/wzFjcNk+Uv6/v8CCl5rO/GYZh3PxM6b8fnGgdh0K5P1MVPO/ALKs/Zhz7h4Cq1L8N4zOfw47gv5VopjZ3stu/xzh1MbMN2D/gSMsf4OzFP7qrpaYu3eU/ssmCFO1G1L+Qofch8ozxv2i2By/eWOa/84cQ1Voix78SYjbNfLTlP2azP/n0jaU/x01P9oyV87/B3XspfhTQv7O0SlL0y8i/87IKdLi+27+x7hlX3l6+P9iLNPUeSOG/zn9Qd3P77L8NvIflhRaiP4Olf6ifivO/8oJblr0O3L+wjPDLVVi9v7FMNGbdT+m/5zFt4TWTzL9Wk+wrs1/mv0yB4VqJh+o/GOBfVyFYvb/sp7mv1nrEv/lGOZK0u+6/lII4aeiT97+W8DVY7Jftv65oa6xJ78K/8dKK3ddQuT8dIZ3c7+zVPwWuTIy5O9i/JOjKYbwf6b9lOgo6yIDtv422hUHrLdk/oG0uG/jTvj8MrnzNawnrv1GuEVb8Uua/dDWbuTCq8b9Y9Z/Fa5XGPyqYdXh9pvG/NxPyJrdN6r8T63XzKx3ivyvrrOhh3ug/FHxC7+289b8VtFLhgRDLv2dWgMhi8ZQ/XrrdgE9E4L+Z2w7Zl7jmvyR7gCUFbNE/QJEKRNuu0D8tHo/cIKjGvyR5VgB2i/2/ygzWJx3Hyj/O9L+QH26xv79ZIEZwN/Y/qI0znmrl0j//sm2cb3f9v3TiN/wpvum/BEydl0fB9L/xGp4/yx3Xv7ocTbngbaW/+42v2JrN9r9B69OMc5Lqv+Y1EyQNEdI/cb4swupp4r8R57za2E7KP+7WVua2SKY/S9Axbr1t778/JmoZFw3hv0XjjVElnPW/d+AnLtlVvb8JkZv2kN70vzrV8wb9Yee/PfYw/kTD4L+0OqVyp+q0v/Ge1lq+Zu2/CalAeCaX77/yQxGUuhW2v/THUaFGxfe/AzfuPfQyqz+vC6s4L5jXv0gp1tKhN80/gDItB8pG8T8hZYso243iP214VOs3bNI/kaUGiNie57/1BKzW0121P3q/QbKHLey/b+gheKZxxj+U6pMqObDyvxIHRQ3sdNy/Yo5htGd66j/nYagWY1PoP8i+AMe1c/y/mPZc22ci3r9hd1FgEVDMv8kkzmn9VeU/1acxnHGnjj+PcUuy6/a2vwBgOLWEuce/zSH0KWM3Yj/krZ2svQ/mP0opEb3woPK/yQvJ+xihvL8QODHTcH/hvwrv34NGdeq/P0YhLChD5r9MP94gGAP7v7FRRb/satk/4yYzs8bDqL93mn/n2LHtvzYl6+rRo+K/SgRKY45xmD+Pmi7M9S7dv5koai+t1c6/VcBBIV/p6j+7/7UDJoXAP2Uw9nW+Guc/BNU6cYRF57+uU6R4kC7nv0ZscOuzoXs/uPVZbehx079UwuD3LA7qv4jThZvpf/a/b9jQh14b6b+rYslzy1zhv7BQyRMNA+6/Y2t1p3L/2L9E6PfShD3qv9EGR3ly5Pe/418nC3Tt8b/kxHJ7KPDtP3nWrh1DUeS/lvkUV73R27/q/hvbrouvPwjXaTg0RO6/3c9U5f1Ys79cSPbJL2javyqsCBqmY+G/OoY79NfL6r/KQ602LiXtv8lfMrasr+y/RGGfX6Zu4b9+GbYj7wS1Pwu1FPSfsNG/wQqp5F6g0D+YtzZkXSm7vx0IkuJvOOG/5MaQVA3D2T/rfH0Fa2m1v4VqFONTHN+/BGODEvPg4b/dPpl8gCXzvxqUK7C2BPe/E2LJ9zVE4L86ZWO6mwnBP41u5JEUY9i/c9i05bFfyr/CWOyGc877v3wjTI6EB+K/+B+9XCZD4L/pEFoUyHLcvyzBP865jve/z1r66puSvD94suKLdrbOv6QNJTeawtM/J1cp2Isqvr/FcvHdjNAAwG1fbJmdgOG/7zlsO/a1xD+yr1uoGYDjv0nzjWv/z9y/H8FVLgoz0r+V/u/TZ3Tbv9BjhnSnqv6/fE0OuVLQ4r/5j2Wop1m0v6vYLpw9xuO/9V+1p0mT4b9FIWb3iO3WPyN3j2f4NOA/j0RQ0clP+r9IZpHn8a+7vx7ZSiuXMuS/4RMFwnAe7r/BL4LghortvxSpDnDebcm/ENNseM5Gx7/GMvMSf7DYv7iXdOGfWL2/hgYDKLWa5L/OHTv1wPThv5wy8rL5wdU/RZUSAhzQAMCUDJ9+Z6HeP8LmAd/9luW/P0AyM1Hu3b9oiZGndbiXv8ska++VQeS/IQXmNAb2lD9HehzyHtOyv7ZfS+8ZT9w/Z3gBxue+67/7i9f2/V+Rv/QkYKJ66NA/72BedwwHxb9RPvQtMD8AQAkHLmqQF8s/RpY1k/wg47/IO8GOg6DxvwexdPZ5O9q/vGWDkODR1b+DdUJJSHPsv8pr4XMtrPC/eNChuVOC9L8JsqzjhrLhPy95YyivcvG/wEji+0iHhT+M1M1x4an2v4a03S8ijNU/TbnCcmtC37/NsxAYSVfVv4fh2Glt2NI/Yeoto4pDsr/qZQYDdYjKv9SqIGtYoPG/a7IQVfE45D8ipvZMKpiqP5c/l7WxZtQ/GEr1vciA8T9EtZhzBnXtP582wpivJok//5M2DeZh3b8Xp/Gy/66KP9oGnr+93/2/uFwhgrah8r9NsVN6nUngv7MhHZ9NJtI/IPlPdGRw2D8A3Y6YrovJP61nK1AUBei/qwBD6lgh1b+a6ozDKJ/+v0QCvKwgTNy/KU+cufz+5b8Xm4HGr5flvwoBP3bJ3ts/LlAAgls95j/CGguJzA3uv565OSBtf+E/31nOQbE1xr8WphyyCcr2v+5ItD7W3O2/VRLvuzbF17/SF03U9SD9v4jIXpUox7M/9WZ2HMuowD8wrjakcZHevxdHZew7a86//vvkWhGkAMD+8/vpk9vYvxPUO36euac/+6DhxTMO5L8fSiZUSoLIvySegVfzU9K/K8mqLVZB6T/O0H98DPHsvwEWwvPpYtC/WaUxUTi/0b+suVlrNLHlv+2vUf5SjPS/af4P5ZAO4793CYYnKhv6vwCnQAJJ6ey/lXpZR1gl6D+XWTq3rzfjP+U9mQmtefW/Z2qCGClGxT9yNfWMSDSxv8wzlBxlHuk/WwQjB4XS8b8I+iauQsfwv0lNNRKTXsY/Pzp7UhGm2785fkokzzzpv59G8y3NvuW/b6e40QHQ9b9SliHW7tv4v6P1EyLWAO6/veA8JxAEwr+dWOAlnkygP/367xp99+q/jSaeCGK5uD8cTtsiU2UEwCTh2IczYOk/23cLD+y18b8GMviublvhvz8EJLluE9W/YV57HA67kT86xzMUgtrMv76f6wWyQ7O/RGWpm8N15L/tyhkZklvov8uBlQMfVt6/SSsX2+Bt079jogxicKzhvyHXznxP1fi/73AdHaMPwj8kHfGOsNu2P+nCJgLp78y/TYNYtCc5nr96MJuF0CGkv5UIc25h2ADAfa3eabMM1z+mkGXkBKToP8tYvcEGZ+q/Uqb/f+jT8b+/erCbJw7Rv+zHmOoH1/C/aC/xPRjy5L8oqkOvmSq7v14Ey7eFRtY/o3jVIvUN7r//T2Vg/jv2P1dLtjLp57k/zO0xbSPq3z8us9COf9HEv5Rpgq2ZQdM/+tWXnN244D88aJbKNXDTv5v7mX0sBIe/jHmmkBuUqb9o+3VuqNPTP8CtJxWuXrk/vCXn9opM5L/udVOJyPbFP+m3USgrvcO/xiXL7VLb87/hiUsge0Tzv4TJ97K58tm/0M+V9uA99L9YSFKrC1rRvynq+XAVfrW/vYsBrSxU6r/tF+2X6FDBP5AvqpnRjve/VEXebRUs9L9HhuR1bui9P+TkZ9UzX/S/smmOFPCK7L8B07JdJNHmv8HVVF56kea/TfNPlyJF4T+uV+WxCufGv3C+f7ZLbfS/dbFeg1hf3L/9qnBL/svSv3Db9GhUaPc/82/dFvE8+b97QFUdwBntv+F1p9jd0/a/rsWkNAyk2j8uYZwcEYrivxLIERaWTeY/Ma6Vvtpx1j/tRhx9Xcvzv0lIkCsU+Ny/Nhixv1dCxT/9L4gUoAUCwP0v7YBOa+G/4IZoRjt39L+sfpbpP8rzv8MNJPc8+OS/0rOrgDCEyj/gAEsOVqbgP9hzTBofEuG/p59BybxD0j8c2zkAiI2rP0z9dmKdHZS/Pl8g58lY5j8ac6Tidav2v/TyTAR9Huw/lOIVvek7078JvMLbZeHEP7RQxQ/h3Oy/uWFrZ7c2w7/WnXZNo1jwvzRtg9wssN+/x38L/L8r8b84kanv4Q7HvxtOpN5sSPW/lu8m1Ytr67+i+/vS7B3sv824Qv5oh9I/dKUnfCOd7z+k8/ViTpnSv/Sk1+dWCtu/akIH3uOl5T9sD1WbnCOhv1a2OOXyBta/w0sm5Fkg4r8vLZSwU8bNvx7PMOFfg9K/WlHGe5Dp4D/j0bEPy8Wsv9YV7pjobNC/ZPajHTVM/L+hyIuJjJnQv1vndQA6s7s/8Cojv+Ai4b+o/twNmCj0v/xyPi/bj/a/e3mOpTZuy7+QX4PBPifzvy617CiQ/dK/CpqKDILl1L8GtgAH7wPFP2XGRTEZqd6/KIi9B6QVyr9nkPU0Qlf1vzOyhAe27sY/FaGVoZgqA8Ar9aSMyPXLv/4aj+8A48Y/mfUfcAAl1r8x78s6E1GiP8H5Lf5Sn90/CGdwVQ0dBcBd5VmJX/jHP4srBPOEx+S/W+qG2JsD7b9I8HUZuh/sv2dU/8V+wsu/80rtczV8or+3b1x0gXrQv2u64f+dafo/xnrumZoI37/tGcXvf/fcv3zdlQe/l9E/e8BWHR6E5b/C8iLb+RzWP840VRdcgfq/BfFppfTz3L+i82dgQpXUv4/CtYRWIPq/Ujm+a7zCgj9suaVT20bZP5gmXA6R2uo/8e0o+Gic5r/fBVMez33ov1jSVF4m+/O/Wb2iaKggtz8Hnza+JAnHv4TOtnsbNsU/+VJjkE5JwT/3ptt6W8Thvy4PNuOo9eO/eztGDy7K5z8z2aSSMGzzP3cvj9/w4NG/zkAieSfj2r9aZTycR+bev6c5sBfrOc6/WPbFa0cCvb8QVIOVLgvovzcqhMYZTdS/cbwvPU/c3j8iB1b/w3u9PyT4u+tz1fW/hqx3hUar8L/4CNixVVHcv7EEJCPRJ8O/ViV0/UF64b+aTv7/FgvBP3WKzl+Gq7m/UY5kfgsi4T8wsTBds575v1O/og6hjdi/0JFaYEjs4r+7tSWScrjnvzppFtHYbdQ/Vj9BAlpe37/qH7p/i9rhv8j+i05GCtg/kSO4JwNI1b8r8myMKf/Xv+pcWF3fDfq/coARTimq+L814KztLWzwv4n8bqfpFsI/5c3MejGE5b9et6kjOZjHPwfcnQnrCuk/P2ee25RDqT8OVWW494b6v9pcjY4OIPq/90P7POXZwD83X3TsX63EP6ond+oD7uQ/lSI5ksl4yT+lAWXm9yrbv9UJa6pv69y/",
          "dtype": "f8"
         },
         "yaxis": "y"
        },
        {
         "hovertemplate": "color=CALI<br>x=%{x}<br>y=%{y}<extra></extra>",
         "legendgroup": "CALI",
         "marker": {
          "color": "#FFA15A",
          "symbol": "circle"
         },
         "mode": "markers",
         "name": "CALI",
         "showlegend": true,
         "type": "scattergl",
         "x": {
          "bdata": "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",
          "dtype": "f8"
         },
         "xaxis": "x",
         "y": {
          "bdata": "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",
          "dtype": "f8"
         },
         "yaxis": "y"
        },
        {
         "hovertemplate": "color=HOROZ<br>x=%{x}<br>y=%{y}<extra></extra>",
         "legendgroup": "HOROZ",
         "marker": {
          "color": "#19d3f3",
          "symbol": "circle"
         },
         "mode": "markers",
         "name": "HOROZ",
         "showlegend": true,
         "type": "scattergl",
         "x": {
          "bdata": "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",
          "dtype": "f8"
         },
         "xaxis": "x",
         "y": {
          "bdata": "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",
          "dtype": "f8"
         },
         "yaxis": "y"
        },
        {
         "hovertemplate": "color=BOMBAY<br>x=%{x}<br>y=%{y}<extra></extra>",
         "legendgroup": "BOMBAY",
         "marker": {
          "color": "#FF6692",
          "symbol": "circle"
         },
         "mode": "markers",
         "name": "BOMBAY",
         "showlegend": true,
         "type": "scattergl",
         "x": {
          "bdata": "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",
          "dtype": "f8"
         },
         "xaxis": "x",
         "y": {
          "bdata": "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",
          "dtype": "f8"
         },
         "yaxis": "y"
        }
       ],
       "layout": {
        "legend": {
         "title": {
          "text": "color"
         },
         "tracegroupgap": 0
        },
        "margin": {
         "t": 60
        },
        "template": {
         "data": {
          "bar": [
           {
            "error_x": {
             "color": "#2a3f5f"
            },
            "error_y": {
             "color": "#2a3f5f"
            },
            "marker": {
             "line": {
              "color": "#E5ECF6",
              "width": 0.5
             },
             "pattern": {
              "fillmode": "overlay",
              "size": 10,
              "solidity": 0.2
             }
            },
            "type": "bar"
           }
          ],
          "barpolar": [
           {
            "marker": {
             "line": {
              "color": "#E5ECF6",
              "width": 0.5
             },
             "pattern": {
              "fillmode": "overlay",
              "size": 10,
              "solidity": 0.2
             }
            },
            "type": "barpolar"
           }
          ],
          "carpet": [
           {
            "aaxis": {
             "endlinecolor": "#2a3f5f",
             "gridcolor": "white",
             "linecolor": "white",
             "minorgridcolor": "white",
             "startlinecolor": "#2a3f5f"
            },
            "baxis": {
             "endlinecolor": "#2a3f5f",
             "gridcolor": "white",
             "linecolor": "white",
             "minorgridcolor": "white",
             "startlinecolor": "#2a3f5f"
            },
            "type": "carpet"
           }
          ],
          "choropleth": [
           {
            "colorbar": {
             "outlinewidth": 0,
             "ticks": ""
            },
            "type": "choropleth"
           }
          ],
          "contour": [
           {
            "colorbar": {
             "outlinewidth": 0,
             "ticks": ""
            },
            "colorscale": [
             [
              0,
              "#0d0887"
             ],
             [
              0.1111111111111111,
              "#46039f"
             ],
             [
              0.2222222222222222,
              "#7201a8"
             ],
             [
              0.3333333333333333,
              "#9c179e"
             ],
             [
              0.4444444444444444,
              "#bd3786"
             ],
             [
              0.5555555555555556,
              "#d8576b"
             ],
             [
              0.6666666666666666,
              "#ed7953"
             ],
             [
              0.7777777777777778,
              "#fb9f3a"
             ],
             [
              0.8888888888888888,
              "#fdca26"
             ],
             [
              1,
              "#f0f921"
             ]
            ],
            "type": "contour"
           }
          ],
          "contourcarpet": [
           {
            "colorbar": {
             "outlinewidth": 0,
             "ticks": ""
            },
            "type": "contourcarpet"
           }
          ],
          "heatmap": [
           {
            "colorbar": {
             "outlinewidth": 0,
             "ticks": ""
            },
            "colorscale": [
             [
              0,
              "#0d0887"
             ],
             [
              0.1111111111111111,
              "#46039f"
             ],
             [
              0.2222222222222222,
              "#7201a8"
             ],
             [
              0.3333333333333333,
              "#9c179e"
             ],
             [
              0.4444444444444444,
              "#bd3786"
             ],
             [
              0.5555555555555556,
              "#d8576b"
             ],
             [
              0.6666666666666666,
              "#ed7953"
             ],
             [
              0.7777777777777778,
              "#fb9f3a"
             ],
             [
              0.8888888888888888,
              "#fdca26"
             ],
             [
              1,
              "#f0f921"
             ]
            ],
            "type": "heatmap"
           }
          ],
          "histogram": [
           {
            "marker": {
             "pattern": {
              "fillmode": "overlay",
              "size": 10,
              "solidity": 0.2
             }
            },
            "type": "histogram"
           }
          ],
          "histogram2d": [
           {
            "colorbar": {
             "outlinewidth": 0,
             "ticks": ""
            },
            "colorscale": [
             [
              0,
              "#0d0887"
             ],
             [
              0.1111111111111111,
              "#46039f"
             ],
             [
              0.2222222222222222,
              "#7201a8"
             ],
             [
              0.3333333333333333,
              "#9c179e"
             ],
             [
              0.4444444444444444,
              "#bd3786"
             ],
             [
              0.5555555555555556,
              "#d8576b"
             ],
             [
              0.6666666666666666,
              "#ed7953"
             ],
             [
              0.7777777777777778,
              "#fb9f3a"
             ],
             [
              0.8888888888888888,
              "#fdca26"
             ],
             [
              1,
              "#f0f921"
             ]
            ],
            "type": "histogram2d"
           }
          ],
          "histogram2dcontour": [
           {
            "colorbar": {
             "outlinewidth": 0,
             "ticks": ""
            },
            "colorscale": [
             [
              0,
              "#0d0887"
             ],
             [
              0.1111111111111111,
              "#46039f"
             ],
             [
              0.2222222222222222,
              "#7201a8"
             ],
             [
              0.3333333333333333,
              "#9c179e"
             ],
             [
              0.4444444444444444,
              "#bd3786"
             ],
             [
              0.5555555555555556,
              "#d8576b"
             ],
             [
              0.6666666666666666,
              "#ed7953"
             ],
             [
              0.7777777777777778,
              "#fb9f3a"
             ],
             [
              0.8888888888888888,
              "#fdca26"
             ],
             [
              1,
              "#f0f921"
             ]
            ],
            "type": "histogram2dcontour"
           }
          ],
          "mesh3d": [
           {
            "colorbar": {
             "outlinewidth": 0,
             "ticks": ""
            },
            "type": "mesh3d"
           }
          ],
          "parcoords": [
           {
            "line": {
             "colorbar": {
              "outlinewidth": 0,
              "ticks": ""
             }
            },
            "type": "parcoords"
           }
          ],
          "pie": [
           {
            "automargin": true,
            "type": "pie"
           }
          ],
          "scatter": [
           {
            "fillpattern": {
             "fillmode": "overlay",
             "size": 10,
             "solidity": 0.2
            },
            "type": "scatter"
           }
          ],
          "scatter3d": [
           {
            "line": {
             "colorbar": {
              "outlinewidth": 0,
              "ticks": ""
             }
            },
            "marker": {
             "colorbar": {
              "outlinewidth": 0,
              "ticks": ""
             }
            },
            "type": "scatter3d"
           }
          ],
          "scattercarpet": [
           {
            "marker": {
             "colorbar": {
              "outlinewidth": 0,
              "ticks": ""
             }
            },
            "type": "scattercarpet"
           }
          ],
          "scattergeo": [
           {
            "marker": {
             "colorbar": {
              "outlinewidth": 0,
              "ticks": ""
             }
            },
            "type": "scattergeo"
           }
          ],
          "scattergl": [
           {
            "marker": {
             "colorbar": {
              "outlinewidth": 0,
              "ticks": ""
             }
            },
            "type": "scattergl"
           }
          ],
          "scattermap": [
           {
            "marker": {
             "colorbar": {
              "outlinewidth": 0,
              "ticks": ""
             }
            },
            "type": "scattermap"
           }
          ],
          "scattermapbox": [
           {
            "marker": {
             "colorbar": {
              "outlinewidth": 0,
              "ticks": ""
             }
            },
            "type": "scattermapbox"
           }
          ],
          "scatterpolar": [
           {
            "marker": {
             "colorbar": {
              "outlinewidth": 0,
              "ticks": ""
             }
            },
            "type": "scatterpolar"
           }
          ],
          "scatterpolargl": [
           {
            "marker": {
             "colorbar": {
              "outlinewidth": 0,
              "ticks": ""
             }
            },
            "type": "scatterpolargl"
           }
          ],
          "scatterternary": [
           {
            "marker": {
             "colorbar": {
              "outlinewidth": 0,
              "ticks": ""
             }
            },
            "type": "scatterternary"
           }
          ],
          "surface": [
           {
            "colorbar": {
             "outlinewidth": 0,
             "ticks": ""
            },
            "colorscale": [
             [
              0,
              "#0d0887"
             ],
             [
              0.1111111111111111,
              "#46039f"
             ],
             [
              0.2222222222222222,
              "#7201a8"
             ],
             [
              0.3333333333333333,
              "#9c179e"
             ],
             [
              0.4444444444444444,
              "#bd3786"
             ],
             [
              0.5555555555555556,
              "#d8576b"
             ],
             [
              0.6666666666666666,
              "#ed7953"
             ],
             [
              0.7777777777777778,
              "#fb9f3a"
             ],
             [
              0.8888888888888888,
              "#fdca26"
             ],
             [
              1,
              "#f0f921"
             ]
            ],
            "type": "surface"
           }
          ],
          "table": [
           {
            "cells": {
             "fill": {
              "color": "#EBF0F8"
             },
             "line": {
              "color": "white"
             }
            },
            "header": {
             "fill": {
              "color": "#C8D4E3"
             },
             "line": {
              "color": "white"
             }
            },
            "type": "table"
           }
          ]
         },
         "layout": {
          "annotationdefaults": {
           "arrowcolor": "#2a3f5f",
           "arrowhead": 0,
           "arrowwidth": 1
          },
          "autotypenumbers": "strict",
          "coloraxis": {
           "colorbar": {
            "outlinewidth": 0,
            "ticks": ""
           }
          },
          "colorscale": {
           "diverging": [
            [
             0,
             "#8e0152"
            ],
            [
             0.1,
             "#c51b7d"
            ],
            [
             0.2,
             "#de77ae"
            ],
            [
             0.3,
             "#f1b6da"
            ],
            [
             0.4,
             "#fde0ef"
            ],
            [
             0.5,
             "#f7f7f7"
            ],
            [
             0.6,
             "#e6f5d0"
            ],
            [
             0.7,
             "#b8e186"
            ],
            [
             0.8,
             "#7fbc41"
            ],
            [
             0.9,
             "#4d9221"
            ],
            [
             1,
             "#276419"
            ]
           ],
           "sequential": [
            [
             0,
             "#0d0887"
            ],
            [
             0.1111111111111111,
             "#46039f"
            ],
            [
             0.2222222222222222,
             "#7201a8"
            ],
            [
             0.3333333333333333,
             "#9c179e"
            ],
            [
             0.4444444444444444,
             "#bd3786"
            ],
            [
             0.5555555555555556,
             "#d8576b"
            ],
            [
             0.6666666666666666,
             "#ed7953"
            ],
            [
             0.7777777777777778,
             "#fb9f3a"
            ],
            [
             0.8888888888888888,
             "#fdca26"
            ],
            [
             1,
             "#f0f921"
            ]
           ],
           "sequentialminus": [
            [
             0,
             "#0d0887"
            ],
            [
             0.1111111111111111,
             "#46039f"
            ],
            [
             0.2222222222222222,
             "#7201a8"
            ],
            [
             0.3333333333333333,
             "#9c179e"
            ],
            [
             0.4444444444444444,
             "#bd3786"
            ],
            [
             0.5555555555555556,
             "#d8576b"
            ],
            [
             0.6666666666666666,
             "#ed7953"
            ],
            [
             0.7777777777777778,
             "#fb9f3a"
            ],
            [
             0.8888888888888888,
             "#fdca26"
            ],
            [
             1,
             "#f0f921"
            ]
           ]
          },
          "colorway": [
           "#636efa",
           "#EF553B",
           "#00cc96",
           "#ab63fa",
           "#FFA15A",
           "#19d3f3",
           "#FF6692",
           "#B6E880",
           "#FF97FF",
           "#FECB52"
          ],
          "font": {
           "color": "#2a3f5f"
          },
          "geo": {
           "bgcolor": "white",
           "lakecolor": "white",
           "landcolor": "#E5ECF6",
           "showlakes": true,
           "showland": true,
           "subunitcolor": "white"
          },
          "hoverlabel": {
           "align": "left"
          },
          "hovermode": "closest",
          "mapbox": {
           "style": "light"
          },
          "paper_bgcolor": "white",
          "plot_bgcolor": "#E5ECF6",
          "polar": {
           "angularaxis": {
            "gridcolor": "white",
            "linecolor": "white",
            "ticks": ""
           },
           "bgcolor": "#E5ECF6",
           "radialaxis": {
            "gridcolor": "white",
            "linecolor": "white",
            "ticks": ""
           }
          },
          "scene": {
           "xaxis": {
            "backgroundcolor": "#E5ECF6",
            "gridcolor": "white",
            "gridwidth": 2,
            "linecolor": "white",
            "showbackground": true,
            "ticks": "",
            "zerolinecolor": "white"
           },
           "yaxis": {
            "backgroundcolor": "#E5ECF6",
            "gridcolor": "white",
            "gridwidth": 2,
            "linecolor": "white",
            "showbackground": true,
            "ticks": "",
            "zerolinecolor": "white"
           },
           "zaxis": {
            "backgroundcolor": "#E5ECF6",
            "gridcolor": "white",
            "gridwidth": 2,
            "linecolor": "white",
            "showbackground": true,
            "ticks": "",
            "zerolinecolor": "white"
           }
          },
          "shapedefaults": {
           "line": {
            "color": "#2a3f5f"
           }
          },
          "ternary": {
           "aaxis": {
            "gridcolor": "white",
            "linecolor": "white",
            "ticks": ""
           },
           "baxis": {
            "gridcolor": "white",
            "linecolor": "white",
            "ticks": ""
           },
           "bgcolor": "#E5ECF6",
           "caxis": {
            "gridcolor": "white",
            "linecolor": "white",
            "ticks": ""
           }
          },
          "title": {
           "x": 0.05
          },
          "xaxis": {
           "automargin": true,
           "gridcolor": "white",
           "linecolor": "white",
           "ticks": "",
           "title": {
            "standoff": 15
           },
           "zerolinecolor": "white",
           "zerolinewidth": 2
          },
          "yaxis": {
           "automargin": true,
           "gridcolor": "white",
           "linecolor": "white",
           "ticks": "",
           "title": {
            "standoff": 15
           },
           "zerolinecolor": "white",
           "zerolinewidth": 2
          }
         }
        },
        "xaxis": {
         "anchor": "y",
         "domain": [
          0,
          1
         ],
         "title": {
          "text": "x"
         }
        },
        "yaxis": {
         "anchor": "x",
         "domain": [
          0,
          1
         ],
         "title": {
          "text": "y"
         }
        }
       }
      }
     },
     "metadata": {},
     "output_type": "display_data"
    }
   ],
   "source": [
    "px.scatter(\n",
    "    x = X_pca[0],\n",
    "    y = X_pca[1],\n",
    "    color = Y_train\n",
    ")"
   ]
  },
  {
   "cell_type": "code",
   "execution_count": null,
   "id": "f76647a7",
   "metadata": {},
   "outputs": [],
   "source": [
    "encoder = sklearn.preprocessing.LabelEncoder()\n",
    "Y_train_enc = encoder.fit_transform(Y_train)   \n",
    "y_true = encoder.transform(Y_test) "
   ]
  },
  {
   "cell_type": "code",
   "execution_count": 214,
   "id": "e61da106",
   "metadata": {},
   "outputs": [
    {
     "name": "stdout",
     "output_type": "stream",
     "text": [
      "1 1.0088138082996694 0.8464204752197049 0.622107969151671\n",
      "2 0.3422695556371649 0.3453194803848668 0.8622842453176643\n",
      "3 0.2625780389276533 0.2694472289529241 0.8968049944913699\n",
      "4 0.24825560044069042 0.25471464650352327 0.9056188027910393\n",
      "5 0.21410209327947116 0.22777125453464886 0.9203084832904884\n",
      "6 0.20969518912963642 0.2188483927997295 0.9232464193903782\n",
      "7 0.2016158648549394 0.21044681286232741 0.9269188395152406\n",
      "8 0.20345207491737055 0.20987859363663502 0.9265515975027543\n",
      "9 0.1990451707675358 0.20970576499454868 0.9269188395152406\n",
      "10 0.20235034887991185 0.20961657725909139 0.9265515975027543\n",
      "11 0.2078589790672053 0.20929675158626695 0.9250826294528094\n",
      "12 0.20639001101726037 0.2090451466366229 0.9258171134777818\n",
      "13 0.20455380095482922 0.2091286372192836 0.9261843554902681\n",
      "14 0.20455380095482922 0.20906512206572556 0.9261843554902681\n",
      "15 0.2027175908923981 0.2091112048623235 0.9265515975027543\n"
     ]
    }
   ],
   "source": [
    "losses = []\n",
    "maes = []\n",
    "accs = []\n",
    "\n",
    "for d in range(1,U.shape[1]):\n",
    "    x_tr = pca.transform(X_train, d)\n",
    "    x_te = pca.transform(X_test, d)\n",
    "    \n",
    "    clf = LogisticRegression(solver='lbfgs', max_iter=1000)\n",
    "    clf.fit(x_tr, Y_train_enc)\n",
    "    \n",
    "    pred_prob = clf.predict_proba(x_te)\n",
    "    pred_class = clf.predict(x_te)            \n",
    "    \n",
    "    losses.append(log_loss(y_true, pred_prob))\n",
    "    maes.append(mean_absolute_error(y_true, pred_class))\n",
    "    accs.append(accuracy_score(y_true, pred_class))\n",
    "    \n",
    "    print(d, maes[d-1], losses[d-1], accs[d-1])"
   ]
  },
  {
   "cell_type": "code",
   "execution_count": 216,
   "id": "13f99c1e",
   "metadata": {},
   "outputs": [
    {
     "data": {
      "application/vnd.plotly.v1+json": {
       "config": {
        "plotlyServerURL": "https://plot.ly"
       },
       "data": [
        {
         "hovertemplate": "x=%{x}<br>y=%{y}<extra></extra>",
         "legendgroup": "",
         "marker": {
          "color": "#636efa",
          "symbol": "circle"
         },
         "mode": "markers",
         "name": "",
         "orientation": "v",
         "showlegend": false,
         "type": "scatter",
         "x": {
          "bdata": "AAECAwQFBgcICQoLDA0O",
          "dtype": "i1"
         },
         "xaxis": "x",
         "y": {
          "bdata": "Gnh3ZOAV6z+OLrvgthnWP8dwFpefPtE/jN4iqT5N0D+Y/JjEmyfNPy6y7WA5A8w/skNl0evvyj+KYOY/Td3KP3KVN3Wj18o/Fn0DTLfUyj85bJxnPMrKP42NGMr9wco/isbBKLrEyj9H1gBbpcLKP90vDu0nxMo/",
          "dtype": "f8"
         },
         "yaxis": "y"
        }
       ],
       "layout": {
        "legend": {
         "tracegroupgap": 0
        },
        "margin": {
         "t": 60
        },
        "template": {
         "data": {
          "bar": [
           {
            "error_x": {
             "color": "#2a3f5f"
            },
            "error_y": {
             "color": "#2a3f5f"
            },
            "marker": {
             "line": {
              "color": "#E5ECF6",
              "width": 0.5
             },
             "pattern": {
              "fillmode": "overlay",
              "size": 10,
              "solidity": 0.2
             }
            },
            "type": "bar"
           }
          ],
          "barpolar": [
           {
            "marker": {
             "line": {
              "color": "#E5ECF6",
              "width": 0.5
             },
             "pattern": {
              "fillmode": "overlay",
              "size": 10,
              "solidity": 0.2
             }
            },
            "type": "barpolar"
           }
          ],
          "carpet": [
           {
            "aaxis": {
             "endlinecolor": "#2a3f5f",
             "gridcolor": "white",
             "linecolor": "white",
             "minorgridcolor": "white",
             "startlinecolor": "#2a3f5f"
            },
            "baxis": {
             "endlinecolor": "#2a3f5f",
             "gridcolor": "white",
             "linecolor": "white",
             "minorgridcolor": "white",
             "startlinecolor": "#2a3f5f"
            },
            "type": "carpet"
           }
          ],
          "choropleth": [
           {
            "colorbar": {
             "outlinewidth": 0,
             "ticks": ""
            },
            "type": "choropleth"
           }
          ],
          "contour": [
           {
            "colorbar": {
             "outlinewidth": 0,
             "ticks": ""
            },
            "colorscale": [
             [
              0,
              "#0d0887"
             ],
             [
              0.1111111111111111,
              "#46039f"
             ],
             [
              0.2222222222222222,
              "#7201a8"
             ],
             [
              0.3333333333333333,
              "#9c179e"
             ],
             [
              0.4444444444444444,
              "#bd3786"
             ],
             [
              0.5555555555555556,
              "#d8576b"
             ],
             [
              0.6666666666666666,
              "#ed7953"
             ],
             [
              0.7777777777777778,
              "#fb9f3a"
             ],
             [
              0.8888888888888888,
              "#fdca26"
             ],
             [
              1,
              "#f0f921"
             ]
            ],
            "type": "contour"
           }
          ],
          "contourcarpet": [
           {
            "colorbar": {
             "outlinewidth": 0,
             "ticks": ""
            },
            "type": "contourcarpet"
           }
          ],
          "heatmap": [
           {
            "colorbar": {
             "outlinewidth": 0,
             "ticks": ""
            },
            "colorscale": [
             [
              0,
              "#0d0887"
             ],
             [
              0.1111111111111111,
              "#46039f"
             ],
             [
              0.2222222222222222,
              "#7201a8"
             ],
             [
              0.3333333333333333,
              "#9c179e"
             ],
             [
              0.4444444444444444,
              "#bd3786"
             ],
             [
              0.5555555555555556,
              "#d8576b"
             ],
             [
              0.6666666666666666,
              "#ed7953"
             ],
             [
              0.7777777777777778,
              "#fb9f3a"
             ],
             [
              0.8888888888888888,
              "#fdca26"
             ],
             [
              1,
              "#f0f921"
             ]
            ],
            "type": "heatmap"
           }
          ],
          "histogram": [
           {
            "marker": {
             "pattern": {
              "fillmode": "overlay",
              "size": 10,
              "solidity": 0.2
             }
            },
            "type": "histogram"
           }
          ],
          "histogram2d": [
           {
            "colorbar": {
             "outlinewidth": 0,
             "ticks": ""
            },
            "colorscale": [
             [
              0,
              "#0d0887"
             ],
             [
              0.1111111111111111,
              "#46039f"
             ],
             [
              0.2222222222222222,
              "#7201a8"
             ],
             [
              0.3333333333333333,
              "#9c179e"
             ],
             [
              0.4444444444444444,
              "#bd3786"
             ],
             [
              0.5555555555555556,
              "#d8576b"
             ],
             [
              0.6666666666666666,
              "#ed7953"
             ],
             [
              0.7777777777777778,
              "#fb9f3a"
             ],
             [
              0.8888888888888888,
              "#fdca26"
             ],
             [
              1,
              "#f0f921"
             ]
            ],
            "type": "histogram2d"
           }
          ],
          "histogram2dcontour": [
           {
            "colorbar": {
             "outlinewidth": 0,
             "ticks": ""
            },
            "colorscale": [
             [
              0,
              "#0d0887"
             ],
             [
              0.1111111111111111,
              "#46039f"
             ],
             [
              0.2222222222222222,
              "#7201a8"
             ],
             [
              0.3333333333333333,
              "#9c179e"
             ],
             [
              0.4444444444444444,
              "#bd3786"
             ],
             [
              0.5555555555555556,
              "#d8576b"
             ],
             [
              0.6666666666666666,
              "#ed7953"
             ],
             [
              0.7777777777777778,
              "#fb9f3a"
             ],
             [
              0.8888888888888888,
              "#fdca26"
             ],
             [
              1,
              "#f0f921"
             ]
            ],
            "type": "histogram2dcontour"
           }
          ],
          "mesh3d": [
           {
            "colorbar": {
             "outlinewidth": 0,
             "ticks": ""
            },
            "type": "mesh3d"
           }
          ],
          "parcoords": [
           {
            "line": {
             "colorbar": {
              "outlinewidth": 0,
              "ticks": ""
             }
            },
            "type": "parcoords"
           }
          ],
          "pie": [
           {
            "automargin": true,
            "type": "pie"
           }
          ],
          "scatter": [
           {
            "fillpattern": {
             "fillmode": "overlay",
             "size": 10,
             "solidity": 0.2
            },
            "type": "scatter"
           }
          ],
          "scatter3d": [
           {
            "line": {
             "colorbar": {
              "outlinewidth": 0,
              "ticks": ""
             }
            },
            "marker": {
             "colorbar": {
              "outlinewidth": 0,
              "ticks": ""
             }
            },
            "type": "scatter3d"
           }
          ],
          "scattercarpet": [
           {
            "marker": {
             "colorbar": {
              "outlinewidth": 0,
              "ticks": ""
             }
            },
            "type": "scattercarpet"
           }
          ],
          "scattergeo": [
           {
            "marker": {
             "colorbar": {
              "outlinewidth": 0,
              "ticks": ""
             }
            },
            "type": "scattergeo"
           }
          ],
          "scattergl": [
           {
            "marker": {
             "colorbar": {
              "outlinewidth": 0,
              "ticks": ""
             }
            },
            "type": "scattergl"
           }
          ],
          "scattermap": [
           {
            "marker": {
             "colorbar": {
              "outlinewidth": 0,
              "ticks": ""
             }
            },
            "type": "scattermap"
           }
          ],
          "scattermapbox": [
           {
            "marker": {
             "colorbar": {
              "outlinewidth": 0,
              "ticks": ""
             }
            },
            "type": "scattermapbox"
           }
          ],
          "scatterpolar": [
           {
            "marker": {
             "colorbar": {
              "outlinewidth": 0,
              "ticks": ""
             }
            },
            "type": "scatterpolar"
           }
          ],
          "scatterpolargl": [
           {
            "marker": {
             "colorbar": {
              "outlinewidth": 0,
              "ticks": ""
             }
            },
            "type": "scatterpolargl"
           }
          ],
          "scatterternary": [
           {
            "marker": {
             "colorbar": {
              "outlinewidth": 0,
              "ticks": ""
             }
            },
            "type": "scatterternary"
           }
          ],
          "surface": [
           {
            "colorbar": {
             "outlinewidth": 0,
             "ticks": ""
            },
            "colorscale": [
             [
              0,
              "#0d0887"
             ],
             [
              0.1111111111111111,
              "#46039f"
             ],
             [
              0.2222222222222222,
              "#7201a8"
             ],
             [
              0.3333333333333333,
              "#9c179e"
             ],
             [
              0.4444444444444444,
              "#bd3786"
             ],
             [
              0.5555555555555556,
              "#d8576b"
             ],
             [
              0.6666666666666666,
              "#ed7953"
             ],
             [
              0.7777777777777778,
              "#fb9f3a"
             ],
             [
              0.8888888888888888,
              "#fdca26"
             ],
             [
              1,
              "#f0f921"
             ]
            ],
            "type": "surface"
           }
          ],
          "table": [
           {
            "cells": {
             "fill": {
              "color": "#EBF0F8"
             },
             "line": {
              "color": "white"
             }
            },
            "header": {
             "fill": {
              "color": "#C8D4E3"
             },
             "line": {
              "color": "white"
             }
            },
            "type": "table"
           }
          ]
         },
         "layout": {
          "annotationdefaults": {
           "arrowcolor": "#2a3f5f",
           "arrowhead": 0,
           "arrowwidth": 1
          },
          "autotypenumbers": "strict",
          "coloraxis": {
           "colorbar": {
            "outlinewidth": 0,
            "ticks": ""
           }
          },
          "colorscale": {
           "diverging": [
            [
             0,
             "#8e0152"
            ],
            [
             0.1,
             "#c51b7d"
            ],
            [
             0.2,
             "#de77ae"
            ],
            [
             0.3,
             "#f1b6da"
            ],
            [
             0.4,
             "#fde0ef"
            ],
            [
             0.5,
             "#f7f7f7"
            ],
            [
             0.6,
             "#e6f5d0"
            ],
            [
             0.7,
             "#b8e186"
            ],
            [
             0.8,
             "#7fbc41"
            ],
            [
             0.9,
             "#4d9221"
            ],
            [
             1,
             "#276419"
            ]
           ],
           "sequential": [
            [
             0,
             "#0d0887"
            ],
            [
             0.1111111111111111,
             "#46039f"
            ],
            [
             0.2222222222222222,
             "#7201a8"
            ],
            [
             0.3333333333333333,
             "#9c179e"
            ],
            [
             0.4444444444444444,
             "#bd3786"
            ],
            [
             0.5555555555555556,
             "#d8576b"
            ],
            [
             0.6666666666666666,
             "#ed7953"
            ],
            [
             0.7777777777777778,
             "#fb9f3a"
            ],
            [
             0.8888888888888888,
             "#fdca26"
            ],
            [
             1,
             "#f0f921"
            ]
           ],
           "sequentialminus": [
            [
             0,
             "#0d0887"
            ],
            [
             0.1111111111111111,
             "#46039f"
            ],
            [
             0.2222222222222222,
             "#7201a8"
            ],
            [
             0.3333333333333333,
             "#9c179e"
            ],
            [
             0.4444444444444444,
             "#bd3786"
            ],
            [
             0.5555555555555556,
             "#d8576b"
            ],
            [
             0.6666666666666666,
             "#ed7953"
            ],
            [
             0.7777777777777778,
             "#fb9f3a"
            ],
            [
             0.8888888888888888,
             "#fdca26"
            ],
            [
             1,
             "#f0f921"
            ]
           ]
          },
          "colorway": [
           "#636efa",
           "#EF553B",
           "#00cc96",
           "#ab63fa",
           "#FFA15A",
           "#19d3f3",
           "#FF6692",
           "#B6E880",
           "#FF97FF",
           "#FECB52"
          ],
          "font": {
           "color": "#2a3f5f"
          },
          "geo": {
           "bgcolor": "white",
           "lakecolor": "white",
           "landcolor": "#E5ECF6",
           "showlakes": true,
           "showland": true,
           "subunitcolor": "white"
          },
          "hoverlabel": {
           "align": "left"
          },
          "hovermode": "closest",
          "mapbox": {
           "style": "light"
          },
          "paper_bgcolor": "white",
          "plot_bgcolor": "#E5ECF6",
          "polar": {
           "angularaxis": {
            "gridcolor": "white",
            "linecolor": "white",
            "ticks": ""
           },
           "bgcolor": "#E5ECF6",
           "radialaxis": {
            "gridcolor": "white",
            "linecolor": "white",
            "ticks": ""
           }
          },
          "scene": {
           "xaxis": {
            "backgroundcolor": "#E5ECF6",
            "gridcolor": "white",
            "gridwidth": 2,
            "linecolor": "white",
            "showbackground": true,
            "ticks": "",
            "zerolinecolor": "white"
           },
           "yaxis": {
            "backgroundcolor": "#E5ECF6",
            "gridcolor": "white",
            "gridwidth": 2,
            "linecolor": "white",
            "showbackground": true,
            "ticks": "",
            "zerolinecolor": "white"
           },
           "zaxis": {
            "backgroundcolor": "#E5ECF6",
            "gridcolor": "white",
            "gridwidth": 2,
            "linecolor": "white",
            "showbackground": true,
            "ticks": "",
            "zerolinecolor": "white"
           }
          },
          "shapedefaults": {
           "line": {
            "color": "#2a3f5f"
           }
          },
          "ternary": {
           "aaxis": {
            "gridcolor": "white",
            "linecolor": "white",
            "ticks": ""
           },
           "baxis": {
            "gridcolor": "white",
            "linecolor": "white",
            "ticks": ""
           },
           "bgcolor": "#E5ECF6",
           "caxis": {
            "gridcolor": "white",
            "linecolor": "white",
            "ticks": ""
           }
          },
          "title": {
           "x": 0.05
          },
          "xaxis": {
           "automargin": true,
           "gridcolor": "white",
           "linecolor": "white",
           "ticks": "",
           "title": {
            "standoff": 15
           },
           "zerolinecolor": "white",
           "zerolinewidth": 2
          },
          "yaxis": {
           "automargin": true,
           "gridcolor": "white",
           "linecolor": "white",
           "ticks": "",
           "title": {
            "standoff": 15
           },
           "zerolinecolor": "white",
           "zerolinewidth": 2
          }
         }
        },
        "xaxis": {
         "anchor": "y",
         "domain": [
          0,
          1
         ],
         "title": {
          "text": "x"
         }
        },
        "yaxis": {
         "anchor": "x",
         "domain": [
          0,
          1
         ],
         "title": {
          "text": "y"
         }
        }
       }
      }
     },
     "metadata": {},
     "output_type": "display_data"
    }
   ],
   "source": [
    "px.scatter(\n",
    "    x = np.arange(0, 15, 1),\n",
    "    y = losses\n",
    ")"
   ]
  },
  {
   "cell_type": "code",
   "execution_count": 217,
   "id": "7dc07714",
   "metadata": {},
   "outputs": [
    {
     "data": {
      "application/vnd.plotly.v1+json": {
       "config": {
        "plotlyServerURL": "https://plot.ly"
       },
       "data": [
        {
         "hovertemplate": "x=%{x}<br>y=%{y}<extra></extra>",
         "legendgroup": "",
         "marker": {
          "color": "#636efa",
          "symbol": "circle"
         },
         "mode": "markers",
         "name": "",
         "orientation": "v",
         "showlegend": false,
         "type": "scatter",
         "x": {
          "bdata": "AAECAwQFBgcICQoLDA0O",
          "dtype": "i1"
         },
         "xaxis": "x",
         "y": {
          "bdata": "mmem8hkk8D9kMviQvufVP7zkdR4UztA/oYZ46tbGzz/s+lGIsmfLP4JcuL1K18o/aw/0dIzOyT/CZgm0twrKP1jIb+lPesk/J/9iwZ3myT8sBaN+H5vKP7MlxeX8aso/XM6vptEuyj9czq+m0S7KPwZ3mmem8sk/",
          "dtype": "f8"
         },
         "yaxis": "y"
        }
       ],
       "layout": {
        "legend": {
         "tracegroupgap": 0
        },
        "margin": {
         "t": 60
        },
        "template": {
         "data": {
          "bar": [
           {
            "error_x": {
             "color": "#2a3f5f"
            },
            "error_y": {
             "color": "#2a3f5f"
            },
            "marker": {
             "line": {
              "color": "#E5ECF6",
              "width": 0.5
             },
             "pattern": {
              "fillmode": "overlay",
              "size": 10,
              "solidity": 0.2
             }
            },
            "type": "bar"
           }
          ],
          "barpolar": [
           {
            "marker": {
             "line": {
              "color": "#E5ECF6",
              "width": 0.5
             },
             "pattern": {
              "fillmode": "overlay",
              "size": 10,
              "solidity": 0.2
             }
            },
            "type": "barpolar"
           }
          ],
          "carpet": [
           {
            "aaxis": {
             "endlinecolor": "#2a3f5f",
             "gridcolor": "white",
             "linecolor": "white",
             "minorgridcolor": "white",
             "startlinecolor": "#2a3f5f"
            },
            "baxis": {
             "endlinecolor": "#2a3f5f",
             "gridcolor": "white",
             "linecolor": "white",
             "minorgridcolor": "white",
             "startlinecolor": "#2a3f5f"
            },
            "type": "carpet"
           }
          ],
          "choropleth": [
           {
            "colorbar": {
             "outlinewidth": 0,
             "ticks": ""
            },
            "type": "choropleth"
           }
          ],
          "contour": [
           {
            "colorbar": {
             "outlinewidth": 0,
             "ticks": ""
            },
            "colorscale": [
             [
              0,
              "#0d0887"
             ],
             [
              0.1111111111111111,
              "#46039f"
             ],
             [
              0.2222222222222222,
              "#7201a8"
             ],
             [
              0.3333333333333333,
              "#9c179e"
             ],
             [
              0.4444444444444444,
              "#bd3786"
             ],
             [
              0.5555555555555556,
              "#d8576b"
             ],
             [
              0.6666666666666666,
              "#ed7953"
             ],
             [
              0.7777777777777778,
              "#fb9f3a"
             ],
             [
              0.8888888888888888,
              "#fdca26"
             ],
             [
              1,
              "#f0f921"
             ]
            ],
            "type": "contour"
           }
          ],
          "contourcarpet": [
           {
            "colorbar": {
             "outlinewidth": 0,
             "ticks": ""
            },
            "type": "contourcarpet"
           }
          ],
          "heatmap": [
           {
            "colorbar": {
             "outlinewidth": 0,
             "ticks": ""
            },
            "colorscale": [
             [
              0,
              "#0d0887"
             ],
             [
              0.1111111111111111,
              "#46039f"
             ],
             [
              0.2222222222222222,
              "#7201a8"
             ],
             [
              0.3333333333333333,
              "#9c179e"
             ],
             [
              0.4444444444444444,
              "#bd3786"
             ],
             [
              0.5555555555555556,
              "#d8576b"
             ],
             [
              0.6666666666666666,
              "#ed7953"
             ],
             [
              0.7777777777777778,
              "#fb9f3a"
             ],
             [
              0.8888888888888888,
              "#fdca26"
             ],
             [
              1,
              "#f0f921"
             ]
            ],
            "type": "heatmap"
           }
          ],
          "histogram": [
           {
            "marker": {
             "pattern": {
              "fillmode": "overlay",
              "size": 10,
              "solidity": 0.2
             }
            },
            "type": "histogram"
           }
          ],
          "histogram2d": [
           {
            "colorbar": {
             "outlinewidth": 0,
             "ticks": ""
            },
            "colorscale": [
             [
              0,
              "#0d0887"
             ],
             [
              0.1111111111111111,
              "#46039f"
             ],
             [
              0.2222222222222222,
              "#7201a8"
             ],
             [
              0.3333333333333333,
              "#9c179e"
             ],
             [
              0.4444444444444444,
              "#bd3786"
             ],
             [
              0.5555555555555556,
              "#d8576b"
             ],
             [
              0.6666666666666666,
              "#ed7953"
             ],
             [
              0.7777777777777778,
              "#fb9f3a"
             ],
             [
              0.8888888888888888,
              "#fdca26"
             ],
             [
              1,
              "#f0f921"
             ]
            ],
            "type": "histogram2d"
           }
          ],
          "histogram2dcontour": [
           {
            "colorbar": {
             "outlinewidth": 0,
             "ticks": ""
            },
            "colorscale": [
             [
              0,
              "#0d0887"
             ],
             [
              0.1111111111111111,
              "#46039f"
             ],
             [
              0.2222222222222222,
              "#7201a8"
             ],
             [
              0.3333333333333333,
              "#9c179e"
             ],
             [
              0.4444444444444444,
              "#bd3786"
             ],
             [
              0.5555555555555556,
              "#d8576b"
             ],
             [
              0.6666666666666666,
              "#ed7953"
             ],
             [
              0.7777777777777778,
              "#fb9f3a"
             ],
             [
              0.8888888888888888,
              "#fdca26"
             ],
             [
              1,
              "#f0f921"
             ]
            ],
            "type": "histogram2dcontour"
           }
          ],
          "mesh3d": [
           {
            "colorbar": {
             "outlinewidth": 0,
             "ticks": ""
            },
            "type": "mesh3d"
           }
          ],
          "parcoords": [
           {
            "line": {
             "colorbar": {
              "outlinewidth": 0,
              "ticks": ""
             }
            },
            "type": "parcoords"
           }
          ],
          "pie": [
           {
            "automargin": true,
            "type": "pie"
           }
          ],
          "scatter": [
           {
            "fillpattern": {
             "fillmode": "overlay",
             "size": 10,
             "solidity": 0.2
            },
            "type": "scatter"
           }
          ],
          "scatter3d": [
           {
            "line": {
             "colorbar": {
              "outlinewidth": 0,
              "ticks": ""
             }
            },
            "marker": {
             "colorbar": {
              "outlinewidth": 0,
              "ticks": ""
             }
            },
            "type": "scatter3d"
           }
          ],
          "scattercarpet": [
           {
            "marker": {
             "colorbar": {
              "outlinewidth": 0,
              "ticks": ""
             }
            },
            "type": "scattercarpet"
           }
          ],
          "scattergeo": [
           {
            "marker": {
             "colorbar": {
              "outlinewidth": 0,
              "ticks": ""
             }
            },
            "type": "scattergeo"
           }
          ],
          "scattergl": [
           {
            "marker": {
             "colorbar": {
              "outlinewidth": 0,
              "ticks": ""
             }
            },
            "type": "scattergl"
           }
          ],
          "scattermap": [
           {
            "marker": {
             "colorbar": {
              "outlinewidth": 0,
              "ticks": ""
             }
            },
            "type": "scattermap"
           }
          ],
          "scattermapbox": [
           {
            "marker": {
             "colorbar": {
              "outlinewidth": 0,
              "ticks": ""
             }
            },
            "type": "scattermapbox"
           }
          ],
          "scatterpolar": [
           {
            "marker": {
             "colorbar": {
              "outlinewidth": 0,
              "ticks": ""
             }
            },
            "type": "scatterpolar"
           }
          ],
          "scatterpolargl": [
           {
            "marker": {
             "colorbar": {
              "outlinewidth": 0,
              "ticks": ""
             }
            },
            "type": "scatterpolargl"
           }
          ],
          "scatterternary": [
           {
            "marker": {
             "colorbar": {
              "outlinewidth": 0,
              "ticks": ""
             }
            },
            "type": "scatterternary"
           }
          ],
          "surface": [
           {
            "colorbar": {
             "outlinewidth": 0,
             "ticks": ""
            },
            "colorscale": [
             [
              0,
              "#0d0887"
             ],
             [
              0.1111111111111111,
              "#46039f"
             ],
             [
              0.2222222222222222,
              "#7201a8"
             ],
             [
              0.3333333333333333,
              "#9c179e"
             ],
             [
              0.4444444444444444,
              "#bd3786"
             ],
             [
              0.5555555555555556,
              "#d8576b"
             ],
             [
              0.6666666666666666,
              "#ed7953"
             ],
             [
              0.7777777777777778,
              "#fb9f3a"
             ],
             [
              0.8888888888888888,
              "#fdca26"
             ],
             [
              1,
              "#f0f921"
             ]
            ],
            "type": "surface"
           }
          ],
          "table": [
           {
            "cells": {
             "fill": {
              "color": "#EBF0F8"
             },
             "line": {
              "color": "white"
             }
            },
            "header": {
             "fill": {
              "color": "#C8D4E3"
             },
             "line": {
              "color": "white"
             }
            },
            "type": "table"
           }
          ]
         },
         "layout": {
          "annotationdefaults": {
           "arrowcolor": "#2a3f5f",
           "arrowhead": 0,
           "arrowwidth": 1
          },
          "autotypenumbers": "strict",
          "coloraxis": {
           "colorbar": {
            "outlinewidth": 0,
            "ticks": ""
           }
          },
          "colorscale": {
           "diverging": [
            [
             0,
             "#8e0152"
            ],
            [
             0.1,
             "#c51b7d"
            ],
            [
             0.2,
             "#de77ae"
            ],
            [
             0.3,
             "#f1b6da"
            ],
            [
             0.4,
             "#fde0ef"
            ],
            [
             0.5,
             "#f7f7f7"
            ],
            [
             0.6,
             "#e6f5d0"
            ],
            [
             0.7,
             "#b8e186"
            ],
            [
             0.8,
             "#7fbc41"
            ],
            [
             0.9,
             "#4d9221"
            ],
            [
             1,
             "#276419"
            ]
           ],
           "sequential": [
            [
             0,
             "#0d0887"
            ],
            [
             0.1111111111111111,
             "#46039f"
            ],
            [
             0.2222222222222222,
             "#7201a8"
            ],
            [
             0.3333333333333333,
             "#9c179e"
            ],
            [
             0.4444444444444444,
             "#bd3786"
            ],
            [
             0.5555555555555556,
             "#d8576b"
            ],
            [
             0.6666666666666666,
             "#ed7953"
            ],
            [
             0.7777777777777778,
             "#fb9f3a"
            ],
            [
             0.8888888888888888,
             "#fdca26"
            ],
            [
             1,
             "#f0f921"
            ]
           ],
           "sequentialminus": [
            [
             0,
             "#0d0887"
            ],
            [
             0.1111111111111111,
             "#46039f"
            ],
            [
             0.2222222222222222,
             "#7201a8"
            ],
            [
             0.3333333333333333,
             "#9c179e"
            ],
            [
             0.4444444444444444,
             "#bd3786"
            ],
            [
             0.5555555555555556,
             "#d8576b"
            ],
            [
             0.6666666666666666,
             "#ed7953"
            ],
            [
             0.7777777777777778,
             "#fb9f3a"
            ],
            [
             0.8888888888888888,
             "#fdca26"
            ],
            [
             1,
             "#f0f921"
            ]
           ]
          },
          "colorway": [
           "#636efa",
           "#EF553B",
           "#00cc96",
           "#ab63fa",
           "#FFA15A",
           "#19d3f3",
           "#FF6692",
           "#B6E880",
           "#FF97FF",
           "#FECB52"
          ],
          "font": {
           "color": "#2a3f5f"
          },
          "geo": {
           "bgcolor": "white",
           "lakecolor": "white",
           "landcolor": "#E5ECF6",
           "showlakes": true,
           "showland": true,
           "subunitcolor": "white"
          },
          "hoverlabel": {
           "align": "left"
          },
          "hovermode": "closest",
          "mapbox": {
           "style": "light"
          },
          "paper_bgcolor": "white",
          "plot_bgcolor": "#E5ECF6",
          "polar": {
           "angularaxis": {
            "gridcolor": "white",
            "linecolor": "white",
            "ticks": ""
           },
           "bgcolor": "#E5ECF6",
           "radialaxis": {
            "gridcolor": "white",
            "linecolor": "white",
            "ticks": ""
           }
          },
          "scene": {
           "xaxis": {
            "backgroundcolor": "#E5ECF6",
            "gridcolor": "white",
            "gridwidth": 2,
            "linecolor": "white",
            "showbackground": true,
            "ticks": "",
            "zerolinecolor": "white"
           },
           "yaxis": {
            "backgroundcolor": "#E5ECF6",
            "gridcolor": "white",
            "gridwidth": 2,
            "linecolor": "white",
            "showbackground": true,
            "ticks": "",
            "zerolinecolor": "white"
           },
           "zaxis": {
            "backgroundcolor": "#E5ECF6",
            "gridcolor": "white",
            "gridwidth": 2,
            "linecolor": "white",
            "showbackground": true,
            "ticks": "",
            "zerolinecolor": "white"
           }
          },
          "shapedefaults": {
           "line": {
            "color": "#2a3f5f"
           }
          },
          "ternary": {
           "aaxis": {
            "gridcolor": "white",
            "linecolor": "white",
            "ticks": ""
           },
           "baxis": {
            "gridcolor": "white",
            "linecolor": "white",
            "ticks": ""
           },
           "bgcolor": "#E5ECF6",
           "caxis": {
            "gridcolor": "white",
            "linecolor": "white",
            "ticks": ""
           }
          },
          "title": {
           "x": 0.05
          },
          "xaxis": {
           "automargin": true,
           "gridcolor": "white",
           "linecolor": "white",
           "ticks": "",
           "title": {
            "standoff": 15
           },
           "zerolinecolor": "white",
           "zerolinewidth": 2
          },
          "yaxis": {
           "automargin": true,
           "gridcolor": "white",
           "linecolor": "white",
           "ticks": "",
           "title": {
            "standoff": 15
           },
           "zerolinecolor": "white",
           "zerolinewidth": 2
          }
         }
        },
        "xaxis": {
         "anchor": "y",
         "domain": [
          0,
          1
         ],
         "title": {
          "text": "x"
         }
        },
        "yaxis": {
         "anchor": "x",
         "domain": [
          0,
          1
         ],
         "title": {
          "text": "y"
         }
        }
       }
      }
     },
     "metadata": {},
     "output_type": "display_data"
    }
   ],
   "source": [
    "px.scatter(\n",
    "    x = np.arange(0, 15, 1),\n",
    "    y = maes\n",
    ")"
   ]
  }
 ],
 "metadata": {
  "kernelspec": {
   "display_name": "Python 3",
   "language": "python",
   "name": "python3"
  },
  "language_info": {
   "codemirror_mode": {
    "name": "ipython",
    "version": 3
   },
   "file_extension": ".py",
   "mimetype": "text/x-python",
   "name": "python",
   "nbconvert_exporter": "python",
   "pygments_lexer": "ipython3",
   "version": "3.13.7"
  }
 },
 "nbformat": 4,
 "nbformat_minor": 5
}
