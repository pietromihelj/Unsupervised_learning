{
 "cells": [
  {
   "cell_type": "code",
   "execution_count": 24,
   "id": "292fa859",
   "metadata": {},
   "outputs": [],
   "source": [
    "import numpy as np\n",
    "import pandas as pd\n",
    "import plotly_express as px\n",
    "from sklearn.preprocessing import LabelEncoder\n",
    "from sklearn.linear_model import LogisticRegression\n",
    "from sklearn.metrics import log_loss, mean_absolute_error, accuracy_score\n",
    "from sklearn.model_selection import train_test_split"
   ]
  },
  {
   "cell_type": "code",
   "execution_count": 2,
   "id": "375a9e9d",
   "metadata": {},
   "outputs": [],
   "source": [
    "bean_df = pd.read_excel(\"./Datasets/Dry_Bean_Dataset.xlsx\")"
   ]
  },
  {
   "cell_type": "code",
   "execution_count": 3,
   "id": "4a23ca77",
   "metadata": {},
   "outputs": [
    {
     "data": {
      "text/html": [
       "<div>\n",
       "<style scoped>\n",
       "    .dataframe tbody tr th:only-of-type {\n",
       "        vertical-align: middle;\n",
       "    }\n",
       "\n",
       "    .dataframe tbody tr th {\n",
       "        vertical-align: top;\n",
       "    }\n",
       "\n",
       "    .dataframe thead th {\n",
       "        text-align: right;\n",
       "    }\n",
       "</style>\n",
       "<table border=\"1\" class=\"dataframe\">\n",
       "  <thead>\n",
       "    <tr style=\"text-align: right;\">\n",
       "      <th></th>\n",
       "      <th>Area</th>\n",
       "      <th>Perimeter</th>\n",
       "      <th>MajorAxisLength</th>\n",
       "      <th>MinorAxisLength</th>\n",
       "      <th>AspectRation</th>\n",
       "      <th>Eccentricity</th>\n",
       "      <th>ConvexArea</th>\n",
       "      <th>EquivDiameter</th>\n",
       "      <th>Extent</th>\n",
       "      <th>Solidity</th>\n",
       "      <th>roundness</th>\n",
       "      <th>Compactness</th>\n",
       "      <th>ShapeFactor1</th>\n",
       "      <th>ShapeFactor2</th>\n",
       "      <th>ShapeFactor3</th>\n",
       "      <th>ShapeFactor4</th>\n",
       "      <th>Class</th>\n",
       "    </tr>\n",
       "  </thead>\n",
       "  <tbody>\n",
       "    <tr>\n",
       "      <th>0</th>\n",
       "      <td>28395</td>\n",
       "      <td>610.291</td>\n",
       "      <td>208.178117</td>\n",
       "      <td>173.888747</td>\n",
       "      <td>1.197191</td>\n",
       "      <td>0.549812</td>\n",
       "      <td>28715</td>\n",
       "      <td>190.141097</td>\n",
       "      <td>0.763923</td>\n",
       "      <td>0.988856</td>\n",
       "      <td>0.958027</td>\n",
       "      <td>0.913358</td>\n",
       "      <td>0.007332</td>\n",
       "      <td>0.003147</td>\n",
       "      <td>0.834222</td>\n",
       "      <td>0.998724</td>\n",
       "      <td>SEKER</td>\n",
       "    </tr>\n",
       "    <tr>\n",
       "      <th>1</th>\n",
       "      <td>28734</td>\n",
       "      <td>638.018</td>\n",
       "      <td>200.524796</td>\n",
       "      <td>182.734419</td>\n",
       "      <td>1.097356</td>\n",
       "      <td>0.411785</td>\n",
       "      <td>29172</td>\n",
       "      <td>191.272750</td>\n",
       "      <td>0.783968</td>\n",
       "      <td>0.984986</td>\n",
       "      <td>0.887034</td>\n",
       "      <td>0.953861</td>\n",
       "      <td>0.006979</td>\n",
       "      <td>0.003564</td>\n",
       "      <td>0.909851</td>\n",
       "      <td>0.998430</td>\n",
       "      <td>SEKER</td>\n",
       "    </tr>\n",
       "    <tr>\n",
       "      <th>2</th>\n",
       "      <td>29380</td>\n",
       "      <td>624.110</td>\n",
       "      <td>212.826130</td>\n",
       "      <td>175.931143</td>\n",
       "      <td>1.209713</td>\n",
       "      <td>0.562727</td>\n",
       "      <td>29690</td>\n",
       "      <td>193.410904</td>\n",
       "      <td>0.778113</td>\n",
       "      <td>0.989559</td>\n",
       "      <td>0.947849</td>\n",
       "      <td>0.908774</td>\n",
       "      <td>0.007244</td>\n",
       "      <td>0.003048</td>\n",
       "      <td>0.825871</td>\n",
       "      <td>0.999066</td>\n",
       "      <td>SEKER</td>\n",
       "    </tr>\n",
       "    <tr>\n",
       "      <th>3</th>\n",
       "      <td>30008</td>\n",
       "      <td>645.884</td>\n",
       "      <td>210.557999</td>\n",
       "      <td>182.516516</td>\n",
       "      <td>1.153638</td>\n",
       "      <td>0.498616</td>\n",
       "      <td>30724</td>\n",
       "      <td>195.467062</td>\n",
       "      <td>0.782681</td>\n",
       "      <td>0.976696</td>\n",
       "      <td>0.903936</td>\n",
       "      <td>0.928329</td>\n",
       "      <td>0.007017</td>\n",
       "      <td>0.003215</td>\n",
       "      <td>0.861794</td>\n",
       "      <td>0.994199</td>\n",
       "      <td>SEKER</td>\n",
       "    </tr>\n",
       "    <tr>\n",
       "      <th>4</th>\n",
       "      <td>30140</td>\n",
       "      <td>620.134</td>\n",
       "      <td>201.847882</td>\n",
       "      <td>190.279279</td>\n",
       "      <td>1.060798</td>\n",
       "      <td>0.333680</td>\n",
       "      <td>30417</td>\n",
       "      <td>195.896503</td>\n",
       "      <td>0.773098</td>\n",
       "      <td>0.990893</td>\n",
       "      <td>0.984877</td>\n",
       "      <td>0.970516</td>\n",
       "      <td>0.006697</td>\n",
       "      <td>0.003665</td>\n",
       "      <td>0.941900</td>\n",
       "      <td>0.999166</td>\n",
       "      <td>SEKER</td>\n",
       "    </tr>\n",
       "  </tbody>\n",
       "</table>\n",
       "</div>"
      ],
      "text/plain": [
       "    Area  Perimeter  MajorAxisLength  MinorAxisLength  AspectRation  \\\n",
       "0  28395    610.291       208.178117       173.888747      1.197191   \n",
       "1  28734    638.018       200.524796       182.734419      1.097356   \n",
       "2  29380    624.110       212.826130       175.931143      1.209713   \n",
       "3  30008    645.884       210.557999       182.516516      1.153638   \n",
       "4  30140    620.134       201.847882       190.279279      1.060798   \n",
       "\n",
       "   Eccentricity  ConvexArea  EquivDiameter    Extent  Solidity  roundness  \\\n",
       "0      0.549812       28715     190.141097  0.763923  0.988856   0.958027   \n",
       "1      0.411785       29172     191.272750  0.783968  0.984986   0.887034   \n",
       "2      0.562727       29690     193.410904  0.778113  0.989559   0.947849   \n",
       "3      0.498616       30724     195.467062  0.782681  0.976696   0.903936   \n",
       "4      0.333680       30417     195.896503  0.773098  0.990893   0.984877   \n",
       "\n",
       "   Compactness  ShapeFactor1  ShapeFactor2  ShapeFactor3  ShapeFactor4  Class  \n",
       "0     0.913358      0.007332      0.003147      0.834222      0.998724  SEKER  \n",
       "1     0.953861      0.006979      0.003564      0.909851      0.998430  SEKER  \n",
       "2     0.908774      0.007244      0.003048      0.825871      0.999066  SEKER  \n",
       "3     0.928329      0.007017      0.003215      0.861794      0.994199  SEKER  \n",
       "4     0.970516      0.006697      0.003665      0.941900      0.999166  SEKER  "
      ]
     },
     "execution_count": 3,
     "metadata": {},
     "output_type": "execute_result"
    }
   ],
   "source": [
    "bean_df.head()"
   ]
  },
  {
   "cell_type": "code",
   "execution_count": 4,
   "id": "f5c3ae4f",
   "metadata": {},
   "outputs": [],
   "source": [
    "X_train, X_test, Y_train, Y_test = train_test_split(bean_df.iloc[:,:-1], bean_df.iloc[:,-1], shuffle = True, test_size = 0.2, random_state = 42)    "
   ]
  },
  {
   "cell_type": "code",
   "execution_count": 5,
   "id": "4dd0039a",
   "metadata": {},
   "outputs": [],
   "source": [
    "def preprocessor(X):\n",
    "    centered_x = X-np.nanmean(X, axis=0)\n",
    "    return centered_x/np.nanstd(X,axis=0)"
   ]
  },
  {
   "cell_type": "code",
   "execution_count": 6,
   "id": "b522308c",
   "metadata": {},
   "outputs": [],
   "source": [
    "X_train = preprocessor(X_train)\n",
    "X_test = preprocessor(X_test)"
   ]
  },
  {
   "cell_type": "code",
   "execution_count": 8,
   "id": "e367bbef",
   "metadata": {},
   "outputs": [
    {
     "data": {
      "text/html": [
       "<div>\n",
       "<style scoped>\n",
       "    .dataframe tbody tr th:only-of-type {\n",
       "        vertical-align: middle;\n",
       "    }\n",
       "\n",
       "    .dataframe tbody tr th {\n",
       "        vertical-align: top;\n",
       "    }\n",
       "\n",
       "    .dataframe thead th {\n",
       "        text-align: right;\n",
       "    }\n",
       "</style>\n",
       "<table border=\"1\" class=\"dataframe\">\n",
       "  <thead>\n",
       "    <tr style=\"text-align: right;\">\n",
       "      <th></th>\n",
       "      <th>Area</th>\n",
       "      <th>Perimeter</th>\n",
       "      <th>MajorAxisLength</th>\n",
       "      <th>MinorAxisLength</th>\n",
       "      <th>AspectRation</th>\n",
       "      <th>Eccentricity</th>\n",
       "      <th>ConvexArea</th>\n",
       "      <th>EquivDiameter</th>\n",
       "      <th>Extent</th>\n",
       "      <th>Solidity</th>\n",
       "      <th>roundness</th>\n",
       "      <th>Compactness</th>\n",
       "      <th>ShapeFactor1</th>\n",
       "      <th>ShapeFactor2</th>\n",
       "      <th>ShapeFactor3</th>\n",
       "      <th>ShapeFactor4</th>\n",
       "    </tr>\n",
       "  </thead>\n",
       "  <tbody>\n",
       "    <tr>\n",
       "      <th>11073</th>\n",
       "      <td>-0.820047</td>\n",
       "      <td>-1.022026</td>\n",
       "      <td>-0.991690</td>\n",
       "      <td>-0.986587</td>\n",
       "      <td>-0.386834</td>\n",
       "      <td>-0.114146</td>\n",
       "      <td>-0.817952</td>\n",
       "      <td>-1.026081</td>\n",
       "      <td>-1.142598</td>\n",
       "      <td>-0.255293</td>\n",
       "      <td>0.485739</td>\n",
       "      <td>0.300833</td>\n",
       "      <td>1.344814</td>\n",
       "      <td>0.874096</td>\n",
       "      <td>0.265084</td>\n",
       "      <td>0.343163</td>\n",
       "    </tr>\n",
       "    <tr>\n",
       "      <th>13172</th>\n",
       "      <td>-0.509360</td>\n",
       "      <td>-0.464104</td>\n",
       "      <td>-0.569411</td>\n",
       "      <td>-0.499274</td>\n",
       "      <td>-0.303117</td>\n",
       "      <td>-0.024436</td>\n",
       "      <td>-0.504787</td>\n",
       "      <td>-0.552768</td>\n",
       "      <td>-0.881431</td>\n",
       "      <td>-0.707602</td>\n",
       "      <td>-0.572573</td>\n",
       "      <td>0.201238</td>\n",
       "      <td>0.485672</td>\n",
       "      <td>0.325515</td>\n",
       "      <td>0.163840</td>\n",
       "      <td>0.047028</td>\n",
       "    </tr>\n",
       "    <tr>\n",
       "      <th>11587</th>\n",
       "      <td>-0.754808</td>\n",
       "      <td>-0.950784</td>\n",
       "      <td>-1.049111</td>\n",
       "      <td>-0.675438</td>\n",
       "      <td>-0.990099</td>\n",
       "      <td>-0.933914</td>\n",
       "      <td>-0.755903</td>\n",
       "      <td>-0.921189</td>\n",
       "      <td>-0.322672</td>\n",
       "      <td>0.366882</td>\n",
       "      <td>0.729400</td>\n",
       "      <td>1.018143</td>\n",
       "      <td>0.765749</td>\n",
       "      <td>1.380299</td>\n",
       "      <td>1.016786</td>\n",
       "      <td>0.343229</td>\n",
       "    </tr>\n",
       "    <tr>\n",
       "      <th>12492</th>\n",
       "      <td>-0.630051</td>\n",
       "      <td>-0.791632</td>\n",
       "      <td>-0.781352</td>\n",
       "      <td>-0.614749</td>\n",
       "      <td>-0.543065</td>\n",
       "      <td>-0.294930</td>\n",
       "      <td>-0.632110</td>\n",
       "      <td>-0.729173</td>\n",
       "      <td>0.711150</td>\n",
       "      <td>0.450732</td>\n",
       "      <td>0.870363</td>\n",
       "      <td>0.478205</td>\n",
       "      <td>0.661370</td>\n",
       "      <td>0.701300</td>\n",
       "      <td>0.447282</td>\n",
       "      <td>0.419378</td>\n",
       "    </tr>\n",
       "    <tr>\n",
       "      <th>430</th>\n",
       "      <td>-0.583008</td>\n",
       "      <td>-0.675816</td>\n",
       "      <td>-0.797069</td>\n",
       "      <td>-0.448624</td>\n",
       "      <td>-0.812464</td>\n",
       "      <td>-0.655052</td>\n",
       "      <td>-0.584080</td>\n",
       "      <td>-0.659398</td>\n",
       "      <td>0.920037</td>\n",
       "      <td>0.245241</td>\n",
       "      <td>0.380612</td>\n",
       "      <td>0.814347</td>\n",
       "      <td>0.381755</td>\n",
       "      <td>0.902884</td>\n",
       "      <td>0.799199</td>\n",
       "      <td>0.989399</td>\n",
       "    </tr>\n",
       "  </tbody>\n",
       "</table>\n",
       "</div>"
      ],
      "text/plain": [
       "           Area  Perimeter  MajorAxisLength  MinorAxisLength  AspectRation  \\\n",
       "11073 -0.820047  -1.022026        -0.991690        -0.986587     -0.386834   \n",
       "13172 -0.509360  -0.464104        -0.569411        -0.499274     -0.303117   \n",
       "11587 -0.754808  -0.950784        -1.049111        -0.675438     -0.990099   \n",
       "12492 -0.630051  -0.791632        -0.781352        -0.614749     -0.543065   \n",
       "430   -0.583008  -0.675816        -0.797069        -0.448624     -0.812464   \n",
       "\n",
       "       Eccentricity  ConvexArea  EquivDiameter    Extent  Solidity  roundness  \\\n",
       "11073     -0.114146   -0.817952      -1.026081 -1.142598 -0.255293   0.485739   \n",
       "13172     -0.024436   -0.504787      -0.552768 -0.881431 -0.707602  -0.572573   \n",
       "11587     -0.933914   -0.755903      -0.921189 -0.322672  0.366882   0.729400   \n",
       "12492     -0.294930   -0.632110      -0.729173  0.711150  0.450732   0.870363   \n",
       "430       -0.655052   -0.584080      -0.659398  0.920037  0.245241   0.380612   \n",
       "\n",
       "       Compactness  ShapeFactor1  ShapeFactor2  ShapeFactor3  ShapeFactor4  \n",
       "11073     0.300833      1.344814      0.874096      0.265084      0.343163  \n",
       "13172     0.201238      0.485672      0.325515      0.163840      0.047028  \n",
       "11587     1.018143      0.765749      1.380299      1.016786      0.343229  \n",
       "12492     0.478205      0.661370      0.701300      0.447282      0.419378  \n",
       "430       0.814347      0.381755      0.902884      0.799199      0.989399  "
      ]
     },
     "execution_count": 8,
     "metadata": {},
     "output_type": "execute_result"
    }
   ],
   "source": [
    "X_train.head()"
   ]
  },
  {
   "cell_type": "code",
   "execution_count": 29,
   "id": "c3b15507",
   "metadata": {},
   "outputs": [],
   "source": [
    "class PCA():\n",
    "    def __init__(self):\n",
    "        self.U = None\n",
    "        self.L = None\n",
    "    \n",
    "    def fit(self, X):\n",
    "        C = X.T @ X\n",
    "        self.L, self.U = np.linalg.eig(C)\n",
    "\n",
    "        idx = np.argsort(self.L)[::-1]\n",
    "        self.L = np.array([self.L[i] for i in idx])\n",
    "        self.U = np.array([self.U[i] for i in idx])\n",
    "        return self.L, self.U\n",
    "\n",
    "    def transform(self, X, d):\n",
    "        return X @ self.U[:,:d]"
   ]
  },
  {
   "cell_type": "code",
   "execution_count": 10,
   "id": "b88b8d8f",
   "metadata": {},
   "outputs": [
    {
     "data": {
      "text/plain": [
       "(10888, 16)"
      ]
     },
     "execution_count": 10,
     "metadata": {},
     "output_type": "execute_result"
    }
   ],
   "source": [
    "X_train.shape"
   ]
  },
  {
   "cell_type": "code",
   "execution_count": 11,
   "id": "f5bc6500",
   "metadata": {},
   "outputs": [
    {
     "name": "stdout",
     "output_type": "stream",
     "text": [
      "(16, 16) [ 0.28270843  0.24526611 -0.06227101 -0.03012466 -0.08630606 -0.36924166\n",
      "  0.12551945  0.07131181  0.03559302 -0.39749258 -0.15952794  0.05130074\n",
      "  0.04624247  0.65395783  0.22557613  0.14991568]\n"
     ]
    }
   ],
   "source": [
    "pca = PCA()\n",
    "L, U = pca.fit(X_train)\n",
    "X_pca = pca.transform(X_train,2)"
   ]
  },
  {
   "cell_type": "code",
   "execution_count": 12,
   "id": "6306a769",
   "metadata": {},
   "outputs": [
    {
     "data": {
      "application/vnd.plotly.v1+json": {
       "config": {
        "plotlyServerURL": "https://plot.ly"
       },
       "data": [
        {
         "hovertemplate": "x=%{x}<br>y=%{y}<extra></extra>",
         "legendgroup": "",
         "marker": {
          "color": "#636efa",
          "symbol": "circle"
         },
         "mode": "markers",
         "name": "",
         "orientation": "v",
         "showlegend": false,
         "type": "scatter",
         "x": {
          "bdata": "AAECAwQFBgcICQoLDA0ODw==",
          "dtype": "i1"
         },
         "xaxis": "x",
         "y": {
          "bdata": "zwfpWJb1JkDbpkqupHclQC0GMXuOFiNA7rBahtMwIkCmDLd/1/UgQJwSq0C7bR5ArOEuJDJmHEDadWg0k1gZQEW/qXpd+xFAu8uDkbgXBkBob/iEiWEDQC7wBBz+H/M//4yiVfpf3z9z9jGXtrYBwHYzdS0jOQ7AXsq65z6ZD8A=",
          "dtype": "f8"
         },
         "yaxis": "y"
        }
       ],
       "layout": {
        "legend": {
         "tracegroupgap": 0
        },
        "margin": {
         "t": 60
        },
        "template": {
         "data": {
          "bar": [
           {
            "error_x": {
             "color": "#2a3f5f"
            },
            "error_y": {
             "color": "#2a3f5f"
            },
            "marker": {
             "line": {
              "color": "#E5ECF6",
              "width": 0.5
             },
             "pattern": {
              "fillmode": "overlay",
              "size": 10,
              "solidity": 0.2
             }
            },
            "type": "bar"
           }
          ],
          "barpolar": [
           {
            "marker": {
             "line": {
              "color": "#E5ECF6",
              "width": 0.5
             },
             "pattern": {
              "fillmode": "overlay",
              "size": 10,
              "solidity": 0.2
             }
            },
            "type": "barpolar"
           }
          ],
          "carpet": [
           {
            "aaxis": {
             "endlinecolor": "#2a3f5f",
             "gridcolor": "white",
             "linecolor": "white",
             "minorgridcolor": "white",
             "startlinecolor": "#2a3f5f"
            },
            "baxis": {
             "endlinecolor": "#2a3f5f",
             "gridcolor": "white",
             "linecolor": "white",
             "minorgridcolor": "white",
             "startlinecolor": "#2a3f5f"
            },
            "type": "carpet"
           }
          ],
          "choropleth": [
           {
            "colorbar": {
             "outlinewidth": 0,
             "ticks": ""
            },
            "type": "choropleth"
           }
          ],
          "contour": [
           {
            "colorbar": {
             "outlinewidth": 0,
             "ticks": ""
            },
            "colorscale": [
             [
              0,
              "#0d0887"
             ],
             [
              0.1111111111111111,
              "#46039f"
             ],
             [
              0.2222222222222222,
              "#7201a8"
             ],
             [
              0.3333333333333333,
              "#9c179e"
             ],
             [
              0.4444444444444444,
              "#bd3786"
             ],
             [
              0.5555555555555556,
              "#d8576b"
             ],
             [
              0.6666666666666666,
              "#ed7953"
             ],
             [
              0.7777777777777778,
              "#fb9f3a"
             ],
             [
              0.8888888888888888,
              "#fdca26"
             ],
             [
              1,
              "#f0f921"
             ]
            ],
            "type": "contour"
           }
          ],
          "contourcarpet": [
           {
            "colorbar": {
             "outlinewidth": 0,
             "ticks": ""
            },
            "type": "contourcarpet"
           }
          ],
          "heatmap": [
           {
            "colorbar": {
             "outlinewidth": 0,
             "ticks": ""
            },
            "colorscale": [
             [
              0,
              "#0d0887"
             ],
             [
              0.1111111111111111,
              "#46039f"
             ],
             [
              0.2222222222222222,
              "#7201a8"
             ],
             [
              0.3333333333333333,
              "#9c179e"
             ],
             [
              0.4444444444444444,
              "#bd3786"
             ],
             [
              0.5555555555555556,
              "#d8576b"
             ],
             [
              0.6666666666666666,
              "#ed7953"
             ],
             [
              0.7777777777777778,
              "#fb9f3a"
             ],
             [
              0.8888888888888888,
              "#fdca26"
             ],
             [
              1,
              "#f0f921"
             ]
            ],
            "type": "heatmap"
           }
          ],
          "histogram": [
           {
            "marker": {
             "pattern": {
              "fillmode": "overlay",
              "size": 10,
              "solidity": 0.2
             }
            },
            "type": "histogram"
           }
          ],
          "histogram2d": [
           {
            "colorbar": {
             "outlinewidth": 0,
             "ticks": ""
            },
            "colorscale": [
             [
              0,
              "#0d0887"
             ],
             [
              0.1111111111111111,
              "#46039f"
             ],
             [
              0.2222222222222222,
              "#7201a8"
             ],
             [
              0.3333333333333333,
              "#9c179e"
             ],
             [
              0.4444444444444444,
              "#bd3786"
             ],
             [
              0.5555555555555556,
              "#d8576b"
             ],
             [
              0.6666666666666666,
              "#ed7953"
             ],
             [
              0.7777777777777778,
              "#fb9f3a"
             ],
             [
              0.8888888888888888,
              "#fdca26"
             ],
             [
              1,
              "#f0f921"
             ]
            ],
            "type": "histogram2d"
           }
          ],
          "histogram2dcontour": [
           {
            "colorbar": {
             "outlinewidth": 0,
             "ticks": ""
            },
            "colorscale": [
             [
              0,
              "#0d0887"
             ],
             [
              0.1111111111111111,
              "#46039f"
             ],
             [
              0.2222222222222222,
              "#7201a8"
             ],
             [
              0.3333333333333333,
              "#9c179e"
             ],
             [
              0.4444444444444444,
              "#bd3786"
             ],
             [
              0.5555555555555556,
              "#d8576b"
             ],
             [
              0.6666666666666666,
              "#ed7953"
             ],
             [
              0.7777777777777778,
              "#fb9f3a"
             ],
             [
              0.8888888888888888,
              "#fdca26"
             ],
             [
              1,
              "#f0f921"
             ]
            ],
            "type": "histogram2dcontour"
           }
          ],
          "mesh3d": [
           {
            "colorbar": {
             "outlinewidth": 0,
             "ticks": ""
            },
            "type": "mesh3d"
           }
          ],
          "parcoords": [
           {
            "line": {
             "colorbar": {
              "outlinewidth": 0,
              "ticks": ""
             }
            },
            "type": "parcoords"
           }
          ],
          "pie": [
           {
            "automargin": true,
            "type": "pie"
           }
          ],
          "scatter": [
           {
            "fillpattern": {
             "fillmode": "overlay",
             "size": 10,
             "solidity": 0.2
            },
            "type": "scatter"
           }
          ],
          "scatter3d": [
           {
            "line": {
             "colorbar": {
              "outlinewidth": 0,
              "ticks": ""
             }
            },
            "marker": {
             "colorbar": {
              "outlinewidth": 0,
              "ticks": ""
             }
            },
            "type": "scatter3d"
           }
          ],
          "scattercarpet": [
           {
            "marker": {
             "colorbar": {
              "outlinewidth": 0,
              "ticks": ""
             }
            },
            "type": "scattercarpet"
           }
          ],
          "scattergeo": [
           {
            "marker": {
             "colorbar": {
              "outlinewidth": 0,
              "ticks": ""
             }
            },
            "type": "scattergeo"
           }
          ],
          "scattergl": [
           {
            "marker": {
             "colorbar": {
              "outlinewidth": 0,
              "ticks": ""
             }
            },
            "type": "scattergl"
           }
          ],
          "scattermap": [
           {
            "marker": {
             "colorbar": {
              "outlinewidth": 0,
              "ticks": ""
             }
            },
            "type": "scattermap"
           }
          ],
          "scattermapbox": [
           {
            "marker": {
             "colorbar": {
              "outlinewidth": 0,
              "ticks": ""
             }
            },
            "type": "scattermapbox"
           }
          ],
          "scatterpolar": [
           {
            "marker": {
             "colorbar": {
              "outlinewidth": 0,
              "ticks": ""
             }
            },
            "type": "scatterpolar"
           }
          ],
          "scatterpolargl": [
           {
            "marker": {
             "colorbar": {
              "outlinewidth": 0,
              "ticks": ""
             }
            },
            "type": "scatterpolargl"
           }
          ],
          "scatterternary": [
           {
            "marker": {
             "colorbar": {
              "outlinewidth": 0,
              "ticks": ""
             }
            },
            "type": "scatterternary"
           }
          ],
          "surface": [
           {
            "colorbar": {
             "outlinewidth": 0,
             "ticks": ""
            },
            "colorscale": [
             [
              0,
              "#0d0887"
             ],
             [
              0.1111111111111111,
              "#46039f"
             ],
             [
              0.2222222222222222,
              "#7201a8"
             ],
             [
              0.3333333333333333,
              "#9c179e"
             ],
             [
              0.4444444444444444,
              "#bd3786"
             ],
             [
              0.5555555555555556,
              "#d8576b"
             ],
             [
              0.6666666666666666,
              "#ed7953"
             ],
             [
              0.7777777777777778,
              "#fb9f3a"
             ],
             [
              0.8888888888888888,
              "#fdca26"
             ],
             [
              1,
              "#f0f921"
             ]
            ],
            "type": "surface"
           }
          ],
          "table": [
           {
            "cells": {
             "fill": {
              "color": "#EBF0F8"
             },
             "line": {
              "color": "white"
             }
            },
            "header": {
             "fill": {
              "color": "#C8D4E3"
             },
             "line": {
              "color": "white"
             }
            },
            "type": "table"
           }
          ]
         },
         "layout": {
          "annotationdefaults": {
           "arrowcolor": "#2a3f5f",
           "arrowhead": 0,
           "arrowwidth": 1
          },
          "autotypenumbers": "strict",
          "coloraxis": {
           "colorbar": {
            "outlinewidth": 0,
            "ticks": ""
           }
          },
          "colorscale": {
           "diverging": [
            [
             0,
             "#8e0152"
            ],
            [
             0.1,
             "#c51b7d"
            ],
            [
             0.2,
             "#de77ae"
            ],
            [
             0.3,
             "#f1b6da"
            ],
            [
             0.4,
             "#fde0ef"
            ],
            [
             0.5,
             "#f7f7f7"
            ],
            [
             0.6,
             "#e6f5d0"
            ],
            [
             0.7,
             "#b8e186"
            ],
            [
             0.8,
             "#7fbc41"
            ],
            [
             0.9,
             "#4d9221"
            ],
            [
             1,
             "#276419"
            ]
           ],
           "sequential": [
            [
             0,
             "#0d0887"
            ],
            [
             0.1111111111111111,
             "#46039f"
            ],
            [
             0.2222222222222222,
             "#7201a8"
            ],
            [
             0.3333333333333333,
             "#9c179e"
            ],
            [
             0.4444444444444444,
             "#bd3786"
            ],
            [
             0.5555555555555556,
             "#d8576b"
            ],
            [
             0.6666666666666666,
             "#ed7953"
            ],
            [
             0.7777777777777778,
             "#fb9f3a"
            ],
            [
             0.8888888888888888,
             "#fdca26"
            ],
            [
             1,
             "#f0f921"
            ]
           ],
           "sequentialminus": [
            [
             0,
             "#0d0887"
            ],
            [
             0.1111111111111111,
             "#46039f"
            ],
            [
             0.2222222222222222,
             "#7201a8"
            ],
            [
             0.3333333333333333,
             "#9c179e"
            ],
            [
             0.4444444444444444,
             "#bd3786"
            ],
            [
             0.5555555555555556,
             "#d8576b"
            ],
            [
             0.6666666666666666,
             "#ed7953"
            ],
            [
             0.7777777777777778,
             "#fb9f3a"
            ],
            [
             0.8888888888888888,
             "#fdca26"
            ],
            [
             1,
             "#f0f921"
            ]
           ]
          },
          "colorway": [
           "#636efa",
           "#EF553B",
           "#00cc96",
           "#ab63fa",
           "#FFA15A",
           "#19d3f3",
           "#FF6692",
           "#B6E880",
           "#FF97FF",
           "#FECB52"
          ],
          "font": {
           "color": "#2a3f5f"
          },
          "geo": {
           "bgcolor": "white",
           "lakecolor": "white",
           "landcolor": "#E5ECF6",
           "showlakes": true,
           "showland": true,
           "subunitcolor": "white"
          },
          "hoverlabel": {
           "align": "left"
          },
          "hovermode": "closest",
          "mapbox": {
           "style": "light"
          },
          "paper_bgcolor": "white",
          "plot_bgcolor": "#E5ECF6",
          "polar": {
           "angularaxis": {
            "gridcolor": "white",
            "linecolor": "white",
            "ticks": ""
           },
           "bgcolor": "#E5ECF6",
           "radialaxis": {
            "gridcolor": "white",
            "linecolor": "white",
            "ticks": ""
           }
          },
          "scene": {
           "xaxis": {
            "backgroundcolor": "#E5ECF6",
            "gridcolor": "white",
            "gridwidth": 2,
            "linecolor": "white",
            "showbackground": true,
            "ticks": "",
            "zerolinecolor": "white"
           },
           "yaxis": {
            "backgroundcolor": "#E5ECF6",
            "gridcolor": "white",
            "gridwidth": 2,
            "linecolor": "white",
            "showbackground": true,
            "ticks": "",
            "zerolinecolor": "white"
           },
           "zaxis": {
            "backgroundcolor": "#E5ECF6",
            "gridcolor": "white",
            "gridwidth": 2,
            "linecolor": "white",
            "showbackground": true,
            "ticks": "",
            "zerolinecolor": "white"
           }
          },
          "shapedefaults": {
           "line": {
            "color": "#2a3f5f"
           }
          },
          "ternary": {
           "aaxis": {
            "gridcolor": "white",
            "linecolor": "white",
            "ticks": ""
           },
           "baxis": {
            "gridcolor": "white",
            "linecolor": "white",
            "ticks": ""
           },
           "bgcolor": "#E5ECF6",
           "caxis": {
            "gridcolor": "white",
            "linecolor": "white",
            "ticks": ""
           }
          },
          "title": {
           "x": 0.05
          },
          "xaxis": {
           "automargin": true,
           "gridcolor": "white",
           "linecolor": "white",
           "ticks": "",
           "title": {
            "standoff": 15
           },
           "zerolinecolor": "white",
           "zerolinewidth": 2
          },
          "yaxis": {
           "automargin": true,
           "gridcolor": "white",
           "linecolor": "white",
           "ticks": "",
           "title": {
            "standoff": 15
           },
           "zerolinecolor": "white",
           "zerolinewidth": 2
          }
         }
        },
        "xaxis": {
         "anchor": "y",
         "domain": [
          0,
          1
         ],
         "title": {
          "text": "x"
         }
        },
        "yaxis": {
         "anchor": "x",
         "domain": [
          0,
          1
         ],
         "title": {
          "text": "y"
         }
        }
       }
      }
     },
     "metadata": {},
     "output_type": "display_data"
    }
   ],
   "source": [
    "px.scatter(\n",
    "    x = np.arange(0,len(L),1), \n",
    "    y = np.log(L))"
   ]
  },
  {
   "cell_type": "code",
   "execution_count": 13,
   "id": "b3502b1d",
   "metadata": {},
   "outputs": [
    {
     "data": {
      "application/vnd.plotly.v1+json": {
       "config": {
        "plotlyServerURL": "https://plot.ly"
       },
       "data": [
        {
         "hovertemplate": "x=%{x}<br>y=%{y}<extra></extra>",
         "legendgroup": "",
         "marker": {
          "color": "#636efa",
          "symbol": "circle"
         },
         "mode": "markers",
         "name": "",
         "orientation": "v",
         "showlegend": false,
         "type": "scatter",
         "x": {
          "bdata": "AAECAwQFBgcICQoLDA0ODw==",
          "dtype": "i1"
         },
         "xaxis": "x",
         "y": {
          "bdata": "WDWP8oad90BpVW34Y2bmQPvBGZi6RMtAvWDiZu9owUArQ300ONKyQKK9cdk2cp9AKERQ5+bukkA/UOQKhqaBQGHKRFAUZ1ZAin+Y2FSmL0BFuXGBBI0mQMrdgOnJbwpAJpdUgYYf+j9dMBNjGfe7P84PB/xpa5c/KPZutWC4kz8=",
          "dtype": "f8"
         },
         "yaxis": "y"
        }
       ],
       "layout": {
        "legend": {
         "tracegroupgap": 0
        },
        "margin": {
         "t": 60
        },
        "template": {
         "data": {
          "bar": [
           {
            "error_x": {
             "color": "#2a3f5f"
            },
            "error_y": {
             "color": "#2a3f5f"
            },
            "marker": {
             "line": {
              "color": "#E5ECF6",
              "width": 0.5
             },
             "pattern": {
              "fillmode": "overlay",
              "size": 10,
              "solidity": 0.2
             }
            },
            "type": "bar"
           }
          ],
          "barpolar": [
           {
            "marker": {
             "line": {
              "color": "#E5ECF6",
              "width": 0.5
             },
             "pattern": {
              "fillmode": "overlay",
              "size": 10,
              "solidity": 0.2
             }
            },
            "type": "barpolar"
           }
          ],
          "carpet": [
           {
            "aaxis": {
             "endlinecolor": "#2a3f5f",
             "gridcolor": "white",
             "linecolor": "white",
             "minorgridcolor": "white",
             "startlinecolor": "#2a3f5f"
            },
            "baxis": {
             "endlinecolor": "#2a3f5f",
             "gridcolor": "white",
             "linecolor": "white",
             "minorgridcolor": "white",
             "startlinecolor": "#2a3f5f"
            },
            "type": "carpet"
           }
          ],
          "choropleth": [
           {
            "colorbar": {
             "outlinewidth": 0,
             "ticks": ""
            },
            "type": "choropleth"
           }
          ],
          "contour": [
           {
            "colorbar": {
             "outlinewidth": 0,
             "ticks": ""
            },
            "colorscale": [
             [
              0,
              "#0d0887"
             ],
             [
              0.1111111111111111,
              "#46039f"
             ],
             [
              0.2222222222222222,
              "#7201a8"
             ],
             [
              0.3333333333333333,
              "#9c179e"
             ],
             [
              0.4444444444444444,
              "#bd3786"
             ],
             [
              0.5555555555555556,
              "#d8576b"
             ],
             [
              0.6666666666666666,
              "#ed7953"
             ],
             [
              0.7777777777777778,
              "#fb9f3a"
             ],
             [
              0.8888888888888888,
              "#fdca26"
             ],
             [
              1,
              "#f0f921"
             ]
            ],
            "type": "contour"
           }
          ],
          "contourcarpet": [
           {
            "colorbar": {
             "outlinewidth": 0,
             "ticks": ""
            },
            "type": "contourcarpet"
           }
          ],
          "heatmap": [
           {
            "colorbar": {
             "outlinewidth": 0,
             "ticks": ""
            },
            "colorscale": [
             [
              0,
              "#0d0887"
             ],
             [
              0.1111111111111111,
              "#46039f"
             ],
             [
              0.2222222222222222,
              "#7201a8"
             ],
             [
              0.3333333333333333,
              "#9c179e"
             ],
             [
              0.4444444444444444,
              "#bd3786"
             ],
             [
              0.5555555555555556,
              "#d8576b"
             ],
             [
              0.6666666666666666,
              "#ed7953"
             ],
             [
              0.7777777777777778,
              "#fb9f3a"
             ],
             [
              0.8888888888888888,
              "#fdca26"
             ],
             [
              1,
              "#f0f921"
             ]
            ],
            "type": "heatmap"
           }
          ],
          "histogram": [
           {
            "marker": {
             "pattern": {
              "fillmode": "overlay",
              "size": 10,
              "solidity": 0.2
             }
            },
            "type": "histogram"
           }
          ],
          "histogram2d": [
           {
            "colorbar": {
             "outlinewidth": 0,
             "ticks": ""
            },
            "colorscale": [
             [
              0,
              "#0d0887"
             ],
             [
              0.1111111111111111,
              "#46039f"
             ],
             [
              0.2222222222222222,
              "#7201a8"
             ],
             [
              0.3333333333333333,
              "#9c179e"
             ],
             [
              0.4444444444444444,
              "#bd3786"
             ],
             [
              0.5555555555555556,
              "#d8576b"
             ],
             [
              0.6666666666666666,
              "#ed7953"
             ],
             [
              0.7777777777777778,
              "#fb9f3a"
             ],
             [
              0.8888888888888888,
              "#fdca26"
             ],
             [
              1,
              "#f0f921"
             ]
            ],
            "type": "histogram2d"
           }
          ],
          "histogram2dcontour": [
           {
            "colorbar": {
             "outlinewidth": 0,
             "ticks": ""
            },
            "colorscale": [
             [
              0,
              "#0d0887"
             ],
             [
              0.1111111111111111,
              "#46039f"
             ],
             [
              0.2222222222222222,
              "#7201a8"
             ],
             [
              0.3333333333333333,
              "#9c179e"
             ],
             [
              0.4444444444444444,
              "#bd3786"
             ],
             [
              0.5555555555555556,
              "#d8576b"
             ],
             [
              0.6666666666666666,
              "#ed7953"
             ],
             [
              0.7777777777777778,
              "#fb9f3a"
             ],
             [
              0.8888888888888888,
              "#fdca26"
             ],
             [
              1,
              "#f0f921"
             ]
            ],
            "type": "histogram2dcontour"
           }
          ],
          "mesh3d": [
           {
            "colorbar": {
             "outlinewidth": 0,
             "ticks": ""
            },
            "type": "mesh3d"
           }
          ],
          "parcoords": [
           {
            "line": {
             "colorbar": {
              "outlinewidth": 0,
              "ticks": ""
             }
            },
            "type": "parcoords"
           }
          ],
          "pie": [
           {
            "automargin": true,
            "type": "pie"
           }
          ],
          "scatter": [
           {
            "fillpattern": {
             "fillmode": "overlay",
             "size": 10,
             "solidity": 0.2
            },
            "type": "scatter"
           }
          ],
          "scatter3d": [
           {
            "line": {
             "colorbar": {
              "outlinewidth": 0,
              "ticks": ""
             }
            },
            "marker": {
             "colorbar": {
              "outlinewidth": 0,
              "ticks": ""
             }
            },
            "type": "scatter3d"
           }
          ],
          "scattercarpet": [
           {
            "marker": {
             "colorbar": {
              "outlinewidth": 0,
              "ticks": ""
             }
            },
            "type": "scattercarpet"
           }
          ],
          "scattergeo": [
           {
            "marker": {
             "colorbar": {
              "outlinewidth": 0,
              "ticks": ""
             }
            },
            "type": "scattergeo"
           }
          ],
          "scattergl": [
           {
            "marker": {
             "colorbar": {
              "outlinewidth": 0,
              "ticks": ""
             }
            },
            "type": "scattergl"
           }
          ],
          "scattermap": [
           {
            "marker": {
             "colorbar": {
              "outlinewidth": 0,
              "ticks": ""
             }
            },
            "type": "scattermap"
           }
          ],
          "scattermapbox": [
           {
            "marker": {
             "colorbar": {
              "outlinewidth": 0,
              "ticks": ""
             }
            },
            "type": "scattermapbox"
           }
          ],
          "scatterpolar": [
           {
            "marker": {
             "colorbar": {
              "outlinewidth": 0,
              "ticks": ""
             }
            },
            "type": "scatterpolar"
           }
          ],
          "scatterpolargl": [
           {
            "marker": {
             "colorbar": {
              "outlinewidth": 0,
              "ticks": ""
             }
            },
            "type": "scatterpolargl"
           }
          ],
          "scatterternary": [
           {
            "marker": {
             "colorbar": {
              "outlinewidth": 0,
              "ticks": ""
             }
            },
            "type": "scatterternary"
           }
          ],
          "surface": [
           {
            "colorbar": {
             "outlinewidth": 0,
             "ticks": ""
            },
            "colorscale": [
             [
              0,
              "#0d0887"
             ],
             [
              0.1111111111111111,
              "#46039f"
             ],
             [
              0.2222222222222222,
              "#7201a8"
             ],
             [
              0.3333333333333333,
              "#9c179e"
             ],
             [
              0.4444444444444444,
              "#bd3786"
             ],
             [
              0.5555555555555556,
              "#d8576b"
             ],
             [
              0.6666666666666666,
              "#ed7953"
             ],
             [
              0.7777777777777778,
              "#fb9f3a"
             ],
             [
              0.8888888888888888,
              "#fdca26"
             ],
             [
              1,
              "#f0f921"
             ]
            ],
            "type": "surface"
           }
          ],
          "table": [
           {
            "cells": {
             "fill": {
              "color": "#EBF0F8"
             },
             "line": {
              "color": "white"
             }
            },
            "header": {
             "fill": {
              "color": "#C8D4E3"
             },
             "line": {
              "color": "white"
             }
            },
            "type": "table"
           }
          ]
         },
         "layout": {
          "annotationdefaults": {
           "arrowcolor": "#2a3f5f",
           "arrowhead": 0,
           "arrowwidth": 1
          },
          "autotypenumbers": "strict",
          "coloraxis": {
           "colorbar": {
            "outlinewidth": 0,
            "ticks": ""
           }
          },
          "colorscale": {
           "diverging": [
            [
             0,
             "#8e0152"
            ],
            [
             0.1,
             "#c51b7d"
            ],
            [
             0.2,
             "#de77ae"
            ],
            [
             0.3,
             "#f1b6da"
            ],
            [
             0.4,
             "#fde0ef"
            ],
            [
             0.5,
             "#f7f7f7"
            ],
            [
             0.6,
             "#e6f5d0"
            ],
            [
             0.7,
             "#b8e186"
            ],
            [
             0.8,
             "#7fbc41"
            ],
            [
             0.9,
             "#4d9221"
            ],
            [
             1,
             "#276419"
            ]
           ],
           "sequential": [
            [
             0,
             "#0d0887"
            ],
            [
             0.1111111111111111,
             "#46039f"
            ],
            [
             0.2222222222222222,
             "#7201a8"
            ],
            [
             0.3333333333333333,
             "#9c179e"
            ],
            [
             0.4444444444444444,
             "#bd3786"
            ],
            [
             0.5555555555555556,
             "#d8576b"
            ],
            [
             0.6666666666666666,
             "#ed7953"
            ],
            [
             0.7777777777777778,
             "#fb9f3a"
            ],
            [
             0.8888888888888888,
             "#fdca26"
            ],
            [
             1,
             "#f0f921"
            ]
           ],
           "sequentialminus": [
            [
             0,
             "#0d0887"
            ],
            [
             0.1111111111111111,
             "#46039f"
            ],
            [
             0.2222222222222222,
             "#7201a8"
            ],
            [
             0.3333333333333333,
             "#9c179e"
            ],
            [
             0.4444444444444444,
             "#bd3786"
            ],
            [
             0.5555555555555556,
             "#d8576b"
            ],
            [
             0.6666666666666666,
             "#ed7953"
            ],
            [
             0.7777777777777778,
             "#fb9f3a"
            ],
            [
             0.8888888888888888,
             "#fdca26"
            ],
            [
             1,
             "#f0f921"
            ]
           ]
          },
          "colorway": [
           "#636efa",
           "#EF553B",
           "#00cc96",
           "#ab63fa",
           "#FFA15A",
           "#19d3f3",
           "#FF6692",
           "#B6E880",
           "#FF97FF",
           "#FECB52"
          ],
          "font": {
           "color": "#2a3f5f"
          },
          "geo": {
           "bgcolor": "white",
           "lakecolor": "white",
           "landcolor": "#E5ECF6",
           "showlakes": true,
           "showland": true,
           "subunitcolor": "white"
          },
          "hoverlabel": {
           "align": "left"
          },
          "hovermode": "closest",
          "mapbox": {
           "style": "light"
          },
          "paper_bgcolor": "white",
          "plot_bgcolor": "#E5ECF6",
          "polar": {
           "angularaxis": {
            "gridcolor": "white",
            "linecolor": "white",
            "ticks": ""
           },
           "bgcolor": "#E5ECF6",
           "radialaxis": {
            "gridcolor": "white",
            "linecolor": "white",
            "ticks": ""
           }
          },
          "scene": {
           "xaxis": {
            "backgroundcolor": "#E5ECF6",
            "gridcolor": "white",
            "gridwidth": 2,
            "linecolor": "white",
            "showbackground": true,
            "ticks": "",
            "zerolinecolor": "white"
           },
           "yaxis": {
            "backgroundcolor": "#E5ECF6",
            "gridcolor": "white",
            "gridwidth": 2,
            "linecolor": "white",
            "showbackground": true,
            "ticks": "",
            "zerolinecolor": "white"
           },
           "zaxis": {
            "backgroundcolor": "#E5ECF6",
            "gridcolor": "white",
            "gridwidth": 2,
            "linecolor": "white",
            "showbackground": true,
            "ticks": "",
            "zerolinecolor": "white"
           }
          },
          "shapedefaults": {
           "line": {
            "color": "#2a3f5f"
           }
          },
          "ternary": {
           "aaxis": {
            "gridcolor": "white",
            "linecolor": "white",
            "ticks": ""
           },
           "baxis": {
            "gridcolor": "white",
            "linecolor": "white",
            "ticks": ""
           },
           "bgcolor": "#E5ECF6",
           "caxis": {
            "gridcolor": "white",
            "linecolor": "white",
            "ticks": ""
           }
          },
          "title": {
           "x": 0.05
          },
          "xaxis": {
           "automargin": true,
           "gridcolor": "white",
           "linecolor": "white",
           "ticks": "",
           "title": {
            "standoff": 15
           },
           "zerolinecolor": "white",
           "zerolinewidth": 2
          },
          "yaxis": {
           "automargin": true,
           "gridcolor": "white",
           "linecolor": "white",
           "ticks": "",
           "title": {
            "standoff": 15
           },
           "zerolinecolor": "white",
           "zerolinewidth": 2
          }
         }
        },
        "xaxis": {
         "anchor": "y",
         "domain": [
          0,
          1
         ],
         "title": {
          "text": "x"
         }
        },
        "yaxis": {
         "anchor": "x",
         "domain": [
          0,
          1
         ],
         "title": {
          "text": "y"
         }
        }
       }
      }
     },
     "metadata": {},
     "output_type": "display_data"
    }
   ],
   "source": [
    "px.scatter(\n",
    "    x = np.arange(0,len(L),1), \n",
    "    y = L)"
   ]
  },
  {
   "cell_type": "code",
   "execution_count": 14,
   "id": "c8511316",
   "metadata": {},
   "outputs": [
    {
     "data": {
      "application/vnd.plotly.v1+json": {
       "config": {
        "plotlyServerURL": "https://plot.ly"
       },
       "data": [
        {
         "hovertemplate": "color=DERMASON<br>x=%{x}<br>y=%{y}<extra></extra>",
         "legendgroup": "DERMASON",
         "marker": {
          "color": "#636efa",
          "symbol": "circle"
         },
         "mode": "markers",
         "name": "DERMASON",
         "showlegend": true,
         "type": "scattergl",
         "x": {
          "bdata": "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",
          "dtype": "f8"
         },
         "xaxis": "x",
         "y": {
          "bdata": "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",
          "dtype": "f8"
         },
         "yaxis": "y"
        },
        {
         "hovertemplate": "color=SEKER<br>x=%{x}<br>y=%{y}<extra></extra>",
         "legendgroup": "SEKER",
         "marker": {
          "color": "#EF553B",
          "symbol": "circle"
         },
         "mode": "markers",
         "name": "SEKER",
         "showlegend": true,
         "type": "scattergl",
         "x": {
          "bdata": "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",
          "dtype": "f8"
         },
         "xaxis": "x",
         "y": {
          "bdata": "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",
          "dtype": "f8"
         },
         "yaxis": "y"
        },
        {
         "hovertemplate": "color=BARBUNYA<br>x=%{x}<br>y=%{y}<extra></extra>",
         "legendgroup": "BARBUNYA",
         "marker": {
          "color": "#00cc96",
          "symbol": "circle"
         },
         "mode": "markers",
         "name": "BARBUNYA",
         "showlegend": true,
         "type": "scattergl",
         "x": {
          "bdata": "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",
          "dtype": "f8"
         },
         "xaxis": "x",
         "y": {
          "bdata": "Jx9nOiVHAUBF9/rmSk74PyzncTbaCPI/+3+lx8g2qz/OW2m7nu73PxddZwO6Nes/vU8GMm0nAECy4R6I5jrivzNievX7/uY/huh+1ANz5j8+CXq6ivIJQOUSOajfxvo/+3U9YQ9Owb8+ZI0gKBToP7Gv3ZWZYrI/akrz0U8jAkDk1tcWOjLjv7WMeFzvabe/peUp9jzZBkAn5oLemBXfv/6hndtI/oO/g9rj6ciZ5r9Y1+uSq2/lP7hNCVyWmAZAoPuc+Ank8D/xYx0jNGnFP1XhJZRl8P4/auZUDiWO4b8BRUJjrRv/P88CCP78z80/+/qoot9W1D/3icP4qX/2P5QD6ycJVeY/d85Sjxc08z8DveNSNB3hP+Mj2ZmlSeQ/kNRO5vL29T+Cgz7JhAMKQGikJx19tfY/XIliF8aFEEBowP7s3VHkP5PQNpAC3LY/IWtg3JQ8BUBDk1FQ7ejoP03uS8KNI7k/z3kS5g6A478QO2soTs7Fv6ibltCuM/8/LwAA6K9stj+Z6ug1ZbcFQNBaqyaV/PK/QWYdBX+a/z85cENPL+bhP0L0cYSLDAFA/q5HEVjWmr/jcxKLkt/oP7ZsY/btbvE/Ndphgh/7AUAnl1I25vnrP+UlbSNfGPK/y0cpDgno8z9/fOfhob3tPyEiptPtnPI/TkiMy+oewT/btLZF3RAAQNnvcBsDyglAS+nnJDww1r80PSUR5fbPvxjFD/djH9Y/dM2eUUbiAEBGvDkB2hjyP+bh1PDqNOi/5U4UPTNL6T9V+B3TJEwDQG8rXpYtl/Y/ykzdu+Mn4j8OdfHo4EsBQJcaVltTrf4/xOtegL1SBUAyFVB7uP/iPxkv6EUbs+A/E/R4ULK/8D8EljAhCuX7P3oXly4UKdw/hFkgCS+j/T/INhJlO3rhv0h1z3mvTfM/HiWbvI0bzj/3yDlzYmf8P/6mXALCRvA/bdwsmtjQ9z8uqCwaAUX4P47m2OHW5uU/r1BvSiPU8D9ExerDnfX4P68IcX7k3OE/OKSVcF158T80IKluXQDEP6D+aWqWvPo/rhuqOaiyBEDG8gDJSlMBQCbs7PKvrglAb6EPni3V/j9Li9c4SYP4P8LaOsYXMME/sz7dw4XB7D9sbUgS1U3aP2NNhd+mywRAH8GWZhWU+z+ko9/EPEvoP4UFQscOePk/bAicQOEUzD8n1mwPRobsP1UXXCxMtvK/03D4JNMf4j+4vFiLX33aP6pFJ/ygsgFASOi80NpF9z9pLVAlScYIQAkf4Y06DOQ/G/AP7JXlBEAHWDoezUTBP5UI2Z6Oj/o/GFY1MhOK+j97qeuXcwryP14Ut9npwvs/efq73pyO/z8OnUrmVFvSP+UezLB3Pe4/HRArCTtc8T/KVUkT+qnxPxDREm0n6es/j9+SYhYO+T9/AhMbhgzYv56/w+AZzeI/ZEnk8nkN8b+mMG1rQx7uP4UpI4l57AZAGaNwVwdxAEAv0h9WvUDwP8s0bRPbw9G/JJQDqfDO6D9y/kQsj3vevwA5Y1Dy4dc/7GWD46mO9j9qQJeBq4nLP9p7WZCq4uI/Gkop6xh55j9UthPiVKDyP8GOZ8A8yvI/ILPN2/n6sz+KqGOFB3ntP5Mg8779n+s/lw7w9/uair+c8BrhmIb6PwnSAnI0+PE/S+cdBUdI8T9uKx9NvNvSPwZTE9Nmyuw/otwYy0Mosz9PaU6c4Vz/P7ieVFG95fo/rtQgsCe1+T96ZnKe0DryPx6hwqSycuQ/0ZGqtnGuCUDlZzFrvNzAPyKaz4owTPQ/YngVvQsMCEBW6iRKV1/rPz8V8tX7uvw/uX0LMQGa9D8Hlbo3fRH+P6qNuWghU/S/i4EwK2A82D+jcCs0WZXxPy+kkeZz3aq/Auh1Rxop/T+iaAe0xuqqv4p8H1xTYPI/ksjBClpX9j+2373Y3pnCP5mvybALqvS/wJ8wWTDmvb8h4fjDcSb6P3ybpWddiPk/bLPSesCs5z//zeqJnNnrvz4x0ZYhMsE/lPe7rpih9j+gxD9rWQH6Pyj+/2DojfQ/AE5RK5D++j8yUT6gevDiP+8dYTMgAPU/dokVAQAm7j9YN62cynwFQFdYg32x7vA/ti2eyVdW9D9ollFuQZ7qP9+KsVGN9QhASupEJMRK3z95X22Gu/L7P7nOiz7fHfk/+2pII9SQ+z9La/ow+zPKPxM/0fFwpPU/6XBXE/2U9z/GpLVhguv3Py2cv/0/E+8/NIuP3K7EC0AdRtFP3LoFQHF7I/XuLrS/+3/ZxHey1D/iIsKzUif8Pxrr0lHQncM/AB4lf1x9CkCYlunpUFkuvwmUXxm5rNK/q3tPmkGsAEDD1CBOoxrmPwfspUW/c/0/cuEHfq3d9T+UJqVlaNj5P9YmeUlSd+K/DlHixqoc8z+QLyJyTy/7P/koN6K86hFA1td8uR7JDEDFxuW/7+3/PyRZTPdu8d8/TYIXBlyvaD9h3rKWRzrXv+vaps3Rn+0/H2XwUNg09D+YKGlzUUjAPz6J7zueePY/qsuHGWjF9T/8N+6fB/3Rv+fwl+Q2MwZAq0nrBbMWAEBwCh8NZWrSv1Wj9G5DQ/k/3YGgbCIL97/XL5ycTF7jv2DOgTbhveC/HXtHw06CwL8c+cvvt6WRP15L3V7oZOk/KTOCdC9NCEDwdolM/zUDQHX3/x71jQBAWzvzPg4g7j/yGBPkCmEAQKForo9pgAhA+aJGW3nw2z9zO/VqCfsBQJOTWAieA/c/Jxvo2g5oCEDpCrH2oSLlP+EBLr9HJPA/myithWo3/j+MYhlL7zLjP+R2VO6MTOS/KIgYUo6RA0AGRAuHzCvlP0iQAF0Qe/A/HGqvnH5J2j9sA6mcW0TnPzKs38wgnfw/3uTioHBS+z8FaAFXXKHvP2r0VQ/B5ew/2onanyjRA0Ala7OszA7fP2VNXueJVuM/o0+LJHc8/D+k8ma/DTLWvxczzjiTVeE/x9ksQc/I3L9zqXSmh9b3PzyB/V2SdfY/PXh9hbcRAUBe94OO8SQov3Kiknb9C/E/FVRwjZin4j/kPqqpZ67vP8KajY0c6+q/kb38L+m99L93mD4vPDPvv2l6P2nryeI/5HJoJSkL5T+vmkf1aJrqvyn1YIWbZOs/wVALmRPl5j8UEwJWtFv0P+ahdXXHA9g/7fOKkwTZ/T9mk/P6ptjxP+rFDIlG3/A/Jw2jdAoW4z989OXw4dD8P8MwGBJjrfI/kXLj8XwX/z8bK2oySqTuP3kjl5Y3zPY/JcLlDKkz1z8h4T0n4UXxP9rPv8J4b+S/vTW+8I/t9z9TwQ5+F/D5P5WTBK5+X96/bMmW6qpS1j88BoJQHe7UP+oyIq2vDu4/OEfpNkx18T///coYFLPwPyw8zLZft/S/lEmgY0E4ub9Fj5/XoO/wP/CuvX6MU9U/tPKX5H699T9JIikFULIDQD1BKCtJXPA/Ps/9+c6GpD/0bUajSczqP+gpvo4nD/Q/qAhKTBg4rz+h5zMf8BjxPyV8mZZOcew/STwXz70k7T+lcpuNRBzvP1AetnAp9dy/J84L5FD2AkC7+CHBh5/qP073rf4u6vO/81fhiaRHxL8z4J5pDGT0P5w1WqNSOwNA5r5d9QIDzj/03pmvXkjFv2knNS8YEtY/s+eV5vWi+T/3H5kcZCqDv3bcvGzt8+o/3lkar4Ct7j8NlIeMsRTwP+1URGoAsda/yOn3cwQM9D/bb6mwBHfqPxXcY9fjNwJA/P6tLTtq9z8pz9yT88nkP/bA0JzkXta/W2sjmdsB8T/yaEcmdZn+P+dsKErqq/M/LqNA2dxF8z/P2YwoSin7P+Qbmb4/ibc//pzxJ58U2T+WRKBF00qUP+6d+dgYPLc/0nFAgtkm/D8FWOEKsPj6P2HaLjzLgvs/m8TfG6XB9j/czC8k4hrjPyv8EfSQZPo/rj+/qPKnnr95mVZ1bp7yP8WlNYe+kQVAFnMGqOpK+j/x+qmBnJKOv/wcx0B3bOI//8R6Trs+hr9RwlVzKfbiP1M2muMGrO0/LFhBmgHq7b+Be3RZW9zsPwZjEPpz2/k/oPJpxnMu/z/dkTSrGG3mv+8cdD7Nmtk/Ttn1wwYX2T9+SUA6kTL/P6A3uYFdKPk/LlJFowMN7z8I+lPzh47sP+5D767A0QJAvgiwkdfu4D+d105O8wH9P/clxc2ofwhARkmmAHT1ur/6Olzrv+/2P1yA0tzpBf4/37wiAK7IAkB7zJrv8yoDQD74KITO0tM/kBeRvQ//6T/W07Po91bjP9KxCrylRPQ/a0/cLlvM8T/zEIdcM/n6PydAG/lDhf8/sQkBPrPCDkAS6ZugVsD/PyNKN8+HL5a/pezWCodL8D+c86dx+R73P5Ti5cixH+I/Kf3xyi0w1z88G/5LihcIQKZTl6EfVfU/BaoKHNGHxT/OePWPw/AFQEAukXMa5dE/3CRtDOS/5L+r4M7gWwr2Pw+1TPMFl/s/B36cBCu67D/K3nq/yDUAQDXNzMETo9I/Zjmo+xyr5T/vQovRBob1vzK3OnQv9cw/SIJNZzbBBkDfALH5z7DTP9qNyhgkL/Q/Oeq/lHvQ+T/bH9yyjIHfP8Hcqe5iNABA+SbcljmJ/D9K4AcTd3AJQNkG3cZHzuw/L0Tro6Mq+D9slmXiHDrnP0blzy+cS+8/rfA+UhPo6j9jo7k6i2j8P6m2SIUiw/4/X8RdysNs0D/8ak+1sxDzP+3lEpBJAfU/RBZZa06p4D+iy7AIprH1P3E1H+ulIN6/UcOVgBdZC0Cd6O3bzZz/P1ewivEpSPA/AbVUFtmv9z965FrH5hW7v1EF1DPCteQ/byuCRT694j9D8f/3qPjzP+dNNtm6IYQ/Z1hfD6uj8j+wJKsajvziv4jO2Aw4QwBAcJ3h5doL5z+5GdpONqv2P71ZjYlBIfo/6QVppxp6AUAq1TsGfgPtP5YM852eRMO/uB1uFs3G4z+u69AuvjbwP4Qp4BewVvk/ewYAO7WV+T8c3VDKMKLsP5km0jrtnN0/DX7HBFgo6j+OKnAI9CPPv1PXpYZU9vw/vALw1EjeAUCN64KplccBQDfL92/NdOc/z/FoCfsYAEBeot6A4ZP5P9mvW1te8QRAOuv8N2GVA0BBZnmLqc75PzKcHxCTxtE/SSU6/XXO9T/nfXxzeoHiPzhQt2d7GfQ/fj3tJfjn/j8jB6atA926vynBfdHMC7Q/5LEFWHJN+D+Lr6MHlTXxP9HGm4mQjQBAix/7vAbT/D/D3wywo1DjP62XCMC3RgVAUGAa47+a+z/fgqTcmjnnv9MMOOi9Vfo/kGN1/juP8b9/YlSBmhrzPzDfgZ5dv/M/Og5n8HZ0BEBwnprVVAXrP7XpeC2McPM/Hs6cTetI5j8nxa3W2UvuPxcFzDWthvY/QkV/wANL4z9no6mEVyuXP1R8mN9gtPo/PEnhT8Dn/D9tv5EyCf/kP1BCnSmDo/c/JoKYZq9JCUAb4Kk7Zdb3P2Uh+Pn3beU/edJ6oXWl1r8dARLxai7wvyt2hb2zy/c/iDD9tKpG9D8ZlM7P+4XnP3F3YCS6sPQ/jTML4rT20L/fe/x4Qwz5P+SdQW5YZvk/6UdU7i16B8Cun4TIviH7P+KViBQ91vM/2vrwFORV0L8WWTWvTJfzPyjlgS6Mv/c/3yp4lq6U4z9hho1aKWLhP3uwubONXPA/pnfk6ca01j8tQSfwbfP+P5xIyoUl8eA/i+la52pJAkB5uydaLy/tP3qVhh1r0d8/eLpk8NG2C0CjG640wjvMP/SA7X9F686/bPYz6d3L9z802FVO1x3rv50fr4G8PQRAFxN3a8Opdb+PA2y0z/usP+0z/3YcVfo/zKjUIdFBAkCaE771q4z4P6L4a5jUJea/WEwfN6Y4B0Cf7/OJ1prtPyrbB5tYW8I/FYRXl9rlAECIHQ6/0mbmP48dbbBwn+Y/wtVb8jpi9z8XBI7SzykJQMr6oucYysW/Cx47gBG39T/m7cYeynEBQF1yGeb927Y/KatsnF8K97//xuaj4ND4v/4KVB/VmQBATo4+qh9j/z/I23TOa3v+P9OxdUDfdeQ/de3duLif8D8tWaEQAi/RP19On0Iz/ca/7okxy55P5D/S0YSY/8P3P0Wog7byDuC/la5+So+DzD+zhFI/wCjpP8nENZMezMY/qhxfzZlyBEBC5xG4sOfuPyKVsyZZ5Ok/g1pLN1329r/EjRkTyhb2P8+fzehCAtG/0l9EN6KssD/8lQEiLdLQPyJO0xfUYfs/Qvm7QiPxxz+BerX7Q2P2PxbPXeBmmP0/zV29EITR9D9YFaZ+5NoBQLV65m0SDgJA+WI2Oxl72j/7Kp0UCk4CQKljtmXPJfY/aC4LCZbq4j8rfdbr9k4EQLyOZm8vpd2/XtNQS53T8j8PEMODwy75PzcDr8wuI/E/0cUeHpNHi78YS+XsOUD4P4buxADDrvk/NQKz/snH5z94lrflJSQBQGyfQC6mNri/hQe0e32W9D/kpSxiXGzsP+/VQB8ktQFAEgn2Qfx4BUCTA8/M74AAQLjTHpD60gBAJUvm8EseDkD+xYxNO5CLvwyobpGi/ANAW5MPpaBb0b8W2DfQJNkGQKa9uIpafuU/4xALYNK58D+B0U0ml3rKP7Acvhx3+uY/W+bdAFJs9j+gUUeXilWQv9OHJ+/85P0/eVnHwAui4j9Z/Yo2LA8HQM8zAUUTRwNA84T60Daz4T/Jz5zgqJECQL3zlZpBjgNA184qrXdT7z9HEImRtsnwP41OMwLq2t4/SO8bWf1r5j8p6rvTaTTTP6K+TuqkOwNARJmGovp66D+pe7R+JDLzPzYN8s5LVwNAcBH4Xm437D+7yMOvUi/WPyFvZeqFDdc//7drcaYs6j+tKqJVx7jmP3ZScsQ1Xac/2GbWYdk95z+zt3Im1RYQQKJPVx8bYLS/c/nvbP+w+j+eO6cL2lDnP2k7NcxNb9a/QIjnrkQX4z8OTp9lBNLnP0BkBjB6g+Y/XZnIJAYN7b9UtQ49zxIDQNOMibe4qOA/fQWdRq+F/D9S5hcqkxbvP2D4SjVjUvc/2BVU1xrQ/z8Q/wPjSszlvwIfoSzOKPY/kMuxE4GEDEDQkYq6fk33P4WUSK0ApAFAxkspKlPh8T/VpDVrQkDePz0fFxlrwL4/DU8UmLip9T8n0RWRu4AJQIrle9UAifA/sKSERsVuBkCxi+HJTtLwPycx4pkNMvc/eHDogtjMCEDKnpTdgPrsP1nE5dWi+PI/JXxCLOPoAEDBuDRZEXkHQM5OjNu/4eO/3fwZecPU8T8/QqlWTpDnP8ULFYSkDQJAflbhC2IRmz9J4L7iNpTsPyttnIzv2AZA5858PNW+4D94Z2Rw6I8GQH+DF8BFwf4/OU3i7ckOAkCmJVj5C5z8PzFOhh65bfQ//P0YL1B47D+xOPtdj1TYP7d3tW6fQuY/tSNew1sc5b9Pp1RLn37/P6QZcyI6yw5A16J7jzS+8j/gjINp8Xzkv/m9mj19IeU/KEtcpiOt8j9+bYUjKHHLP9wXDqnYIvs/ackgCOnNDUCO8nsm0NbgP5Zh1VAhB/I/2br6PfzYqb/rybjxZfr8P4GLgygS//Y/p6j09LmO6b8QDXmz+JH6P4nFgC3GCso/oWZjGX6gAUBPjgErBL3EP9xgEtGDWfg/y9L4Tt/88j+X9XFguInxP5S/kexTn/I/G47vvg0p7b8mBTE2d6LdP8xxVNOhiwRAFOzMExg4B8Bkle2Ick7xPxmJYDvY1QNABZYgEB4O8j9Yr8nL6XD3P3WuStjX6cK/waq5wq/p9D/Fa07y/W76PxaYiTCmFghAv9YcngLRZ79S9XlA6tLvP17RMXwY7/E/02oUkNd9sz+5LcVSYovsP5NAClxokYI/LawD4yvnBECx4piGO9DpPwBZmReuudq/C5uJ/xiG3j9Ni4Wcdcv3P2+lgm8TWsW/yrpQUN7HoD/Z2wQXuxf0P+N/wx7tjg9AXiwRCGUzx7/5IBtVz1UBQPSalw6Mcf0/xpVgXd5S8L/gbUC0eJvuP20tJp44YOU/9+Q6FElr0T+oKuV1TLrtP3VV5LRSJ/o/1d35cXH5BECiu061T9PYvxsuv84T6LC/wK6HXiN437/DXywcnT3pP8Vz80sEq/Q/qrXT7/ps5j8k54BVFIizvy2iGYoLc7g/K05wM60Z2j8plvhCVAEQQCnyqKJ7d9S/ALx4+e9L4b8Vym11teT6P1AFs9acseU/bLAMHqZP3j/o+FzDVCrHv8hR5VVzh9I/SqbNtflR7z9S+hIc543QP46UFS5fEdI/tuhVh+KnBUCwCzZEugXVPwjV0jm25/E/oYiwHxp6yr8H54kCa6vfP1rrm9X3Nw5A+j84/dKt8z/blDgR7YnTv/f1tiCXq98/LKOhe+Hu/z8ml4eBJl/hv0s+/tfFssW/sTBYXFw74z/9HeS0YmIAQD9cKHWTgA9Aeu7qhH4ZAUCcNDmJtEzrP/GIHYD8aPk/+0PnsDrFAEBa7J34MoPmP5vcT5pud8q/n75GU1YF6b/mAvmKcVndP60wBXrntnO/ehmCt1bO8D/V/XDvedLpv+k2vfVB8Lc/hwnPKL7vAECGwBME64PqPxdtzgWhGsu/JSOxhhb5AUC4XZ/rmJ3vP7Y5Rczkmuw/x+enLE3AAUCGqSmLDMX8P1m6fRVAiwBAMisX8CDVA0D4oXvdL9/qPxGw7DdOI/g/PM87hkJL7z8KRX5fd6XqP8/69mFp8fs/eUH6gJVkBUCekgPMXxUAQMi22VXqFd+/WbKcTD6y6z96s8o0KEXoP5qJtAEVvPO/Z+rCZIVo6j/Vl1cyLU3yP0lJLbb46vQ/+21WpsLL7j+SB/TEuQPwP0VpghaL1PK/aOdW9pqJ+z/1V6TOBHD0P55AU/hNxw1A/0ERnFXmAUATYaMsO6v2PxqHdf1bLuE/XkYatohyuj8e37sn0HTcP0ieX5PACvg/2Zio08dg8T+z3dc7XkzkP1Yga7Hhn+M/RlLIzEsO3D+hD+/J567/P+bWklj7aQZAEFMV0x16qT/+VEOmvugCQOVDrXl+PuI/TQ8arAOSAEArAGSte18EQALhYjLOaLE/XMhtibEm978y+sn7PcwDQAfnvwvy3uE/HL4D+HGF2T+5IhNndYjvP4VV1ddf+q4/e+Fh5osu/z81r06Cjnb1P4L18lmRatW/TonbJd5ODEBXfH61utjtP8UImRsagf8/RdUuhHA18T+vqifyJh7bv4sBqsUQ9OU/US4WqCJH4D+BOWwLP5/9P3n8j6EbBMU/JrG+wurH4z+EcZi6tqXiPz1lkYw7AM6/Sh2H1dxs+T/sb/4Kl1bxPzQXaA273vk/rMTZcZSF4j8npuE9G7DxP2n58+1JIvo/+7eC+7ea4b96rGM4XqAFQKufByGN5P4/3MbE2Lbd7T/IEGuAVkrzP+NzmGsmteE/+R+/CEM++T/biVVT6yHIvwobX83NAfM/JEFX9f3Xzj/e9nsE91TXv346gzFWPvg/MePHn+Ct8j9Gxlzr6z/nP06TXMt8w+E/a5VBsK+L+z8qPhWCh5btP3HEaSI+1us/Klm3kAQg9T/ltXxJrpXbv+PkmT0vlAJA2pbK2o97pT/qYzGNRLYGQCGaunZOsPo/JKZLRao4/D+jlJoaxY8AQC1wxR9cOvo/eKp+UNAa8z8ZpMqrcZTlP4KOIEqunfY/NVsji6t42T8lTSwgJBPuv1bDqaXHINo/q2sBhfgk1j+1GI+adBUHQAfife1ZVM4/ecJEsAzr5T+kqifCRRLDv8sqwkIBlMk/10lyM4YX7T9mxlm3zwnuP+u2+rCwnP4/GfHC1mI+9j+1Qp24f4yuv4xdAKTytsC/lR76mui15T9KD3rW/P/5P636AeqaEOQ/VFcjacZN7D9Zxe1hYjj5Pwqk6ZlIywZAqBQUMpxjxD9TSCRvzJa0v9xo74lPJLs/1juZAuqmuT+oVufKvPjuP6MW/d1c/vc/aEMxLKHm8T8vdfTrC9/UvwdUxuYM2PM/Tc5uQs1/8z97jNUy7sHavx8MQ5Q2G90/zpn5Gk00+z9PPawYV3eYPxwEsfNjYvo/yUhld8HPAEDwrc6qSyfTP3zZups5y9k/d5R8uPt46D8tXi1O4L3LPydHmjU0k/Y/CiyIxhNz9j+6iyAA3zTpP8AJdu8QU/Y/A0C76nYk9D/qEsyj2JLOP+3UlHa2J/o/IDSQnjQG7T/0nXrFwi34v4u8MpJuSZU/PeYKmYdJ4z+D1pgAJtL0P7RZjsXJ2v0/TAmFttjG8T8wVRYfxPABQBWFz6S2R+8/OGkHP51O3T8iBRi+f7XzP/sKVn+Kq74/YN3zHhRAnL+YBfc6MQEBQNOQMvGQcQdAqy+M1wazxz83QqrM87kDQIUEZke5f/8/uQYU3LZqib9yru5VSef0v7huwFVdwPI/9Lbc5YZh9T/CqD4JseYDQLBzSjjVNfs/N6djksV7/D9U/85ViUQAQCVSzOxOTvG/lVJgEoet8D92kWZNzhgCQNhVv7G3FvU/VfeviiJd0j9vfbQ213ruP4GpKGzY4uo/p0cB7/ak0T9qBFmUUIblP1BkveCOpfQ/c4m/2a4Fib9/8va3y/YGQFHNXuAHJwBA2TO1fVkyAECUwNF7qaDnPzx2Efzjq8E/IztP4Wr/8D/aTWwGrEe1Pz/Vdp8gDPM/gXxiPR/z+j9Gnae4zloFQC10rp8qngtAG6zxrLNA6D/ZbW2Pizjfv/QIxYCoDAdAFE7t1xTDAUDDODeBezLxP/ZhkacXKgdAyD249fwF6z9flUZb8kC/P1Ob/uwZavM/pDkt8LtJ4r8ofmGSUJi3P1L8ueVCQsA/zcPQmJy13D92oDRBidkAQLESOJvI5gJAmVVwDq879T821Dc1/8n+P7JMOXz7PgJAR5WLat+vsL9eQtK+asGSPxc6DF88suY/CpgrEy2yBEBeyAmzcbztP2iNYSyLptU/aH7t9Kk/9T8lIaZZHQPmv5kcgTqIAOk/bFSVoM0N2D/5cw1U81jzvzBcOyb/c/E//glCtqUE8D+jCW1tu3H9P7ShcCrwh/M/2WF5FL7uA0BhyA2TUaXvPytkNg8MWPk//bQoK+Ot8r9dg2X6yisBwEzBwyWUj+4/qzl9+XBN8D8YAUXu2FIIQBrZ3StFTP+/0k/re0wN5D/q4QQu2oDZv/TxLc2PRfE/Z7YQfyyB9j/XNLy9E2/7Pz8EMf2zFvE/WgOmBMxy7T9T0tv6GkTNvwV6/1m3xvU/G4b96Sj9AECSw1r9PbL/Pw==",
          "dtype": "f8"
         },
         "yaxis": "y"
        },
        {
         "hovertemplate": "color=SIRA<br>x=%{x}<br>y=%{y}<extra></extra>",
         "legendgroup": "SIRA",
         "marker": {
          "color": "#ab63fa",
          "symbol": "circle"
         },
         "mode": "markers",
         "name": "SIRA",
         "showlegend": true,
         "type": "scattergl",
         "x": {
          "bdata": "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",
          "dtype": "f8"
         },
         "xaxis": "x",
         "y": {
          "bdata": "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",
          "dtype": "f8"
         },
         "yaxis": "y"
        },
        {
         "hovertemplate": "color=CALI<br>x=%{x}<br>y=%{y}<extra></extra>",
         "legendgroup": "CALI",
         "marker": {
          "color": "#FFA15A",
          "symbol": "circle"
         },
         "mode": "markers",
         "name": "CALI",
         "showlegend": true,
         "type": "scattergl",
         "x": {
          "bdata": "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",
          "dtype": "f8"
         },
         "xaxis": "x",
         "y": {
          "bdata": "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",
          "dtype": "f8"
         },
         "yaxis": "y"
        },
        {
         "hovertemplate": "color=HOROZ<br>x=%{x}<br>y=%{y}<extra></extra>",
         "legendgroup": "HOROZ",
         "marker": {
          "color": "#19d3f3",
          "symbol": "circle"
         },
         "mode": "markers",
         "name": "HOROZ",
         "showlegend": true,
         "type": "scattergl",
         "x": {
          "bdata": "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",
          "dtype": "f8"
         },
         "xaxis": "x",
         "y": {
          "bdata": "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",
          "dtype": "f8"
         },
         "yaxis": "y"
        },
        {
         "hovertemplate": "color=BOMBAY<br>x=%{x}<br>y=%{y}<extra></extra>",
         "legendgroup": "BOMBAY",
         "marker": {
          "color": "#FF6692",
          "symbol": "circle"
         },
         "mode": "markers",
         "name": "BOMBAY",
         "showlegend": true,
         "type": "scattergl",
         "x": {
          "bdata": "bA3MzzuFIUBxK5M37YkgQMxqsPQIRh5AMLIwQ72EHkAHVspkNeUhQCf5D0LO7CJA6Z9hmvt+IkB1FeZ86XMTQKXqbDyStyNAOJ8BaW95GEDtFUm/fQ4eQKMLHnO0FRdA97+bGl0UHkCh1IHCNBYWQA4abP/aYBVAcZzfz0R8HECG0ArmYMkWQJ+Niyh5zRdA61xuBCC0FECLj7vVYV0XQP38ti6QzB1ALPCPHB0pHkDHtAMjsF8cQGtNDBrXmxxAKAO/sntcFUCGqM03WoEhQPzwwXMM6CBAjxe+hC96H0ArSNwEYh0fQEDObmH4DSBARxZvluFhEUARpkr4IIoZQJEUdt7/NR5AxvSLgqZKGEAnyAjpnvQjQO7c9ZcEuyBAuFXu1mdJFEC6iWUq98QbQKuv72dZzCRAdq+HYRCWF0BMrVp028MjQJwxmxCPbRpAZwhp9n8ZI0BqTfTtQ8okQEtM4owKARpA7KwKa2ynIkDAoG0cPZYUQG/XH1VY8CBAhKQ2nRRWDkA2YY/aaQggQBJ/g17SDRdAVUTv1kOkIkAe4fruD1QhQEDgZUMK+BZACxT01bYNHECJjnUrZ5IgQO6Y7AVfohtA1RHvyyRwHUBBOM4mY30hQMt74m01tRtAh3mZldAOHUD4sTXzTiohQNMP69595B1AQdc9Cov0GkAy+G42dvQcQEVBovDKyBhAZ936BKUbF0ArIIbb+voZQIVeZ5SHaxhACSzKb9BAH0BeGInO9B8hQCy+bzFAuBJAB0FNW91LHEC4d2tVpBgaQBAg4cZEwR1AFm7hQCn8I0AnrEMVn+IqQBRY5nSutiJAB5sY8SvPFEANSjgaE6ciQB6TqS8DVx5AP40awse2HEBk9oygtHEYQAsJYCjbmCBA+Dq5e30YI0ARlfBUWqggQKEpvftjRyhAH6iOWsH8HkAm+PJtKpMVQGEHWygS2RpAaZeipKkuI0Ck9kd4w1UZQBUY5hjoFiJAVfrCZ0wwJkBr/6fyZhchQNPV7nhv+hdAxjCkIzv8IUCto4znESwRQA3hQ/PnpRxAOi7PCMXEIUBzATo47NMkQCeGIvuXfiNAJzmjU4iYHkBRnAB+GwkXQPjG51WgBRtAMb+ufvyNDkBPwJXUZZADQMJNmMC6/RFAeP8X9UdqIkDSgqU74RQXQBHmTg8UEB5A1/1IrWmoHkDMpXXt7JQeQBoUg2SMSxpAHI4OjnuMIECHgOkZVUgbQDnb3OTvPRVAy10e4MFaHUBSoKl5mokiQJ7mMEMcaBlA++udjcfjIEACYbleX88fQE+kSBmeOSBAMc1+7iWTGEC7pKhnvZ4eQEj0PhWLcyNAHDaCp9NIIkA1/UdHD4gUQPntGyME8hZA8rdA3LB2IEDr4G4uBbcaQDq8e5GV6xNAp5GqpPKDJUD7CLHQgbcgQOBm6zrPtR1AqSo6NLxcIkCvBN7VNWohQJgBaPBs/RVAblMi+A3BGUAGOJ2LYxEiQFKNzsS61xxABOiDAz72JUA9kSTIaIchQIAAqKqt1BdABj4hjTPcIEDYcPTws0kdQARUI6l8Ox1AVvmiUcu2IkCP/RmX4y8jQCJKxfglpBpAl/oTo858G0B46E96i+AgQFGzByIIViNAliT79ysBH0CqJ37ArksiQHrl1Y6SWx5AMATQgwCoGEDoB7VgT7oiQBqVP/uFMxhA3R/PQj0qKUB+WNbzitEdQI/SqV3P5x1AGl9h2a2SKECuUto6fkMmQAALvrB6dh1AVlDOhyiaHEDHmUvPyygkQJ02eoU9NBxAOQovKLkDIUCz0469ZDwSQBcZXQL8LSFAO7FWqGlxIEB5d/iNsrEhQK/gUKs6IBpATaQjUR3OIUBPYfA4/mwhQIGqOyF5SyNAUbNSBNN5I0BNJL8Gz28VQGIpmnNwZSVAeu0rq9vtH0Ao8MDD0XEfQM0KR7oVfSBANaurr+UiH0DhMg3EMgAWQG+91Gw8GxhAIPpo2/7DI0DyN2axLi4dQPeC7bmPGyNAISp031fpJEBhCKmk1QEhQBgtcgVQSyRAdarFh7ZzGkDjaqj96OgbQEtwn6ANrSNASbKh6ComIUDQFmGG+jwiQIbmgomrMCFAHySz7Q7tIUAfJ59SeUUTQHc4Orz3PhBA746HFWeNIkDDfdWf0rUXQKfmUf0l/BFAIwq4KsUZHkBEKjX7q4YWQJ7P6+6rniRAk0e177eJIkBKkU6QC6AiQIzkaprksxdAiyKD0vaoH0DCHVc2GlwhQDoKS7CIsRpAv30wAKBEIUBRDgx5NbghQFnNvct3BBlAqFNdMMuzIUDTpY/NDHUcQDnxz8MV4xdAgKZkFNrGIkDGOz01GrYcQNIqucHEaB5A5+9f7F7HHEB41Ssfi4UWQMun3ms8WR9ADX2I0gDyHkA/8nXa0KAlQNTGTxlzdBtALA+7IJbNI0AvB96ja/wfQLBGOxPJLiFAurw5+RFZIkDwMUFDOHoYQFTIdvitMSBA0kktJyQ4IUD/g3nLW7ohQCIssqbssSRAnaUHrybTF0AQ1ZMGjPcjQLHsbFa2LyJAyAlIHKJHI0BPB3CtQEEgQD0ITJf3FhlACQPliUsTG0C3JJM38/QeQMjLLnSoCSBAiX3uGdBIIEBAa2RehV0eQGjERZ43hiJAAhcMbfveIUAvQhfM39YnQNw4y2BuvyhADFxoLnUhHEDNe09sNhsiQAYZ4DHCfyJAv4/mh/EDHkCJIIBHG30WQNsRenAg+SFAkDpHBI1JIUAPjhXgVnUcQAIFZCXeXSNAB5qsF7w6HEBGZe/IhFUhQA6cK4dP+yNAG+c+fqx6IkB4u7ibNJQYQInc+sgoeCBAKjP1HtiVE0CXUN46YmQXQKCX1ES8WiZAVJH3AGLAIUBGjmHA4D0bQLWx3VQQwSFAe/sULKAxIEATj2mx/A4ZQHzthEQbpR5Ao1qEbQzPI0DJVZgk00skQAwO54FdyiVAEobrkDk3HUDgD2mFd9scQNV8ns8hkh1Aau/P1OK7GUA79Zk/qCUnQMpoEVX3nyFAvyUVhDHEIEBgCwntdModQHnneBIepRdAfmjYOJ/EGEBXvjvbCdkXQHTDfC+dnB1AkJYmK+qIG0DI6tjzabYhQFXDzVoKVyJA0WepUL4qG0Dl08jb/8QlQBn6iq/k0iRAS+yDfIxZGECqfTmQOA4iQAGyhMS2yRxAwmmH5wGVIUD/dwRt7FsgQMPUCh426htAuYVp4nDnIkA0nrCKanofQGlAnyW/Ix5ACEZT2NORIEBKmRc13AMfQNTi1/AbKCRAinNCJb+SHUAUT46yJPQaQPPiWdDOsiJAipNSVw6JIEA8u0acoO0gQET/Z2wwbRxAyf2TKLGEHkC/UPN2v58eQMDoZ1RDwyBAV4hfMzRVGEBAaJpU8qkhQBwMHzVn7x5A9oiuWLnfIUDIkw2JjmMhQIl1bnjcLBdAS1DiIahGIkDVS/Tq+c4bQLwPzm6wwxtA7vQ/dg5CIUD2qOMOrjYXQITgzPwesCFAlA1alYx5HkAoH5fCqoUnQNFMss1W6BxApUm4jQlLI0CATU3yaO4ZQPx2RRpavhhAkI+7WDqcI0CLdYGOVu8fQI9nbGdtOyBAIbIJNuy6JUDqF6AbQ+MgQEGvoaXp8iBAvIMwEl5RHkBySd2E8tggQMhCC1RWER5APlrvrbtxHEBYhinpLG0ZQAOG+AvoYCFAFAAvJzVcGECxKM4JRS4jQBBC90iRCSFAJ3GBVGMtGUBah6aE+lIWQHXz8vLZkhpA6VZ+/WJKIkDQOtTJTM4ZQJv0Hx20cRtAB9dwjxcQIUAeC1Es1vckQEE4yQPUjRZAEZOVwoQFH0DmOsTzpAcZQMFlEqXTTCFAnB5FkKp1I0ATJJY2EzUeQIJQHgy7FSJAudBvz72EHEBSmkfJ2cEfQFd1GM6sziRAk1sCxBS/HkAxXO5sdm0YQOrlnhZCyyBAln0pneGCG0DyTlXmHJ4dQIm+JNDMtSFADk3CSUU5IEBl6kU8/aIUQDgGcDYR1iFAAq4jgi7lIEC6YE4BXKIiQHiy3f3UvyFA1cl8EEBXGUDuy/5gG7AWQKbg8nNGnhxA9QMqMsKxIEBtqv1FO5QmQKs+FEFrHyFAR4d1AvdAIkCEmBGB7ZYWQDiMf7uWQBhAuFmFgdjgGECp/E4rDsUSQGsSwvE0lh1AF3sAjsDYFkB50JWeyTEaQKZL+Ngk5iFA7+kC0TkAG0D8rfvVGYYiQFqbSi0q+yFAQVuzSg+mHkBKmo0usVkiQFl0aOG2KBxAXcvpRnywI0Bxqj8wXW0hQAOXF9Yc+xZA",
          "dtype": "f8"
         },
         "xaxis": "x",
         "y": {
          "bdata": "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",
          "dtype": "f8"
         },
         "yaxis": "y"
        }
       ],
       "layout": {
        "legend": {
         "title": {
          "text": "color"
         },
         "tracegroupgap": 0
        },
        "margin": {
         "t": 60
        },
        "template": {
         "data": {
          "bar": [
           {
            "error_x": {
             "color": "#2a3f5f"
            },
            "error_y": {
             "color": "#2a3f5f"
            },
            "marker": {
             "line": {
              "color": "#E5ECF6",
              "width": 0.5
             },
             "pattern": {
              "fillmode": "overlay",
              "size": 10,
              "solidity": 0.2
             }
            },
            "type": "bar"
           }
          ],
          "barpolar": [
           {
            "marker": {
             "line": {
              "color": "#E5ECF6",
              "width": 0.5
             },
             "pattern": {
              "fillmode": "overlay",
              "size": 10,
              "solidity": 0.2
             }
            },
            "type": "barpolar"
           }
          ],
          "carpet": [
           {
            "aaxis": {
             "endlinecolor": "#2a3f5f",
             "gridcolor": "white",
             "linecolor": "white",
             "minorgridcolor": "white",
             "startlinecolor": "#2a3f5f"
            },
            "baxis": {
             "endlinecolor": "#2a3f5f",
             "gridcolor": "white",
             "linecolor": "white",
             "minorgridcolor": "white",
             "startlinecolor": "#2a3f5f"
            },
            "type": "carpet"
           }
          ],
          "choropleth": [
           {
            "colorbar": {
             "outlinewidth": 0,
             "ticks": ""
            },
            "type": "choropleth"
           }
          ],
          "contour": [
           {
            "colorbar": {
             "outlinewidth": 0,
             "ticks": ""
            },
            "colorscale": [
             [
              0,
              "#0d0887"
             ],
             [
              0.1111111111111111,
              "#46039f"
             ],
             [
              0.2222222222222222,
              "#7201a8"
             ],
             [
              0.3333333333333333,
              "#9c179e"
             ],
             [
              0.4444444444444444,
              "#bd3786"
             ],
             [
              0.5555555555555556,
              "#d8576b"
             ],
             [
              0.6666666666666666,
              "#ed7953"
             ],
             [
              0.7777777777777778,
              "#fb9f3a"
             ],
             [
              0.8888888888888888,
              "#fdca26"
             ],
             [
              1,
              "#f0f921"
             ]
            ],
            "type": "contour"
           }
          ],
          "contourcarpet": [
           {
            "colorbar": {
             "outlinewidth": 0,
             "ticks": ""
            },
            "type": "contourcarpet"
           }
          ],
          "heatmap": [
           {
            "colorbar": {
             "outlinewidth": 0,
             "ticks": ""
            },
            "colorscale": [
             [
              0,
              "#0d0887"
             ],
             [
              0.1111111111111111,
              "#46039f"
             ],
             [
              0.2222222222222222,
              "#7201a8"
             ],
             [
              0.3333333333333333,
              "#9c179e"
             ],
             [
              0.4444444444444444,
              "#bd3786"
             ],
             [
              0.5555555555555556,
              "#d8576b"
             ],
             [
              0.6666666666666666,
              "#ed7953"
             ],
             [
              0.7777777777777778,
              "#fb9f3a"
             ],
             [
              0.8888888888888888,
              "#fdca26"
             ],
             [
              1,
              "#f0f921"
             ]
            ],
            "type": "heatmap"
           }
          ],
          "histogram": [
           {
            "marker": {
             "pattern": {
              "fillmode": "overlay",
              "size": 10,
              "solidity": 0.2
             }
            },
            "type": "histogram"
           }
          ],
          "histogram2d": [
           {
            "colorbar": {
             "outlinewidth": 0,
             "ticks": ""
            },
            "colorscale": [
             [
              0,
              "#0d0887"
             ],
             [
              0.1111111111111111,
              "#46039f"
             ],
             [
              0.2222222222222222,
              "#7201a8"
             ],
             [
              0.3333333333333333,
              "#9c179e"
             ],
             [
              0.4444444444444444,
              "#bd3786"
             ],
             [
              0.5555555555555556,
              "#d8576b"
             ],
             [
              0.6666666666666666,
              "#ed7953"
             ],
             [
              0.7777777777777778,
              "#fb9f3a"
             ],
             [
              0.8888888888888888,
              "#fdca26"
             ],
             [
              1,
              "#f0f921"
             ]
            ],
            "type": "histogram2d"
           }
          ],
          "histogram2dcontour": [
           {
            "colorbar": {
             "outlinewidth": 0,
             "ticks": ""
            },
            "colorscale": [
             [
              0,
              "#0d0887"
             ],
             [
              0.1111111111111111,
              "#46039f"
             ],
             [
              0.2222222222222222,
              "#7201a8"
             ],
             [
              0.3333333333333333,
              "#9c179e"
             ],
             [
              0.4444444444444444,
              "#bd3786"
             ],
             [
              0.5555555555555556,
              "#d8576b"
             ],
             [
              0.6666666666666666,
              "#ed7953"
             ],
             [
              0.7777777777777778,
              "#fb9f3a"
             ],
             [
              0.8888888888888888,
              "#fdca26"
             ],
             [
              1,
              "#f0f921"
             ]
            ],
            "type": "histogram2dcontour"
           }
          ],
          "mesh3d": [
           {
            "colorbar": {
             "outlinewidth": 0,
             "ticks": ""
            },
            "type": "mesh3d"
           }
          ],
          "parcoords": [
           {
            "line": {
             "colorbar": {
              "outlinewidth": 0,
              "ticks": ""
             }
            },
            "type": "parcoords"
           }
          ],
          "pie": [
           {
            "automargin": true,
            "type": "pie"
           }
          ],
          "scatter": [
           {
            "fillpattern": {
             "fillmode": "overlay",
             "size": 10,
             "solidity": 0.2
            },
            "type": "scatter"
           }
          ],
          "scatter3d": [
           {
            "line": {
             "colorbar": {
              "outlinewidth": 0,
              "ticks": ""
             }
            },
            "marker": {
             "colorbar": {
              "outlinewidth": 0,
              "ticks": ""
             }
            },
            "type": "scatter3d"
           }
          ],
          "scattercarpet": [
           {
            "marker": {
             "colorbar": {
              "outlinewidth": 0,
              "ticks": ""
             }
            },
            "type": "scattercarpet"
           }
          ],
          "scattergeo": [
           {
            "marker": {
             "colorbar": {
              "outlinewidth": 0,
              "ticks": ""
             }
            },
            "type": "scattergeo"
           }
          ],
          "scattergl": [
           {
            "marker": {
             "colorbar": {
              "outlinewidth": 0,
              "ticks": ""
             }
            },
            "type": "scattergl"
           }
          ],
          "scattermap": [
           {
            "marker": {
             "colorbar": {
              "outlinewidth": 0,
              "ticks": ""
             }
            },
            "type": "scattermap"
           }
          ],
          "scattermapbox": [
           {
            "marker": {
             "colorbar": {
              "outlinewidth": 0,
              "ticks": ""
             }
            },
            "type": "scattermapbox"
           }
          ],
          "scatterpolar": [
           {
            "marker": {
             "colorbar": {
              "outlinewidth": 0,
              "ticks": ""
             }
            },
            "type": "scatterpolar"
           }
          ],
          "scatterpolargl": [
           {
            "marker": {
             "colorbar": {
              "outlinewidth": 0,
              "ticks": ""
             }
            },
            "type": "scatterpolargl"
           }
          ],
          "scatterternary": [
           {
            "marker": {
             "colorbar": {
              "outlinewidth": 0,
              "ticks": ""
             }
            },
            "type": "scatterternary"
           }
          ],
          "surface": [
           {
            "colorbar": {
             "outlinewidth": 0,
             "ticks": ""
            },
            "colorscale": [
             [
              0,
              "#0d0887"
             ],
             [
              0.1111111111111111,
              "#46039f"
             ],
             [
              0.2222222222222222,
              "#7201a8"
             ],
             [
              0.3333333333333333,
              "#9c179e"
             ],
             [
              0.4444444444444444,
              "#bd3786"
             ],
             [
              0.5555555555555556,
              "#d8576b"
             ],
             [
              0.6666666666666666,
              "#ed7953"
             ],
             [
              0.7777777777777778,
              "#fb9f3a"
             ],
             [
              0.8888888888888888,
              "#fdca26"
             ],
             [
              1,
              "#f0f921"
             ]
            ],
            "type": "surface"
           }
          ],
          "table": [
           {
            "cells": {
             "fill": {
              "color": "#EBF0F8"
             },
             "line": {
              "color": "white"
             }
            },
            "header": {
             "fill": {
              "color": "#C8D4E3"
             },
             "line": {
              "color": "white"
             }
            },
            "type": "table"
           }
          ]
         },
         "layout": {
          "annotationdefaults": {
           "arrowcolor": "#2a3f5f",
           "arrowhead": 0,
           "arrowwidth": 1
          },
          "autotypenumbers": "strict",
          "coloraxis": {
           "colorbar": {
            "outlinewidth": 0,
            "ticks": ""
           }
          },
          "colorscale": {
           "diverging": [
            [
             0,
             "#8e0152"
            ],
            [
             0.1,
             "#c51b7d"
            ],
            [
             0.2,
             "#de77ae"
            ],
            [
             0.3,
             "#f1b6da"
            ],
            [
             0.4,
             "#fde0ef"
            ],
            [
             0.5,
             "#f7f7f7"
            ],
            [
             0.6,
             "#e6f5d0"
            ],
            [
             0.7,
             "#b8e186"
            ],
            [
             0.8,
             "#7fbc41"
            ],
            [
             0.9,
             "#4d9221"
            ],
            [
             1,
             "#276419"
            ]
           ],
           "sequential": [
            [
             0,
             "#0d0887"
            ],
            [
             0.1111111111111111,
             "#46039f"
            ],
            [
             0.2222222222222222,
             "#7201a8"
            ],
            [
             0.3333333333333333,
             "#9c179e"
            ],
            [
             0.4444444444444444,
             "#bd3786"
            ],
            [
             0.5555555555555556,
             "#d8576b"
            ],
            [
             0.6666666666666666,
             "#ed7953"
            ],
            [
             0.7777777777777778,
             "#fb9f3a"
            ],
            [
             0.8888888888888888,
             "#fdca26"
            ],
            [
             1,
             "#f0f921"
            ]
           ],
           "sequentialminus": [
            [
             0,
             "#0d0887"
            ],
            [
             0.1111111111111111,
             "#46039f"
            ],
            [
             0.2222222222222222,
             "#7201a8"
            ],
            [
             0.3333333333333333,
             "#9c179e"
            ],
            [
             0.4444444444444444,
             "#bd3786"
            ],
            [
             0.5555555555555556,
             "#d8576b"
            ],
            [
             0.6666666666666666,
             "#ed7953"
            ],
            [
             0.7777777777777778,
             "#fb9f3a"
            ],
            [
             0.8888888888888888,
             "#fdca26"
            ],
            [
             1,
             "#f0f921"
            ]
           ]
          },
          "colorway": [
           "#636efa",
           "#EF553B",
           "#00cc96",
           "#ab63fa",
           "#FFA15A",
           "#19d3f3",
           "#FF6692",
           "#B6E880",
           "#FF97FF",
           "#FECB52"
          ],
          "font": {
           "color": "#2a3f5f"
          },
          "geo": {
           "bgcolor": "white",
           "lakecolor": "white",
           "landcolor": "#E5ECF6",
           "showlakes": true,
           "showland": true,
           "subunitcolor": "white"
          },
          "hoverlabel": {
           "align": "left"
          },
          "hovermode": "closest",
          "mapbox": {
           "style": "light"
          },
          "paper_bgcolor": "white",
          "plot_bgcolor": "#E5ECF6",
          "polar": {
           "angularaxis": {
            "gridcolor": "white",
            "linecolor": "white",
            "ticks": ""
           },
           "bgcolor": "#E5ECF6",
           "radialaxis": {
            "gridcolor": "white",
            "linecolor": "white",
            "ticks": ""
           }
          },
          "scene": {
           "xaxis": {
            "backgroundcolor": "#E5ECF6",
            "gridcolor": "white",
            "gridwidth": 2,
            "linecolor": "white",
            "showbackground": true,
            "ticks": "",
            "zerolinecolor": "white"
           },
           "yaxis": {
            "backgroundcolor": "#E5ECF6",
            "gridcolor": "white",
            "gridwidth": 2,
            "linecolor": "white",
            "showbackground": true,
            "ticks": "",
            "zerolinecolor": "white"
           },
           "zaxis": {
            "backgroundcolor": "#E5ECF6",
            "gridcolor": "white",
            "gridwidth": 2,
            "linecolor": "white",
            "showbackground": true,
            "ticks": "",
            "zerolinecolor": "white"
           }
          },
          "shapedefaults": {
           "line": {
            "color": "#2a3f5f"
           }
          },
          "ternary": {
           "aaxis": {
            "gridcolor": "white",
            "linecolor": "white",
            "ticks": ""
           },
           "baxis": {
            "gridcolor": "white",
            "linecolor": "white",
            "ticks": ""
           },
           "bgcolor": "#E5ECF6",
           "caxis": {
            "gridcolor": "white",
            "linecolor": "white",
            "ticks": ""
           }
          },
          "title": {
           "x": 0.05
          },
          "xaxis": {
           "automargin": true,
           "gridcolor": "white",
           "linecolor": "white",
           "ticks": "",
           "title": {
            "standoff": 15
           },
           "zerolinecolor": "white",
           "zerolinewidth": 2
          },
          "yaxis": {
           "automargin": true,
           "gridcolor": "white",
           "linecolor": "white",
           "ticks": "",
           "title": {
            "standoff": 15
           },
           "zerolinecolor": "white",
           "zerolinewidth": 2
          }
         }
        },
        "xaxis": {
         "anchor": "y",
         "domain": [
          0,
          1
         ],
         "title": {
          "text": "x"
         }
        },
        "yaxis": {
         "anchor": "x",
         "domain": [
          0,
          1
         ],
         "title": {
          "text": "y"
         }
        }
       }
      }
     },
     "metadata": {},
     "output_type": "display_data"
    }
   ],
   "source": [
    "px.scatter(\n",
    "    x = X_pca[0],\n",
    "    y = X_pca[1],\n",
    "    color = Y_train\n",
    ")"
   ]
  },
  {
   "cell_type": "code",
   "execution_count": 15,
   "id": "f76647a7",
   "metadata": {},
   "outputs": [],
   "source": [
    "encoder = LabelEncoder()\n",
    "Y_train_enc = encoder.fit_transform(Y_train)   \n",
    "y_true = encoder.transform(Y_test) "
   ]
  },
  {
   "cell_type": "code",
   "execution_count": 16,
   "id": "e61da106",
   "metadata": {},
   "outputs": [
    {
     "name": "stdout",
     "output_type": "stream",
     "text": [
      "1 1.0088138082996694 0.8464204752197049 0.622107969151671\n",
      "2 0.3422695556371649 0.3453194803848668 0.8622842453176643\n",
      "3 0.2625780389276533 0.2694472289529241 0.8968049944913699\n",
      "4 0.24825560044069042 0.25471464650352327 0.9056188027910393\n",
      "5 0.21410209327947116 0.22777125453464886 0.9203084832904884\n",
      "6 0.20969518912963642 0.2188483927997295 0.9232464193903782\n",
      "7 0.2016158648549394 0.21044681286232741 0.9269188395152406\n",
      "8 0.20345207491737055 0.20987859363663502 0.9265515975027543\n",
      "9 0.1990451707675358 0.20970576499454868 0.9269188395152406\n",
      "10 0.20235034887991185 0.20961657725909139 0.9265515975027543\n",
      "11 0.2078589790672053 0.20929675158626695 0.9250826294528094\n",
      "12 0.20639001101726037 0.2090451466366229 0.9258171134777818\n",
      "13 0.20455380095482922 0.2091286372192836 0.9261843554902681\n",
      "14 0.20455380095482922 0.20906512206572556 0.9261843554902681\n",
      "15 0.2027175908923981 0.2091112048623235 0.9265515975027543\n"
     ]
    }
   ],
   "source": [
    "losses = []\n",
    "maes = []\n",
    "accs = []\n",
    "\n",
    "for d in range(1,U.shape[1]):\n",
    "    x_tr = pca.transform(X_train, d)\n",
    "    x_te = pca.transform(X_test, d)\n",
    "    \n",
    "    clf = LogisticRegression(solver='lbfgs', max_iter=1000)\n",
    "    clf.fit(x_tr, Y_train_enc)\n",
    "    \n",
    "    pred_prob = clf.predict_proba(x_te)\n",
    "    pred_class = clf.predict(x_te)            \n",
    "    \n",
    "    losses.append(log_loss(y_true, pred_prob))\n",
    "    maes.append(mean_absolute_error(y_true, pred_class))\n",
    "    accs.append(accuracy_score(y_true, pred_class))\n",
    "    \n",
    "    print(d, maes[d-1], losses[d-1], accs[d-1])"
   ]
  },
  {
   "cell_type": "code",
   "execution_count": 17,
   "id": "13f99c1e",
   "metadata": {},
   "outputs": [
    {
     "data": {
      "application/vnd.plotly.v1+json": {
       "config": {
        "plotlyServerURL": "https://plot.ly"
       },
       "data": [
        {
         "hovertemplate": "x=%{x}<br>y=%{y}<extra></extra>",
         "legendgroup": "",
         "marker": {
          "color": "#636efa",
          "symbol": "circle"
         },
         "mode": "markers",
         "name": "",
         "orientation": "v",
         "showlegend": false,
         "type": "scatter",
         "x": {
          "bdata": "AAECAwQFBgcICQoLDA0O",
          "dtype": "i1"
         },
         "xaxis": "x",
         "y": {
          "bdata": "Gnh3ZOAV6z+OLrvgthnWP8dwFpefPtE/jN4iqT5N0D+Y/JjEmyfNPy6y7WA5A8w/skNl0evvyj+KYOY/Td3KP3KVN3Wj18o/Fn0DTLfUyj85bJxnPMrKP42NGMr9wco/isbBKLrEyj9H1gBbpcLKP90vDu0nxMo/",
          "dtype": "f8"
         },
         "yaxis": "y"
        }
       ],
       "layout": {
        "legend": {
         "tracegroupgap": 0
        },
        "margin": {
         "t": 60
        },
        "template": {
         "data": {
          "bar": [
           {
            "error_x": {
             "color": "#2a3f5f"
            },
            "error_y": {
             "color": "#2a3f5f"
            },
            "marker": {
             "line": {
              "color": "#E5ECF6",
              "width": 0.5
             },
             "pattern": {
              "fillmode": "overlay",
              "size": 10,
              "solidity": 0.2
             }
            },
            "type": "bar"
           }
          ],
          "barpolar": [
           {
            "marker": {
             "line": {
              "color": "#E5ECF6",
              "width": 0.5
             },
             "pattern": {
              "fillmode": "overlay",
              "size": 10,
              "solidity": 0.2
             }
            },
            "type": "barpolar"
           }
          ],
          "carpet": [
           {
            "aaxis": {
             "endlinecolor": "#2a3f5f",
             "gridcolor": "white",
             "linecolor": "white",
             "minorgridcolor": "white",
             "startlinecolor": "#2a3f5f"
            },
            "baxis": {
             "endlinecolor": "#2a3f5f",
             "gridcolor": "white",
             "linecolor": "white",
             "minorgridcolor": "white",
             "startlinecolor": "#2a3f5f"
            },
            "type": "carpet"
           }
          ],
          "choropleth": [
           {
            "colorbar": {
             "outlinewidth": 0,
             "ticks": ""
            },
            "type": "choropleth"
           }
          ],
          "contour": [
           {
            "colorbar": {
             "outlinewidth": 0,
             "ticks": ""
            },
            "colorscale": [
             [
              0,
              "#0d0887"
             ],
             [
              0.1111111111111111,
              "#46039f"
             ],
             [
              0.2222222222222222,
              "#7201a8"
             ],
             [
              0.3333333333333333,
              "#9c179e"
             ],
             [
              0.4444444444444444,
              "#bd3786"
             ],
             [
              0.5555555555555556,
              "#d8576b"
             ],
             [
              0.6666666666666666,
              "#ed7953"
             ],
             [
              0.7777777777777778,
              "#fb9f3a"
             ],
             [
              0.8888888888888888,
              "#fdca26"
             ],
             [
              1,
              "#f0f921"
             ]
            ],
            "type": "contour"
           }
          ],
          "contourcarpet": [
           {
            "colorbar": {
             "outlinewidth": 0,
             "ticks": ""
            },
            "type": "contourcarpet"
           }
          ],
          "heatmap": [
           {
            "colorbar": {
             "outlinewidth": 0,
             "ticks": ""
            },
            "colorscale": [
             [
              0,
              "#0d0887"
             ],
             [
              0.1111111111111111,
              "#46039f"
             ],
             [
              0.2222222222222222,
              "#7201a8"
             ],
             [
              0.3333333333333333,
              "#9c179e"
             ],
             [
              0.4444444444444444,
              "#bd3786"
             ],
             [
              0.5555555555555556,
              "#d8576b"
             ],
             [
              0.6666666666666666,
              "#ed7953"
             ],
             [
              0.7777777777777778,
              "#fb9f3a"
             ],
             [
              0.8888888888888888,
              "#fdca26"
             ],
             [
              1,
              "#f0f921"
             ]
            ],
            "type": "heatmap"
           }
          ],
          "histogram": [
           {
            "marker": {
             "pattern": {
              "fillmode": "overlay",
              "size": 10,
              "solidity": 0.2
             }
            },
            "type": "histogram"
           }
          ],
          "histogram2d": [
           {
            "colorbar": {
             "outlinewidth": 0,
             "ticks": ""
            },
            "colorscale": [
             [
              0,
              "#0d0887"
             ],
             [
              0.1111111111111111,
              "#46039f"
             ],
             [
              0.2222222222222222,
              "#7201a8"
             ],
             [
              0.3333333333333333,
              "#9c179e"
             ],
             [
              0.4444444444444444,
              "#bd3786"
             ],
             [
              0.5555555555555556,
              "#d8576b"
             ],
             [
              0.6666666666666666,
              "#ed7953"
             ],
             [
              0.7777777777777778,
              "#fb9f3a"
             ],
             [
              0.8888888888888888,
              "#fdca26"
             ],
             [
              1,
              "#f0f921"
             ]
            ],
            "type": "histogram2d"
           }
          ],
          "histogram2dcontour": [
           {
            "colorbar": {
             "outlinewidth": 0,
             "ticks": ""
            },
            "colorscale": [
             [
              0,
              "#0d0887"
             ],
             [
              0.1111111111111111,
              "#46039f"
             ],
             [
              0.2222222222222222,
              "#7201a8"
             ],
             [
              0.3333333333333333,
              "#9c179e"
             ],
             [
              0.4444444444444444,
              "#bd3786"
             ],
             [
              0.5555555555555556,
              "#d8576b"
             ],
             [
              0.6666666666666666,
              "#ed7953"
             ],
             [
              0.7777777777777778,
              "#fb9f3a"
             ],
             [
              0.8888888888888888,
              "#fdca26"
             ],
             [
              1,
              "#f0f921"
             ]
            ],
            "type": "histogram2dcontour"
           }
          ],
          "mesh3d": [
           {
            "colorbar": {
             "outlinewidth": 0,
             "ticks": ""
            },
            "type": "mesh3d"
           }
          ],
          "parcoords": [
           {
            "line": {
             "colorbar": {
              "outlinewidth": 0,
              "ticks": ""
             }
            },
            "type": "parcoords"
           }
          ],
          "pie": [
           {
            "automargin": true,
            "type": "pie"
           }
          ],
          "scatter": [
           {
            "fillpattern": {
             "fillmode": "overlay",
             "size": 10,
             "solidity": 0.2
            },
            "type": "scatter"
           }
          ],
          "scatter3d": [
           {
            "line": {
             "colorbar": {
              "outlinewidth": 0,
              "ticks": ""
             }
            },
            "marker": {
             "colorbar": {
              "outlinewidth": 0,
              "ticks": ""
             }
            },
            "type": "scatter3d"
           }
          ],
          "scattercarpet": [
           {
            "marker": {
             "colorbar": {
              "outlinewidth": 0,
              "ticks": ""
             }
            },
            "type": "scattercarpet"
           }
          ],
          "scattergeo": [
           {
            "marker": {
             "colorbar": {
              "outlinewidth": 0,
              "ticks": ""
             }
            },
            "type": "scattergeo"
           }
          ],
          "scattergl": [
           {
            "marker": {
             "colorbar": {
              "outlinewidth": 0,
              "ticks": ""
             }
            },
            "type": "scattergl"
           }
          ],
          "scattermap": [
           {
            "marker": {
             "colorbar": {
              "outlinewidth": 0,
              "ticks": ""
             }
            },
            "type": "scattermap"
           }
          ],
          "scattermapbox": [
           {
            "marker": {
             "colorbar": {
              "outlinewidth": 0,
              "ticks": ""
             }
            },
            "type": "scattermapbox"
           }
          ],
          "scatterpolar": [
           {
            "marker": {
             "colorbar": {
              "outlinewidth": 0,
              "ticks": ""
             }
            },
            "type": "scatterpolar"
           }
          ],
          "scatterpolargl": [
           {
            "marker": {
             "colorbar": {
              "outlinewidth": 0,
              "ticks": ""
             }
            },
            "type": "scatterpolargl"
           }
          ],
          "scatterternary": [
           {
            "marker": {
             "colorbar": {
              "outlinewidth": 0,
              "ticks": ""
             }
            },
            "type": "scatterternary"
           }
          ],
          "surface": [
           {
            "colorbar": {
             "outlinewidth": 0,
             "ticks": ""
            },
            "colorscale": [
             [
              0,
              "#0d0887"
             ],
             [
              0.1111111111111111,
              "#46039f"
             ],
             [
              0.2222222222222222,
              "#7201a8"
             ],
             [
              0.3333333333333333,
              "#9c179e"
             ],
             [
              0.4444444444444444,
              "#bd3786"
             ],
             [
              0.5555555555555556,
              "#d8576b"
             ],
             [
              0.6666666666666666,
              "#ed7953"
             ],
             [
              0.7777777777777778,
              "#fb9f3a"
             ],
             [
              0.8888888888888888,
              "#fdca26"
             ],
             [
              1,
              "#f0f921"
             ]
            ],
            "type": "surface"
           }
          ],
          "table": [
           {
            "cells": {
             "fill": {
              "color": "#EBF0F8"
             },
             "line": {
              "color": "white"
             }
            },
            "header": {
             "fill": {
              "color": "#C8D4E3"
             },
             "line": {
              "color": "white"
             }
            },
            "type": "table"
           }
          ]
         },
         "layout": {
          "annotationdefaults": {
           "arrowcolor": "#2a3f5f",
           "arrowhead": 0,
           "arrowwidth": 1
          },
          "autotypenumbers": "strict",
          "coloraxis": {
           "colorbar": {
            "outlinewidth": 0,
            "ticks": ""
           }
          },
          "colorscale": {
           "diverging": [
            [
             0,
             "#8e0152"
            ],
            [
             0.1,
             "#c51b7d"
            ],
            [
             0.2,
             "#de77ae"
            ],
            [
             0.3,
             "#f1b6da"
            ],
            [
             0.4,
             "#fde0ef"
            ],
            [
             0.5,
             "#f7f7f7"
            ],
            [
             0.6,
             "#e6f5d0"
            ],
            [
             0.7,
             "#b8e186"
            ],
            [
             0.8,
             "#7fbc41"
            ],
            [
             0.9,
             "#4d9221"
            ],
            [
             1,
             "#276419"
            ]
           ],
           "sequential": [
            [
             0,
             "#0d0887"
            ],
            [
             0.1111111111111111,
             "#46039f"
            ],
            [
             0.2222222222222222,
             "#7201a8"
            ],
            [
             0.3333333333333333,
             "#9c179e"
            ],
            [
             0.4444444444444444,
             "#bd3786"
            ],
            [
             0.5555555555555556,
             "#d8576b"
            ],
            [
             0.6666666666666666,
             "#ed7953"
            ],
            [
             0.7777777777777778,
             "#fb9f3a"
            ],
            [
             0.8888888888888888,
             "#fdca26"
            ],
            [
             1,
             "#f0f921"
            ]
           ],
           "sequentialminus": [
            [
             0,
             "#0d0887"
            ],
            [
             0.1111111111111111,
             "#46039f"
            ],
            [
             0.2222222222222222,
             "#7201a8"
            ],
            [
             0.3333333333333333,
             "#9c179e"
            ],
            [
             0.4444444444444444,
             "#bd3786"
            ],
            [
             0.5555555555555556,
             "#d8576b"
            ],
            [
             0.6666666666666666,
             "#ed7953"
            ],
            [
             0.7777777777777778,
             "#fb9f3a"
            ],
            [
             0.8888888888888888,
             "#fdca26"
            ],
            [
             1,
             "#f0f921"
            ]
           ]
          },
          "colorway": [
           "#636efa",
           "#EF553B",
           "#00cc96",
           "#ab63fa",
           "#FFA15A",
           "#19d3f3",
           "#FF6692",
           "#B6E880",
           "#FF97FF",
           "#FECB52"
          ],
          "font": {
           "color": "#2a3f5f"
          },
          "geo": {
           "bgcolor": "white",
           "lakecolor": "white",
           "landcolor": "#E5ECF6",
           "showlakes": true,
           "showland": true,
           "subunitcolor": "white"
          },
          "hoverlabel": {
           "align": "left"
          },
          "hovermode": "closest",
          "mapbox": {
           "style": "light"
          },
          "paper_bgcolor": "white",
          "plot_bgcolor": "#E5ECF6",
          "polar": {
           "angularaxis": {
            "gridcolor": "white",
            "linecolor": "white",
            "ticks": ""
           },
           "bgcolor": "#E5ECF6",
           "radialaxis": {
            "gridcolor": "white",
            "linecolor": "white",
            "ticks": ""
           }
          },
          "scene": {
           "xaxis": {
            "backgroundcolor": "#E5ECF6",
            "gridcolor": "white",
            "gridwidth": 2,
            "linecolor": "white",
            "showbackground": true,
            "ticks": "",
            "zerolinecolor": "white"
           },
           "yaxis": {
            "backgroundcolor": "#E5ECF6",
            "gridcolor": "white",
            "gridwidth": 2,
            "linecolor": "white",
            "showbackground": true,
            "ticks": "",
            "zerolinecolor": "white"
           },
           "zaxis": {
            "backgroundcolor": "#E5ECF6",
            "gridcolor": "white",
            "gridwidth": 2,
            "linecolor": "white",
            "showbackground": true,
            "ticks": "",
            "zerolinecolor": "white"
           }
          },
          "shapedefaults": {
           "line": {
            "color": "#2a3f5f"
           }
          },
          "ternary": {
           "aaxis": {
            "gridcolor": "white",
            "linecolor": "white",
            "ticks": ""
           },
           "baxis": {
            "gridcolor": "white",
            "linecolor": "white",
            "ticks": ""
           },
           "bgcolor": "#E5ECF6",
           "caxis": {
            "gridcolor": "white",
            "linecolor": "white",
            "ticks": ""
           }
          },
          "title": {
           "x": 0.05
          },
          "xaxis": {
           "automargin": true,
           "gridcolor": "white",
           "linecolor": "white",
           "ticks": "",
           "title": {
            "standoff": 15
           },
           "zerolinecolor": "white",
           "zerolinewidth": 2
          },
          "yaxis": {
           "automargin": true,
           "gridcolor": "white",
           "linecolor": "white",
           "ticks": "",
           "title": {
            "standoff": 15
           },
           "zerolinecolor": "white",
           "zerolinewidth": 2
          }
         }
        },
        "xaxis": {
         "anchor": "y",
         "domain": [
          0,
          1
         ],
         "title": {
          "text": "x"
         }
        },
        "yaxis": {
         "anchor": "x",
         "domain": [
          0,
          1
         ],
         "title": {
          "text": "y"
         }
        }
       }
      }
     },
     "metadata": {},
     "output_type": "display_data"
    }
   ],
   "source": [
    "px.scatter(\n",
    "    x = np.arange(0, 15, 1),\n",
    "    y = losses\n",
    ")"
   ]
  },
  {
   "cell_type": "code",
   "execution_count": 18,
   "id": "7dc07714",
   "metadata": {},
   "outputs": [
    {
     "data": {
      "application/vnd.plotly.v1+json": {
       "config": {
        "plotlyServerURL": "https://plot.ly"
       },
       "data": [
        {
         "hovertemplate": "x=%{x}<br>y=%{y}<extra></extra>",
         "legendgroup": "",
         "marker": {
          "color": "#636efa",
          "symbol": "circle"
         },
         "mode": "markers",
         "name": "",
         "orientation": "v",
         "showlegend": false,
         "type": "scatter",
         "x": {
          "bdata": "AAECAwQFBgcICQoLDA0O",
          "dtype": "i1"
         },
         "xaxis": "x",
         "y": {
          "bdata": "mmem8hkk8D9kMviQvufVP7zkdR4UztA/oYZ46tbGzz/s+lGIsmfLP4JcuL1K18o/aw/0dIzOyT/CZgm0twrKP1jIb+lPesk/J/9iwZ3myT8sBaN+H5vKP7MlxeX8aso/XM6vptEuyj9czq+m0S7KPwZ3mmem8sk/",
          "dtype": "f8"
         },
         "yaxis": "y"
        }
       ],
       "layout": {
        "legend": {
         "tracegroupgap": 0
        },
        "margin": {
         "t": 60
        },
        "template": {
         "data": {
          "bar": [
           {
            "error_x": {
             "color": "#2a3f5f"
            },
            "error_y": {
             "color": "#2a3f5f"
            },
            "marker": {
             "line": {
              "color": "#E5ECF6",
              "width": 0.5
             },
             "pattern": {
              "fillmode": "overlay",
              "size": 10,
              "solidity": 0.2
             }
            },
            "type": "bar"
           }
          ],
          "barpolar": [
           {
            "marker": {
             "line": {
              "color": "#E5ECF6",
              "width": 0.5
             },
             "pattern": {
              "fillmode": "overlay",
              "size": 10,
              "solidity": 0.2
             }
            },
            "type": "barpolar"
           }
          ],
          "carpet": [
           {
            "aaxis": {
             "endlinecolor": "#2a3f5f",
             "gridcolor": "white",
             "linecolor": "white",
             "minorgridcolor": "white",
             "startlinecolor": "#2a3f5f"
            },
            "baxis": {
             "endlinecolor": "#2a3f5f",
             "gridcolor": "white",
             "linecolor": "white",
             "minorgridcolor": "white",
             "startlinecolor": "#2a3f5f"
            },
            "type": "carpet"
           }
          ],
          "choropleth": [
           {
            "colorbar": {
             "outlinewidth": 0,
             "ticks": ""
            },
            "type": "choropleth"
           }
          ],
          "contour": [
           {
            "colorbar": {
             "outlinewidth": 0,
             "ticks": ""
            },
            "colorscale": [
             [
              0,
              "#0d0887"
             ],
             [
              0.1111111111111111,
              "#46039f"
             ],
             [
              0.2222222222222222,
              "#7201a8"
             ],
             [
              0.3333333333333333,
              "#9c179e"
             ],
             [
              0.4444444444444444,
              "#bd3786"
             ],
             [
              0.5555555555555556,
              "#d8576b"
             ],
             [
              0.6666666666666666,
              "#ed7953"
             ],
             [
              0.7777777777777778,
              "#fb9f3a"
             ],
             [
              0.8888888888888888,
              "#fdca26"
             ],
             [
              1,
              "#f0f921"
             ]
            ],
            "type": "contour"
           }
          ],
          "contourcarpet": [
           {
            "colorbar": {
             "outlinewidth": 0,
             "ticks": ""
            },
            "type": "contourcarpet"
           }
          ],
          "heatmap": [
           {
            "colorbar": {
             "outlinewidth": 0,
             "ticks": ""
            },
            "colorscale": [
             [
              0,
              "#0d0887"
             ],
             [
              0.1111111111111111,
              "#46039f"
             ],
             [
              0.2222222222222222,
              "#7201a8"
             ],
             [
              0.3333333333333333,
              "#9c179e"
             ],
             [
              0.4444444444444444,
              "#bd3786"
             ],
             [
              0.5555555555555556,
              "#d8576b"
             ],
             [
              0.6666666666666666,
              "#ed7953"
             ],
             [
              0.7777777777777778,
              "#fb9f3a"
             ],
             [
              0.8888888888888888,
              "#fdca26"
             ],
             [
              1,
              "#f0f921"
             ]
            ],
            "type": "heatmap"
           }
          ],
          "histogram": [
           {
            "marker": {
             "pattern": {
              "fillmode": "overlay",
              "size": 10,
              "solidity": 0.2
             }
            },
            "type": "histogram"
           }
          ],
          "histogram2d": [
           {
            "colorbar": {
             "outlinewidth": 0,
             "ticks": ""
            },
            "colorscale": [
             [
              0,
              "#0d0887"
             ],
             [
              0.1111111111111111,
              "#46039f"
             ],
             [
              0.2222222222222222,
              "#7201a8"
             ],
             [
              0.3333333333333333,
              "#9c179e"
             ],
             [
              0.4444444444444444,
              "#bd3786"
             ],
             [
              0.5555555555555556,
              "#d8576b"
             ],
             [
              0.6666666666666666,
              "#ed7953"
             ],
             [
              0.7777777777777778,
              "#fb9f3a"
             ],
             [
              0.8888888888888888,
              "#fdca26"
             ],
             [
              1,
              "#f0f921"
             ]
            ],
            "type": "histogram2d"
           }
          ],
          "histogram2dcontour": [
           {
            "colorbar": {
             "outlinewidth": 0,
             "ticks": ""
            },
            "colorscale": [
             [
              0,
              "#0d0887"
             ],
             [
              0.1111111111111111,
              "#46039f"
             ],
             [
              0.2222222222222222,
              "#7201a8"
             ],
             [
              0.3333333333333333,
              "#9c179e"
             ],
             [
              0.4444444444444444,
              "#bd3786"
             ],
             [
              0.5555555555555556,
              "#d8576b"
             ],
             [
              0.6666666666666666,
              "#ed7953"
             ],
             [
              0.7777777777777778,
              "#fb9f3a"
             ],
             [
              0.8888888888888888,
              "#fdca26"
             ],
             [
              1,
              "#f0f921"
             ]
            ],
            "type": "histogram2dcontour"
           }
          ],
          "mesh3d": [
           {
            "colorbar": {
             "outlinewidth": 0,
             "ticks": ""
            },
            "type": "mesh3d"
           }
          ],
          "parcoords": [
           {
            "line": {
             "colorbar": {
              "outlinewidth": 0,
              "ticks": ""
             }
            },
            "type": "parcoords"
           }
          ],
          "pie": [
           {
            "automargin": true,
            "type": "pie"
           }
          ],
          "scatter": [
           {
            "fillpattern": {
             "fillmode": "overlay",
             "size": 10,
             "solidity": 0.2
            },
            "type": "scatter"
           }
          ],
          "scatter3d": [
           {
            "line": {
             "colorbar": {
              "outlinewidth": 0,
              "ticks": ""
             }
            },
            "marker": {
             "colorbar": {
              "outlinewidth": 0,
              "ticks": ""
             }
            },
            "type": "scatter3d"
           }
          ],
          "scattercarpet": [
           {
            "marker": {
             "colorbar": {
              "outlinewidth": 0,
              "ticks": ""
             }
            },
            "type": "scattercarpet"
           }
          ],
          "scattergeo": [
           {
            "marker": {
             "colorbar": {
              "outlinewidth": 0,
              "ticks": ""
             }
            },
            "type": "scattergeo"
           }
          ],
          "scattergl": [
           {
            "marker": {
             "colorbar": {
              "outlinewidth": 0,
              "ticks": ""
             }
            },
            "type": "scattergl"
           }
          ],
          "scattermap": [
           {
            "marker": {
             "colorbar": {
              "outlinewidth": 0,
              "ticks": ""
             }
            },
            "type": "scattermap"
           }
          ],
          "scattermapbox": [
           {
            "marker": {
             "colorbar": {
              "outlinewidth": 0,
              "ticks": ""
             }
            },
            "type": "scattermapbox"
           }
          ],
          "scatterpolar": [
           {
            "marker": {
             "colorbar": {
              "outlinewidth": 0,
              "ticks": ""
             }
            },
            "type": "scatterpolar"
           }
          ],
          "scatterpolargl": [
           {
            "marker": {
             "colorbar": {
              "outlinewidth": 0,
              "ticks": ""
             }
            },
            "type": "scatterpolargl"
           }
          ],
          "scatterternary": [
           {
            "marker": {
             "colorbar": {
              "outlinewidth": 0,
              "ticks": ""
             }
            },
            "type": "scatterternary"
           }
          ],
          "surface": [
           {
            "colorbar": {
             "outlinewidth": 0,
             "ticks": ""
            },
            "colorscale": [
             [
              0,
              "#0d0887"
             ],
             [
              0.1111111111111111,
              "#46039f"
             ],
             [
              0.2222222222222222,
              "#7201a8"
             ],
             [
              0.3333333333333333,
              "#9c179e"
             ],
             [
              0.4444444444444444,
              "#bd3786"
             ],
             [
              0.5555555555555556,
              "#d8576b"
             ],
             [
              0.6666666666666666,
              "#ed7953"
             ],
             [
              0.7777777777777778,
              "#fb9f3a"
             ],
             [
              0.8888888888888888,
              "#fdca26"
             ],
             [
              1,
              "#f0f921"
             ]
            ],
            "type": "surface"
           }
          ],
          "table": [
           {
            "cells": {
             "fill": {
              "color": "#EBF0F8"
             },
             "line": {
              "color": "white"
             }
            },
            "header": {
             "fill": {
              "color": "#C8D4E3"
             },
             "line": {
              "color": "white"
             }
            },
            "type": "table"
           }
          ]
         },
         "layout": {
          "annotationdefaults": {
           "arrowcolor": "#2a3f5f",
           "arrowhead": 0,
           "arrowwidth": 1
          },
          "autotypenumbers": "strict",
          "coloraxis": {
           "colorbar": {
            "outlinewidth": 0,
            "ticks": ""
           }
          },
          "colorscale": {
           "diverging": [
            [
             0,
             "#8e0152"
            ],
            [
             0.1,
             "#c51b7d"
            ],
            [
             0.2,
             "#de77ae"
            ],
            [
             0.3,
             "#f1b6da"
            ],
            [
             0.4,
             "#fde0ef"
            ],
            [
             0.5,
             "#f7f7f7"
            ],
            [
             0.6,
             "#e6f5d0"
            ],
            [
             0.7,
             "#b8e186"
            ],
            [
             0.8,
             "#7fbc41"
            ],
            [
             0.9,
             "#4d9221"
            ],
            [
             1,
             "#276419"
            ]
           ],
           "sequential": [
            [
             0,
             "#0d0887"
            ],
            [
             0.1111111111111111,
             "#46039f"
            ],
            [
             0.2222222222222222,
             "#7201a8"
            ],
            [
             0.3333333333333333,
             "#9c179e"
            ],
            [
             0.4444444444444444,
             "#bd3786"
            ],
            [
             0.5555555555555556,
             "#d8576b"
            ],
            [
             0.6666666666666666,
             "#ed7953"
            ],
            [
             0.7777777777777778,
             "#fb9f3a"
            ],
            [
             0.8888888888888888,
             "#fdca26"
            ],
            [
             1,
             "#f0f921"
            ]
           ],
           "sequentialminus": [
            [
             0,
             "#0d0887"
            ],
            [
             0.1111111111111111,
             "#46039f"
            ],
            [
             0.2222222222222222,
             "#7201a8"
            ],
            [
             0.3333333333333333,
             "#9c179e"
            ],
            [
             0.4444444444444444,
             "#bd3786"
            ],
            [
             0.5555555555555556,
             "#d8576b"
            ],
            [
             0.6666666666666666,
             "#ed7953"
            ],
            [
             0.7777777777777778,
             "#fb9f3a"
            ],
            [
             0.8888888888888888,
             "#fdca26"
            ],
            [
             1,
             "#f0f921"
            ]
           ]
          },
          "colorway": [
           "#636efa",
           "#EF553B",
           "#00cc96",
           "#ab63fa",
           "#FFA15A",
           "#19d3f3",
           "#FF6692",
           "#B6E880",
           "#FF97FF",
           "#FECB52"
          ],
          "font": {
           "color": "#2a3f5f"
          },
          "geo": {
           "bgcolor": "white",
           "lakecolor": "white",
           "landcolor": "#E5ECF6",
           "showlakes": true,
           "showland": true,
           "subunitcolor": "white"
          },
          "hoverlabel": {
           "align": "left"
          },
          "hovermode": "closest",
          "mapbox": {
           "style": "light"
          },
          "paper_bgcolor": "white",
          "plot_bgcolor": "#E5ECF6",
          "polar": {
           "angularaxis": {
            "gridcolor": "white",
            "linecolor": "white",
            "ticks": ""
           },
           "bgcolor": "#E5ECF6",
           "radialaxis": {
            "gridcolor": "white",
            "linecolor": "white",
            "ticks": ""
           }
          },
          "scene": {
           "xaxis": {
            "backgroundcolor": "#E5ECF6",
            "gridcolor": "white",
            "gridwidth": 2,
            "linecolor": "white",
            "showbackground": true,
            "ticks": "",
            "zerolinecolor": "white"
           },
           "yaxis": {
            "backgroundcolor": "#E5ECF6",
            "gridcolor": "white",
            "gridwidth": 2,
            "linecolor": "white",
            "showbackground": true,
            "ticks": "",
            "zerolinecolor": "white"
           },
           "zaxis": {
            "backgroundcolor": "#E5ECF6",
            "gridcolor": "white",
            "gridwidth": 2,
            "linecolor": "white",
            "showbackground": true,
            "ticks": "",
            "zerolinecolor": "white"
           }
          },
          "shapedefaults": {
           "line": {
            "color": "#2a3f5f"
           }
          },
          "ternary": {
           "aaxis": {
            "gridcolor": "white",
            "linecolor": "white",
            "ticks": ""
           },
           "baxis": {
            "gridcolor": "white",
            "linecolor": "white",
            "ticks": ""
           },
           "bgcolor": "#E5ECF6",
           "caxis": {
            "gridcolor": "white",
            "linecolor": "white",
            "ticks": ""
           }
          },
          "title": {
           "x": 0.05
          },
          "xaxis": {
           "automargin": true,
           "gridcolor": "white",
           "linecolor": "white",
           "ticks": "",
           "title": {
            "standoff": 15
           },
           "zerolinecolor": "white",
           "zerolinewidth": 2
          },
          "yaxis": {
           "automargin": true,
           "gridcolor": "white",
           "linecolor": "white",
           "ticks": "",
           "title": {
            "standoff": 15
           },
           "zerolinecolor": "white",
           "zerolinewidth": 2
          }
         }
        },
        "xaxis": {
         "anchor": "y",
         "domain": [
          0,
          1
         ],
         "title": {
          "text": "x"
         }
        },
        "yaxis": {
         "anchor": "x",
         "domain": [
          0,
          1
         ],
         "title": {
          "text": "y"
         }
        }
       }
      }
     },
     "metadata": {},
     "output_type": "display_data"
    }
   ],
   "source": [
    "px.scatter(\n",
    "    x = np.arange(0, 15, 1),\n",
    "    y = maes\n",
    ")"
   ]
  },
  {
   "cell_type": "code",
   "execution_count": 19,
   "id": "c75aafa3",
   "metadata": {},
   "outputs": [
    {
     "data": {
      "application/vnd.plotly.v1+json": {
       "config": {
        "plotlyServerURL": "https://plot.ly"
       },
       "data": [
        {
         "hovertemplate": "x=%{x}<br>y=%{y}<extra></extra>",
         "legendgroup": "",
         "marker": {
          "color": "#636efa",
          "symbol": "circle"
         },
         "mode": "markers",
         "name": "",
         "orientation": "v",
         "showlegend": false,
         "type": "scatter",
         "x": {
          "bdata": "AAECAwQFBgcICQoLDA0O",
          "dtype": "i1"
         },
         "xaxis": "x",
         "y": {
          "bdata": "A8zC+E7o4z9l2i8h1ZfrP0pbR2Ogsuw/fyqUSNT67D8s2b7GKnPtP+jILRM8i+0/lHS4slGp7T+cliqJT6btP5R0uLJRqe0/nJYqiU+m7T++HvPiRprtP63aDjZLoO0/pbicX02j7T+luJxfTaPtP5yWKolPpu0/",
          "dtype": "f8"
         },
         "yaxis": "y"
        }
       ],
       "layout": {
        "legend": {
         "tracegroupgap": 0
        },
        "margin": {
         "t": 60
        },
        "template": {
         "data": {
          "bar": [
           {
            "error_x": {
             "color": "#2a3f5f"
            },
            "error_y": {
             "color": "#2a3f5f"
            },
            "marker": {
             "line": {
              "color": "#E5ECF6",
              "width": 0.5
             },
             "pattern": {
              "fillmode": "overlay",
              "size": 10,
              "solidity": 0.2
             }
            },
            "type": "bar"
           }
          ],
          "barpolar": [
           {
            "marker": {
             "line": {
              "color": "#E5ECF6",
              "width": 0.5
             },
             "pattern": {
              "fillmode": "overlay",
              "size": 10,
              "solidity": 0.2
             }
            },
            "type": "barpolar"
           }
          ],
          "carpet": [
           {
            "aaxis": {
             "endlinecolor": "#2a3f5f",
             "gridcolor": "white",
             "linecolor": "white",
             "minorgridcolor": "white",
             "startlinecolor": "#2a3f5f"
            },
            "baxis": {
             "endlinecolor": "#2a3f5f",
             "gridcolor": "white",
             "linecolor": "white",
             "minorgridcolor": "white",
             "startlinecolor": "#2a3f5f"
            },
            "type": "carpet"
           }
          ],
          "choropleth": [
           {
            "colorbar": {
             "outlinewidth": 0,
             "ticks": ""
            },
            "type": "choropleth"
           }
          ],
          "contour": [
           {
            "colorbar": {
             "outlinewidth": 0,
             "ticks": ""
            },
            "colorscale": [
             [
              0,
              "#0d0887"
             ],
             [
              0.1111111111111111,
              "#46039f"
             ],
             [
              0.2222222222222222,
              "#7201a8"
             ],
             [
              0.3333333333333333,
              "#9c179e"
             ],
             [
              0.4444444444444444,
              "#bd3786"
             ],
             [
              0.5555555555555556,
              "#d8576b"
             ],
             [
              0.6666666666666666,
              "#ed7953"
             ],
             [
              0.7777777777777778,
              "#fb9f3a"
             ],
             [
              0.8888888888888888,
              "#fdca26"
             ],
             [
              1,
              "#f0f921"
             ]
            ],
            "type": "contour"
           }
          ],
          "contourcarpet": [
           {
            "colorbar": {
             "outlinewidth": 0,
             "ticks": ""
            },
            "type": "contourcarpet"
           }
          ],
          "heatmap": [
           {
            "colorbar": {
             "outlinewidth": 0,
             "ticks": ""
            },
            "colorscale": [
             [
              0,
              "#0d0887"
             ],
             [
              0.1111111111111111,
              "#46039f"
             ],
             [
              0.2222222222222222,
              "#7201a8"
             ],
             [
              0.3333333333333333,
              "#9c179e"
             ],
             [
              0.4444444444444444,
              "#bd3786"
             ],
             [
              0.5555555555555556,
              "#d8576b"
             ],
             [
              0.6666666666666666,
              "#ed7953"
             ],
             [
              0.7777777777777778,
              "#fb9f3a"
             ],
             [
              0.8888888888888888,
              "#fdca26"
             ],
             [
              1,
              "#f0f921"
             ]
            ],
            "type": "heatmap"
           }
          ],
          "histogram": [
           {
            "marker": {
             "pattern": {
              "fillmode": "overlay",
              "size": 10,
              "solidity": 0.2
             }
            },
            "type": "histogram"
           }
          ],
          "histogram2d": [
           {
            "colorbar": {
             "outlinewidth": 0,
             "ticks": ""
            },
            "colorscale": [
             [
              0,
              "#0d0887"
             ],
             [
              0.1111111111111111,
              "#46039f"
             ],
             [
              0.2222222222222222,
              "#7201a8"
             ],
             [
              0.3333333333333333,
              "#9c179e"
             ],
             [
              0.4444444444444444,
              "#bd3786"
             ],
             [
              0.5555555555555556,
              "#d8576b"
             ],
             [
              0.6666666666666666,
              "#ed7953"
             ],
             [
              0.7777777777777778,
              "#fb9f3a"
             ],
             [
              0.8888888888888888,
              "#fdca26"
             ],
             [
              1,
              "#f0f921"
             ]
            ],
            "type": "histogram2d"
           }
          ],
          "histogram2dcontour": [
           {
            "colorbar": {
             "outlinewidth": 0,
             "ticks": ""
            },
            "colorscale": [
             [
              0,
              "#0d0887"
             ],
             [
              0.1111111111111111,
              "#46039f"
             ],
             [
              0.2222222222222222,
              "#7201a8"
             ],
             [
              0.3333333333333333,
              "#9c179e"
             ],
             [
              0.4444444444444444,
              "#bd3786"
             ],
             [
              0.5555555555555556,
              "#d8576b"
             ],
             [
              0.6666666666666666,
              "#ed7953"
             ],
             [
              0.7777777777777778,
              "#fb9f3a"
             ],
             [
              0.8888888888888888,
              "#fdca26"
             ],
             [
              1,
              "#f0f921"
             ]
            ],
            "type": "histogram2dcontour"
           }
          ],
          "mesh3d": [
           {
            "colorbar": {
             "outlinewidth": 0,
             "ticks": ""
            },
            "type": "mesh3d"
           }
          ],
          "parcoords": [
           {
            "line": {
             "colorbar": {
              "outlinewidth": 0,
              "ticks": ""
             }
            },
            "type": "parcoords"
           }
          ],
          "pie": [
           {
            "automargin": true,
            "type": "pie"
           }
          ],
          "scatter": [
           {
            "fillpattern": {
             "fillmode": "overlay",
             "size": 10,
             "solidity": 0.2
            },
            "type": "scatter"
           }
          ],
          "scatter3d": [
           {
            "line": {
             "colorbar": {
              "outlinewidth": 0,
              "ticks": ""
             }
            },
            "marker": {
             "colorbar": {
              "outlinewidth": 0,
              "ticks": ""
             }
            },
            "type": "scatter3d"
           }
          ],
          "scattercarpet": [
           {
            "marker": {
             "colorbar": {
              "outlinewidth": 0,
              "ticks": ""
             }
            },
            "type": "scattercarpet"
           }
          ],
          "scattergeo": [
           {
            "marker": {
             "colorbar": {
              "outlinewidth": 0,
              "ticks": ""
             }
            },
            "type": "scattergeo"
           }
          ],
          "scattergl": [
           {
            "marker": {
             "colorbar": {
              "outlinewidth": 0,
              "ticks": ""
             }
            },
            "type": "scattergl"
           }
          ],
          "scattermap": [
           {
            "marker": {
             "colorbar": {
              "outlinewidth": 0,
              "ticks": ""
             }
            },
            "type": "scattermap"
           }
          ],
          "scattermapbox": [
           {
            "marker": {
             "colorbar": {
              "outlinewidth": 0,
              "ticks": ""
             }
            },
            "type": "scattermapbox"
           }
          ],
          "scatterpolar": [
           {
            "marker": {
             "colorbar": {
              "outlinewidth": 0,
              "ticks": ""
             }
            },
            "type": "scatterpolar"
           }
          ],
          "scatterpolargl": [
           {
            "marker": {
             "colorbar": {
              "outlinewidth": 0,
              "ticks": ""
             }
            },
            "type": "scatterpolargl"
           }
          ],
          "scatterternary": [
           {
            "marker": {
             "colorbar": {
              "outlinewidth": 0,
              "ticks": ""
             }
            },
            "type": "scatterternary"
           }
          ],
          "surface": [
           {
            "colorbar": {
             "outlinewidth": 0,
             "ticks": ""
            },
            "colorscale": [
             [
              0,
              "#0d0887"
             ],
             [
              0.1111111111111111,
              "#46039f"
             ],
             [
              0.2222222222222222,
              "#7201a8"
             ],
             [
              0.3333333333333333,
              "#9c179e"
             ],
             [
              0.4444444444444444,
              "#bd3786"
             ],
             [
              0.5555555555555556,
              "#d8576b"
             ],
             [
              0.6666666666666666,
              "#ed7953"
             ],
             [
              0.7777777777777778,
              "#fb9f3a"
             ],
             [
              0.8888888888888888,
              "#fdca26"
             ],
             [
              1,
              "#f0f921"
             ]
            ],
            "type": "surface"
           }
          ],
          "table": [
           {
            "cells": {
             "fill": {
              "color": "#EBF0F8"
             },
             "line": {
              "color": "white"
             }
            },
            "header": {
             "fill": {
              "color": "#C8D4E3"
             },
             "line": {
              "color": "white"
             }
            },
            "type": "table"
           }
          ]
         },
         "layout": {
          "annotationdefaults": {
           "arrowcolor": "#2a3f5f",
           "arrowhead": 0,
           "arrowwidth": 1
          },
          "autotypenumbers": "strict",
          "coloraxis": {
           "colorbar": {
            "outlinewidth": 0,
            "ticks": ""
           }
          },
          "colorscale": {
           "diverging": [
            [
             0,
             "#8e0152"
            ],
            [
             0.1,
             "#c51b7d"
            ],
            [
             0.2,
             "#de77ae"
            ],
            [
             0.3,
             "#f1b6da"
            ],
            [
             0.4,
             "#fde0ef"
            ],
            [
             0.5,
             "#f7f7f7"
            ],
            [
             0.6,
             "#e6f5d0"
            ],
            [
             0.7,
             "#b8e186"
            ],
            [
             0.8,
             "#7fbc41"
            ],
            [
             0.9,
             "#4d9221"
            ],
            [
             1,
             "#276419"
            ]
           ],
           "sequential": [
            [
             0,
             "#0d0887"
            ],
            [
             0.1111111111111111,
             "#46039f"
            ],
            [
             0.2222222222222222,
             "#7201a8"
            ],
            [
             0.3333333333333333,
             "#9c179e"
            ],
            [
             0.4444444444444444,
             "#bd3786"
            ],
            [
             0.5555555555555556,
             "#d8576b"
            ],
            [
             0.6666666666666666,
             "#ed7953"
            ],
            [
             0.7777777777777778,
             "#fb9f3a"
            ],
            [
             0.8888888888888888,
             "#fdca26"
            ],
            [
             1,
             "#f0f921"
            ]
           ],
           "sequentialminus": [
            [
             0,
             "#0d0887"
            ],
            [
             0.1111111111111111,
             "#46039f"
            ],
            [
             0.2222222222222222,
             "#7201a8"
            ],
            [
             0.3333333333333333,
             "#9c179e"
            ],
            [
             0.4444444444444444,
             "#bd3786"
            ],
            [
             0.5555555555555556,
             "#d8576b"
            ],
            [
             0.6666666666666666,
             "#ed7953"
            ],
            [
             0.7777777777777778,
             "#fb9f3a"
            ],
            [
             0.8888888888888888,
             "#fdca26"
            ],
            [
             1,
             "#f0f921"
            ]
           ]
          },
          "colorway": [
           "#636efa",
           "#EF553B",
           "#00cc96",
           "#ab63fa",
           "#FFA15A",
           "#19d3f3",
           "#FF6692",
           "#B6E880",
           "#FF97FF",
           "#FECB52"
          ],
          "font": {
           "color": "#2a3f5f"
          },
          "geo": {
           "bgcolor": "white",
           "lakecolor": "white",
           "landcolor": "#E5ECF6",
           "showlakes": true,
           "showland": true,
           "subunitcolor": "white"
          },
          "hoverlabel": {
           "align": "left"
          },
          "hovermode": "closest",
          "mapbox": {
           "style": "light"
          },
          "paper_bgcolor": "white",
          "plot_bgcolor": "#E5ECF6",
          "polar": {
           "angularaxis": {
            "gridcolor": "white",
            "linecolor": "white",
            "ticks": ""
           },
           "bgcolor": "#E5ECF6",
           "radialaxis": {
            "gridcolor": "white",
            "linecolor": "white",
            "ticks": ""
           }
          },
          "scene": {
           "xaxis": {
            "backgroundcolor": "#E5ECF6",
            "gridcolor": "white",
            "gridwidth": 2,
            "linecolor": "white",
            "showbackground": true,
            "ticks": "",
            "zerolinecolor": "white"
           },
           "yaxis": {
            "backgroundcolor": "#E5ECF6",
            "gridcolor": "white",
            "gridwidth": 2,
            "linecolor": "white",
            "showbackground": true,
            "ticks": "",
            "zerolinecolor": "white"
           },
           "zaxis": {
            "backgroundcolor": "#E5ECF6",
            "gridcolor": "white",
            "gridwidth": 2,
            "linecolor": "white",
            "showbackground": true,
            "ticks": "",
            "zerolinecolor": "white"
           }
          },
          "shapedefaults": {
           "line": {
            "color": "#2a3f5f"
           }
          },
          "ternary": {
           "aaxis": {
            "gridcolor": "white",
            "linecolor": "white",
            "ticks": ""
           },
           "baxis": {
            "gridcolor": "white",
            "linecolor": "white",
            "ticks": ""
           },
           "bgcolor": "#E5ECF6",
           "caxis": {
            "gridcolor": "white",
            "linecolor": "white",
            "ticks": ""
           }
          },
          "title": {
           "x": 0.05
          },
          "xaxis": {
           "automargin": true,
           "gridcolor": "white",
           "linecolor": "white",
           "ticks": "",
           "title": {
            "standoff": 15
           },
           "zerolinecolor": "white",
           "zerolinewidth": 2
          },
          "yaxis": {
           "automargin": true,
           "gridcolor": "white",
           "linecolor": "white",
           "ticks": "",
           "title": {
            "standoff": 15
           },
           "zerolinecolor": "white",
           "zerolinewidth": 2
          }
         }
        },
        "xaxis": {
         "anchor": "y",
         "domain": [
          0,
          1
         ],
         "title": {
          "text": "x"
         }
        },
        "yaxis": {
         "anchor": "x",
         "domain": [
          0,
          1
         ],
         "title": {
          "text": "y"
         }
        }
       }
      }
     },
     "metadata": {},
     "output_type": "display_data"
    }
   ],
   "source": [
    "px.scatter(\n",
    "    x = np.arange(0, 15, 1),\n",
    "    y = accs\n",
    ")"
   ]
  },
  {
   "cell_type": "code",
   "execution_count": 25,
   "id": "c87ce6ab",
   "metadata": {},
   "outputs": [],
   "source": [
    "def klein_bottle(n):\n",
    "    \"\"\"\n",
    "    Parameters:\n",
    "    n: int\n",
    "        Number of points to generate\"\"\"\n",
    "    \n",
    "    data = np.zeros((n,3))\n",
    "    u = np.random.uniform(low=0, high=np.pi, size=n)\n",
    "    v = np.random.uniform(low=0, high=2*np.pi, size=n)\n",
    "            \n",
    "    data[:,0]=-2/15*np.cos(u)*(3*np.cos(v)+30*np.sin(u)+90*np.cos(u)**4*np.sin(u)-60*np.cos(u)**6*np.sin(u)+5*np.cos(u)*np.cos(v)*np.sin(u))\n",
    "    data[:,1]=+1/15*np.sin(u)*(3*np.cos(v)+3*np.cos(u)**2*np.cos(v)-48*np.cos(u)**4*np.cos(v)+48*np.cos(u)**6*np.cos(v)-60*np.sin(u)+5*np.cos(u)*np.cos(v)*np.sin(u)-5*np.cos(u)**3*np.cos(v)*np.sin(u)-80*np.cos(u)**5*np.cos(v)*np.sin(u)+80*np.cos(u)**7*np.cos(v)*np.sin(u))\n",
    "    data[:,2]=2/15*(3+5*np.cos(u)*np.sin(u))*np.sin(v)\n",
    "\n",
    "    return data"
   ]
  },
  {
   "cell_type": "code",
   "execution_count": 26,
   "id": "b34a7077",
   "metadata": {},
   "outputs": [],
   "source": [
    "X = klein_bottle(5000)"
   ]
  },
  {
   "cell_type": "code",
   "execution_count": 27,
   "id": "39f1fd79",
   "metadata": {},
   "outputs": [
    {
     "data": {
      "application/vnd.plotly.v1+json": {
       "config": {
        "plotlyServerURL": "https://plot.ly"
       },
       "data": [
        {
         "hovertemplate": "x=%{x}<br>y=%{y}<br>z=%{z}<br>color=%{marker.color}<extra></extra>",
         "legendgroup": "",
         "marker": {
          "color": {
           "bdata": "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",
           "dtype": "f8"
          },
          "coloraxis": "coloraxis",
          "opacity": 0.7,
          "size": 3,
          "symbol": "circle"
         },
         "mode": "markers",
         "name": "",
         "scene": "scene",
         "showlegend": false,
         "type": "scatter3d",
         "x": {
          "bdata": "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",
          "dtype": "f8"
         },
         "y": {
          "bdata": "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",
          "dtype": "f8"
         },
         "z": {
          "bdata": "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",
          "dtype": "f8"
         }
        }
       ],
       "layout": {
        "coloraxis": {
         "colorbar": {
          "title": {
           "text": "color"
          }
         },
         "colorscale": [
          [
           0,
           "#0d0887"
          ],
          [
           0.1111111111111111,
           "#46039f"
          ],
          [
           0.2222222222222222,
           "#7201a8"
          ],
          [
           0.3333333333333333,
           "#9c179e"
          ],
          [
           0.4444444444444444,
           "#bd3786"
          ],
          [
           0.5555555555555556,
           "#d8576b"
          ],
          [
           0.6666666666666666,
           "#ed7953"
          ],
          [
           0.7777777777777778,
           "#fb9f3a"
          ],
          [
           0.8888888888888888,
           "#fdca26"
          ],
          [
           1,
           "#f0f921"
          ]
         ]
        },
        "height": 800,
        "legend": {
         "tracegroupgap": 0
        },
        "scene": {
         "domain": {
          "x": [
           0,
           1
          ],
          "y": [
           0,
           1
          ]
         },
         "xaxis": {
          "title": {
           "text": "x"
          }
         },
         "yaxis": {
          "title": {
           "text": "y"
          }
         },
         "zaxis": {
          "title": {
           "text": "z"
          }
         }
        },
        "template": {
         "data": {
          "bar": [
           {
            "error_x": {
             "color": "#2a3f5f"
            },
            "error_y": {
             "color": "#2a3f5f"
            },
            "marker": {
             "line": {
              "color": "#E5ECF6",
              "width": 0.5
             },
             "pattern": {
              "fillmode": "overlay",
              "size": 10,
              "solidity": 0.2
             }
            },
            "type": "bar"
           }
          ],
          "barpolar": [
           {
            "marker": {
             "line": {
              "color": "#E5ECF6",
              "width": 0.5
             },
             "pattern": {
              "fillmode": "overlay",
              "size": 10,
              "solidity": 0.2
             }
            },
            "type": "barpolar"
           }
          ],
          "carpet": [
           {
            "aaxis": {
             "endlinecolor": "#2a3f5f",
             "gridcolor": "white",
             "linecolor": "white",
             "minorgridcolor": "white",
             "startlinecolor": "#2a3f5f"
            },
            "baxis": {
             "endlinecolor": "#2a3f5f",
             "gridcolor": "white",
             "linecolor": "white",
             "minorgridcolor": "white",
             "startlinecolor": "#2a3f5f"
            },
            "type": "carpet"
           }
          ],
          "choropleth": [
           {
            "colorbar": {
             "outlinewidth": 0,
             "ticks": ""
            },
            "type": "choropleth"
           }
          ],
          "contour": [
           {
            "colorbar": {
             "outlinewidth": 0,
             "ticks": ""
            },
            "colorscale": [
             [
              0,
              "#0d0887"
             ],
             [
              0.1111111111111111,
              "#46039f"
             ],
             [
              0.2222222222222222,
              "#7201a8"
             ],
             [
              0.3333333333333333,
              "#9c179e"
             ],
             [
              0.4444444444444444,
              "#bd3786"
             ],
             [
              0.5555555555555556,
              "#d8576b"
             ],
             [
              0.6666666666666666,
              "#ed7953"
             ],
             [
              0.7777777777777778,
              "#fb9f3a"
             ],
             [
              0.8888888888888888,
              "#fdca26"
             ],
             [
              1,
              "#f0f921"
             ]
            ],
            "type": "contour"
           }
          ],
          "contourcarpet": [
           {
            "colorbar": {
             "outlinewidth": 0,
             "ticks": ""
            },
            "type": "contourcarpet"
           }
          ],
          "heatmap": [
           {
            "colorbar": {
             "outlinewidth": 0,
             "ticks": ""
            },
            "colorscale": [
             [
              0,
              "#0d0887"
             ],
             [
              0.1111111111111111,
              "#46039f"
             ],
             [
              0.2222222222222222,
              "#7201a8"
             ],
             [
              0.3333333333333333,
              "#9c179e"
             ],
             [
              0.4444444444444444,
              "#bd3786"
             ],
             [
              0.5555555555555556,
              "#d8576b"
             ],
             [
              0.6666666666666666,
              "#ed7953"
             ],
             [
              0.7777777777777778,
              "#fb9f3a"
             ],
             [
              0.8888888888888888,
              "#fdca26"
             ],
             [
              1,
              "#f0f921"
             ]
            ],
            "type": "heatmap"
           }
          ],
          "histogram": [
           {
            "marker": {
             "pattern": {
              "fillmode": "overlay",
              "size": 10,
              "solidity": 0.2
             }
            },
            "type": "histogram"
           }
          ],
          "histogram2d": [
           {
            "colorbar": {
             "outlinewidth": 0,
             "ticks": ""
            },
            "colorscale": [
             [
              0,
              "#0d0887"
             ],
             [
              0.1111111111111111,
              "#46039f"
             ],
             [
              0.2222222222222222,
              "#7201a8"
             ],
             [
              0.3333333333333333,
              "#9c179e"
             ],
             [
              0.4444444444444444,
              "#bd3786"
             ],
             [
              0.5555555555555556,
              "#d8576b"
             ],
             [
              0.6666666666666666,
              "#ed7953"
             ],
             [
              0.7777777777777778,
              "#fb9f3a"
             ],
             [
              0.8888888888888888,
              "#fdca26"
             ],
             [
              1,
              "#f0f921"
             ]
            ],
            "type": "histogram2d"
           }
          ],
          "histogram2dcontour": [
           {
            "colorbar": {
             "outlinewidth": 0,
             "ticks": ""
            },
            "colorscale": [
             [
              0,
              "#0d0887"
             ],
             [
              0.1111111111111111,
              "#46039f"
             ],
             [
              0.2222222222222222,
              "#7201a8"
             ],
             [
              0.3333333333333333,
              "#9c179e"
             ],
             [
              0.4444444444444444,
              "#bd3786"
             ],
             [
              0.5555555555555556,
              "#d8576b"
             ],
             [
              0.6666666666666666,
              "#ed7953"
             ],
             [
              0.7777777777777778,
              "#fb9f3a"
             ],
             [
              0.8888888888888888,
              "#fdca26"
             ],
             [
              1,
              "#f0f921"
             ]
            ],
            "type": "histogram2dcontour"
           }
          ],
          "mesh3d": [
           {
            "colorbar": {
             "outlinewidth": 0,
             "ticks": ""
            },
            "type": "mesh3d"
           }
          ],
          "parcoords": [
           {
            "line": {
             "colorbar": {
              "outlinewidth": 0,
              "ticks": ""
             }
            },
            "type": "parcoords"
           }
          ],
          "pie": [
           {
            "automargin": true,
            "type": "pie"
           }
          ],
          "scatter": [
           {
            "fillpattern": {
             "fillmode": "overlay",
             "size": 10,
             "solidity": 0.2
            },
            "type": "scatter"
           }
          ],
          "scatter3d": [
           {
            "line": {
             "colorbar": {
              "outlinewidth": 0,
              "ticks": ""
             }
            },
            "marker": {
             "colorbar": {
              "outlinewidth": 0,
              "ticks": ""
             }
            },
            "type": "scatter3d"
           }
          ],
          "scattercarpet": [
           {
            "marker": {
             "colorbar": {
              "outlinewidth": 0,
              "ticks": ""
             }
            },
            "type": "scattercarpet"
           }
          ],
          "scattergeo": [
           {
            "marker": {
             "colorbar": {
              "outlinewidth": 0,
              "ticks": ""
             }
            },
            "type": "scattergeo"
           }
          ],
          "scattergl": [
           {
            "marker": {
             "colorbar": {
              "outlinewidth": 0,
              "ticks": ""
             }
            },
            "type": "scattergl"
           }
          ],
          "scattermap": [
           {
            "marker": {
             "colorbar": {
              "outlinewidth": 0,
              "ticks": ""
             }
            },
            "type": "scattermap"
           }
          ],
          "scattermapbox": [
           {
            "marker": {
             "colorbar": {
              "outlinewidth": 0,
              "ticks": ""
             }
            },
            "type": "scattermapbox"
           }
          ],
          "scatterpolar": [
           {
            "marker": {
             "colorbar": {
              "outlinewidth": 0,
              "ticks": ""
             }
            },
            "type": "scatterpolar"
           }
          ],
          "scatterpolargl": [
           {
            "marker": {
             "colorbar": {
              "outlinewidth": 0,
              "ticks": ""
             }
            },
            "type": "scatterpolargl"
           }
          ],
          "scatterternary": [
           {
            "marker": {
             "colorbar": {
              "outlinewidth": 0,
              "ticks": ""
             }
            },
            "type": "scatterternary"
           }
          ],
          "surface": [
           {
            "colorbar": {
             "outlinewidth": 0,
             "ticks": ""
            },
            "colorscale": [
             [
              0,
              "#0d0887"
             ],
             [
              0.1111111111111111,
              "#46039f"
             ],
             [
              0.2222222222222222,
              "#7201a8"
             ],
             [
              0.3333333333333333,
              "#9c179e"
             ],
             [
              0.4444444444444444,
              "#bd3786"
             ],
             [
              0.5555555555555556,
              "#d8576b"
             ],
             [
              0.6666666666666666,
              "#ed7953"
             ],
             [
              0.7777777777777778,
              "#fb9f3a"
             ],
             [
              0.8888888888888888,
              "#fdca26"
             ],
             [
              1,
              "#f0f921"
             ]
            ],
            "type": "surface"
           }
          ],
          "table": [
           {
            "cells": {
             "fill": {
              "color": "#EBF0F8"
             },
             "line": {
              "color": "white"
             }
            },
            "header": {
             "fill": {
              "color": "#C8D4E3"
             },
             "line": {
              "color": "white"
             }
            },
            "type": "table"
           }
          ]
         },
         "layout": {
          "annotationdefaults": {
           "arrowcolor": "#2a3f5f",
           "arrowhead": 0,
           "arrowwidth": 1
          },
          "autotypenumbers": "strict",
          "coloraxis": {
           "colorbar": {
            "outlinewidth": 0,
            "ticks": ""
           }
          },
          "colorscale": {
           "diverging": [
            [
             0,
             "#8e0152"
            ],
            [
             0.1,
             "#c51b7d"
            ],
            [
             0.2,
             "#de77ae"
            ],
            [
             0.3,
             "#f1b6da"
            ],
            [
             0.4,
             "#fde0ef"
            ],
            [
             0.5,
             "#f7f7f7"
            ],
            [
             0.6,
             "#e6f5d0"
            ],
            [
             0.7,
             "#b8e186"
            ],
            [
             0.8,
             "#7fbc41"
            ],
            [
             0.9,
             "#4d9221"
            ],
            [
             1,
             "#276419"
            ]
           ],
           "sequential": [
            [
             0,
             "#0d0887"
            ],
            [
             0.1111111111111111,
             "#46039f"
            ],
            [
             0.2222222222222222,
             "#7201a8"
            ],
            [
             0.3333333333333333,
             "#9c179e"
            ],
            [
             0.4444444444444444,
             "#bd3786"
            ],
            [
             0.5555555555555556,
             "#d8576b"
            ],
            [
             0.6666666666666666,
             "#ed7953"
            ],
            [
             0.7777777777777778,
             "#fb9f3a"
            ],
            [
             0.8888888888888888,
             "#fdca26"
            ],
            [
             1,
             "#f0f921"
            ]
           ],
           "sequentialminus": [
            [
             0,
             "#0d0887"
            ],
            [
             0.1111111111111111,
             "#46039f"
            ],
            [
             0.2222222222222222,
             "#7201a8"
            ],
            [
             0.3333333333333333,
             "#9c179e"
            ],
            [
             0.4444444444444444,
             "#bd3786"
            ],
            [
             0.5555555555555556,
             "#d8576b"
            ],
            [
             0.6666666666666666,
             "#ed7953"
            ],
            [
             0.7777777777777778,
             "#fb9f3a"
            ],
            [
             0.8888888888888888,
             "#fdca26"
            ],
            [
             1,
             "#f0f921"
            ]
           ]
          },
          "colorway": [
           "#636efa",
           "#EF553B",
           "#00cc96",
           "#ab63fa",
           "#FFA15A",
           "#19d3f3",
           "#FF6692",
           "#B6E880",
           "#FF97FF",
           "#FECB52"
          ],
          "font": {
           "color": "#2a3f5f"
          },
          "geo": {
           "bgcolor": "white",
           "lakecolor": "white",
           "landcolor": "#E5ECF6",
           "showlakes": true,
           "showland": true,
           "subunitcolor": "white"
          },
          "hoverlabel": {
           "align": "left"
          },
          "hovermode": "closest",
          "mapbox": {
           "style": "light"
          },
          "paper_bgcolor": "white",
          "plot_bgcolor": "#E5ECF6",
          "polar": {
           "angularaxis": {
            "gridcolor": "white",
            "linecolor": "white",
            "ticks": ""
           },
           "bgcolor": "#E5ECF6",
           "radialaxis": {
            "gridcolor": "white",
            "linecolor": "white",
            "ticks": ""
           }
          },
          "scene": {
           "xaxis": {
            "backgroundcolor": "#E5ECF6",
            "gridcolor": "white",
            "gridwidth": 2,
            "linecolor": "white",
            "showbackground": true,
            "ticks": "",
            "zerolinecolor": "white"
           },
           "yaxis": {
            "backgroundcolor": "#E5ECF6",
            "gridcolor": "white",
            "gridwidth": 2,
            "linecolor": "white",
            "showbackground": true,
            "ticks": "",
            "zerolinecolor": "white"
           },
           "zaxis": {
            "backgroundcolor": "#E5ECF6",
            "gridcolor": "white",
            "gridwidth": 2,
            "linecolor": "white",
            "showbackground": true,
            "ticks": "",
            "zerolinecolor": "white"
           }
          },
          "shapedefaults": {
           "line": {
            "color": "#2a3f5f"
           }
          },
          "ternary": {
           "aaxis": {
            "gridcolor": "white",
            "linecolor": "white",
            "ticks": ""
           },
           "baxis": {
            "gridcolor": "white",
            "linecolor": "white",
            "ticks": ""
           },
           "bgcolor": "#E5ECF6",
           "caxis": {
            "gridcolor": "white",
            "linecolor": "white",
            "ticks": ""
           }
          },
          "title": {
           "x": 0.05
          },
          "xaxis": {
           "automargin": true,
           "gridcolor": "white",
           "linecolor": "white",
           "ticks": "",
           "title": {
            "standoff": 15
           },
           "zerolinecolor": "white",
           "zerolinewidth": 2
          },
          "yaxis": {
           "automargin": true,
           "gridcolor": "white",
           "linecolor": "white",
           "ticks": "",
           "title": {
            "standoff": 15
           },
           "zerolinecolor": "white",
           "zerolinewidth": 2
          }
         }
        },
        "title": {
         "text": "3D Scatter plot"
        },
        "width": 800
       }
      }
     },
     "metadata": {},
     "output_type": "display_data"
    }
   ],
   "source": [
    "fig = px.scatter_3d(\n",
    "    x=X[:,0],\n",
    "    y=X[:,1],\n",
    "    z=X[:,2],\n",
    "    color=X[:,0],          # Assigns the color of the points based on this column\n",
    "    opacity=0.7,                  # Adjusts the transparency of the points\n",
    "    title='3D Scatter plot',\n",
    ")\n",
    "fig.update_traces(\n",
    "    marker=dict(\n",
    "        size=3,                 # Set the size of the markers (e.g., 3 is small)\n",
    "    )\n",
    ")\n",
    "\n",
    "fig.update_layout( width = 800, height = 800)\n",
    "fig.show()"
   ]
  },
  {
   "cell_type": "code",
   "execution_count": 39,
   "id": "24d5645b",
   "metadata": {},
   "outputs": [],
   "source": [
    "klein_pca = PCA()\n",
    "klein_pca.fit(X)\n",
    "x_pca = klein_pca.transform(X,2)"
   ]
  },
  {
   "cell_type": "code",
   "execution_count": 40,
   "id": "01c4bb40",
   "metadata": {},
   "outputs": [
    {
     "data": {
      "application/vnd.plotly.v1+json": {
       "config": {
        "plotlyServerURL": "https://plot.ly"
       },
       "data": [
        {
         "hovertemplate": "x=%{x}<br>y=%{y}<br>color=%{marker.color}<extra></extra>",
         "legendgroup": "",
         "marker": {
          "color": {
           "bdata": "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",
           "dtype": "f8"
          },
          "coloraxis": "coloraxis",
          "opacity": 0.7,
          "size": 3,
          "symbol": "circle"
         },
         "mode": "markers",
         "name": "",
         "showlegend": false,
         "type": "scattergl",
         "x": {
          "bdata": "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",
          "dtype": "f8"
         },
         "xaxis": "x",
         "y": {
          "bdata": "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",
          "dtype": "f8"
         },
         "yaxis": "y"
        }
       ],
       "layout": {
        "coloraxis": {
         "colorbar": {
          "title": {
           "text": "color"
          }
         },
         "colorscale": [
          [
           0,
           "#0d0887"
          ],
          [
           0.1111111111111111,
           "#46039f"
          ],
          [
           0.2222222222222222,
           "#7201a8"
          ],
          [
           0.3333333333333333,
           "#9c179e"
          ],
          [
           0.4444444444444444,
           "#bd3786"
          ],
          [
           0.5555555555555556,
           "#d8576b"
          ],
          [
           0.6666666666666666,
           "#ed7953"
          ],
          [
           0.7777777777777778,
           "#fb9f3a"
          ],
          [
           0.8888888888888888,
           "#fdca26"
          ],
          [
           1,
           "#f0f921"
          ]
         ]
        },
        "height": 800,
        "legend": {
         "tracegroupgap": 0
        },
        "template": {
         "data": {
          "bar": [
           {
            "error_x": {
             "color": "#2a3f5f"
            },
            "error_y": {
             "color": "#2a3f5f"
            },
            "marker": {
             "line": {
              "color": "#E5ECF6",
              "width": 0.5
             },
             "pattern": {
              "fillmode": "overlay",
              "size": 10,
              "solidity": 0.2
             }
            },
            "type": "bar"
           }
          ],
          "barpolar": [
           {
            "marker": {
             "line": {
              "color": "#E5ECF6",
              "width": 0.5
             },
             "pattern": {
              "fillmode": "overlay",
              "size": 10,
              "solidity": 0.2
             }
            },
            "type": "barpolar"
           }
          ],
          "carpet": [
           {
            "aaxis": {
             "endlinecolor": "#2a3f5f",
             "gridcolor": "white",
             "linecolor": "white",
             "minorgridcolor": "white",
             "startlinecolor": "#2a3f5f"
            },
            "baxis": {
             "endlinecolor": "#2a3f5f",
             "gridcolor": "white",
             "linecolor": "white",
             "minorgridcolor": "white",
             "startlinecolor": "#2a3f5f"
            },
            "type": "carpet"
           }
          ],
          "choropleth": [
           {
            "colorbar": {
             "outlinewidth": 0,
             "ticks": ""
            },
            "type": "choropleth"
           }
          ],
          "contour": [
           {
            "colorbar": {
             "outlinewidth": 0,
             "ticks": ""
            },
            "colorscale": [
             [
              0,
              "#0d0887"
             ],
             [
              0.1111111111111111,
              "#46039f"
             ],
             [
              0.2222222222222222,
              "#7201a8"
             ],
             [
              0.3333333333333333,
              "#9c179e"
             ],
             [
              0.4444444444444444,
              "#bd3786"
             ],
             [
              0.5555555555555556,
              "#d8576b"
             ],
             [
              0.6666666666666666,
              "#ed7953"
             ],
             [
              0.7777777777777778,
              "#fb9f3a"
             ],
             [
              0.8888888888888888,
              "#fdca26"
             ],
             [
              1,
              "#f0f921"
             ]
            ],
            "type": "contour"
           }
          ],
          "contourcarpet": [
           {
            "colorbar": {
             "outlinewidth": 0,
             "ticks": ""
            },
            "type": "contourcarpet"
           }
          ],
          "heatmap": [
           {
            "colorbar": {
             "outlinewidth": 0,
             "ticks": ""
            },
            "colorscale": [
             [
              0,
              "#0d0887"
             ],
             [
              0.1111111111111111,
              "#46039f"
             ],
             [
              0.2222222222222222,
              "#7201a8"
             ],
             [
              0.3333333333333333,
              "#9c179e"
             ],
             [
              0.4444444444444444,
              "#bd3786"
             ],
             [
              0.5555555555555556,
              "#d8576b"
             ],
             [
              0.6666666666666666,
              "#ed7953"
             ],
             [
              0.7777777777777778,
              "#fb9f3a"
             ],
             [
              0.8888888888888888,
              "#fdca26"
             ],
             [
              1,
              "#f0f921"
             ]
            ],
            "type": "heatmap"
           }
          ],
          "histogram": [
           {
            "marker": {
             "pattern": {
              "fillmode": "overlay",
              "size": 10,
              "solidity": 0.2
             }
            },
            "type": "histogram"
           }
          ],
          "histogram2d": [
           {
            "colorbar": {
             "outlinewidth": 0,
             "ticks": ""
            },
            "colorscale": [
             [
              0,
              "#0d0887"
             ],
             [
              0.1111111111111111,
              "#46039f"
             ],
             [
              0.2222222222222222,
              "#7201a8"
             ],
             [
              0.3333333333333333,
              "#9c179e"
             ],
             [
              0.4444444444444444,
              "#bd3786"
             ],
             [
              0.5555555555555556,
              "#d8576b"
             ],
             [
              0.6666666666666666,
              "#ed7953"
             ],
             [
              0.7777777777777778,
              "#fb9f3a"
             ],
             [
              0.8888888888888888,
              "#fdca26"
             ],
             [
              1,
              "#f0f921"
             ]
            ],
            "type": "histogram2d"
           }
          ],
          "histogram2dcontour": [
           {
            "colorbar": {
             "outlinewidth": 0,
             "ticks": ""
            },
            "colorscale": [
             [
              0,
              "#0d0887"
             ],
             [
              0.1111111111111111,
              "#46039f"
             ],
             [
              0.2222222222222222,
              "#7201a8"
             ],
             [
              0.3333333333333333,
              "#9c179e"
             ],
             [
              0.4444444444444444,
              "#bd3786"
             ],
             [
              0.5555555555555556,
              "#d8576b"
             ],
             [
              0.6666666666666666,
              "#ed7953"
             ],
             [
              0.7777777777777778,
              "#fb9f3a"
             ],
             [
              0.8888888888888888,
              "#fdca26"
             ],
             [
              1,
              "#f0f921"
             ]
            ],
            "type": "histogram2dcontour"
           }
          ],
          "mesh3d": [
           {
            "colorbar": {
             "outlinewidth": 0,
             "ticks": ""
            },
            "type": "mesh3d"
           }
          ],
          "parcoords": [
           {
            "line": {
             "colorbar": {
              "outlinewidth": 0,
              "ticks": ""
             }
            },
            "type": "parcoords"
           }
          ],
          "pie": [
           {
            "automargin": true,
            "type": "pie"
           }
          ],
          "scatter": [
           {
            "fillpattern": {
             "fillmode": "overlay",
             "size": 10,
             "solidity": 0.2
            },
            "type": "scatter"
           }
          ],
          "scatter3d": [
           {
            "line": {
             "colorbar": {
              "outlinewidth": 0,
              "ticks": ""
             }
            },
            "marker": {
             "colorbar": {
              "outlinewidth": 0,
              "ticks": ""
             }
            },
            "type": "scatter3d"
           }
          ],
          "scattercarpet": [
           {
            "marker": {
             "colorbar": {
              "outlinewidth": 0,
              "ticks": ""
             }
            },
            "type": "scattercarpet"
           }
          ],
          "scattergeo": [
           {
            "marker": {
             "colorbar": {
              "outlinewidth": 0,
              "ticks": ""
             }
            },
            "type": "scattergeo"
           }
          ],
          "scattergl": [
           {
            "marker": {
             "colorbar": {
              "outlinewidth": 0,
              "ticks": ""
             }
            },
            "type": "scattergl"
           }
          ],
          "scattermap": [
           {
            "marker": {
             "colorbar": {
              "outlinewidth": 0,
              "ticks": ""
             }
            },
            "type": "scattermap"
           }
          ],
          "scattermapbox": [
           {
            "marker": {
             "colorbar": {
              "outlinewidth": 0,
              "ticks": ""
             }
            },
            "type": "scattermapbox"
           }
          ],
          "scatterpolar": [
           {
            "marker": {
             "colorbar": {
              "outlinewidth": 0,
              "ticks": ""
             }
            },
            "type": "scatterpolar"
           }
          ],
          "scatterpolargl": [
           {
            "marker": {
             "colorbar": {
              "outlinewidth": 0,
              "ticks": ""
             }
            },
            "type": "scatterpolargl"
           }
          ],
          "scatterternary": [
           {
            "marker": {
             "colorbar": {
              "outlinewidth": 0,
              "ticks": ""
             }
            },
            "type": "scatterternary"
           }
          ],
          "surface": [
           {
            "colorbar": {
             "outlinewidth": 0,
             "ticks": ""
            },
            "colorscale": [
             [
              0,
              "#0d0887"
             ],
             [
              0.1111111111111111,
              "#46039f"
             ],
             [
              0.2222222222222222,
              "#7201a8"
             ],
             [
              0.3333333333333333,
              "#9c179e"
             ],
             [
              0.4444444444444444,
              "#bd3786"
             ],
             [
              0.5555555555555556,
              "#d8576b"
             ],
             [
              0.6666666666666666,
              "#ed7953"
             ],
             [
              0.7777777777777778,
              "#fb9f3a"
             ],
             [
              0.8888888888888888,
              "#fdca26"
             ],
             [
              1,
              "#f0f921"
             ]
            ],
            "type": "surface"
           }
          ],
          "table": [
           {
            "cells": {
             "fill": {
              "color": "#EBF0F8"
             },
             "line": {
              "color": "white"
             }
            },
            "header": {
             "fill": {
              "color": "#C8D4E3"
             },
             "line": {
              "color": "white"
             }
            },
            "type": "table"
           }
          ]
         },
         "layout": {
          "annotationdefaults": {
           "arrowcolor": "#2a3f5f",
           "arrowhead": 0,
           "arrowwidth": 1
          },
          "autotypenumbers": "strict",
          "coloraxis": {
           "colorbar": {
            "outlinewidth": 0,
            "ticks": ""
           }
          },
          "colorscale": {
           "diverging": [
            [
             0,
             "#8e0152"
            ],
            [
             0.1,
             "#c51b7d"
            ],
            [
             0.2,
             "#de77ae"
            ],
            [
             0.3,
             "#f1b6da"
            ],
            [
             0.4,
             "#fde0ef"
            ],
            [
             0.5,
             "#f7f7f7"
            ],
            [
             0.6,
             "#e6f5d0"
            ],
            [
             0.7,
             "#b8e186"
            ],
            [
             0.8,
             "#7fbc41"
            ],
            [
             0.9,
             "#4d9221"
            ],
            [
             1,
             "#276419"
            ]
           ],
           "sequential": [
            [
             0,
             "#0d0887"
            ],
            [
             0.1111111111111111,
             "#46039f"
            ],
            [
             0.2222222222222222,
             "#7201a8"
            ],
            [
             0.3333333333333333,
             "#9c179e"
            ],
            [
             0.4444444444444444,
             "#bd3786"
            ],
            [
             0.5555555555555556,
             "#d8576b"
            ],
            [
             0.6666666666666666,
             "#ed7953"
            ],
            [
             0.7777777777777778,
             "#fb9f3a"
            ],
            [
             0.8888888888888888,
             "#fdca26"
            ],
            [
             1,
             "#f0f921"
            ]
           ],
           "sequentialminus": [
            [
             0,
             "#0d0887"
            ],
            [
             0.1111111111111111,
             "#46039f"
            ],
            [
             0.2222222222222222,
             "#7201a8"
            ],
            [
             0.3333333333333333,
             "#9c179e"
            ],
            [
             0.4444444444444444,
             "#bd3786"
            ],
            [
             0.5555555555555556,
             "#d8576b"
            ],
            [
             0.6666666666666666,
             "#ed7953"
            ],
            [
             0.7777777777777778,
             "#fb9f3a"
            ],
            [
             0.8888888888888888,
             "#fdca26"
            ],
            [
             1,
             "#f0f921"
            ]
           ]
          },
          "colorway": [
           "#636efa",
           "#EF553B",
           "#00cc96",
           "#ab63fa",
           "#FFA15A",
           "#19d3f3",
           "#FF6692",
           "#B6E880",
           "#FF97FF",
           "#FECB52"
          ],
          "font": {
           "color": "#2a3f5f"
          },
          "geo": {
           "bgcolor": "white",
           "lakecolor": "white",
           "landcolor": "#E5ECF6",
           "showlakes": true,
           "showland": true,
           "subunitcolor": "white"
          },
          "hoverlabel": {
           "align": "left"
          },
          "hovermode": "closest",
          "mapbox": {
           "style": "light"
          },
          "paper_bgcolor": "white",
          "plot_bgcolor": "#E5ECF6",
          "polar": {
           "angularaxis": {
            "gridcolor": "white",
            "linecolor": "white",
            "ticks": ""
           },
           "bgcolor": "#E5ECF6",
           "radialaxis": {
            "gridcolor": "white",
            "linecolor": "white",
            "ticks": ""
           }
          },
          "scene": {
           "xaxis": {
            "backgroundcolor": "#E5ECF6",
            "gridcolor": "white",
            "gridwidth": 2,
            "linecolor": "white",
            "showbackground": true,
            "ticks": "",
            "zerolinecolor": "white"
           },
           "yaxis": {
            "backgroundcolor": "#E5ECF6",
            "gridcolor": "white",
            "gridwidth": 2,
            "linecolor": "white",
            "showbackground": true,
            "ticks": "",
            "zerolinecolor": "white"
           },
           "zaxis": {
            "backgroundcolor": "#E5ECF6",
            "gridcolor": "white",
            "gridwidth": 2,
            "linecolor": "white",
            "showbackground": true,
            "ticks": "",
            "zerolinecolor": "white"
           }
          },
          "shapedefaults": {
           "line": {
            "color": "#2a3f5f"
           }
          },
          "ternary": {
           "aaxis": {
            "gridcolor": "white",
            "linecolor": "white",
            "ticks": ""
           },
           "baxis": {
            "gridcolor": "white",
            "linecolor": "white",
            "ticks": ""
           },
           "bgcolor": "#E5ECF6",
           "caxis": {
            "gridcolor": "white",
            "linecolor": "white",
            "ticks": ""
           }
          },
          "title": {
           "x": 0.05
          },
          "xaxis": {
           "automargin": true,
           "gridcolor": "white",
           "linecolor": "white",
           "ticks": "",
           "title": {
            "standoff": 15
           },
           "zerolinecolor": "white",
           "zerolinewidth": 2
          },
          "yaxis": {
           "automargin": true,
           "gridcolor": "white",
           "linecolor": "white",
           "ticks": "",
           "title": {
            "standoff": 15
           },
           "zerolinecolor": "white",
           "zerolinewidth": 2
          }
         }
        },
        "title": {
         "text": "2D Scatter plot"
        },
        "width": 800,
        "xaxis": {
         "anchor": "y",
         "domain": [
          0,
          1
         ],
         "title": {
          "text": "x"
         }
        },
        "yaxis": {
         "anchor": "x",
         "domain": [
          0,
          1
         ],
         "title": {
          "text": "y"
         }
        }
       }
      }
     },
     "metadata": {},
     "output_type": "display_data"
    }
   ],
   "source": [
    "fig = px.scatter(\n",
    "    x=x_pca[:,0],\n",
    "    y=x_pca[:,1],\n",
    "    color=x_pca[:,0],          # Assigns the color of the points based on this column\n",
    "    opacity=0.7,                  # Adjusts the transparency of the points\n",
    "    title='2D Scatter plot',\n",
    ")\n",
    "fig.update_traces(\n",
    "    marker=dict(\n",
    "        size=3,                 # Set the size of the markers (e.g., 3 is small)\n",
    "    )\n",
    ")\n",
    "\n",
    "fig.update_layout( width = 800, height = 800)\n",
    "fig.show()"
   ]
  },
  {
   "cell_type": "code",
   "execution_count": 43,
   "id": "f45ece16",
   "metadata": {},
   "outputs": [
    {
     "data": {
      "application/vnd.plotly.v1+json": {
       "config": {
        "plotlyServerURL": "https://plot.ly"
       },
       "data": [
        {
         "hovertemplate": "x=%{x}<br>y=%{y}<br>z=%{z}<br>color=%{marker.color}<extra></extra>",
         "legendgroup": "",
         "marker": {
          "color": {
           "bdata": "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",
           "dtype": "f8"
          },
          "coloraxis": "coloraxis",
          "opacity": 0.7,
          "size": 3,
          "symbol": "circle"
         },
         "mode": "markers",
         "name": "",
         "scene": "scene",
         "showlegend": false,
         "type": "scatter3d",
         "x": {
          "bdata": "A18MxqVvA8D5omSeaAYKwHAZABI9ngfAQiUP8j+YDsB9/L4yi1oEwHmLwkwJCgbAZzWX4r3VA8B8Jb4T+NcIwFYJU6IODhDAg8g7tfBJD8AF5YNmZWP0v/LK5Wq1mAfAgqO8gkWPA8A9xSkBWxMOwKiulYPYt6q/XxXu35YYDsCo+s4h82rCv0o3c/IstMm/I1rmispzAsAB4mGzz6f0vxmKmVU73/y/rXwn6IRvBsDoRSzbd7vfvx1cgnOZognApDaXrVcYCMBF8OHRnbYOwO1F63h5Bdm/Zu0aZTLqBMC4Yvu9t2r2v9/C188OENu/uROPUOLww7/uLemzH/sBwCTo1jbwk+m/2wR0UvlvEMCF0yAqm57Xv86W0/EM0ru/UXOLgSnTEMCi2SJZEFULwE81wjitgQ3AyptegDtJDcAgV2hfWtoOwD1MxfStSAfARlir3EVB+r9zkeQditD9vyHsT1ZIQALAz9MGOxc0EMDGUR8qA+n6v5SXZTa4QQjAc82gNRUxB8AslbLabB4QwMFVMQWXYRDAH7IRn7GWwr9hCwFYXt1/vz8RD39KcAnA9RwyGnTyAsDwLjc8eGQMwKHDpSNlTgvAMn5NmPBSDMAnXqMMarUFwJ3NMXPXv/2/jNjks3MxA8BjSKtWe87sv83s6+z0zAPA6POJFv1jBMCwyxlCZALvv+kqG4Sfh/i/9vwZ6Fx5CMCTfo8s44Stv1iKN+7btADAipC0VMGvEMCiHJ87ddsKwNx5jghUaAPAcOmeDh9A4r8ojPAACaIBwN/ZcJu58QrAC3hBkQnuAcAoiVgicFgNwA3uJPWDFPy/4j/vSk3p8L+0rX1lk7/jv0VpiXsmLhDAY3xlmYhyAcBwZG3Vof/0vzzbeJl2VxDAgvgdbjYL9r9p0e3siIz8v34g3ThI69C/HbWRp4xlDsB6Vkq6eYQAwPwL0M+X7A3AI2uR+S73CcCBBi0pNtm6v/vdu3qRW/+/0qIxG/17BsCYoI027iKLv525M/gFiGW/Yo6FZ7ra/79xbku4wiIPwJLE1MPHFQ/AuaW8XU07/b+IQFyt/DH8v3y0CIcgkPi/daiFrt+59L9vV5/vxmULwLaveN2RYg3AdSM3Fyszzr/DpPexYqEOwO9ZRVrrP7u/XK6t5XfA8b+qO7KZ8uYEwKlOez3AZwbALlRJmz/fDcAI7T69BfzmvwPqHOh39AbAx+V5Iq4XDsC8sppJCTjTv7kmHv8Aww7AUnOwa7xl3r8AKJdsSKivv2TWxX5Z0oM/kqfkoQKe9L9rJM5FRiLwv7FjKQ1MzADAQxPccAwfEMDdGkLGYMLuv3KE6nw0uQbATrwLSJecDcDsSrHgwdTyv/Rpp8bUYgHAr3GBgq1SCMCjdGW/DT8OwJgC8M5fmATAkHapskmC07/wFxp60DUBwGk++7nYG+K/rYxahs4Dkb+2CMyRB3dwvxZb2iLdDgDAEyRfri5hDcBBJ83Oh/gOwERL7GJO9grA7UWgLMwf0r93y3n/rrICwAVPzcDcbLO/cHmY9kGH+78HxDZzIzx0v9STo5bqKO6/piCOhARbxL+K1FtmOFMFwBInUjPVAtK//deYBlmY+L+tC3wE+Frdv25GVFu6oty/ipnv3fTlAsDp0yPeUKgFwDK4O7x+xsq/3PdAXn8mr7+xXMXlglX3v8+PkJeBbw7A2uLJTMv74L/6yqag5JUOwAzHxSDX9w7ApNBQN3il/r+XSxkfNnkOwJQp5XOC4gTAxHIsUeYLDcDQAJoORYUgP239vyV9vgDAXCMl3xeV5b8ETGhsdXC0v5jAMUmOMgTAuMzS1ses8L8nxsoZJlYMwFqV9ZAuXeG/bxJFFwqoCMCFLc5hApHRvxiqLALrEOW/aG03xp4z3b9HNE0Am5IQwPHdTrS0t5S/1KCAZtea6L/HoZhPK6AGwNXwWbCoFse/Rqidb2S1DsCp3pap+VCDv2Ibmk9c0wXAVFFAzurfbL9n85v1wgwCwDf1l3fJkQPA/NWZEb2d2797ct5FfU38vzqCSYC11g/AK3GQWiUgm7/X1AlaXH/2v2I8GvqcSey/eHz2Q+DW878sHigOPp8LwMBsRdtsqQzAsnu7CIAi/b8IUNFylfrfv1bOX6i8SBDAkk/Z468pA8CuLA8aRdsOwBjIXcD6PAjANcn6vhsW/b8QO40YiT0OwMfD/T+/oPi/rc1l6kP5aT/0cJK/Ayvlv57RwACr2fu/HvC02nPi8L/xCMBa0eriv1mj88fzneO/OV+BP9TCDsAUhFy6Fe8FwDpJbPjN7wLA/uQSGWF3AsA2S11RKS8QwLOhF2WL3I4/hZbxZOHO778pDyJdVpUHwMAl2WGkHeW/JVc+7L7cDcC0AYmpeVTTv7Jn1dTBtgHACjTtETgb/r/sm229T7cPwEhlgM4csNu/Dn/6pPyYyb9n3pfQxvwFwKQa0kVOggrAKN+DzLn2+7++sCJWU+L4v4pCYoeJWw7Au1lDvpch77+cAeqDVFwLwGJM+PCjDrC/emqzVPRsAcD3Zmb/TYcLwKFsOhWVx/y/UqrH3AL8/L8RlGBumrXivydHvKAWyJ2/7ZOeT7RFEMBooQ6BsNwCwNUL+3o64A3A+pBJaNXgTD+EdYqSqIAQwOap5jRa/wzAo6jfnN6wEMCMpjqx2cjrv4xsXvNrxA3AYYqHi13Q+78Gkj53dl8OwHtUn+xHhwzA9fuEcDl+D8B2Bo10zbULwK0egIMRUwXAtHTfD4GPhj8oA518WWgNwKZ3Ul3+5wvAF9hhQIwr578xjfVAAxkOwLu9GhksMOu/Mka+xOdWD8BDqw7H8R3Cv42W6J85EQfA1iDumpOUD8C9INNLJSEJwNVH5EkVLZS/phPks2znDsARWhRkfButv5bY0LpNKeK/0WYdMyLU5L9VFhfUsQYOwBG/CZGX1+6/3A0PN6Q1AcA0Mcb6rLLGvzfEpsYxkg7Aaqj2vFZH/L94Hdd+OGjhvwZy8ti7xAvAp+8CJydkpb9iqYEARNffvy3XV8dTYADAhUQt3h6NDcCuG+hZdI/cv2Dg8uABT/O/20muiM6TDcAex8XQj4LXv7UHjvMgygTAkvZ5QYFD5r+JmSS1I7vVv3/U1x+mcPu/BIeeqMz59b9BLstB11sIwGhZ78nzXuO/elKe1TY7B8CXzroKVoHJv1uiVuiDivy/s0a3bhEn0L+UNo7rAlbdvxmqQjzkfxDAri+wTZ2uDcAHf2N+4UUNwD1lPcb6C/m/epiABTMmB8CeshSSTqsOwISDdC3MnwLAAVvC20OACsA4hMWWG94GwMC7Tf7o2gDAvl/2wEpS1L9GmnP9kbLdv2+6YtpZvwHAKZmB+3/H879jw1OZcuDNv0vZNt7b3Me/OJi9jB6wEMA2Gl85gDMBwNspMW+pgArAajWEZxifaj+das74HS7+vyRYVAWtJQvA/qjkIA3HDcC7FivVrA8NwMB7enqyqty/B6kQ3mBw8L/bC6DPum8GwHobbeJoA3q/jOAR26YuEMBaasbXhKEOwKL+pW1KzOS/VkFNRqg2BcAAhIBKwp3hv20mvz8zyb+/ulGA+LJpB8AK5fGxoKoNwEFjcif5sQjAja6ASTFZ07+KVwJMYOzuv2fmkW6DBQfAdLaaZQSUpb8H2YMo/5gFwPQPNAGNpQPAf5wpu5B917+Dm1gbcbrhv/yzH9zLBgfAZXqbvlp8AMAbdAwn9IX1vxYOu3ewEgLAH4gKKsC6DMCldkknp0sQwKguUlyllwbAu93Xqg/uB8A2xbXeO6jxvyCrvc7CoM6/hs+bjRM5CMBueclqDEXhv/nerSmwEYa/2y+GbX5uBMBzt0/cOHkIwGosgxmdHNy/DnZnzZv/AcCElX5Z8vMKwE0Hb7gptAvAKYx3rAHgij8bzuWkRer8v1uGuv3iX/a/Te4PIwOqoL8iBSMfVL38vwdIvSLSsgPAxP3fkc6oA8DTFZZmSLUHwPzV4HiDxQzAeQLx5c5z5L+hX6BgDDBsP6DeHkZnofK/inJboUNEUD8YleqTxSEPwOe1Ez/Nzw7A15Judv9CBsAXNoiUYkAPwBwGzmE+Jg/AX6cTOF8w8r9V3FM9WhcQwCasuUGE+bm/lYG3kOg/AcA2aYpiM3zGv8OkM1VGfuO/3LGfUVY+0b8vyZIkzU8LwM1GOhsrlgLAkLGXwkkTCMDPO1Opq8j9vxkVDLkeag7AeXV1Ypi6vL9m8AqMdz0OwPoQ0AjojcS/O8l2fTO6EMA+EZX/564MwCjpZQexH3q/alEW/RVrXD8YzI2Y4BV7v/8PeqtUhwzAGryreMVp3L/H3iok8rOJvwNyabb8EPe/A5NkIIPP47/udHhnCwjav6BxPNbwu/2/sYEyyFtWDsCtr3MaDDupv/BYu/jCigfADvJIdyg/57+9A3cn6/yhvzlzyqOT2wTA08D2NvfVqb9SqoOIWbvVv0Kx6ne6OwbAilwpHfVYA8DJnJumx7bvv3udxKZYFMC/Lp3b0FX9hz+FwXCMSRHbv9ZubEfdFaW/+kWS2UXl5L/dCi2S8Znhv1cKDXEoSpe/P43G1aRu8r8hh3MfuiqWv3WQWLRQZQjAXPpwOoHXCcDCKmLwiLMOwKKLIdpV+AHArL98cVKFEMBWMGYOfZMNwKibPMppUvC/4LYZBBcjDsCTnNMTPQcKwGzTM15MUfa/+LhVeoiDBsBkKxTzxiUOwC4wLtTmJwbAluOiQl5/CsBLosM7EW2tv5XU5j6E0eK/XqQ4b/Nwpb/wmrrd9Y1hv5HPogV2R8C/zSlUI4D2C8CNv1ZyLD4FwJpo7Wo68tG/7iPsU9X1+L+ZE6mABeD1v5+aDVXqDr+/9WXqtM56BMCdINgVMnXvv0iRnW6qTQLAy6Nj6vpaAsBPtElAJdIPwAv6gLT4Rg3A7KqedQ7x97950B3wkLL0v1KXDbSs6AjALTIBeEkwC8AwsPpze4YEwDPb5/Jc5A7AgTmcEgTk/r8Tw6yoryStv/WMbXcrRw7ABwOwfmNQ9b/9sBhWf1eev6Io2B5tnP+/Jh7GqWOaBsBgKNPqc7m1v83e8vR2A8+/CHVXhpu0/b9qDc8XyXsLwDqaRijEyxDABm5TT5Fi978UQoLG1aL5vwQuc/+tnAXA2RobTJ2HEMBa4MTX1M0LwBpB7dwBxL2/bs+Aw9e8c7+KtTgTg0UBwCRO7kTFThDAMn1Jqp6m2L9xIUigjLKKP/NFLEnKdwXAixmuxTI5t78he3DDzS/qvyLtYsuDHQTALSkwbzIvC8AnaeQkarQOwEXZ534nbg7APaqSnMd977+Pi7VROKYHwA1OVdB7EwHAP4LCbD5tDsC2PXhM97jov2g693Jz0gnAPLOyStREuL/ksYLIFGYMwPJbAOksZAfANO5odGtr7r+VFNTBFMIHwOjNc3jFocq//n/+wgBFC8B6iKLL+HAJwIrzalFWZu6/AImhg+dTB8AzNiYUgUkLwE3Fyc6JCOm/70QLdAx79r8Hpt2+vqS4vxPd4LeK7w7ASEuNICF5DsDZXulwVE4JwB7ZNONveQ7Asq8WNT0vDsAditqhI4D4v3T/iKM/ERDAQxgzEem3D8BFOXl/HlIQwELEdOG0jNq/NvbB2bBmAsDn4L7oYkarv61kDEPBeoW/udEsWh+4DcBdQiiROmKov9TBhHOUPOK/QocG0V8CDMBfxNkJsODgvyQuUDYJsPO/7/4Y3r5A1L8wm/grjVj7v5MxKIHfZ/6/vF57xb7B17+ZNy6GvPUBwBFL3+3urg3A+d3Sr40kAMDYc7Wuhv3TvyHN7vqpmwLAFcE6b8uWAMBW+YbPH87rv1VKwCRglQDAw4Mk7Od9DsASR15nZlbxvzo66sC4BAvAFK+iDa/yA8CQ8KxT4bAGwNhuQTJ49q+/AmOMZRsEBsDfNb0WMcTYv8U0oOV9qATAqzMqBxHsCsDElA7gSwAPwDaFFqHbEtK/wbjKNL2zw7/fxCSqKusGwOp4qZ4Z7Gs/j6EX7yU4CcCm2GSs2hb3v/ggWvw6NA7AsCw19gbwDsALnqv4MZL+v+6gsEdgf8K/hFDckW1d4L+UnimF/LcLwDm2kDpEct2/xB4EHXIq5L881UPhUy/wv6Lfy8nI/AXAsi1dQSdXDsC60ML9C6DUv5jcKFZd2/+/qyPvt9Eejb/x58pR1vnIv5wNNuwpfg/AnKjskJCWD8CFDQ5LxfL8vyTg6HRmMwHACATqkrZg+b8CmiY8+5wNwJ1R0EfelfW/otBUKXP1BMDXC0s9TjMOwLgzWDIk/e2/w5vhpS0p4b9Z+CBN+qulv/4q1Qd2gAvAl2/2RozaA8A/Cxm9JH8BwAQg+cDWWAzANobhwKK29b/zAUc7Nfbwv3ZA6LgyG+G/ja35L8kwB8Do+HE0Rm3xv8InxWAoag7AbEWnTxUe/b+LfbvpeJQDwDlKwUSrIOO/aqcHZzdqEMBaqK+KlSUMwKSOBxIswQTAAk0IGo41BsD45egiCObyv9RjMTmWrBDA8QveA5Jr27+E0vXU8rW3v2nyeKPVdA7An1WimrtL7b9OmJaqIPH8v1gAepEyCai/E4C0UejnDcCXgvjk0At6P2BQ2jRIhM2/XMdQNoFMDcDdXvfhoVr9v2I+ICYzYw7AVVyrrh8N5b+8/jcQIQVov14xvpxEoA3AMS7bsZl3EMA0zjSLmQINwKvqtTQswRDAywm8GwLMAcByIDS3fyoFwFIYaKjp+AXAVZ4xacW+4r+g0VccZvALwLwmsZSYwArAX89O6sN4C8DRYcaCSmbmv8/wQ/wjTAXACqxHiclH5b8ESUGJ71DCv+PLl177+ei/bGRxmlj7qb+9bKJpnPwHwOq5UapWRgvAf+gxKLuC+b+VXX8y8br4v2TulS94ZQjA06dMi+Zvor9aFqTlFJG2v1Rk38jUrvS/1H2jwr0rDcDO6AhLn3PUv5rLJqKXKvW/mKiOPo9TB8Cxg47AClCNP7w7sSzB2wbAbAaIeEtMCsDH59aAWcIMwCyT4p3OO3S/PKLj0y6Ksb+N66UYEowFwEex1UAzHAfAUe0Q1jwMn7/TB3wPKgMNwC+Su8jzT7a/b01q7CvRAcARwIaJugkKwJAWnWoPYeW/7/MQNbvrCsDo1rYa7HLWv2/B+0ymtQzAMzp+tOQw+b9Ucq3xwngGwNqmMtZlBsa/KUaYiYtNm7+RDGyenxgIwBDoJSF+avq/sUsFUwdp8L/6cCQX3InkvyEPodrRMg3Ao/VgCDb9hj/v8/V7mjLjv1USl/3xJPG/59jMqiSxnL8zATbwbCKDv4UkGQw1Lvq/l4q6NQzkD8CWhz+YL5Stv168RcQtgwjA6KEYwqZ62L/q+iwJ2G/Rv4goEORnb72/VGdZFvYMBsDY5dhY4d8PwF2vvRZ8Ev+/lGzz9O2r87+3M6jb7Cfsvw0QRHVgRRDANWnyR7kLDsAtl7CvnnGkv1CW0gzF1RDALUKfQcL5A8DSTgwHVzf+v7QcauK46du/SG8b4A0ACsBXbaV/sHX+v+MYrG1bcfW/toDGoGb+z7/3w/8aABkPwKfO8JpV9vG/33zk5/sGA8CyQsdS8v/7v5bGwkrYlcW/UHO4tkn7DcDU+q31V/y7v+k/0CLOPgjALlB3NW8DC8DiH60mT2Hmv8+kZxYTzg7AX+Bvkrvp6r8G9mdr2+zwv5OOmE24RxDApIFpygtotr9embPOFMnQv9P4O6tpCQrAsKaq/Ld1C8DDPczcz4oKwEiR2ok8JAnADJVm+FAy5b8NzJUhUc8IwEnH4Jsg2f+/8MHTOXzIBMD9s91OLPIPwJKKgls/SKe/E07NXWTh2b8EjYag9RBzv09BX+//kNK/fSW8fE7R8L/Glc8PQvUHwAVbGmat58e/2kdZKKECC8BvTdT4X3Xhv2ChhkstVw7AcztRk6G597/QzclWQnUJwLR7P8l5Aua/b8S4orEs9r/9QYahPMnVv+qm/KKUdw7AI6ZxlZNoDsArn4L96ncBwJNI9S3gNgHAsC6rNE2Z2r/uk96KUFHzv0shCO0G5Nq/OWLAUSUTsr9W0pKUNH3Dv7AR0PuQJty/AuNPEZc/nr+neM6PsUUFwLGpuwZJ99W/uYfDkYjqqL9sDRovSDUMwBiPJzJnKwjA4zAtBj4yD8CP8xQ5ASTvv5R+3cJQ3uK/zMBq3E5RA8AD/xKmc1MJwGB62tsZIQDA3VYCwspnD8AickcmnpUBwDuDwofX8A7A+yCapPLaCsAzDsGlF1IOwGC+ZiQ1/wTAfxvk59dtDsDFK+8sQWn4vwE7PG33qRDAde4f01Lz/b+PsVouooEQwH6DHth1KwzA859pvLINC8ABP5YNTewGwG61R778EwrA5tkWV8AQBsCQggQdfeJfPwV5XyF7pLO/AVbZFMjy7r9oFOYPYMYMwDXf361JMeK/q0QXbsNVCsDpBlCCDpRzv3uJrwsigAbAT3N5mv5oB8B+UW6v8MYFwMAMOIPlHd6/a+XWZto8178MbURSwrwOwH3pGFHiA/e/jJGO0HgK7b9Knzil660KwAbbfu0ngNy/qdrDViJVC8CdQNK29vOuv7++7THWGBDA1zjTGg7f9b9VvMdl5yv0v7AEXvS1TArAtuyImwkm+b/yk5H0AJb8v7Aodnrn7QvAWdKO31W/EMDtUYGUoxkNwFVUsld0X++/Lhn1drnVEMAlk7H/zxfDv2U63ZgX+gfAHMcjfLWxEMDP6PtIjPjSv1sGEMnZqADAZe38WovW0b9f3OorWr3qv6Yqc7vOO/2/ECKiPS30yb+RtXedDrjZv6jQp3FBKA/ABGQV+V2P5r+fERV8rxoKwJ/jZb/il8a/rxOtF1Zz979kvJFG/hgNwM9lnf0Cwfi/IGKGStGeC8A3fQ3H+G0PwOv8Hav5QQTAec4JOb4WCMAE23EQJD7nv93krTEWFg7AaC0qmgk2AcBmizDtP14QwAGXIehg1OG/R+omtxQqrL8NsgnfbyYKwMY7jcyHaw7As4fK0MpN/7/8eCtLZ4LZv66RPpwjVLW/XFpqslL/+b89RO7ihjgQwNhA6AohKxDAJuciMfl8EMBQSsMzj74NwFITvShFEPC/8fAYm9GjAsBalqpKeLgHwGk9//bA18G/pghmyJm8DsAwsJbPRwwNwBFu1m1fMwLAvxaAtkbv+L+g1gDE3bYBwPoOPM5FE/C/7MSmr8+hsL9uuTzPLLAOwMK/gbL8tA/AKcdCVXdACsCsixS8ZL4MwPuOnOtTOgLA5LzkTfTDDMDcnUqrLPoNwB61LwVbNQfArLnd/QeaDcCUMPJokl8OwBBwBcsaKAHADuHKJ2Gk/b+23Y+zDzn/v2k/Iwa04wXAsl2cUsM06L8AoVaC0IXhv3NDaK2ARc6/nvx36IvE87/CuTZwfngOwIrpRJi6cfG/nl45s4ILEMBp0uLvF/sLwMkWniW0Hum/PEVUIxIw7b93m0F51vUAwFNXk/VUwPe/nCoDq1/54b+g753yB3AOwGNuXbKv5wzAXHR62AB6DcBTr1zET6YYP2XxH/bl99+/8wcGie1eBcAG+LY5Md/DvyVtVukV9gDAYAG9psWX+b+RVx10e5vFv9wnIhc5lQzAS5nnbvgkC8BXVU3zgVfZv9NfvX7FpQzAHA1iU79uB8BQ1tDSsnbhv8jtxV2TFdK/eSb2+JsYCsCr8IywJJoDwGdu3Pvk3eS/MBnIV9u4BsABeLq9ECfzvzwK26l8HgnAcV+ghvMm9L+Wa5xySP8OwOxrVxCSNpi/2s4GfjDE97/sb9YY/OMPwKzDLN3e2g/AAH+JqqcIpr9VOFv+dsYQwEevSZd1qdC/J2Z/rka/7b825NgEeOnwvwaKoPkHEg3ArCSOLaPQDMCmBTw7uYjJv6mGEGP3O4Q/BzeQuloehL/dLPK09FUCwG76Y6SYxQfAJTrrig4M5L9tX1tOspf0vz5G2oHGVNa/NN05DsBPCcAVrPSnBiMFwJp0awVlTwvAp30NuRsZDsDDC4O8BQJ8v87GJGxGWg/Ab3Iu5p3nDsC4Jjl+8PKsv2LSl3aCWwLAIptkVwHj0b8MNdQUBaPvvxqPjF/xSW+/E90Uwe+5EMCET2dT7Cjdv5Bsp8Tjkti/YPvwUDtpBMCbZy/ugOm0vwD8yPlPsA3ALYz5y6LK3L8cgeknOfoFwJe7g9xuLwfA/NNhatd8D8BtrR1c18oFwNpcYIz80A/A52ceimxYoL9HbRRlPu/xv5U6MwRoJwXAnTF31bb1DMAE670K0wgNwPVJQazV2AjAfQa3eJQPCsA1VQC1HzL/v2kwP8dMoAzArbJXVft8AcByScCFrTR2v5IKr3B5TBDACdDBnAWd7r9dXB9R1lXmv/8FQaAfovi/p0V2Z+Yt7b8uBzWTrSYPwG/UP+KdGhDAF3k6NasUD8D9PO9FVUWYv5WKVsF6ygzA1NfHjBqe+b89WKC+4K0QwNrVLvsxWv2/VeRQLUZGB8BSyHesIUb5v/JXWjCzkuO/j158/kdnBMCFRp1rgVcHwGsdiCf+Iey/y1SEREWY+b8fbGnoW5sQwOgoFiTKLAPAmXEaq0xdCcCk7G6ITwTjv7jOibPG5QHAHC74aqclDcCKn1PGdxXgvzKl0xcWUuK/QykbCtGx8b8ZoKNH1tv3v8qDHq+m9w7A4Gq9b6aaDMAjbrCXJ6vGv3wJTxCitA3ARTHqiSEmDMB69Zl+G/sHwK+GiWQSuwzAVPCFOvln9b+We4hEwyb/vzlE53+jlvu/6rz3gYdzDsDRjkT0zcQCwDESa/3zzLq/PQpbDoh0DsCW2xpsginfv72/0g0O9PO/8rD/jh5peb9Au7zXmQL3v80Sb6vAMATAjZGRrWs0AsCNYFN/1fftvxt8t8FzD/S/G+XYlC3pD8CJrPSsatwFwBtkgemuxhDAmhqXvsnO+L8h98Ybpc4OwNOa0dU2eA/ADRvB0+VlwL/3KxsjSiYPwHbhjr9iPArAMEd+Q66x8L/zFg1WpTYJwH1ZPmn2uA/A95mpswaa2L97H50DEGINwKk2rSQUbuG/egA36uEODsCoHf7DjB8OwGvcPxuBMU2/h9lThRIpDsCbMMUP9pTTv7RnOpOwbQ/ALgrtRk10tL/gEqV609P8v0OX4k78TBDAqy4hvFxmCsBchZGO0ooIwP7IpiDen7a/wNO4dvolDsAAzJcrUlfov4MQxLItYue/QxR647cfBcAw0Uq3XRyFvxxGEKRqGpy/MxSbGRIVD8C5ek9DsNHhvwtI3FSHaNm/fdBCo2rKDcB+syEMTAnSv5WUOtk97QzAHGwIUhuB778wR9uqgwztvyAZAfo1aA3AquhESUrN3b8nNG+fCaPnvw1HkBDja/S/ppM8AIhI+b/Oe4U3Nwf1v1gwE5OM9wvAqBiGUOtgEMDPr8OZhScQwK97oTy7HAPAoZHIm1TKyL+Rs8UW9VzDv1k64P/4A+C/V1zKS6Yz8L8SWTthPwIGwJR382wWPhDA3x4VJ5kaDMCl5+xhY+oCwFcU4VdOWeC//dWWmJG0DsC86e5kjyoDwPzaf+ejLvK/Jo5MQjET4r9wiodwTWEMwNphSV6GwQ7Aw4we7mt2DsDiRJI0NlHfvzXfUrHlxgXARUlkufWiDMDnhPegbl3gv874KunYsuu/3EZL4Fg93r/RWSatr3gDwJZvwnZZNu2/5MzwGJHKCsBzREMSxKwJwJix1H2v4g7A6C1ZmWpzBcA6NpDM5nzcvz3XZ7kHGw3Aj/mdOVTylr9kDAAjRFjdv3uKv7epEADAG1RiUV0CB8B0uBiNnZMPwOHhjlofXgfANl/JlZDnD8B3lQ/RmS/fv90HEELgOvW/1cvtmkhzsb/TBrzbpm0OwJDploKWLQ7AULeBnmQq87/hdYlu1mz0v7Xw5yHhXw3AgJXTNGop179OhsEUHGKivxN5Q9OA6Oi/K8xrdzRL4L/j4IAYeEWFv0/pjy27avS/Iq0u92zl5r+UrMPeHov0v9su/Bs1IeG/epqbHq5QAcAaGqMLokwOwLK0bm1roAnAZ/5DS1tK0b+r2PHLsgT8v9haHfI7mQ3AkFtxI0OmwL/jndFbjt3tv1TY36VLqwrA9Mo/CPUJC8CaZ3xwOFcQwMwXDF8o3bW//baZxGVl4r95x7XtGAkQwHH8fC2Edea/3LxzNcWHz78yQvftHmIOwMUxwkM2MgjAge9Hfp+9CsC5pKIregsFwIaSaTD9jQzAQ0cb+hJmBMBFb0h4B2sGwG+BQaeGLATAFmyRNFL+C8DBWXSX4xCQv8v9Rl7VPxk/Wi4nzoXuCMBgp2ySiAIBwPCWATJh4wjAEQ4xmnwG5L9aAIPiOnWPv+vcmAo1Gda/5mYVVgL+CcDv86J9A0P1vz4J2s2aRPm/C1gt2izJmr9+z/EaGwH9v2XTMdX0LAzADkrqao/D4L+Kfv4snvwCwBnsd2fLrQ7Akgg/t9vn5r9Ue/oc52z2v246CiYGSfa/rrFNoY9Bs7/m7ciCH6QKwGo2V14rxAzAlnIA6dlWDsD3RCcujDcKwFdCZJeKIQPA6Wcaa+DYq7+iylbjCrYQwLLyQSdDaA7Ab3MLmAbCCMBUDcIWcpIBwDLY8kRQXr+/IX2rmiJE6L8YHgPnkgrdv3xrS9uHlPK/FACIytwI5r8Ta3dLLE8NwP59D+kh3aa/hhBV3bS1EMB2VQZbCKEPwJ0Z/B1HUw7AGgLuTIcmAcAh2FGorS8DwPzRe65SNgnAWZvYhQwtBcBIaAePasbTvxhM2nHT76e/YDj+7EzS+r/ipQ1LsMK3vwLUFKtOcAbAnEcVCmDkBMBbgqyus6H4vyVEOj7mIgnA1MUZ6KolCsAkv+2TBrl6vxSik/kjQRDAn2gUFCQ7DcCALinNroIHwFIGOswYzgHA7peprwlwD8BrBVHHgBcEwIVLtLJ3ZsK/TLbI4MchAMAJGh1adiv1v9lw8CazJ2q/uWSwW9Yoxr+BC9Ky6G0MwDDmorYqIAfA9T7kVTqR/b++XabFb2+9v392zqij/QLAWohZsA+BDsDrc3BrG9rWv5lU3yR+SwrAS6De7Q3sD8DQUhCAc44QwFEQK9jKXgHAheQe5tzB9r/0EdjMzhUGwHX/A3Ld6A3AJpt6FiWz9b+zcESmbAMCwBmGLmTVjQnASfmhWBTR7b8UK3PIShOZv/5KMxsovPW/FLIbJOH3wb/fW1CevCXvv1SBR/VWubG/71obd0okDsAafj0twZcIwHIy/sBT7fW/kwEsOrYn/79vcBawQ8i/v4OqtGfWIwrA0h1SU7FQD8DRE0PGMpuov3eYBA4fGO2/HxkCd2XNz7+mE7Fd2Xn1v0T1RtoBbtG/oyrZN88lD8CKUc1hPt8IwJ+qahvxW+y/H5fpPf0eCsCaqLCmOiiCP7n8LLpYCgvAyMEtW+hlD8CL7D1OApEIwLCjC24Xx8C/b8ISXFyoCsDGvys45NLhv06XNRgEbRDAQxde/qiA+r+D5BklwVvsv0ZHNFBTDAfAILM3CEqeBMDAAlFkkdPkv+897nvhKvm/Z2NsjVxm/7+10TNp+BTzv4DLF+wEIgXA5stXy1pJ3L842SiCpxP+vwz5ZNAs5Q7AawF9dZRwDsAZwNgGNongv1Q3jtWzb7O/p0ejVQYWEMBjui4LbKesvzGCJf9l2g7AYSOQCFBPCcBGGFomicX1v0x0GusT1gHAfjxJI3qKCMD2NNuP+tr/v7pfx+09aw3AJyRs+9918r8G3Un6Y9cJwPsieRZErZY/r+s05/IABsBjcpyPhhIHwEZ77ER0QhDA1Q8Aws2kDcBKhrbVDAzkvy2C0gP0U+O/oUjGfvXvC8CzBHRGHUgNwDdnFGD/3gDAbSNPQNJxDsDneGfDMVPev+k2BGQkkgvAfuB7w5UyDsCK0lRfkhECwGt4Fl31EwTAh56BnHiJwL+uk9F45YHzv1qbB3Yy5uu/sBrkJfr8D8CN/2WfKl4NwB5OK9hcqtW/vWf+qv/LDsB7bJ5yU/sDwFEbwuRKhwnAOEt0vmqMWj8UBOzKG9blv+eJxPNFS+y/vZFca6nasL9BcDvqc5ntv7sJEMVPSva/7U2hWqWIyL9+S4RG0F0MwBUrZgnA1t6/9GRioTy3C8AKYzcnmckJwKWm6cpcPg/AEj0vzRhvDsCoCC63ZsoEwAj/u3cWSA/AKu7HnclQDsD/sx8UPmV1v5cVf6wUM6y/x94xonOC/b8yKVXDEHvVv0royy+GwgLARKtC3ME/DsCdn4wjwZr3vzfMLUGjqw3AYqzvVP6mDcCr4WlfvW8OwE8xGcMBVNm/KAh07D336L/svw7s5tnXv+iEUvscSfy/77ZhxjII5786kpSFAVgOwFSm5whQFL+/BA6TeS1yDcBFjvbD5rn7v/wBn1c5Nfy/73rLeqAED8B3PXk/NzIJwNWFPIE4S/+/lPBAUjtv3b+stUB6T9UDwB6WF1H5mMC/cYnjYWAAD8BeWUJvEjcMwMBdM81q9wbAzKJmJz8xwb+ZPVCYp8AFwDdZK6pZ3QnAXZknxWGT3L/Lm/n+nHgMwO7M29tdD8K/nl+Ih/W0CcAPhnFOJlaXP1L1OdT+zgvAbGZY1UH69L8eVIbjWpgDwH7z2LptKOG/4mwgY8mX9b/HatcfUD0PwFuWqXiAuwPA0Y5ObJqoEMA3cpYWd5IEwE/lmwgBmA3AzHCRxRemC8BiTF9A+J/jv/ipQnR+0QXAMcjlCcYYBMATOjH7F8wQwKfrAHNOwQDASTqAPnItCMDotJco0NT5v2JrQtHZuQ/A0y6+/m7rA8CearhG8u8DwJKGH6l3ig/A9cE00YnPDsAKtST8u7nRv+VlljcC5cG/7n73zOmw/b+j1ymQTRjqv26I1+I/M+S/F9+gj1Ar879xO8Yg+FsGwPce8iXCI/K/+vjQIwSrDsDc8ITRMRTRv/nTfv8pLQHAslrayFA4BMDhKcRNF8jVv8cmA9jhJwLAusP6BuUdC8BJrKP0QAMEwESFobrAEQfAoFU3uk9PD8C+/nTjEaLpv7coBOu+2rK/JcTbAeubDsBad3HHBE4KwNQvsqdw4P+/EA59KvVW878NA7W0PM7gv+nqGlSmBfG/VVtglgXk0L+Z17TZ/tb2v3F7+N8fXQ3AA2byN36V/b8Vl3q4CxwEwFtzHAuLhBDAk+2YVGVOC8Dnfmuf4tMIwB/hHTenSe2/UbK9lKumDcAN1GqnV3n6v7NkE4IQ0w/A8cFLUHpc7b+yfEK315rsv05dU7I6VuO/9i0aG8ZH/r+MYNkGLy4PwE4BvF9voQ7A/ZW+mvux8b/Get2CCf0HwIyk9sgd0xDA4lzJ6B+99r/WHh2YHgLzvyXvfnATdxDAi4jDY+Ka6L84M05QMG8HwAMJJmPj+fS/BBaQhI2nDcDNHLbu3F/Mv+XkWainUAnAXXu1eSZwEMC6oS1zht8HwO02dD15MBDAAJ5hRjru4L9Zj35auAPjvx3ZxkEvDse/jpXLCSNYEMCIjaZOm/rXv3znqOMoh/K/d+N3yWC3/L8JgJ5AFKnxv73xYxZ08/u/jDg1D+pJ/r8meEYon+zuv76UTSHE9em/D8XbVFX1+7/BEnAkNwwKwGSz02OYDQvAz5LawYet8L8TvMlDOdQNwMv4BVtdWAbArg2AzPpwAcBWJayXhcH4v7tpEUn02XG/Kp1F6MG9tL/fcDniF67nv1bOlrswLBDATGPRNqfg+b9hf1TTbygAwLbJBDlrpAjAx6a6dsCbD8CK2zkM1kLxv7pDzeIucua/M+pKtrmMB8Bbmp+EJj0DwAoFSx4H1Q3AKb9VBIjNDsB0q6KztOfivxyPNz5BoFi/lxtynR2W1r9SKhjKpy3jv/XSKjAW6QvAE1txy/6qCcDVSvMLqSbmv05djbZZmQLAxvOHabeOy7+fwD16nJYOwJc1delSlr6/4J5ODDPq7r9zHCAgYLfov6sneF0I3ce/oS0fsTmdC8Dn8KijX7vIvzIvUuX48QTA0vWNrFfm4793a11H04b2v0tx3Gj8yP+/LcbI0iCkBcAGSDjzdniiv0SY4td6SXm/z+490mAD4r8we3VAYZYOwOlfKgkYfRDA+Lf+eYCdDMBNmLPcYMS9v6cSZTifpIu/mysCBCx1fj/i6MkaWZnYv9OPwxkAiPK/YscQG2Yx/79VND1HIh0EwMt3c4i4AMW/nXNiTExKz7+YYDb1EJ7fv5y9Y14xk/S/nr9hud2TEMC+q+NO2KsHwP/ymfMH8wHA1Ygn+cJcEMDRakIREYoIwObJ5ZAM8QTAiP89huaLBcBcTyUu1S25v3zimbtM3am/AR224746DsBd3+VMDhEKwL9JpyHIPpO/0C2c08tvDsDmnrg2+vINwEoVOHTXu2E/e6OpDvGsD8B0s1RZMSIPwNccy7bmegfAVQMGDF5ZDsDYKi0oZ0cNwJPiaSm3bce/zmTTDbRB9r/xuYrilp4OwCHg5Gd8Clg/ofS9lpk+5b9zoiURk9YOwByazfhgl+i/vIePGrwqC8BkZLoda0MDwA6O2zQePwrAP8M/DrPK5r/NoTlcp6Pqv7zF5Ipj2/e/aUItQn9I+7+LSajWAz/Gv6wUjpfXqxDA11JXdr9zsb9UAEvR3EEGwDKgD/d6WeG/B7FTzHdmzb9CJepjykLCv7IEdgzjLwrAcxae4YAn97+cJr8gVbQPwPdFOyvoOw7AMuB+lyQXAcBx/TuA3LvyvwQGaEjzcsO/HvIkiHdY2r8nNOvc1JcCwAMuh5qziOS/iaJbxzwxCcBs1l08tD6lvyt62RKZu+G/EK6PWG9+DsBlfH+f00oHwLQwjL6uRvG/jiVbBH7vDcBGRoNoc2sNwB99A38oVQjAUeIogJUBDMArnS3Y4rQCwAe/Y+GXmwjAtjqM72bOC8DtgNfjkmYKwFrhlhKjSd+/lBqxFQCDt7+2bmZoaFfXv/NOFPI62AvAm4a+6clk6L8RA7kQRjoPwEaOk+f/f7e/r2NJDMWxCcBDSl8Lgk+vvwmmlf8B+/S/tDCD3zi2t78ZZLn2MHYPwMTEtqolew/AA+vndJnaDMDW/AQLNefov/rPzwe8DwzAGoG+BjuMDsAH4LuJ9voNwOaiftPAtwjAsMfgk3fXwr+9wqB3lsQOwJ685vFc0+W/ZosMpSCdA8CMkxxV8dngv79gMdkDPAbAHwQE5iaqDsDCEy2cLbzov/BBl66pfvy/PgV9LFkVBMC/oOgWo5MIwMUc07ofZM6/d1Ktt7qKCsDgZbQnZXPkv0rGAMySBP+/aY092S3F079OYHphLXbjv2gWD+2p0fW/HR7/hCb8BsB8zgUGBILwvzFSFARR/wfATHJfsvnxA8DsMwVQ+E1hP/Yfgrcge5y/tv+xXSsY479SF5HDD5PXv2VozasRiwjAxm+KoUl9CMDltrRvDf//v2Nj/fsr7gXAjai7CDKaEMB9glJPldkDwLkVHG7X4r2/5/Dn6Ckl0r9lBeyT5lvivwps+dao3wLA8pi3ARwLD8BqGJYyyWYQwNYVAhBtfxDAwCO2Cqx0+L8bCoRChFINwKD1LsXMX8C/tZ5X2fYx778B5RY5u0wOwOcney3k+ArA2gGnOfA7D8Coms79Y5EPwN1ljd6ZwQzADwEo5klxAcBLYCHoVCjXv3Yej0cVyg3A/GryymuPzL84Be7brt0HwJKGB05IJg3AGxNEAFzKEMBEoUn9ZhHrv/X0Lgyrkg7Av7KQjjIlCsBL1azwNYAOwIPco/Pfkba/6GGTaB8OAMB6KhZkiloNwOovrh4d222/DtIR0eAg97+I8vSbhtYEwD9v6SjWrwXAyXoxqqJpD8CnRWP/lVMPwDVfN4XI29C/oyvHfTgJEMDCyy1pzUPrv+ItRHRHzAXAkliRCJ7vA8A+tUxZtlviv0OgPTzTavS/LhHijKF5AsDXKBW2gHMNwGZIZxDrrgXASFx/MxKl6r9g+VARIO+fv2zymNARM7O/PUMi7MOJsr9qkKJLmLMQwC+6HLFMjgnA4kgk9HxeEMA+tcMxwNKovw/EOJEuEBDAkVceKpdpwb83peYmFF/Rv3ZD5DsuHt+/6SwvmywX/b+EQdbhsMcMwFvMaJQ/UbC/sQ/LJ3HE478NtpX4ZjTwvz/kVsacXwHAgTJDrHpS4b8em88xDg4QwGVNQmELU/a/garRKZ2+BMCqrOgRlfUDwHl9BqBU0/6/J5Cyw2gOEMAyr8d9TAG4v0xVSTnsB/y/yCz91zl+DsBs6c/EqNsBwIsl0GKJHOi/ifd+p8jSDcDJinJldQoQwJNnMxsqLPy/yEB33Y4Kl78Lg4DeIvUFwJdWyxY0+P2/MuHflH6sBsC4pifbgJsDwEY1UEUs8+K/DM4VgP6s6b/XGxgxDsibv7y5ilg6cBDA08xh1boDu7/exblN8lv9v0Z/WMn4te2/u1ZGj+StD8CWXCXD7m/dv6h+AlpiVQzA3XAUDCLwCMCWqCPWXr8FwHgrWm3AM9m/qHLNsEDcCMCwHYkikfEOwGwRa2dbUBDA1aR5ZZcwDMBZZP1AqLIPwK3gSNX/4Nm/0dpnn13Gzr9cF6InePe/v57UJJg9Og7AqCaTL6Bm47905jYNkrACwH0cfgJ5YMm/6V9baMzL8b/TPKlXjx4OwNmDO1OTePi/xHXytkrgBcDh11vIxazTvyHetncgYgbA4Kxo2AFdCsAO7tIdH3HYv9djanZ6WwjAo5oBenKg+L8pyDZg1WL4v53w0X22BuO/KnFYRDtSA8Asp4NJ6dYLwEE9TQEsdgLA8QqqePqdCsARpG+5r3EMwP5CpTEa6K2/pMAT1fokPr/BNwcXJ5vuv8L0bk37dA7Az2AyMbbrAsBcG9/EPuwBwIfVkS1kMgvAvVz9xIjzw7+fHbAydHb8v8VCOC9HOsS/ThQqNwXHrL8x/9wqlgLWv/w5UqMclAPAJR6/PmNZ8r9WByttZysDwK2RmuGPOOe/wF4RH6WIDMDEn6frQDviv9QrcAYeqA7AwTRoWkpmC8An55nnfUwEwJLQEGDO+wDA1P/8wKx62r8i83fDiyTXv9e50SwSsQXA3LIEhH/S8r+eVgERGscMwAQ60dtfJw3A8Lm/ZhYl878GAl2eTjTEvzX3I2ibUNW/ZbylTWFzt78JLDaQ/Qf5v5uF54QsxQ7A63inLfc6CsARGMD2kVUFwBR/bRdPwAjAKaD+09Qn8r+7wr6iYmv6vzx69tTswQ7AvpPU6ahUEMCh7hgwL+IGwFSjU9AZIhDAcF6M5/XYDcCUBdlVPAcOwM0qpJGJYgTAwsed+WYE6L9B42s9rIwNwGLyA0GXwOa/OlC/VNfey78jCqV5naHiv4ojrocrpQ/AZHwGyGU5e7/q4Cs6swgMwMkWFnoo1Pe/aXYdcsr2kr/JQNqxJsgQwKZxTgTOBc6/VvBeqihOur8UGl1hq2cMwL991/O6vuG/tiHoNEoEC8DfinLBKyACwMS9TsOQGQ3A7MnH1iCI3r9rgGUfj1cNwNALwHiBcPe/PO34Qmdx2b+mbS5oQGf9v8OeuLqYifC/4HkQ8I0uDsAu8NaZ+xQAwAj8Aw0YTA/AHOzPpVNZBcBAy8KrUgwFwARWDoszRgLAUam2D6k67b8iMMiCvOwDwDD7eu4A3+O/4S1ZiAwUBMBuL8Gzsqr5v8/7r01mfQrAiUXMg9cL5r/xwG/SGNC2v/przxBnvwPAL472CMUM5b/5KM/wL9yDv1PUQ/ZxvQHAY5sMQ1O5BMAFMZg3fg8QwOpx8LqAEQ7A7XsG9UybDMDI+g7WKRd2v0kpEKklxdi/4KZRfM0ddr+/mw2/CuUEwGgcVtXdZQ/AnleXSiI/AsDIdGSybGTtv88GX0JaTNi/WpQjolrGjL946A8v2zz7vxd2ByKhDw3AvBKAP66r7b+yV0vu46kOwEJfmWQij+6/b/QjXkghC8DcL0NGI0UMwPX+iEHhbMG/P+GPLNhrDsD3aTZLO+y4vxdXJzgnvwLAJpgmv6gGw78wwa5iTz8QwAmRpTdxNP2/GUh8FRXxDsAgLchVORYQwIhkJgyPAw7AskwzILcPgT+G21Y64BDZvytlRs5ZjfG/J81MnoWi8L/9zpH8Q28KwBeN/VOVcQTAnIOvU6z6sL+0RPjm9Wzgv9mOrn7pgum/SMX0ymSbAMCZH4aFKZP9v0St5ouTIPm/4JoeCh9UDMCUcghmJ2cOwEX6JNEh7wjAC3I/70dvCMBHXIpPxRMOwG0stqxJnQ/AxV60AdKtBsAkpTloRZ0EwM0ZLCEkV9C/JCcbXrz0DsB18hCN7TwIwGBHiC/UAAnANYEp3uNIdr+bmdNRTQcNwMkCERI4jNu/7Hjy+mAE2r/GdRkLdxIBwKMJnuSN6wrAmRb2U+FgDcDGfrbQg3jQv8gwy87UxATAQgFc+/TSsL+C0JWHYwoNwPXn8Vd7acm/q/myZ/oAC8CZZkdA5ScFwBmkAVx8nPe/cCoc5znrDsDymTJsy+UOwDit4qZt1Pu/QW8Ld1tnBcDWLhiYUnkMwLUzAELG5w7A8rC8btExD8DrtJ67lnT7vyd0U4mu/gDAR8pqHxX4/L8IM+qfWYIQwJ04YWKh7sm/Gh46Lao1AsAe1FbBjbWyv7DayoweAAjABUnSlZMt47+mXqQZrcvlv6Optj0ERgDAM5cqxzmF2r8t1IbXyztxv34FZ/sllAXAVtLGx1qXD8ChL7crMUEPwAnbeeZrxei/ZlySs1lZ1L9AAwVDDlH8v/iH/6orOf+/zc51yJFY8L9JPh3X73+iv1ZAEBtMLQXAsM8TBedJ+7+P2nX+FtAPwMWpgovw2cO/rE8kHKQW+L/wje5oSUvnv7OfZH6zUg3ALGGsC/RRVT+TjRr7nVd5PwTGuUkxwQvArwPb9JleEMBnfK3bl3P6v86dt3XuuI6/wwEGoRCu/L95/fKPgsIGwGsMH3r2fAjA1O8M7+oH7L8nPs6raaEOwPyJy/q5oQ7At34cQHhWBsCwLVFM3UQKwFLNUEJisca/1HMVWirnYb/jthJig2oLwFLfYq4wtc2/1HPPBE8PCsDbihTvLO68v5WqY2Nei6K/UkgCGuclEMDUs7GtD9jhv+pq8bAb2+G/iesSV23zDcDxH62Eeofhv9RyZ/yqafy/Gn4siXuE97+koqpM96MOwPrz0RFUHhDAAHaVwS5JCMAr6DgbTHcQwFg5z2Y6XeO/zNCJLg4R8r9JZQLsrqkNwHmtBTK4GxDAxtf6O5WAAcClsunY8Pb9vxeQqw0XzwXAU0r7ZyZPCMD+0ARQh5zdv6olJ3PlCQ3AUTQBkbHqD8A3c6uevJUOwCByUS3VCgrA75n3H9RDDsBKhS+3bW0OwLJ/k7ikWATAQB9UUIS3DMAjNIr4Cm3vvyQmFitu/+W//IZDAG+kCMD5PWRFK3kJwJR4sUkH5w7A1MNKakUeEMC1WwQGB98EwIaC4D5zode/i1sQHLS1DcAWNp7O5WMOwC7pePuZJALAnUBRtJpb278N7IYHnfMIwGqXJa6xivG/gKSEr6eG5b+2+kzSMvL2v1z7k3vjCg7AoExq4o+LkL9SKoGUv7L0vxgMVixp7A7AJZcp/lRm9b/Tm93kzW4LwD0bXUBJwcS/w28a7C/pDMDg9SIDk1UAwM440eI3QwfAPJnppg3hAsBrnRvEqrT6vyudQWqs0AXAVPVZq8+DEMARgWkAr8rJv2wuZw0PdQ7A3vHcDKuIgr/K+k/ZoeoIwDtgdF2t+QTAfMB7czOlDsBzj36dYrsNwKvE2l5vjfK/RfDTCxmMCsDynJnjZWzXv43kFA2K/MK/hp1iuyUi9r9cvZwBW4YIwIjTop6anw/AR4zmmoi09L+mlaDmwgcHwPbZKBKrmBDAi/aR2H+1B8AuhvvHVm8MwJjz31mV0Wu/kHuGJ8w4tr/AJNaDEUoHwN9uaaQpkwvAtBfXxCZECMBhuvpMMmMPwFM3j4ZWRg/AZFIwW4W/EMDXPUomUdEMwNWab9qegwzAT686A+NLCMC+/9ajfQ/Uv25+jflxquG/GNpO6cdlDsANvRmQ2QsCwJZrrCqWiOC/ao9F0eudD8Drq9LpFcTnv52qf8yhNYi/FGmmiE+8CsCKiKb7MSDLv6Mc6dYBJ4s/dSoS37rjDMAS3mqz2hYHwIcDNgiaXnO/RzXKXklbAcAR9mVG0wTLvzf5lH1gjNK/vGdBNWfh7b9QSJlMVtbyv8TKmhF29gTAi8iRCSdHDsDGu8uA8+MOwFoKMEEsNQ7Aj/vEojpG/793ypucAZsOwAaMwfTFF9m/fIbbNI5Lxr9uHtlwv/j7v+592jqRaPO/qgdb7wJK3b/eFP+Svqqrv2V9tX3eHOO/Z1b4paI4BsBXS4EOTjQHwImCygUYmZK/08HGJiVaz78TVs+ylLnov/3aF+RuTAnABeaIz780D8DMpT3X9W3lvwHPiLQFr9S/i2IZ3z6k2r+gmfIaW9gNwLBioehofgHA2QtK5jyDB8BdrUS27uzev3QXn/H5Qw/AKGH4cNek+r95pcAUujngvxtYqCkMG9O/MG28ayl//L8PoO+wi7rUv0ns4yAHbwjAnWEmlCgV9L89HWR36IzSvyrl1B0tFgzAxglhcn7x+795rvCBM9R+v2qQiFJpulQ/LSQAHfRfEMBRjF+XOuIPwDtEsedqZBDAUQFhGatNy79V7MYY1CUQwH2XGfFAZwPABuLzze9gBsDrUsnkqxnnv+hZOfyPrxDA3xOk8LSIBMDEPd/40s8NwAhMvg4NoJq/pCDgQjjpC8CGL49Md5XDvxW8v/v0KBDAyHtswato8L8jw5aGosvrvw6RhFQAzd2/hCHM4Wu4/L+d5VjlD3cJwLM9K6ZRfwrA3IaLhTavgD/28nn/WWGUP/Hy7GV73w/ARWxMJYTdAcDrVeEr1MwOwGEi48eQ5wfAB4ZEedu0D8DNyCgkadwDwE3p/HCetgnAqYGB/PBxzr+PCNlJ3uX1v49BY9ULMAnAsY4XScqTzb+9edZq8Pr3v5LHwo2e2t+/2fCO4TliBcDgmfiwQqiKv7flXTN/r+a/C3yPcupU8b/zDQG0HGkOwLL0xVEwyRDA/FCx7nM/D8A8mgx62Bq/v89J7kaEZuq/XUPId3lCzb92YNqPUgsNwOVkgH7QWAjAbEwWNnOrDcCo1NaNxnjuv6ZcqAKFMBDAVcnAKtpilb/rrgPUMkgOwIpf4CWUbsq/9OHKCRxB4L80b4Q3t3cOwM02mzGQfQDAr/1ReP1z/L9fzLmYLNPSvzOw6lEe5vG/7aqBuFy88b+kUZhQCf4EwPIENdfkcdO/Tcp1D+3DEMDpK8H0e8oCwOyOVLD/JQfA8vOQ9V1i1b9XpVNDL1/rv4FHRlW5iAnA9d3ELYcm879bLKfufLXov6JCNUFXEb6/kUnLPiLiwr9F1Win2Wj8v3qCduKKsK6/xWofnR8myr+rjYmYkwoGwCGf/ZnWCei/utzR/4WVA8C76CXdHOcPwEcqHnukyg3A3E97fzUQwb9qFYMtufb/vwpLU6btv9S/6VI5xd5dD8BtK+NR378NwBBdD/fmHQnAl/zXdPEpDsC25YMRw7EQwMJVS/nkSvC/++3iPTY4EMD/6Jvi/rkJwK+dhb2uRra/p2RAvKd3CcC91URSwXO6v+n7B4qqe++/CAyEOyG0C8BZjirrXxQOwCqCeFZAmIM/hTiaaVfeDcD2jRt8ge6av5Au2c/Z+wzACAZz3KCHBcDQyoplmRH7v4AFCDBhsAHAiBvOKUPQ47/bxPPwFsEMwNIPWlNJHA7AjVs6RdaAaj+6KPwFqjfwvwZNCJAJQAXAaqZuIKuvA8AgHQUeb1Djv7H+hLjohaS/9NUaCGrP/7+MGXnVO0fTvyxX0RWRc+a/GVACnWhN4r9trJZV5+sEwKSGA3dMYYq/c6yXgZnNEMCHThx18FnHv30TaxZE4wLAy5aBC0+WCsAD1VMvbrfov2lwsKzV7AHA8tte0KJj3r9hCzpYBCIQwMr35861qfS/I9nPnE5A3L8tOcTfaPTov6fxYBZYnwDA4XZH1arP+L/Z5qqeJPP3v7FsjDzPLvi/FOw7REHnAsCpXKJcf4n6v4MHTNs7O96/pSsdUOQMzb8dNyBYHIYNwGl8yFDUl/K/d7IWqlWpDsC7JekO2Vn5v/lVeDfdT+y/HDOuSlPaB8Azgavh+L0MwFWLtkXwP/K/9Sk7jgTq+L9K8kPeTsDyv+Vnx1dntee/DE9wHsel6L8yxiXTCRoOwPi4+ralzwLAcozz4SKkCMC5ywLIXChzv+TBEUYYqQ3A92UTbEp94r8qfC6WKqQIwNRaL23DCQ/AtoljkjsJ9r/GWaFdFmMJwPnA3lQ0LwbAMq9rGGLH5L+lfQzOFXYGwKQM4KFXKv6/R8TxQ5WMBMB+MQ+iWuMPwOh4SLFaIA7Aanh7KYSHDcCcYXGFugYBwFR1ru9L8ALAe5H/+u9hsL8geSgBr1nlv3gAa33YBeC/UfctvI+GEMAtMjW3vZz9v7/qKyl18O+/LkGKwD7HCsDj71dsKEQKwEgDvgeMR9G/YYF4Oo5p578lD8j6ghYEwGNqY5cuKPq/Z1tSemXi67/l0kWSeowJwGmf7Lgsq+K/jzc65ObYwr/0qQKZ+/P4v1X8uH41xcu/enrx/2oDB8BkhqgSNeWSvzZNCk6cOwHAHgPpKlYnwL+B1+0cH2v9vwlnhjbB5ta/ElQCuBVFqL+aYkxSLSIGwFKJUU5E7gbAvjAEOme/D8As8Ls6BEH4v5/HWMzP3wDAWRIwy1XMD8AyLekQbcKGv/A3oqw9oP6/4/LasSo98L8a2OCxpx6SP3Fv8vHN5g/AWfVd9AYsAMCYQXq+c+EMwM8FV6rzY7K/DL9nF5GmDMDwf1nv+zgGwDc7WQZdzgzANjbfz7nOEMBUcNEGqecPwJjtiL/XMhDA/t/SkA6kBMCdwJ/afD8OwCK3+DDY1w7AHn5wht+nCMBIeWF5EfkGwLoh51MTQQTA32iEIb8jEMC5Huu+x3oPwKO//HOPNf2/WIsmUef64r/V7k9FtokKwL66JeOEN/i/6RCNP58DDMBX0XLM09wNwHPTUk4o6eC/xI9I6EsHD8DaSwxJnPjcvydbVGYlSAjAwWDKWPe3CsDVJKDYn+/wv7/a/mIIvP+/d/cuAbSLBcCoQzm0OKhwv/T9uh0VKQ3AbsphI9IRDcCJqoBJJCwQwMLz8J9Y2HU/y3LGXE+SBcC0dipHKdt4v9BnBkkO8+S/LBwGAhFVDMAwKLMfaMOlv8f0I5VDoeK/UlZtlpjGDMB42VYt1q4QwL5xo0EDVQfADKlo5VSpqL8cqD3M1xoHwBNjY6bpuADA3/OxAgIb/b+0A6CT8kUDwHeJ5jTzCfu/jvoUWagd778/QZqBfDYBwPZ67F7jtu2/+DGTxFTkDsCzUF5Tm2IOwEaO/PsADxDABLO0a46qBsA5FXPGfE4AwJprJ6Rd68e/CqXmTWHde7/5reVkLznMvyvqRezBHYG/lGT0kvmCBsCQ47K1JMQLwAMmuH4fKcq/AzWRtivxBMDG92t3J27jv5wghvu3Qvy/ApK5C+s0CsBgoSzQBPjZv8iP62BZ/QrAT2NMU2xZ0r+gGaNDEUP5v09PMyfgqWO/n5LxbtwTDMCJQW702CIOwB8Sc4obGQXAwzEP46R//r/OZGrV3QrvvzTHltCSb5q/74YIdQNOB8Bg9KM0IPb8vyeHcFUZS/W/a0xLHKB9D8Bih0krA/Hnv913hcnsyw/A2fRyR7/tCcBCHhpKwEX6v3F7PoHR9gfA1bHYsd6rBcAU5EnMAQkLwInyixoauQDAmYZT/0lpCcBeKPh4+4ziv9JiKYiCV8S/i2uCwVjy0b+H5tx1w2/Ov14Kx61itcS///4D5nH87b+foE09BUMLwIg+z2eBl/q/eQO5PjQQg78cknOFGXj6vxCIR/JFKAjACswm64sO8r+r9Mhfit0EwBv+Gw1MQQrAss4Gz7TC8b9mfsH2MAv1v+rbWZ8mPwvAC4KUyrD9CMBDqHSXXxjzv5NA0sykzfS/hgZg9T80AcBeLnFl8Gr8vzMTe0kPOA7AMIKpErsBo780NLfRx4kCwD2Zqz8eRQXAHQNvFxbJCcDqsJU93ZTHv9wRgJ59JQ7AvSME0hfHBsCbqLpzKC+3v038koVWywfAo7JD/rEODMDO0m0W/7b2v5zjkk1T9fe/pKXpiSM85r/NH8Q/1P2av9t8QUO9bfu/2LHq1LmV8r8i6FBYnuHCv5QJ6kgSwvq/KcNzqbx66r8Vo3A9vOHUv+Bvr0/sIQrAgdkjo+2PC8BoXC6ag4i5v6rcr11pawXAWmaUIB1zAcCO05zzoL8BwCJ7h8KBuNq/W32W7ye4CMDcutYBk/oOwDGjjzFKptG/pNsPtvT6CsCkqDN9Icvsv3G4gXAbAtO/51NUvMkLC8BeTaqQ/L4QwLTPa8vN+Om/e4khma0DD8CSLIHgSJ3gv7HACHDV4fi/oSBp1TqRvr+mFzmcMy3pv6wu/WJQfATAOH/BD8TtBcBcrm7qVG9yv/rkSdKOMLm/yOq9PkiGA8Bf2eZlLAv9vy/R/i+pdvK/oPgNLWKAD8Cq8J1m78P+v/jl9Ic+pw7An1xnUt0cDsDao8wUHr4QwMjmq3tEI7K/uGbA+nk6EMBTgWzPvBELwDpY43sPhvO/ClqYIBjgBMDV40HnEVn2vzH7n/tYrgXANtBi5itNCsCmgAYVz3AMwPYATM9k4NG/LTvGVnHbzb9MmQIiTRRxvxKfoOsuEfm/hTRsNzL1DcD371frxbEMwB7KzDz1SOK/bt8DDkJ9CsDwDoZyQ9XEvz2JdVMywg/A9YgbQYbQB8DA/EpU+Wryv90SgJ/899C/SHUD9hhYBMBpkO9zUIAMwKD44K4vQai/OWQHTR22EMDLSU8cQarwv31fYEfpVgfAV/TuSIlmjr8v5nS7rkoIwNzlcML5CKK/UFxvNwV8C8BdUAQR3YPlv9aTZ9Vz4vy/ApD/5a7T87/k3Z7rNjMJwPMrSESSTIw/q9ROQMEGA8DiV58tmXULwHE5JEzQ9g/AZUo7D3m0/r9CHzrLq9Xev2nKty8vlAvApOpq0YrDDsAElk+MgBjkv8FJRjlEwsC/+ByyW8em+L+kWuERqXLmv/IgDroW57G/+Nks4jajkj9H88qvFSMFwDHrON5ChgrAk/7Yl4e31b8RfL66NqXUvyO4PsHaxg/AxB6YY0hUCcADQmhHOpr5v4sFtcwnwvm/36djSxuO9r/wc5xZLIYMwP4ZE18mY3S/iIYsctTCAcDFQ2I8fYECwLRbv5LVBPm/7CtqJf2HgL/Ym3x3Th0LwDaBMtbfig7A59ik0cdaDMDxb9tmNLHav6+JhQ615di/fl3foWrACsBjybn7zzwNwIg3Oi8pnAfA5fbUrGbFtr/J32EeT4PJvyXfuO8xKwnAfOckZMAcBMCRkAI/XyuYPw2mfgvYht2/bGs/GqaNx79GhlyZCIoQwB4n9FSruArAKAmJz8qMo796BIuom6X9vxNCg7eCCtK/E0+swCQx6b+Nlyryn8Gev0YBqcKcoPy/YAS20aQ+87+XcqSkqwL2v+ouvTn8hda/ne0E/K64mr+q3omc+5Gnv7tHUSEuhgPAwnvJJ+D3ur+LvtNgYNnov6Bcqn07nOC/waHpnpjLBMBY9kpd5CDDv+rKLkl0wtC/bmwaPXReD8Ak7jPHpej/vzdhnE5QDtu/jjuhi+ab+L9sTtXmsXzqv16zzDSmMhDASmUmyI11AsDING1I/A3/v2pmdU9pZQHAYfGollsO6b+Yjmdv07f0vzrM/ubCSva/UjHUoiDVCcAkzl4I4GH6v8266gUFDw7AWdjLCxq1qL9fdxsVOy3mv74dyNOSmMC/afkdyWlHDsBzkb/MzcWNP9pQvwGhmgXAgbHbY9XVsr9HA44tZBwOwG3pebImO/u/mJN8vreqD8DvNnvKbnIHwAsWAQz30m8/TdSwH0D8BsDYkHCU4fgHwJLI2QMDTQfAs7JR32yi57/EGhRsGFDiv++5508COgbAlJZf7JNd6L8vygzT/1zBv/WmdiZcyAnAsmcMHhHHu79CRJBBb5AOwHFiLmCRXg7A7A529EVkCcCreA/eTqYGwCVSTZz9OQ7Ay+QIC2NzBMCisJRF7Az4vwA+WG4gEoq/ssJAlYuVDsDWvBk1xlvSvwaBvS5Yaw3AhCc6wASAeb/p9MbpWi/wvyQyZx+0EQjAII1YXSK2DMB67N0ejb8IwL07xwhV7QPA7Y58W1lVBsC8+it+010OwFqSu4+dnNS/OVHyvWYlEMCRhlRN7FACwGEWp8jX/4w/Oz1c6cPqD8DFmIBqaq7lvyx2uy+dcg7AJ0SeDn8OC8D+6F43xGIBwCVtfW/i69q/w9Hccv4te798HPsy2cb5vy7T5WjdcfK/I80bSqmbDMCXw2DQcsMFwMW2s6BZ1wLABo63Gup347964XyGTKTVv5ulxkYrlQzAwOqjivVpCMBMwWij83+1v0baV90CTQ7Ao+FIVHeejT8ubefP0oiiv+LbSTaaXqC/hEZhXwOyCsC+UHUTmnoOwGMITXbfrQrANpufTenC+r8L9ShPvkaYv1PDhZMRVA7ArklXhta2DsCc2p4OvQTvv/3cbCBKEAXAlHw+8IRQC8Duaox1i8H7v+hosRX9bg/AhP4XI6jJCsA9UjKUZCoPwFXkrLa4nQrAS1cKCu2oEMBh1BCWKNEJwDDFgV98AOa/Suvd0FqLBsDXrPYTvTIQwCYAKK27tQnAssYhm3xA378xX6jPHbf8vzS9wMJL6QLAfEW5ZfY3CMAuRd7blnjXv3iShkcY3NO/xG++aimoDsBzWLvEtj4HwOvVJ7vHSA3AsqmWwkCrDsDdxxKNsIPYvxfeqxN6bOe/X2zksNO0DsDHXuYBsEr6v0syvbSIaQzAeGjeG3rPDMBALPvorCr/vzI8T3azrQfAAC7kaSVeBMANIctwYNSQv6YzAU3Fmw7A98zGTVyFi7/r+m6l4OMNwDPcCCEbzrW/WXLppbZMxL9m3+PsI1QLwBhQ6uZz0MO/oVLVKA4y/7+riO66CHgPwF3XQwvfnPO/aqVQrKFOEMAQ4+ccFGMOwJBDg9cditW/+xq4khR9DsAIqs9n4xvLvwzwhlWkW+W//r3DugXIkb9aKnwFJJIBwEZOSaewJfO/UWRUOIuN9r+w7zrfSfCFP83HcD2Fv6m/NqqRoS4+EMBaKjMm75DsvzZ1Y+evrg7AVdQtkcRiBMCzKm84CsQAwG6PgWJIiva/j+DQaEdo879Mmel6ZZAQwIirLtJ+Mf2/f7672bLAAMAIpNEPJYr3v9dYiRXeiQ7AHok7uSfe7b9d36syXaHav8PiTQrzEvG/nmiYQ3Xc6L/1wRUNPOsGwJcKSVRI3w/ACnMZ7tUq5r8Yr2hnvLsMwBrLDNp+RgLA+kMc9Wt43r/vq+pP8kyjv1grWXlOGbi/cn/VlnX4BcCBxw3TIAgGwHG7Tc1MVA/AofZBez3B8L+SdwsqZuaqvwxuh9AjBg3An/aCmG1aAMBSFrXKs3P5v+fnuyBdYOq/I+ETYUnuBsBOafcaFZYOwJEs1Q+/8vG/J+nBAYTuAcDpo5/l2+IKwPJO11UuIg7AcXK1p6si/L/8jFFowskPwIDszqK+Jg7AGp8Cv4Ui979xGucTh+b1v3uLX69UrAzAR3aY1aYb2L+Fc1f9QZkOwGsC55X63A3Ad4r0ej6iAcDbbzt58ebwvzGrmeg5Pw3A+vnqZh///r8SZCBcHGcJwAtuFR2Xz/6/dgSFKR5w7r+7fT7BTmgMwBmqimQlfQrAj2PnEaaI8r9bI/dtejq8v3ByN+9tqfu/RfDYV1ST678tDAu2y28PwK4R1FBtZA7A5DGUeDEwEMC14vrBbuv4v25t6Z4bfwfAWS/VZyBuBcBP0Mh3+z/xv2izoHbNo6G/Fsn9RjBksr995q3Hy8/yv7G2K3qnRf2/2CEQSsezCsD/pClvVyzwvwyII8aCQwrAdZUpVDD/AcCxR13zE1DdvwBRvrKz/wvA99vtb716BMDKwRWc9McNwA6Ww7Gg/g/AjJgXZjIpwb8vLEgyZscDwNyVwLc8L++/gmzp7VUN0L9akhz5JYQAwCIbSBu/t7S/PfW/y5/u/r/K+aR5ihD+v661f8j6yde/1z2broR39L+/Ao2aNTDUv4qt2Ukw58q/al2inFxFBsBAP/oAldFbvwSUsOUtpe2/SWO19b+qdD82qSNmbXsQwB3reQBxQMy/ahbfZLY6jD+f82m0jmfWvwMijSTZ5gnAeRf0eidWCsAnbv0M5kPZv1J18fOT6Py/0fkwYzfk8L+fTjy6a2nxvz5+d2i0RPO/bhpTXU+KiD+D749qRCwOwBArHHa2DfG/SqEVGpDHwr9GluFLpdEMwAIJAzpBJPK/F4fF85Xw1b/kZct3aREEwPralUUC//G/Si96lr9vyr8d24oZnxMQwFOxK5ssPA/AMT3iuW4XlT+DOU1jVisPwJRDeKY/wQzABrshF5l+8r9rVOk4ujwAwLsKCwL8hwHAHj/Zg51v77/r0bDzEVEBwBzEdwQzzQzAhXiW4gQd/r97spUH42z4v+MI082zA/6/6oyvUf9UDcCURepuZhDgv1FL6BhkPvS/eNUDTOIdA8D5ZPmnDMj/vzaCdTc3xgPAwEl/75LKAcDFNgfHtWjfvzZJYwCQewDAcQ86ogDKD8CYtDeT7snnvwqyPRFajw/AaKQ2IL16DcD7vW2hWJsNwO6NnrISue+/4WehWwzDDsDwDfvpjEb8v0wwmuG7KsG/naypvJRUCcCxq8TU0RQEwLpp4m4hb+K/jnHgD1eXBMCnDvA85twJwFMewbOiHe+/8aYhAbs5wL+yBWOI+Z8OwNPt0InZ1wTA8IahSdUS97/jTz5eU8UOwDHHA1aIuPW/xhb0axBc8r8QncK8ryXfv1l5VmFM+/q/4ZYUR0wHAMAmaXTfbgQKwEmgT0zs7q+/S5Q4R1fg478JFhl6RQUIwCCRwEmpkHS/LyFGkmppAsCHbDxocw4QwPA7c+ZYee2/VmxIB9+ECcAPhjDZMbMOwM+hNeDw9wPACBQ9iaUuCcDxdpDI2qUJwN2TEPC2Be2/ror34ayzCsCMDFnczWMQwHaUACCOtADAYmIOsPHFAsBuZiERlDazv5ZfaGNvno+/Ei0T6r8bDsCTZj82GUMQwBGGDdZJqQfANMbRsxqfDsBrmOf3+ivvv3WnoHXl44G/biPmiF5jgr/ZLqjOEF/0v1pvUWfjXJe/okOc69L2/7+kIB0/QcLSv4bZNkjQz/G/03VUxNMVEMDqD5lYWP//v+/m0zvsAwvAjtjSV3ItD8Ac3j72eRQKwBcuTURJqeS/pj7KAe2J8b8MkkyiyQoIwEXDva8MPgbAjnx2kMz9CsACLtkvNwDkv8w5C74R7ty/GdWkjq6K6b+w8RfMeR4QwPcrtN0yEuW/cX5/GOYK2b/nURXk3Sanv3h8U0NYSAfALSHvHkPPhD/Bz5hWGSQPwEuES8FFKpA/bMwSJS/aD8CtzfDQmgvvv352GK67wBDAi2698UtMDcAhVzDfqT4CwMrNBQA0bv+/1iDmnCQv1L86DgHk5akOwK9ve6tLCfS/rgfA620wDcDoNRHhuKzDv4DbwE02luK/2lVXxvOVxb+Ov0iMO5gLwAZmyqvmWQ7A/0WzoDR/DsDjM5ZxHB8BwJn/HcWFGQjAnGlRGQnZC8BX4e5Y/iT6v8CeMsOO7A3A3bashG7E8b/jgNHu0P/xvzjsWmr8tA7AXhVeicbYD8BPnGxp1c0PwEepCt3UmbG/iNqasNnJ+L8XGbfD6WGRv7RYtIxdmbu/zqOZ8bSZD8BKQ6m4Vkvxv2UyYLq1B7u/riJNIPsxAcAlbzBST1cJwBReEW/fNla/Uas3LTCoAsBBKQEoOZj0v3F0CjeRgf2/xFHyZgqLBMCItY7+etENwJN3VX9uD7u/Bk2tKvKlDsDgqD4cnMIQwDks7wqwf/i/xtfJUwEFDMBIubvegKABwOPgflLX5wzA+JQnIIqMzb+DXdZ1N2AOwIWEshzFfQPA0HW2kG8mBcC7uag8Evuov+CgnqrVEvG/VD7is5GsBsBXAMzq+D4JwBShTC1U9ATAImSf8sZiyr9DgmSLlw7Lv5cwpN8fAArAwGPH4/dMD8CHrKL1TgAPwBcz6Nex0/K/MlS9/nEV5L+mKO6DcQe+v6+bqg5uzw3AXhOSJFWv9r+ElwIWBzACwPQqA/AXoKC/z6ICCngh7b855nqAjFWxvxdkHfNCBQzAE0ItBq6UDsA12SfrEE0EwCk7X5ffPLW/w64GlIwu67/6km6qIxH4v8aTXMGd4grARTvzkZjZCcCLxHK8MwwLwAYH66RDvMO/HnXlK0HKsb9GvSisYOfvv6Kw5C1nWQLAHfb+yw8rgD835EHuPwzQv9MRJ7Qbouq/ZJE5xd2Jzb86meaVS4D+v6zbabBxYNG/7YvNiFHADsAWhnGM+EEGwNWVD/vCq8m//PptLPTot7+3fTPdFqwQwM/aSwfE2+q/BleWJJ0P4b/FRgEc+1AQwFXYH3jJDw/ArR34zKUcB8DbwrwzoHLnv0zvqHtLPBDAMJo3h4Bh+78Kz4WTEMjUv/LkSszL/QrA8dx4g1nTnr/E+s57l+bkv39cWezGug3A1IgfPvwltr9peGKnJyELwGAewgQt+grAetYVVV5q9b/0ny+/I8sPwBF5I8theQbAqjQ+VsQWh7/tYnrtsPTdv87c8NUpEgrAmszbHzn56L/B/HWlgS0EwGDTsaaFwfC/H/K8Z0tnCMAmUz8Q27D+v1V86wK7Mg7AmT9zY5779L9+ZIyqPxgMwPWxHl+SVwrADuexuApvDsDKCSoQHAgLwNb+/rCQ+wTAmn58Y41pmr/MsQnl6ygJwJODLc2s9+G/4eOtllO20b8ZjY8kKesLwC9h2jFgVAfAHZ7e6AcT5L9Q2Mnowz6EvycX+Luu/Q7AqH0cEB0tDcDSw93HK18PwAiXajdmognAn807+S1VDMCHt0OzHhsJwC019qLxmqG/K5mxb08/yb+WZxLn/27Tv1vb8y7LewzAfFe6bsAeA8DcKpYHegz2v/LPhHkG4r+/0DhBMjUK9b8HaQyTFnQHwKx57DSO6QfA/9ds9Vau679B2mGkgusCwJT7B/JeCgnA+YBHjMjN4r8IeyyBECfiv6ysKKH0PLe/PUGDdLzwDcDx7VKLEwMMwBzt8G59Yrq/mV9qSXUOCsDQxHa4FkwFwBRkDcZvtNy/LDbyuY+QwL8YiWAsMZiVvxJ0KO/acg3AZkagaNaqEMCOIq3rv331v34X1a6mqQ/A1VbtYHpM1L+Yniuif3X2v25ePEwiaqu/Oohtm1v+8b9GK0Q8DfoHwMtyqZCsK6O/I0PluLFGD8B4r5mVCJwKwMT7k+y/itK/1WsGmGoR57/6rwIqobYHwPvfSuwrz+O/prJjYMAmBcCRJThK1/euv7tylLRoiP+/Xlh+XsCr3b+8GLl7dVkMwGZRes5GShDAnwd4B9l42r+ELkd0kCMJwDhbpYp9IgPAX9l2/YoE+L9I88yp6JANwGeLzE6bGcC/Qj8ip4LN1r/NbZblyWIEwFjX/Tq7nGE/Wvr4G9bZ/b9p5k6Kh8UQwDhDcDIt+QzAyaIsf8NcA8BnZ0xm0he0vxe7JKlcwwfAhcmUmyVH7L/iPjL5ET8OwKEW9TdQgAHAKVbmugEGDMB8tXbHg7bkv4PrUJfLXgjAhA+lcf5vCsDG1VG+oTnpv/r8+vXvz3W/P/1D9ISXCsANEpqNysMQwB7IlW/ZPAjA2PAZvhD94r+jtJQb5ZGMvyWnU8np8/O/The/OcOnCsCK83tiaJkLwORRAwteSfm/OUH+DP+h9L9A3ABz+af2vx9O9LsuFwDA2FZqWmjmCMCpp+wy6zThvxlFXXJE1gXAAHbub0x/A8ARxVxAH1zovw67NZ1Nxfq/PckP5dpPmr/jCXR3x+kLwIoRJO56CA/APd/CtjN+A8D0N14OKb3Gv2GwHmNmmAbAQ/voSAmVwb/R5QYarhYLwBJgkveYmwbACvIob9OYBsCdBZmJKygEwIk378BKm8O/5gyO1ug8ij8TEiEkkx8GwI52oPKVSBDAILey/7qa+L/SgtLDU4+1v2LRACZGPwzAYr9TkbitC8Dd3Sa+hxTgv0b3YEGyVQzAlrcKsOyG3r92E0IzPeX7v8fGfrbPTwbAIfueNP2xDsAb9LdFFj8KwFf6MdPl0gnALOw70fN5C8D5k9ZD7BwFwENi6vPdRRDAbSz21PN8EMC/3Kbop2IGwJpaxGyEtQfA1HOzttnwDsDumTTZ3gIQwFyuZyZ1eNu/+P/VBjEf9L/8P8jt11HWv7Chbxjlv+2/hpYtPLCV679ThB/FIwwAwB4Ke4nq7QbAwRJzHCbDg79N5ltk1SkMwB1H06Vwg6+/C3xiJTq90L9b56jC4ogMwHfaL+keYwPAYthZlld1zL+lVUEEgiP9vxNOvLZscw3A7Wuv1fyaEMDquH5SVYkDwDrsrpyT2AXAnzb//GAG3L/khqEBEF0LwCdU2nklTBDA25sGyrOcDMAgsfVMLQ7lvzNdwu3Qcg7AZH96UeHTC8CraGHbFVwNwNmJI0Z3W+C/s1P6CBqq478FBAZQIQcQwFTEkD0hYOi/korwOQHhyr8nXIe2lq+APxQnw3m4KgXAqQjWES9IEMB4zyuiwCgPwAHsgULJZvy/1JzbwRxNwb+MiauS0pv8v/J+E9N8zwLA4Ycfi7QSAsDMowgE6hygv89mjn4HMQPACEcNJCS+CMBgg/2gsMUNwJJEUGPfSti/fNYS9QhB17+pb7XUz7P3v+NCjh4qz8e/T0aM7qcfxr/RxbH2f6QOwLymX90aUAvANspE13zoBMCtByx0lzXYvyE8n472efi/oFY/WeTD87/D8FQjz/3Vv0RHauytrdy/AOnsxWZfEMD6p9Ldz96Cv94a+n6UCOu/JVWa2W1d4b9TmQ4qFPcAwKHgSxYJrva/AN9HPshPDMDBIB1B2gKBvx3a94PNmQ7AD0FONT1dEMDZSOGS91Cav/c2cN53SgPA5EWCgNP8DsBAehR+ddPvv35LCtyicwvA414VbtawC8AitSsEstkFwLuCjrC+oZa/MwDLf2sp0L9FbVZY1Z7ovy9QWNomtNS/dhjfoPRUDMB2GXn3Zen8v3+jgkZbbxDAu3q7TfLZ979/XaDlMmDhv7vB56/9GA/AvD1Ni1j6C8AKrYZWpeqdvw+Q6MadAxDAa3Vs/h0eDMCVymO9pefnv66bGxS/aw/AIcIzmkn3DMBAysetZMbtv/wzGWoyWQLAfVIUeK1A+7+BHRmhQiDgv//NzG3oPtW/xWiR+E3dB8DjRBAzSxYPwPEBzgwqmP+/5/AXZ3dNAsBT9hxw3bQMwK/+Hkyn0d6/V6JNr7DdCsCsYNG1kePlv0htFweq+ALAGC9UFFKM+L+2rM6EtavKvyZS4K9DpoU/XJj6bAIsCcD+OBcjyMUBwGCGtkPBCw7AIGfYMTjfyb+ov41wHMT2v++mafJ3/PK/rFMFXQXt6b/ZN3TBLw7nv/G4SLYsyQbA1Uf7wdtR9L+q54zm3lTZv1fa5jEM2wDAzMXwfxBh1L81WhR0IKCyv2qymwTsJArAdF+ZJZWqBcCdCpJO2ka3v08hR19nyY0/dj3WNS2//78PSfRgpkeCv8kJ+CUGiOa/bqhymtgUC8BH9tPZCEzYv3WPI2gAZqK/uRhPvzqHDcBVzapTwbcLwKbCtCUAawrAFfu7bDt8D8Cx8aExqkIEwOx6v5GOvqC/hXbpkuA5EMAjttmpX4kLwG3FzlUTCO6/s0ryTID0+r80PWiAfjgAwBume6c6Tw3A7xy4pcsQBcBMrzHc743xv6dSEq8sZALAweV1RcBdp79dSO7oMbbyv8R05tuW3wvA6HQcR/FfCMCz461ZGqgIwC4pjgV6ogjAnozroOkp4b+x7ADlqTgCwKYdCbB1RQ/ApEKf5snJ079uPwGXZ2gKwKkRCMEOLPS/BrNHuCk/BcDPAvjo6gcKwOw0VZ/jmgzAwmXFW9lkDsB0+89Vr3vdv8tNlUyd6AHAwCJQ8onEY78hX2FIuJb3vx3MsvMLeAnApgjglEbQ1b+kwP1Hh9kJwKeo260AGw7AlcMoLYI5DsD1L89JHjO7v2hLAraKePK/QF3OqL7u77/pv67PQLYAwBlYJtW71+i/dvUpln0BDcCw3RWpkuIMwIsCTMUNnA3AkanXP4u+378Zpm7HakgQwDE63rLdUdW/uqviA3k6DsCvZhpbs+invyowQNmVu9a/GbsLLlmVEMC+CtaZuS/dvy2e3RX4KeS/ziP8+OY/DsACKaJFBrC4v5MJfBQw4w/AMPKCm8I+DsA7vz5wrGD4v5DJRI2Cy+O/MeYEXD3+07+hUorO7KPGv0qXJe/TiQvAJ76gTjAnDMDnE2/BOR79vxR48T5CzRDAXfEzyGy1/79FGwPD7flJP3t/WPn/ggfAA/ozb9EZEMCbfnpPPVkCwBB33rZnA+i/hLG05FjtA8BrxyGegIoGwG2BNw8/BQHARQnS8AYJ+7+Uewma+S7jv4NUdZaTaAXAF6GHxph03b8ke7tRHh8BwBwTpWBMcgzABQrnEee07L+5cg4k6uINwFDkG3t1MADA8RqSCV0WC8CE+LF6L6Z5PwlMnSmORw7AOwVrvYtKBMDee0LAgdPUvysM8xo26A7AI3R3RGnSDcDqB/gIn0n3v/jRKE12ofW/VDg2jiCd9L9EkYD7YH8IwBVBepIf4QHAzxRX+u8C/78PAJjJhgUQwN04mZz1NOm/1hLiWBjb7L9d0aOXijULwL+Iliim6+e/4fwyFLwYDcA8lHaWP8QKwI/OtgGMzwTA0OueJDSIb78MuTmvKAIIwAG6D97szxDAVyjd9V+zDcD0Gysgr/cKwGVcjRUxUg7AHL3ZkI+U+r9ANCQ3weMPwPQ7atvJVOK/Yd306F5lA8CzoVcKoJgIwCofsP3wh4G/1CgYwXo2A8Blit+4+ekMwF71UH+I7O+/KR3xqhyiBsBCbYrTSFjgv2qqBMjyfgLAW/vuhw8xor/g+kU5st/Rv1P+BDnQhQHAn1YSxX6d/r+klPSLeNQNwKmiOVKgbfS/UkJyUv9lwL8rxKYTPUXyv0KaeHgofA3AE/MKPzkqEMDhEXosOecPwIDWoLFalwfA95hxAIqLD8B2/M5S/FH7v1uUWCzSUA3AjNP7AOca878+LEehFqUKwOoJJxA0WQrA3CLfQKsdd78P/IAhMVMNwGkSWhn/2Me/Q+zpft9b+7/fIeiSgHkMwK+UGP+oVQPAr/wOJFVrDsB8Uwn9LhINwGGIQL4vDRDAgtI+n+4r5b+xMRnuF0MCwIlQzQyy3QvAXRJzrPQl6b/VDeoiGmwNwPzWqOaqwA/Aaof7V8IWCsCe3pilIjkNwAfxDnAuPw3AeZw8FmGM+79xfPyhRicOwJi08BWGxwLAbmQ7G6I64b/9PIq/al/4vz7oHujh+s6/Il6QjE7N0b+3j2lWXDIQwNUOiv3LXAXAhonBjt+xDsAEcwPkJXWUv+Cl3+kU0gHA0nA2VYGk97/iqkn/K1Grvy7L/3VZFgHAuKn2VPNaDcBbe+rYruMLwLTJzO+egeO/yFE18fdmBsABUKzj7ioJwAJS4LEfbam/1nIVpPRjp7+gbEFSFG3fvyQjokO6Zfu/vnmaZps3+r+XeBt3HgkLwCk95RIG2AHAVZrbPJh1DsD84VG3CnQNwCdOR7RFTA/AYOWtBWid7r8/DA0xMkACwHOHpNWPhwHAROKcJQZs0b/DrYkam2vfv6PKj4me3fW/1c7StB/cdz/WEQWbpTCgv9b3wlm4JgfAl9jkFmUk/L/kitOWhrIAwIe5OOLaHOm/tKzlrjCpCcDIUr/N1DMJwGArDJbssRDAQeIYcjKgDMBTafM3q3kNwBQJfDnUJPq/i+KYxnGa9r8ZeGTu63byvyPsj2GdsgXA02LrUwcRDcDg10a4MjfKv2NOvCjMqQXASfD5yW585b9UUPrDzW/IvxRjWH+5SwTARILs0qj1DsCpDtKC5LkFwCAS6H7L2gzAkWg2IWlC+r/lOzyUzYsLwBm8TKJI/gjAzo+nMhnu+L/rgDfW/0HSv148xGR/Yw/AjDRf/o/X8L+nhfISysr6v5VYKF9oGAjA0lTdOTV9vL8fQ51yDH7sv9SfbRz/IwnAJ6QQhKAbDsCgE4htnZUJwNGjejV4mgbAmI6/y9dQD8DM4+VW7oUFwNc5Yp495AvA9zYDK66QCsBBADFpKMv8v9l4nQ+one2/Vrr+AXt54b+pOXqlwHUFwLB+iJQhg+i/j58z4CM4EMAHdUC3VwoFwKwofbyxyOW/oXPcLaaDD8AoEtye1jEOwAvfTH1xPuu/WAOgTlTPDMB14V2tYd+XPwcUpI+FHf6/ly8XQ1GA8r+Ia7m25ZD2vyKwlP7jQBDAKUJjV/gAC8Dt5HmdQAADwP2wtNvO6gTAodg/qI858b+XryyCzg4KwDveyeXTB4M/9QGCaydGC8CBL7CwqBUNwOVOLYfgfQ/AARxtP6Jh6L/nWgzu/ZPpv+KIMLBQkA7A87KdpSHJ8b+7TfzxrXbWv9MLTPpbugTA8HYarAyVC8B1PtlQEc4KwFtS8QrD9eq/byT2lyS/C8CzklvzRv8AwJ7E8YhK3gTAi4Op+usdkr+Vq5AR9mXVv5x6AibCbQPAtSP+G4oPDsCQV4+QPIcEwEqEphgEkwzA5E/7/tOyBsBZUZUB8mbcv62yEPY+1Q/AHrRoBJFNDsBk+4MCVCkCwMqMQa8Aeca/AbFwLa5bDsCX4IeHLve0v8PwmMSPz/K/I5pHYgxCCcDDghJ9lZzjv3ejVT2dHqO/ibhVzIRx+L+fvXT1FpoGwOp0WUHwg+a/RLH7AJauA8ChuHKqr98GwPrN9ujOsgfAQrTzudcoEMD/7Mz4i2fpv27y9t/tdg3AGEjA6njZA8BK53nJJwUJwOmwfgMBc5M/wPE6X7wxBcAyDnE/A9AAwM+Up1yQ3dK/N5gfrI+XmL/nSrSFamgMwOH/9FDtBwzA9WLjm/1L3L+FlNqwOSAMwNH3p+Fdq8W/JlHIfK79Uj8i1ymMErP1vxrToD1MbPa/VI5ZykQCiL8Hx7HE+NMFwOQFYK/7UgTAleFMJYO8DcAcnLkcX4sMwAFIuJr2LFa/NibwEcnnB8CPJTBVpXIOwKhCotAMBf+/96AGQq3Zw78tYvJKX7Lwv6Rahgdqecm/NNf7wFhQgj8DCoiBMFkBwGhlUgRtfdu/iipuI0oeDsA7ka5NHDQGwBNVfBmCUMO/NJ8S3ewRwL+vtTa2XQn0v+pIbGOMGgTAvdKUGkUrCsDVMIzXxt/yv22Scu0Ttt6/CqpJaxueBMCAJ1qzOX3+v0+DEX/zmg7A+m7S5T0LEMALewO7qZIMwA512I3fyQ7AUPiNPgp45L9ZnxgTXairv6PSu3Q4YQ7Ak5uj545Y9b/PW4t2nsn7vzY8j3qtftC/pbVHOi0eD8B1cN4Y7grqv83NQealDLS/wi38BhDNw7/PViML1M4NwAGYg0+3hwvAJ44VXiQPEMBDxgeNbrzsv2odHOAVLwfAG83XLdUVBcAf0sJzfQXhv2G1hW8SBQPAO1zzY2FmDsDcI1BMg6nsv9DBuZ0n0w3ACKwEZG9KDcAn1ram5CkOwARt9TVmGdG/yz06U0QoBsD9d+bATJ3ov25bO50Jzqa/FU7TSJcSAsCiMIJcr/HrvyAfP1HTy/e/s2vlKA3fDMBTwx6R5pfuvy3ZIuTMdQ3AgLCwgqt36r+XKscIXKgKwNQQdDrOtg3A/RuYgAz7079zV1yTMCbTv1hn1wDL1QzAfbpBAYGX979WWGFBgmcOwOWYhUq0x9e/TfVt1QzcCcDQhodTrdMCwJWjNVzHognA/gUZvPeyD8BYR0bykYrBv2/o50OGNPC/z/2FxPb/DsD9M3UZjXkOwOORQ7Zd6q6/IIouBTPAAsA5wWQP47wLwF6mSA7h3w3AM893sv2ShL+3R9ZpsQ8CwEjaN/+eXw7A8DkP5ydaDsCCcbpMHtYHwEkMCLpdjwrAmo1z5T6WDMAWfgdFK2IAwE/cAq8sP9O/N0MCUKGlu78AMHRbaEy3v/cDKMXqEAfAL0m5CCHN+L/NswupsdgPwEmt48YIH3W/aGezru15xL/6CU2XUQoKwMTkdgXPNQ/AO9NCXMNIEMAX2HnvZVzhvyKaB7tsbw7AAWakEGi1sb/7LCSfpQQCwGqG7bDl9wLACZMRW+MdCsDEgAzy690GwOcyVbwDug7Auwb8edfOEMAjpiUY2/ADwBhWvbMGwgnAGMW29ZXOD8DySQtbktnEv7oi8nraNvy/GmHDHvg//79Rf7Hu4gjdv41gga2fwd+/pFisCbmKlL/9d1nyZyAPwHNpCSygE/O/7iF6IvAPCMA6gSMXx8QKwHSH3fLNDgbAQhLhSl+Q7b8i3/uNdZUKwHQjUmWLacy/JwKVX22+/b9fAow48rDUv0ZpwQ8aj5W/gDVmc3GZBsD0CezuwNr4vxafNMKqMry/AAuPxcFm8b91hmgCHTLjv/QR6z4pFRDAgPBXHEmMD8AIF5Q+Z3zEv7iYG8kTpg3Aw2lbAnFBDsAzUQ6SFYDTvwNCNWBaMde/e7jqx8vDBMDJzqdhbMMOwC8j5IT6VgnAmxKzt+lwtb9J3e8EMrjxvwHXWboQu/G/3jswTYOhAsDnA95BVJEOwGyHLIMd6vG/EhoM0Alk9r80zO6Oaan3v/Ms0Hqafuy/FH7Br03SAcD3ynbW+pn3v/86bbNtWQDAdnDw2mvqCcCeupknobkKwMVU9i6gAgjAoZcRVW4hBcBlQX9MYC3yv0YzvTVFmPy/9HC18ai3EMAw0ukiKYmYv4XYro3Rv1E/cffuK1Szk7/5VxSQhKOmv9SGHTqzYPK/aSdIdOt/wb/AJbnBoWj/v8kta2Ccj/q/proaZUQQB8BVoMYizgMQwDsZhsb4oNC/8xEXcWoN8b9QPDpxaEgMwI7UVyL2n8C/qc9RXhXCAsB2rae4MNz9v2pOF3zJ472/c9knNbBwBcDibPQGDo8DwONDY3SRRf2/VPjlj8CNB8AaIDTJ3IsNwCEMr9TRE/K/hvwb1ECK0r+yP0AGZlsHwFqdrQNxQfq/506QsInUBMDn0iXO3EANwIIdDSls45O/obgmKWgdx79HRKadOQnTv0YumgNxVA/AmN9d+W8b0b+7mEgJQbYEwHClebin9ArAUbeRkA9QkT+M0Gvv6OHVv+CMhrRnkA3A8HVBTc1qC8Auk5X4AJfvv4wf0YbRTOO/k9AZwhuXw78g2fhmQKb9v6ECHCNVAgzAK5oMfQSpDMCZn7SYUiTNv2cx4LV/wQ/AQr7KAZW/DMD1h2ZqNCX3v6Ab9r4lZRDAGROw1dfH+b81RhotUztfv04r03JDKA3Aj7+/fJ74DMD4cJNORlfqvy+w9t6TWgvA/OqlXPTogj8k6y8z68AMwHiChB9G2gTAF4NtYz9s/b/QM9sz3UQOwEjnBF6nQQnATX2EJlfVB8DnR1KY5Ijgv/L88QJwlwTAL8Bvt8A8DsBuNRnpKJvmv6O0Rehy1fu/HavdcpETEMDVltk3BYQLwCI4rlahbtW/uyDxDb5qCcA/wilD5wMLwCWoyXuBNrm/k+nleR2aDMA+TqMxudIPwPcXtcdZJP2/O5y1kWvS7L9tHUNQEgK8v6I8st0Thqe/cKrQ6qrYAcBMvN5+LvMOwFSzi9V36QbAzH/EFwlMCsCXUqA0vGEKwLgPMuuw+A/ABmwAwnkP779r8SIRMXnMv9yr5MJpzgXAymZxJjxPeL9dQJJNhRP1v4iasIAlwgXAW3D1aeTz9b8Ri8+YZiEDwPZSmo+zugnAqjwOFHmNkD9z1w2heOHhv1wWN95uyPK/AYEgxu8u8r+Y0g77YMvWv1I3WrnFQgHAXOzQxeatBsBcjocE9hgOwHSZuIHsNcy/0CYsIGSL8b+qmB2PAYPmv/9kR5PUSgzA/QdK7JUhDsCsLW+6bRcQwOlx68C2owjA5E63j9Uigb+ja1NFyUkOwBep90fY0g3AVPxmTjqOB8CJn+Fj068MwO65aR+cRQ3Ajt8Cl/2HD8ByVR0o4wzpv5gKzZo3dw7A/WGEe7Eu079kHTC7Id7vv2TZ+oAQRxDAAmnQXbL0AcAmsjg21m0OwLATtsOLaAnArdM2Sc2XBMC+hoje85EPwLvpqcGm2AXAwDZC17/k/b9bvzh+Wmrvv/1AiboODvy/IX3RizYQBMA33+ARlz/fv741KbBhuvq/mN1myGso9L9PCKBwh90JwCyllx8MDgvAYJhLQMhw0b9qaZAtcFgDwBpNRo0vfQzAREbTMqwzEMC36JuP2S0PwO3Hq2BnfgnA+nBoynbY7b8zg5XmC/ENwCDcnCHl6wbA4uxqmx6u4b+JG/twzgQDwCdq9NHH1Q/AdUdquTpT47+MKzswZbwHwAwjIyxzR/K/dL4+PBZg6L+3O6/nlcgPwGpui3gY5u2/KWF35QsrEMDoiakk7zXmv24/8BumENi/cgyf6bOc/b+5E3RVJJ7Sv6+FKYwWqv+/JD1wO/9j3b+f6NsDhcMDwNUw2FbBHg3Ayc54XZzG6r/iGoE6sksNwD3geZlKrry/q/FrASl1+r8A9runDfAPwDG3qYgF2sa/NuUYg6DZuL+X5ERHbw3uv4TeNTP7d5y/ylEYZmH+B8D1gqxJix30v8IT7K7DK3g/Mhg+AFkp4r+aDNUJvGOuv87aaPn76wrASHFCnel+DMDE6jeEWE8HwMyVJ4NmaQ3Awa1BQVQpAMDOwtQNGWj+vygS4EUaLA7A0ZoP4PKHhL8cxW0Y7yf3v5H4KASxLey/p3W7JXSfAcDeeKs92kr7v4bFOIJ0XgDALr/QmXdAx7+IVDw337wQwHUyCSaz0hDAT3oWFyPzAsBOyEB7OWTRv8cUkRuSugLAc7ViIlSjj7/CRh9aYWMIwFGHYMkg/fK/GK238v1cD8CPYV9PULTwv+lIoMyk0wnA7Lj50c5fv793Ol6g7I32v7+yGVVXvQPAMbkL6Gc3DMBeK/z4NYfhv55OMq7NC++/AVHbyfGLAMCR7AYztumtv6sWO/fJBQbAgoH7ofitAsDIl/Spka7iv/Tv+g6jV/m/8YZwdeIxCMAwhW4TWzkOwIMBJ9uKuOW/wMxJaRPbC8CMuRy9fKvnvzpEjwtUjgHAvMxo8yi+DsCRyvwkpxcIwPp0OFyzHOq/yKlkseaSEMADM4El0v8NwEKgLqT0bQbAxwSaoh9zpb9k4kGfqy4JwLy8HnIAmQrA6yZtvcC6EMASlNOkPNMAwJHmPugYZua/mgNtcM8P+r/8kZfiifkMwCIvQXAimAzAQB98ttAwDcDplncGxJwKwI/JtawP5eO/MPhiFEd207+KIiqWcIIFwB9o5WSP1JA//xdlu6G2A8Bqf4KQ5GIHwBZmIN9Ccvu/VAFP/P42B8AtEGIbj/L2vx+VEtRXxAfAflTlgo/J2b+rfVoLq98KwG7wPgnXcPm/iPVcuqXTAMAeF1aJLiUHwJRXti0Ev+u/VGos8VqqDsCyqmjPZJzZv/ItMkNxLvO/e4G6biHj4b8sfe4JXdANwA+5SqakcA7A9uPw5hg50L+C2gCelbX/v77lIG0V5QPAXMqxqu/w+r8MZ/4J/uvVv8ERtVo7GA7AnDb+MvGxAcAY/fKGLxHmv2EtyyK6hQzA2O+APiTQ7L/MxkMJaRH3v8f4E9GmoxDAun3htoFh/783VJo7P1f4v+2N/tqUQgvAa4ZzMcrw778AR69Y6SMQwNcmFBR1bg3AyRF1z2MDsL8NxpBdtdisvzZkbBjCQPm/x6XXQX/rBMCk9Fw2sjDXvx9EG20ZlAbADPlXbnwlDcC1wj2lEj8LwK/ORDhSkwnAkxA3wECVC8CQvHl4mgb+v2ggdRbJz96/sVLs858GlD8kdJq5XhcIwC4p2b91+AfAYURNDLjnDcCNAmtXHqzzvxoAQLp1rgXAcd0E0CbGcz8XTlG9gIDuvxE7sUO2PQvA4Qn8t9SNEMCd+hUuqP7Lv/FLPHeGZQ7APUnrRxlYmb9xyxP3Ps4AwEXuGWaiKP2/Zhiq0v7I578iEBXNxiUJwImmMmUMMd6/HB1S7kgMCMBVCQcGrtztv1vhGC69fQHAYGmjyj7IAMA6kxUPrzvDv8uCkQJ1bQPA3hI1K5qjAMD0Oox3Z9YMwAAQLsr1gOy/bFErRSsp47+4r/sY3UOIP66AN7Gv+PW/8mofvJLID8DIJP7+I2YMwKscJ+zIceq/l0PNIQCMu7+EQT7+5DgAwKhDwRdoiwrAWLyVmtWYir8sb/WldR8MwJ5shkLg1OG/85R7Dl8uD8ADbYzwNXr2vzaoWAOhWwTAwfJphgczBMAHAmFS8u4GwI4KuEu3rPi/5jTNTcxaAsAsJYNk12TmvxuJqdBU1wPApBG016TlDsArU+Mj/94GwCkydVfUMAXA5ll9WDRz9799wVUrIRQLwJqLRo12aQ/ADnLzQC5zwb+QaIrQsZwMwMKjtAEggwnACX2DdePhDcCyT8dBSU6vv81U49Iz4wTAINSQPB5I9b+E0/XAvNMEwN39JNAFvAXAhPu+oexGAsDpLq8L++EBwGAof1KIfw7AN0pbLrAUEMDxdAJ48foAwNUz3hMEQgvAPMCrHrBuyb9IvdP7SncFwHNmugiOdka/7Jltjc/8DMAAJ1WC0akQwL4GJNhLEQbAxNyfde4Q7b8Ql+Qfw2X3v9YwgPb8qNm/w5dagI6/DMDKuWQTkfDIv61mlViApxDAUZqHj5waBcD/RsNRmQnCvwKCAR9OnA/AF11uRFMcBsB0j4LrVB4IwHIavIguCfO/SRJUgGYV/L8RPHs/BYT0v6SCZFG+xe6/WXoL9sZyxb+R3KOts0APwCq7wiLgz/O/nkOAXjyP/L8JnoxP8NL7vzJ5bCVWUdC/wrtkP9NhDMD1HygjIzoAwMeyvranMe+/CTuywIRiDMDGN9115Cq0vxK5GP78Kg/A52oi/XkzDcDhkiGeoUAOwG7bEVly6qi/rTbG2fplEMBqzvGbwNHyv5o+ik6BqBDAHmmX5seoBMCAb3zqbEsQwOEp9rzSIaO/WOuCb35UC8CB+QqWktsGwGJhlxYF9QfAVilXO1fP9L9//sjdDJT2v8BSyDIihfu/s1uektCkEMDh4DU7Nlnuv/tf5zNF9Q/AUhfE5aF0978hkGjphXGUv9umh3VEEgPASCYi8xXl8b/plkoCuvm/v5DeKQ9XJA3AvgpXPlBpCcBTAmLuS8kNwF6UzloqBBDA4kScJ17Vzr+DMSKzfX7jvzUDoDWhJ8q/CdOAgOwbz7+LpbWcDjkAwMFX/6uJ0ArARPPmSZFz679EDmTy3nzvv07+d2QFyg/Az5yUvVcJ879BNQw8A88NwNZPl5hhY4U/QHyhaG+VCMDUo5wydqLUvyi3miOGXA7A9E1OnYfrCMBMMpS2picNwAfd0Fwvpbe/i4cZ7kyuD8CPVyWEYO8KwEpt6/oUtAvAJfqIr1CD9r8sCcQudQ3Yv9KAz94HDBDATWrROBNWDsCvm7I+7UCBv+Fg7xOAOKy/Po6QxXmiBsAe4OGB8QH2vxM3E0nZPgvAE+iRxCP6CcDUSZcr+6IQwMM2EPMdHci/A18NK6UDB8DaIdvebvjvv/ctZzpgYPu/SMn9NW6wEMA+awWarS4JwK73TKInxAjAly1KlkP8+b81KFVJGpH1v4XOyPt5OvG/OpEdbEoDAMAB1++hDkmyv3yWslcg3wXAZ3yXR3b/CcC6zzBYU5AOwEOhyJl4EA7APBkdZsauDsANBJt43+Ryv8LoEj+14ADAUn7F0zGAB8BgyDhEts0QwEFcXxSHIRDAFXDsl9qmx79D97+Nb7LlvwLGY6+daPa/hJg93Eaw5r9Qf+Wdd74QwBG+1yD20/y/B2UFlSpUUj9QQLjUpWIFwO2MVj2iKgXADsk53wQL3r+7JJCpUc0AwGArDErlIg/AulASOjtZ7b8qCbiENeHdv3LrkhP/cv+/i2AGETgGEMD2iZqqwtXevxP2lJ3VWvi/pqqXe5K3zb+mO66rf2Ldv8ZymSTRLs+/Lsh9iUOFo7/K7E2kf6gBwHe/ONjbrRDAHnyAGK3yB8A6hOdBh9/uv3T2wz8DDPK/BB6JzH1HCcDc4Id3Ua4EwGxkPU+2aAjAMOspIcZlEMDJUTCAUE4MwLTYlO2tggzAf0kZ16orEMD7GP+azuPWv+fccADGJgjAbkasbZzO+7/vKEA+YDbFv+T5x66oRwvAYZvIw+29/782FvyRK/UNwEamQ7DZivC/PrdTSV6U878hIE/0bQGrvyQeNHL+KQnA8zjauPT+BcAV2UD50CkOwIGzijO6Tqq/1PaIwxDn/r+CTpcEkf4LwAPzfbHydO+/Nno2DvcVDsDQSz8OyeqRv2PllCvNvvS/jE9Y9VMIBsBI6tZZcoDxv1pc/udVuwrAIW6SZEPY4L+zFgHz6xDZv4NoRgzC3Pa/jaUpC+t0BMA0YZDlWWnev3qD4njW/wrA9fblWaLmyL+/tFmrWIYDwBjJxuquaeq/3GDrjJto+7/0nujXAeEMwAQ9K3V2nfK/xWEi2c4Axr8Mp+JgWY4QwH0QvONYFKu/pr/t5IIPB8AHZwuajxXvv2XhdwExHPW/ULXMCL81+b9yB85K5Vfwv95XLPjC7OK/FZR3j3Q74L9lP5B+C/EMwIcL5VnVLK6/Vs/QeIJr/r+26k7JohYGwO1Og9qfIBDARKQpleTDBsDBV6C8MAn5v04mHxSP5/W/XsSZL1mWxL/36O52tk0IwEKwGA2aAwLA2qqF+hzG7b9ExHZr6vnsv/2nu5ejOcW/nPWCeHysBcAyNlgOdOLnv3aQuwwsgwfA5kplXzf9BMCJnMs5goYOwDnXbdstL/e/R+IfJ58yAsAsvl2sR7UOwMWk+lSBGfu/knIecBZWEMDr43rI/X2rv8FnlNSOUw3ABPfa+bdWDsAolkcAM6H1vyYdZG6MKqa/zxCTtcjrAcCXy04cH5mXv6yPrvZN4g7ADFSpSiQs5L8WO2u1VrrQv45nSVCkgdq/XYMqVyYoAMBY3PmpTfMOwBMAAATlaAvAS7AGny9JEMCFhzNn1kPFv4YJw/jJtgfAN3TntMYSDsBDYzE0xhfOv2YKpKVly+u/5UCZ+8z+BsDtU2Nw4fn5v7StHLOweLe/uwo4TBmW8L/7E6ibG/KBv8f4AGCBePC/96desqPWfL8WpBP2kyK1v4QCJYZWkQ/AtoXrIoTeCMBidINJKTx0v50W6I+MMJm/itIS+r7+C8D0gAenEP7zv+Nvpjd3AgLATKf/ZxRGD8ASc4ZZYLzxv8b1Bs+ANg3AkNrWgC+6zb9j9nTBUR0IwLGoM60gIvG/Kwlt+RelD8A4D/hyte0HwO+pdjkadQ7AdPg4wZpmB8B5+gXCxRDSv9cJwXox9Q3ARDbcH7q52r8vc1HWEtcAwIR4jwD1xeG/9JBQPFWClr9R6/5xc6wOwKbJHUBZIwrAHi0ESZfvB8CjRYUmzIT0vxN1pdHogMG/DbcwFcymA8CyllVHe7MOwPYJuzjLywDAt7b+yZx4DsDKBUtXi2D3v8kYXyZ5uA/AOsatpfzF0r9+6EUifG8KwPRKnXc7ZAXAn71m6Kk8BsA8Pu3zJT7Gv0hSOjNBQg7AC9wzJ/Kv6L9xmWszpJ4DwEj27RaKaQPA8XyXzi1mCsBDOlKDj8z0v3WAEH75KPC/9LIpXrjp879sBfNZhekFwEIxz72fCwLAkPlgmd5l8b/EosDJt0cHwG8NM0SbBw3A6qhi+9fHDsBbAQLchAOzvzg3hjXYRuS/gPvwPXyvCMDFrVtUlxCjv+bd1jHgagPA2Z3U028JCMDguyqn+O6XvysS8nMYWwjAn/Q+BfjqDcDE++fjq+CKv1SL37GJsgrAO0lMJLZf0r/g291iJuwCwPZXPWKmXgXAOy1pixPQcr/BoZ3hVmT9v1gNnoYwaA/A3WS42Ytl7b/c2IOcCWK8vwWtvI3M2wfA5De9PvalCsDit8dBVYELwJm13TOA7w/AolDH6lMc9r+uuefCSAAGwLwr6ZUOis+/mmWXL/PWBsDg2uBvyY4GwBS0lFespeC/kn3dq+L+xL97EwESNarIv1mKMM0qtcO/idocPFKj279ic33WUjMNwJM67pdyfg3AJa1fWBHi9r+sH76eGpf1v46uf7cEmg3AVsJQfif7wr+YYnuT3+DAv9dVf38hEAPAURXif5p//r+wUkkEXhznv+d0nCaYYQTA2vMzaqq4C8AuIryvze4NwN821exYSwnAs2Wx4UlX1r+VzFj8YCb7v3dY2EGHAQ3AmOwbl0/kt78b5kcE2T4OwP2O9jU9NQ7ATrfmHXSZ4r9izonov8L0v/XA//m2hvy/I5cjMwiczL+/W5IAnkgQwEBhteYsqPy/WhuBvfQMDsBLalJ/pWoJwJ89o9vMnlW/3XhXB36TDsAFQ4S+vQnGv+lNCA4UWNm/wx0GsKpK8L8zYMRZVNcOwPNL9EH5Gw7APqFmYQHm8r9mcURYCX4MwOhlaajwc+G/YEXRJYEI97+CMypu3hMIwBE4mwa+ntq/9J3bWXgZcz88ujoGvTELwKppxwO7puG/M9qniS/8D8Cun7YuCjTdv+Sjzh8JP7e/nixkE4WIDsDnsPf4uI4EwOVAD/VxVgDALXhCHNK4DcCu45W0BhX3v9VygiIV0gvANZaZ5JYZ/7+sFrL7z1MKwOyL/+qOpdW/FbIc0lT8AcCe7vVggX/ZvztyGV5/kAPAB4sd4TS9AcDDnmAvSQALwF4tPzzt4QHA5rvhC1dUwr+IyFW+x+Pcv7ASK3rTM+i/ClGIFYS+D8DQ5jNLv9QNwFy+LTgrOA/Avo21iNcrDcCv4pbBPpENwKQyR9NZqw3AfaIpewtDEMAOI1toq3jiv78lOH3JLwbAMzTXn2fLAcDk8dCfu2fxvwgACk1ZcA7ADLoG+IbSAcBrZaYUKkqiv0v0gtyC6QHADdHCTu0w8L94BaXlB13Hv/ctsXWwjRDAjAlTvf/58b/TP23XB2fkvxt+R5ydk9W/51z+lPntB8Dms9XCBdb6v1O2lH0XRQnAoa3c+tys9b+cFPNCDB3Rvx5ADmVmZbm/SlKcsAhbCcCngSPHeh61v19jAFx4CwnAZdw8wiPFDMCflefPYtDTvzqWktRfMcG/P0iVhVwmAMASES1DhH0IwE5tfWVv1t6/FMvYGcvp/79e90v2SE0GwMIN7GqRVwHA0v6YTR2mBMBkYuAX4oUQwGxbchmKIvu/cmRWKKjH2L9w/+lJJlwDwPH0w85jJAvAik3BjUTJEMBuQPFjpFoMwGBoaSCJLv+/UCMoRDD36795uKHCVgwQwJjv3dhaL+G/EOIz0fYW37+p9CFNK9QOwFNnhtIJBQTAtih8O0I2EMDPEZvP9jMOwFGeFJ5aOg7AU4CHh0YF+7/K2KW8Mj4FwPKVXTxlWNm/EY+DQjvP0r9WcADbP4vdv7htAYBvYgvAZXnBkFFw/b8dfC8tMdfuv5b37I43hQPAPcHQ2+XcAMCqkqHdMUAOwNcbGmWuQATAdqcsna1bD8BnDE6QUrcMwP9J0CttBre/RDW8b/gsDsAFN//kzG32v9XaESWBeMW/fGgSzfDC4797ZJOtM/X4vzSLDPlbD8G/OYhtUPkz4b9BvK3GodoNwFvaP7OFvQLAaj9rWlqgBsBrOUEG40K+vyvpqR8yhw3At/9M0XZJ0b8C/bZoVgkJwJBOOuMIYALAyBQAcfnj378jr1CjzMwLwPdEg5Xc1QPA6wYmQMhy7L8riA0/RS/XvxFFjTLbKOm/ji0X2BdPDsBB33onzAYQwAiR654BdAzAPee91ufCtb/DUvVIm1bGvz2nzGzkVA3AgqWUoSqnDcBNEcwHweSDv1uxUTpdivq/nF2lVEqz+b921bzGA6AJwDfgJWojA6y/wA43D+2pB8DGUhfmUFHov6/i4gJRC8+/y6o7sAdjDcDaTXl/Cn8MwF5G9C50Gve/Vo2JxybeDMCj2cHk8vnQv1mHNBiG7eu/QTzsltgdDMBpC1Y51zsLwBBCMF8inQvAZwdG6lfZC8A3eS8wviUQwGDJDQZy3gLAZVJPZsiCB8B5AcIhkE8MwCRMOKniQw7ASgQ/vwo2AsD+tyZSki8EwCxtuUTcOwfAsJw/QiUzCMCYvGXbglsBwLPjIkLO7APAv8S9OOj/7r8Bqipu0undv2BXEbEu1QrAX4gjCLLXCcDPYyfzhPgFwCcIxbfPbxDAUB/YUfAZBcAtC+bUkRkOwMczS7AX5w3AQLlVFp64yb/z6bw0sTwQwA4us/U+ew/AkkX+adwf3L/RUt4Hu1kCwOT7Heyfkvy/3nWfe8Z2/r+Sq0aNRnAJwPcBns7r59i/xTpaWrqADcC9Q5D+oeQAwBjyv+tkgwLA7F11gRmo2781dQ6gRoIQwNkyjgdgEQnARyGwtxZt+r9FclLI9MbUv0thMZk8xf2/lP2MLWyczL8wbozGYHIEwCRFHOJtavS/4JEndHNdEMC53Nv2vFzTv7HH3n1HYv6/W70WslwpXL/FR9IYreAFwK57kSdS9wbAz8lh4gPH/L+BLErR1e3XvxIlN43uVQXACzDYOwBpB8BumMdcYd31vw+l05NJDBDA/S91Yn7hwr/tRsFgZA7Jv10Bm0aVEPG/e9V75R1B/b+93AqloEoCwIXV8daX25Y/ps5WUWN35L9GgrwdVc28v5DocHXVDhDATGwkz57i2b8QWQlwHnMOwEgyL/83Uqu/8gFWdbVi+r+0vDHbAGzzv3lGH0SQytS/iEY0zUp/9b/CkMo0DmYNwGyrQTOgtwLAV8bfaO8f97+kNx6hdx8PwCabEIxI2eu/xndmj3v9CsClBR1i5BMKwPgDaRVWjA7AWFFiiBm1EMD/YKPF13HMv54Wvgv/UOS/HMH5M+nJEMBS/RWBsvsOwLq1nKF72gvAgGQFcS7v8r+oPS2YpRsLwLC2zVW+uxDAzuOcspgWi7+sf3XZUzQQwHlQ61vSx8q/TOI/MGsoD8CidI/A9/oCwLVaPx1goQPAOkumsIFJC8CbaZD77dDFv0q6Mp8PVeG/Ff6geco9EMCY2ajWZqLfvzoaiefzMvi/29c/+GnlCsB5VcVEAmEJwLOF52rZ1uG/CgyYgndDA8DSzCQE+rH5v/XqiCBm+wLAkcEojahixL/9D7aVUwYQwNLH7tR7McC/+gB2rgGwEMC8Wr7Wh8YQwLzvVfdA9u+/gRvP8Tm1hr9SjQ6bGaABwDvIVxqFLwzAWyDMaw7b9r+/cPMx5uFvv8yVdYncZgbAlAfJqmleCcDuRUfOm4vnv8lYo3amiw7ABMF3Mgx3DsCCwc1hMn4AwM98JEuMdfK/I7YwJIe6079aPxN8Z1oOwP++EqvivOW/trK+vWLkBsDTzuTLS8sJwA9CWl+/zAbAnvYMSLYRDsAJEA8/HdXivyROPTwKLPu/2+5bXKGI5L+jC5JEwuUIwCtA/gmVg/2/6HpkXY8ECcAFMPvWBJL2v4xkG9EAiey/9F3Fd7MWD8CV1i+g6nUOwO7aNls0Su2/44T33IzhD8CJwsD7PtQQwOMEZ/RbRwfA0ru7GFZZ1b/DuxdVGIYGwBPy6y99ZNa/yJSYN/1+rr8C0J/4CHkMwPl8d9vtVQfA97ugl4tW8r+kEBALv8mAP/EpuaL5T8G/ESsWl8wYBsCBJhqgrXPQv1915h4+ebS/qBr8APkH8L+vIQpx12YPwDzApJ97JxDAjEiZcgUu3r/MFDHyejUJwHZ/CUnD/Pe/gxSelpRu8r8n+KzuZSLSv2T74fN1SgDAksrPo8B6jz/LZmnf0WgIwFwCDNTa/dW/F9p02+lN/r8YkhepoHoJwPE9hwAmIQXACa9WQO3StL8m1hehdp4EwK37cZ1L8gfAKtANuVSxC8BvsP653u8CwNw7GqBeQw/Ag8jyRv37v7/raDXE/X1tPyuaJm8LtJe/JEa/K8f1AsAHUOfKymTev1lOWTADEALA7liM6K5U1b8GZTQD3nkLwAm/KEwfDum/wHftp9KkCMBThxSW6CDTvz1ajGX8AwnAREXtLJJyDMCwaa95k7j2v8VQNvJGmA7AvcnghOqH4b8AFDdD/KIBwL9YcDBxaw3AqDvUiWbKyr9qTUlQH7GQv7aEZlm4T5O/swIFZPK5AcD7badl7sANwBHLii3zzqC/mmTgg16Z9L9W5UKDlXL5v2aNh5q6sQjAGecKqzYKDcA52wE65U/vv+eqVM6zPQTArgO4xJsvA8CEmufxW0jev4DfHWHROeS/aO1iP64I7r/FpEEKHG4OwJdB9Sbi4g7ArmsQr/GeBMD5216GGL35vxDv3GMongbAY1bUHOKnA8C/ABOC+l4PwHWe04crxAnAiCxmwCwCCsBZPSNAxpCOv8kCxnrVfdi/ceb04J9zCcAqWud6038BwCyQ4w1Q7fW/h1EAJKwlCMAK7Q2mL2sDwJmKJPSIAQzAmeZNMMZDC8CCsWQlmDjxvyRmUZgVGhDAmHFBGxeRDMDnY58MUCAMwP3ZceC5RdK/kiM1J7ewDsADlad9+jMEwIg4cwtdzwbAlN2zs4b23L9gnYdqBEPUv2Y74/AM7Xo/AU8ZqqedB8DtrosDYI/Bv0U20939Sw/AqmNz0RX0BcAt6A1Xa1AGwOo0T4fPx/C/V0tz1Qc3rb9Je2Oyq5AHwIAy+xXim6G/hBDSN3eG4L840Unc/wP1vxMOJL4xTw3A0Cyp7CF4+78+Ga6JrZrkv3fFjW1xHhDAY//L1JgX8r+oGnQ/kX78v9rJlGfWohDAqxFJhPOiBsAXLIvACRjwv5vt+RCTueO//tttAGH+eT+9owLRXKlzPxQWP5D2qQLADdISz8gVDsAoUq3z2l78vxV99pVrGb+/mt0QCHD85r/f7RcdGBXnvzDRbcqzmgHAEaFO2UfQDsAfiQaN6yAHwFFy+7RFY+e/+3v3fyiBCMC/sgRv1NMJwA==",
          "dtype": "f8"
         },
         "y": {
          "bdata": "6c1VUZUgBcCngbkE5ev7v3hKKmZ23QDAG43VpAzE6D9l3K6ZQDoJQBHND701gQVAzInosVPuAkCNQpLUYOT+v24JH6C7RtS/pYJALLBa7T+byeLNx2IFQFzEVYFyz/s/0j+3wyCIBMC3GB7s6ZfaP5QKGJSVDuK/AGceqt4m6r+kMMIMXe//vyUvLjLjWf8/bBALv/3QC0A5joU6ftIKwEtLF590FwnATrOVCBd9/z96YW8aeCsHwE35LbLRxPs/69AOjOwDAUDUy3RAjgHwP1ST7TNXw/8/zQgoAQLOA8BYfNvuufcJwBTSem8vZgNA9BfeZ5JD5z/7Ad8cMlwMQIVw8i02wAjAadq9mdXD3b+0ctxMpLgFwIFcDnn6BOq/16JHShk7xD8q7uuaXRT3v1/iK6Qr0/O/EnMvQG8+77+WwLN3RDiwv5w5orxe6wDAIjCfjO2hDkBzxdPouNkIwIZe36lJ5AtAsl01/+OX4r/JK7Td5xIEQPDC1Ty9K/+/H4snTfPiAMDCMcdO3FPAv/prouOKyq8/rsPU97qP8b+gMTs3B6f2v/9pgZSLZPk/JIbEIPRZCEBQI6+Nm8nvP5GQ13bqw/Y/sapoK0yV7z+OvnrGMQb+PyfxsUZByAjA7H8IeZFqBcDWvwHclg8FQH4uxWm39gNAhKRiOrc1BMAK4PHZ4PgIwB3B/ie6JQrAg9R6vZtsAEABL7tsyHLvP7gud/5rfQhAAyzKMNOz1D8jvluzSl76v3j1q7h0HwRA1BGtwVhEAUA9AWftMQoJQNmp1YqkzPY/qmrvceQcC0BBGSGpXCb0v2BOEO+TSAnAus5vfexFDEBzsHx+zccIwIcM5/wLduO/UAV7kw6UC0CN5kGwWFUKwCxFxIYf7uQ/sPl1p81nCsD1Hj26UjcHQF6hWTAzgPo/MO/X7mWx1b/C4DXUC2EDQMZHg8EUOvC/gKPeB6Fu/L+QjAl24evrv1UIEbjyEAjANjcNFOIFBUBxTBFyQzfnP3WWd7ggZ8E/Yxg//nb5B8ASszygo568P3oxLmeZcOs/iYOaASq4CEC8l3UO/TAJwHM+TQFhxgVAhDrRLDFjBUC1Pjp1WeP2vxnUn5lJfvO/RIjX3+tTA8CewHLmAkHwP0M8baoFSP+/EJiqm2oCC8Bk1oxGVcUDwODUatEoCwLAuvRqYswy3j9+HYDQMqQGwFdXMCsnHgHAI08/Mfc86T8JJH9t9CwEwGhvGyDvqdg/FVV79NdaAEC5JpAlT/XeP0yNJxab9dq/6FZn++j0BkCrH63PON4MQKn/MaLUkAxAUkxV0PCy0T+CHraU/08FQIocOUapJARAwvsARcNJ7L+c4DhZXeEKwIixfDH6jwbA+VZf/VBB/7+KXyA8QKPxvzsxiIXPLQTAwzM6+1po/r9eUkrhc98KQOpRaqnILQfANa8OH19crz/3nu1yEx2pP/wtSciYJAjAAYfR4e5r8D+Rd8e/N73bvwOCiEvuRfi/zrwFVDKUBMD7LH0VEDUBQK3zEuiaJvW/IjHIjF5OCcB/zIJhdqXVPwago8KnPAZAkQEb3Xz69b/2ePYtbskCwNzHyZoEefQ/GRJ6sW/VDUAwg/2YNWkHQM/6QcXgzAXAfN+zbweIBUCkVnJniRj+P24S2bT8TfQ/jY7zrjP04D9pIKoV4cMIQLMhoXemhbC/7DfgWk86BEDIpPAKJB3wv3P8QUSKG7k/CpgRVDMiA0AlYntUThbxvxtS2Y6g3wPAM0IIfRFu8b+y7edvVlmYvw7r4uHg6AdAoCr2r7PrA0BpopTdOiziv9kSwR5jBwTAmfolg8JlDEDABZOJy0n2vxESoDvbdAJAum1DJc0R/j8qtx5Y5ScDQIJJrdQIsQRA/Vtma2++BcBC/WdJQQDVvzxp4794MLQ/G8cAYqTZBsB0kb94fvABwDQe+ke6agFA1UqUNsaf0j+GCoKxWD3VP7jQEm/V4QLAkowdnEmOuj+H8sxcZQMGwKifNkQnMQhALhDc1G8sBcA6vPP8R0QJwJRQ/HHi1tK/lwRGRQY08z/K5ZsaOX4KwCbVrCGOowjA6rWEh6bOBUBojwYlBA3zP3DzI4iu8fS/wUTpqekNCcD8FtcLeV8EwO1kl/aRUL8/ncsOwp85AkBZExr3VfKzP+quCp3ZCf+/YkJnxFEUCcDnqnru2VTAP/cqtlNyHwpA1Jnthcjv8L9h1WNGsfcGQCUkp+lpLwnAUWfOfRkyCsApp0/jQoQFwLAT3teibgdAhYeqMu0h5b/DyJ9y/uP9P3N3hlfI8gBAy0MECwf7BcDCLQacYWbnP/9D/Ja9jOG/tPQeh/HSCEAeH7U9MRwCQBWGWCZUYQRA11YZPCbZ8r9geL8horD8v49utTa7mQtA6P40HF+PCMBmv8/Jd226v6MHBb/nrPw/Pzbnjsx39r96qaLpUyoCwFe6avPAKfq/WTZ2czVUCkCNVICPGw8KwMU2gbyUT/G/v7PvdUy5CMCh4k4OnfD4v8aXllG/5sw/uWtGuwbWDEDeegM8w7v4v/NvTqzzIAnA4RPs92X4CMBrWOXYUpgCQNNJzbRESei/Ir1DL5SH4D8JMTyvJukKQKLED+NQr+2/6Ua4MHfd2L9Roh68kyXMv8EjQB2yv/K/FBy3U+pEwT9AHUUejFoLQBo5Jedt/PE/cveHVaxIB0Aww7NHxMHvP0o6EPZ7NPQ/GFWqrqUq4L8atyqK6/r1P12Q1aCPaAPApb8LA+wM8L9BF79zx+PxPz8dtnBGH/Q/KXLjyI4UBkDATFnSDArQP4jee/vErQtAsYke3OLPzL/JJlXYqQvwvwygtrqUefw/uXGeI8KfuT/HXoRMTQ39vzKAAGDe6/a/Maf2JGcLoD+BNjY7bxH0P3K6vFg4EgVAlYYZYj/zCUC6zx6aZITuv2QX7z45DwZAPF0w9H3JBsCELok6f1Pzv4Er0jISJdy/MSjxqYDHA0D64ePgPEMIwLmDZa3KUfY/Tcya/rLWtj/886uy39MHwPT0xDziWgfAwYdMMnHf5j9fk5drDSkFQCelyd0h7gpA7+/lHhP86D+7ounpeh8EwPVciqhF2v8/vdH2ath0A0CVklL/yqT+v++JO5LtUAxAX6VN15sSCsBxAB1rfpsAQOOTzEf3HgjAonYDImCgAEDUiddyXzX2vzGESKpU4wdAFnXw7zVV8j9cIRyB8RwFQIVo082Dus8/Qdep/39u6D/+XCcoJZLyP22GFaeMbQlAwRJyvyUTAcByN03qoGzvPzgMRz1AEQbAoHBdr6Jp+b+3PytwwwsBwIEMn0Om7wbA0FzYsbLpAcCIoJ03AWUHwHDybA5AJwbAh2cWeyRpBUAljDu88uryPzymL+5RbgLAihSnnCHawz9UYlgWOK4MQEexhwvyF/k/pkmrK2zA0b/HqFfZOz8DQOsqFYFHHPY/q2ciQtNs678q7A90ZNvwv/LKU3sZFf4/xGhT8k4cDEC19ctln98CQAWL4mWGrtw/McE1Gwmxg7/yFgUoTDbQP2EMzGS4uwVAVRyQczuRAECg+tBGfkUBQHCuki5Whva/fUT43PfOAMBDl+C0J5zxv/DY1Jjdsf6/xjeWoYzPAUB7kT9XPjwGQNPg4YXP5QDARcpfU3CFyj/dsWe+zh8DwAlfhdL5IQXAFc+EbZYjAcDds0sIpecCQHDrR2sudgNA37UUUedLB8Cg01UKX5EFQNaQXfvxlgbACYGM9+IG9D/rrt6uVw/Uv/Qp/f1pCwLAJy66aIQYAUCWxx1D5TgGQCHKTXaW2fm/81YUZpEFAUB4W2cRT00IwJ8YdhivSdM/2RJzfDlYBMCmONyoo3UAQGc4MdF+wgTAiyHW769fC0CoBK2HWgD4P3u1sBZHZfi/v3QguUjp3L/rvXGmNdsIwLWnjcOmcwZANAAcQH1S8j9oA9fNKAQMQBYN6wNdQwpA73PC3Da6AEDcVAQO84oBQB3xZfK1uus/Q4xBqssLBUBhUSvsr+rUv09Z10halQ1A/MRilCgX1L8XG7mWowzKv8r1lQdiSe8/0FDKNiQ6AsA41NFnhaeyP4SSe9ipKui/bAfVh22bDUBKVfkJLCTmv48qQS2iFvs/s4yGfGfhDEDCjO2SupgBwMFaJYcnZAJAqIvquchfBMBjn0ltF7T3v5FvU8h5ZQXAytb3kDEGAMB243vjV4UIwIZsFNECdbe/cw9zw9z6/T/tJviLNRzMP7sh9g3R1vG/RtdMx6s0tr8VnCoVdO3zPwhmHhzMY/G/8HJCbNLR77+CZMK4k2naP+cD+LB9h/Q/RcJYEPsT/T/cjxah5dDMP2gSMyqBgA5AWQvx0h4PCMDC9zmsfs4DQAOXJfblSQxAUKfY0zT/3r84RVWAaJ/7vwCxtP554v4/r07Lp0nqA0Amuu3w97vpP/5QtORVzQPAOyFwE1oN6r8wmivxt6oEQLbcYgGVkQVAQkCj3i28BMDSQJIjZmsJwFvJ8thPNOY/Vlx+9cef3L8G3v4c6ssDwASGCJkIyO+/qmrCFPCnBcBWGYxC9Q8IQCKpRZmy6uG/WvKqpKIzCsBNm/Gc9Oy2v4+XY16s+v6/3CxxpPZF/L9HWSyBgH/ev0SOfBcTBQbA09o/whWC1b8FEQT0EV/xP/j3YNScLgnAIC5K22Fq8L+Zm0mHLKv6vxI7vazKmQrAF9V0mEiXAcDxW9D160TfP0orI8GKegLAxj+l2k84+T90UtEN8KvpP8Aijd1dsQFAwBfjBc1Nzr8K0EGih0aTP1KVP09leeI/fC71dPcc97/e/SeTNU4HQIKsIhQb9vw/ZCMIEVoKCsDjqw5FcfEJwOcoxlMugv4/wOvlwHAMBMDG/hu/0g0MQMgByGUjvAXASSIHSOJXBsAdJ56kZA3pvwSYKHoXDuU/rbpa2fsrCsC5iIyNUp8LQP17QMWG1f0/T7uzGFls9T+2+zL/iNgDwIIXATOQ5eC/QDsNi2stC0D5pr9zkz3rvwqUEnjF8uG/OOPb17iBCsBJtS8o4+a1P+P0lc84xg1A4vohHjReAcAY/7IWsrXxPziQpBLdPvu/8wT2fZviCMCcM9z5xPb3vwNyMpyDBdE/VHolEojsCcB4hhbWPOMJwMGIZDYVZwZAMfbtwopa2j8dGEP+MPj3vzqr6xNcCvo/WAHhjE0D4z/voc5q/f0MQCAyrfxrmuU/d6s7ADotBsCFm/6iLxjdv8JIaF5r2AJA3GJNkXN8/b+CnPz4mTcIQFhBHTr6NwTAfTCdtB/D9T9C3YRzrdnlv1LfIySJk+k/dnKbRrcmCUAMNPR8dHsAwGvHpF2P/wpAI46aHO5l8L/LoXLLwc8JwJGCCkiuDfs/mVT+EB0f6D/qwKLDToTzv0R17Dgo7gJAsXXGzhxWCcBZlxLezBcAwBgsGz9MTQFAFRSXR6pi978WJUTz+BX9P4zQDGjoXAZAxQGSGnPOAMCeqpn5cJT3P81VEux2rwfAr3s+0ikgCkA6GKwJJX74PzPjXdoUMOY/CTGgzZmW4L+Mk9WLbDr6P1IpGN4RqZu/MIYXaREp47+rcbO/i4EGQGsjxH0E1ci/KI8AdWcsgb8+0DuHPnHjP2fQnXUakf0/p5NtVr2/BcAaqfWKlmHnvwJnsRHFMdM/QPIZQgdS679chSBhGlL7v7xfgrsRHATAykRG09jN9T9Yj1sQVGkDwJBiQMvAQArA9hz3hd90+D8F2BfOm8cMQAYHk8+MKANAUyt6dkZk+z+ki/W7SLAGwPca9kcc7/E/yl8FNZS6B8BTfveU7IwDQDTqY9pT+QXAPP2NrwjFB8C7uqAOu2EGQFv++aajLgfAYIZiCZ610j9JmUnjibcIQGkduSm2//e/EtXMjjQVBMCEFP1lrLQBwBJcgU/4zuS/wNKSNK+hAsBbV6ABYZADQGJ5KzZ5MwFABYK0g0ym+L9RoyvCgdPrv9KprJmKvAPAAUoRNlPC8792KTgS7y4BwJGgQaRTrPK/QY28BqQe/r8l/zHHbMQNQDQsoRQlV+w/PZgfe5x16b/hKZ7y8VoLQBXuAArMoOU/WOHOOe3rB8AJKj2EQ/v1PznAvrv5iv4/wCLDbdAzA0APPggYd1EKQJkiB9r9CwLAZN2Ap7na8D8f4TJ9HCgDwEN2qnfoOgjAu/f4oxqx9r+SuyO5bMECwMzEClRid+O/urq7yhYn5z/tP+oc6RsJwAz5dyz8OAfA8ivaKNCqDkDtv4vE4KzmP0X9muIqtArAlJYvd/clA8Dx4Y+TaIHPP2S85902ZAxAls9X3TzGAUDH+xSqJBTkPwyTYo2m1/i/o/8fPgXsBMCeUEFLzoYGwJ6eWqM//fO/qO4SM1xHB0BXwWFItHIKwI4tJmYg1gNAHrTdBrfg/j8RzntNF1wNQJCpUpNkMPC/BWmdnnZVBEBz+WLwwNoEwCOwtZfIxwJAmKImAocV179+nsW/rhX1Pw4aX5KmmgFAUSFpbt19AUBl+LeNmCIHQKlQhb+6dNs/BIgXfxz0BsAeUviM12Llv00xGea5Mui/Ibcn2hTnCkA9LY/x5X4IQPQe4oslrt4/RsWD/JKv8r9H7p4tG1Xnv2fZaZ9H6gLAZXKWTG4g7T+vgvsoG6gHQP1dW4Ce4eu/YnAvpq7/B8D0GnUA4rXiv8HqoUXAAek/KLmvzJdP2r+EPsrGJjLoP3vurCvz07O/KbaCb9EIAkDbgBAB0zcBQM7TjejYIv4/Yd3Dd8heBMALk0OnHXH2v0iVhnzov/i/6L/2eEDs+L9eEjZBg4sFQJc5aA2m0f4/Q4tdwE1TBUC/G8aTLvH2P+gED4x9AAfAe6aHCzo72j89x3j21l0BQHGoY2XENve/IuZHp8fkCcAZRCs0yRkKwGLoXFkErvo/Kt5d98Is+b99fYirta73v1jm+FyrIw5ALiQUt4Ym7z/DgSOCCucEQKSha+sC9AnAnGJU5uD1AMBETjBxAmjfv2LCU0LwOQBAGH2pf7Av+T/qUtPCBgjyv6kquIuQ9+A/k9a2ivq99D/3vsj/wv0CwEYO+zU1eQHAPsrKFTTOwj8jVfDxQRTzP4J9K1l0nNw/xx0T9xuWBsCA/pAT9ZX6P+L4OaG9eQbAiVWiS+vB9j/XQ3CLbpYFwONUWVE/oOw/IamZ1gmNC0Abc4QWNHgBwNA/hreHo+o/zY0ZKq51z78zPH8+Z2AAwGf1J2Lxxw1Ats5380dTBUAvfcgfKQAFQH5QJKVU4/O/ZRlXymHg6r/T4FhbfdUEwBUUY80/QgpAHmH6hKMwz79og4O6P6TVPwihgjCKwgnAYuLkouwy5L9FSlEc+KvSP5S+FaPSMPo/JxRrdmsu+j/Zg8R0XZXzP6bvamLgPPO/m2rK0/SjAsDNFi7bTIvWv8vvRgvrdQjAGe09Pzb8DUB6w72YLysGQI9aqVhybOK/OxfDMbQn3T8lcJFiVmfTv8SYq24GD6w/vjeLDc9GBMCqnhEw+HgIwArtQWSZjgHA2xARhVPD+r9+2bmxBTsOQBEYpn8VHwrAqospmiCM8z947BCLoh7kPyUcR17Yhw1ADn+sLPwGBcAn3Bm1F2IOQL/D7y550f8/IQxodgY+5r8aMxejodL9PzGk1ssQk/o/A+0nrIGw9z+EI4qboAYHQI8J6n+1HO6/soztFP64C0D0gj/b7voKwIDKPAIbzeE/czzG4Hki+z/5+0havej4PwCWy53F9/o/V4rAP9t6+L+BR00eKjD6v0LX0GGbKv6/Kun8AN7dCMDzgYXeD2n/P0LkyrKTugfAYjLDmSCsBkDhcYMU+C/kv8/ITpr8+/E/7FY+1IR8BkCdJezc93XiPxcd3L79xf2/lqpGZx+KCsC9YYG+GcH/v6S4dcNi6f0/JOBUr9BQ+D83/IMrUGAIwKigFz8m1qg/ntfjpBVzDUDcjP2qen/7P6+EhBOGqgRA6rMmBX83CsCjvAM//psAwF+WlBfWBvA/a4+l/YgHs7+p+GPvl+AEQPVj2OCInwbAQT4yYqxIA8CxfI2EfGwMQNR5hHXjUwHAHO1kryo08L/eex/v16gBwF8nYaUnCARA9QqSDBI7i793B0rntGsDwMR+9Q0mMAXANBgOLEAq97+FgCDavUL1Pw69SJfnO/+/lCu8GbGW4b/iiDaSD3wJwG7+wtOgBQfAEK91wqGiAEDISFAfOdv5P7DxMVCFdgxASt/OHW5u6D8hRvGE6k0GwAVe5QQI1Oe/C+zX/I139j8xi6WsmjvoPyzALlfMwgPA99dyVFJWxD9PjS3zdo8IQNaAPGEOxNI/H4CVpj10BEAjRz1PAiexvzgCtCZB6fS/HVhVY4Z69T97rX6dtA0BwNdu0FWGqvo/bds20DG6A0D1gyH6HbTrvzq8CxezPeO/ELAT1+RZDEAKyNvDSlbyv1cuATqYsQfA0qhQ09w3+j83QNGbh1jLvzbAWUe0kANAEz8njx80/D8IXVMtCusCwGCZKvchlQdAK/iG4rrTBcAVybQBHR7sv8a5YMpR7QnAYFXSd5HkCcBlHUol0Bb4P99KTwQ3K/0/m3eZLPIc+b+bffGJeJj2v55Nh3By79y/qXpmgfNqDUBSeDend9oNQHSeJ7Karvu/A349w6vrCcDNh5V+wEsGQDVoBs4AofE/20+b5Pfoxz8sNZPjHHDsPwOR/LqJWQVAXo75c5yPuT/9BmAlc5IBwJAIYjqEiwFAF+upvnPY2T+LgZ/sDoL/v3Nz7bLqKAfAnOS977/iA0DL8MLiCX0HwKta0AphbA5ALxU/THYuAkDQJwm+Mm0GwFe3s2HrIus/Tv02IPqjB0Cm3S3LYDr7v/V6eMOKq/I/FvrW1mPwCcBMvxIP7grxv4ZpCxCQEghAKavmR0NF9j++GPddCPbjv3nBvYKmAATA1NFoavI5/D9PSjyXt68JwBKw5TcPR+E/TKXYHUC+A0CkAlLoo47BP9Wf4ksrSAjAf8ePmmsjyT96Yfvoy6L7vzYp3wIsMeo/wEaAPck1CMDKMANC2OoEwHkPCpQ3jfg/eIqhfLP6CEBEe0UKGZTivyFFbc0uS+O/kPua8PQh0L/KrsoYQAfyPxg4yDzpJwdAMnyvXCGPBcCOQq62hmX8P2nEE9rXIwBABuEuWjC72L94olSGwVX0v3Q7pHW6eAbApdqlnSgICsBv60PhbKcBQN28SzEVeAtA57x99koJ3r8RMHwAmSTwPz74iWlwN+O/IOBnsNL3+r+/a6GFO6b0v1it73RarQtAZYqOf+EZ8T+mqzmQBSnxvyBi6dy5swDAZTA0t2cv87/8/SCoZjrqv+ZlDZWyXAfAfEX9NjjhCMA+EbN+/P8NQIPjOFk/kwLAF3I3WvthCcDMeljusVYEwCvRJGTy9vY/lGUXKwGcDECQPmRHnYPwP7TYwF3oSQnA1hOxwdbLwb+gO6Yi2Oz2v86ThgzsywhAkUNpQr5VBUC7E0dPpicHwEqyPXc++QnAJEohkjSEBkA/hR2JXd21PyspPZKW7vE/7q3lL/vb6T+ywYUDx4fEvzglvwEfJwdA3DyAlZugAsCf7d0yw9nrP/KbASqL3gxAgS3mmecDDEBDdoCM82D/P2aC48mPIvQ/brBZ2yNd+b/6xt/9F2EEwL7tvvkAS/Q/5yTpLBOkAMDWrKpH1EYHwH4wFnOY//g/E7riajKF+r+DXUYUM3oEwCdO/hzxpAJAenm3z4Zd/T8zScMemN4NQDx4gGA/a/6/BvybzaEjB0BmdT7aG9Tuv7mHcHy+ztG/KAyMw8n+CkBJ0RAxjm/Uv8koVKNY1+e/ldamgt/xvD80DHP+Rj2/vycQPCPebwFAU8+0uNOdBUDmosAq/7kKQE6pJQAw3fE/dVE0587r8z/QvWAztAwCwJCVKR+n2ui/nd2XykfZwT/HLNFi16IFwN3wUcgUNQDABUEhvXwXCcBoKjrXG9IKwBm5AIJk7v0/HGBtD7T6/b+E21rfRUAGQPP2NUeHPfe/m8WfXqoN1z/G3eepnzjTP8N8iYd+b9G/t686bmME4b95iRXfOCzlP4N3C4GrJwbAIOoBQqaJBMC0kgTPrLEFQDxssqg5Fe+/EdAto0e1yb97yRFLCFsCwM39BAjteAHA4JQg/7+aA8CvBgKmvBv8v1MnltSyk/K/Bfe/KxARB0DbdRsJTG0AQCXAf3sh4AJAbry4RUPMsz9h9AgYOg0FQJLx9YOR1+K/feOUUG1V+r9CTfMGjtYKwIQStgrkBQPAeTaCvwJJ8b95/IFRJNP0v+/ETEPaAf6/NhLMUOMA+D+hbg2oVRcHQHUas3rSBPW/LtM9ZyhlCUAaUfc/3F/kP8RNNZ6akLU/FOAcRUnuCMBm0sZ4KD8JwJPWYMkYnARALGfoAvlmCMAoIcJL1AHeP1tovTv3Uda/sGL5MPfv6L/zDtikQd3wP7Ot0JMKr/W/bNk9lvbcCcC0CCrOP0K0PzhFN4mswwjAP+NUAIYgAcClwKfRVXgOQAs2lqz0/wjAA4M7Rad8CEDVN/cMggkBQBSIR1J+OQjA72dk4oDACcCuj2Ne31/fP+2sccwVlAlARqho3vMF+T/5e5LLIykFwC0vgYRMVgbAQDhQZ0Qj8z9WflEOLvQCwK11LzQ6igVAkNrhFGYODEDTEmsUmf8JwCHWGjyXsOG/uW9WRcvW8r8baMde/i72v9S0GvQiJvO/8dcJCLSh9D/YkqWJ2k0AwKIQIf/2x/O/KUSkF/hsCkAa8UUFo+QGQPUbhcymbAnAun6gUmtFwr8upVuIcKIFwCNMr0bXU/K/VDEcHFD3qr8LuIZDGCX/P50hT+e14AlAQKKsnuDL6T8vJABo2jkFQPUpebeOLwJAxIOicmzFC0DlnOhQhxYFQOuDo4aIzQnAHNC3Map+sL+GCZs3UGECwBlACTKdu5U/aM54JfDeCcBQ5tL5VhHcvx5hBNV8L9w/qx02R8Ja+D/mZg+jpazaP3KdBfq1w/k/9zuMs+jzCsBlxqpLi8v5P4QUVA3eE+C/4iWUxrh9AkAq8R7I+CP0v7nYUNx9wwPAl4vvZYtu8T9glQNrPovXP7iqK92v4fS/oYw440C1yT9LsrPxv+YDQNqPdyu+Uek/CCBKEQlv+r+GZQj2GiQJwEZl33LIg7Y/hb3PczEz+T/tALzJeoD7P6a0GWjAuuS/3Sq29oQz6r/SnIVgSMkJwATz8j+IZAfAOFr1Q94nBEAWmmE1y/rrv4L0+L6LxfG/6eNu+jq87L/YiewV2okBQLitN0yeWgPAxh+lLMNE67/K/bu2qYj3P7TQXrq3dek/ZCFNmy+/CcAV/xDInWIKwFqIP7NTEuo/VNfezOIX/j+PsVwB90wJQBbOXA/qqwVAWbKuFbPaCcB4x2GCHcoKwBcRvzSLjPE/sp+t5/994L/pW/Bl2UTWv+tuffrR4wTAdfbmhcY2+7/8o6MHX87xv9y+QEwO0gfAIjuAX6wgCcDAcUfaAsIFQCTz+XdIj9e/C+Ht1HQy8T+QnY8d6hkFwHEZrBe//wfAqBCcKAah3r+Yl39AstMEwFZ6Q0FXlw1A4Rjq4n2SCMCwUfiK81v0vzQ3Xg+mDtC/6FDW757Y8L+3TwO9kqUCwIVqnf96NwLAM/fjewP78z/1V4xmBX4HQODyphjNxwlAMHmiPXt7AUCOHStJki8JQECc7RwZSwdAhdzxGIdG+D8WCxDyMh79v8XmAJetLMW/YmMxCzCMAsDeDYUJ5ysDwHR5ieJ/UvM/t3mVOZqY1r+iT9N2pqsGQAnsGyWWtwfAA8loZ0kIAcCK+hpWUy2qP+IGiy4yLgHAvtrMKa7p5L8RPqkqP6ECwGROi0gmoQrAW1FH9Br88r+ZqfiQERzlv4KGJQz9V9U/hJa5qZkRCsATDUWc4wIOQKJmKBZQnfK/ova4sMLvAsBnVa1Jhfnyv0hOqoTPIQrAm6Ma3MkUA8CjJKQLesDSP0IYLHiX7wnAFsEKCIB6CcCwKb8DQskFQP69b9DFEAfANT+UuHhYB0BqmrIouPPRP03kTsfsNfy/BI4htTVV9j/s19dNpyQJwDHfqVIAHO6/QFKhDvBt/L/Z8263SjgFQHsUB1EJUPq/T07t6qCS9T/gsMbw5BXWP2I9Rk7COO+/QeYAbJzhB8CEAXo3awbpP3d4BlGhxgfAWJdsirZd+b8VdxRx0RLjP/9Qg82CAADANwd/fGf39j+1ErsnlHAHQGkN1CJmSfa/0pDznT9hBMCZjV+jsY8BwGY7fyihQAlAg0jbwy4l9T+5iyQ0bQrTP49tHyV0286/pwcgd+wc/r9r3a4GSgEHwCN7JcERR/o/tgoBeJUICMANCuv0v13tPzoAIRnfsgXA04jU+uEK/L/hCSiyOQoKwHSFPr/pYQVAW68IZ8WN+b9p8cJNw/IIwPr0SzkvK/U/xS69FbVuB8C1DMklhFMCQKLvTE9Fa/C/Q0aLr2+bB0DHCLMX90wKwLCNQ6z+dQrAZbxHstKF87/yl1fHMJL5v0g8JRJOo+s/TcM2DeIG8D8TboE/l7f7vyrD9XHAhgXAFClFJwes67/MalGvDwm8vwhopSkYcuA/9sSkl8ag/z+UPYVcCPYCQDVnLG5lvPW/ShKuIIzICcBInPWU0D8CwKeT9Qs8YQrA9rAz8XfMBUCJAHgPoFr0v0xdlRmMDuW/tq/O9KTGzz/eFf89iN3JP70WBOFQ9uk/A8Gb5H/SBsCaulLt+xMFwOwYko+xLv2/6ZARGGZeAUAjxl1yHvoBQG3jJB1M+NU/Z2SofZuMB0Dqvv+4HJH/v8QLbTj9zQHA3mv+a5O9B0D7FsMowB8KwAcUKZ7BBv4/NV7h30we+D82V0Oz0s96PyW1btXBqcq/WfmzNHAN6T/qKdF/elYBQIrUSOT/IAbAOcwdU2zS7D91138Cvp0JQN6I1VtJvew/XI7cfoqXBEDYYMk33PEJwOE1oggf/Lu/vxZvgu6e9b+loxW88NT0P+aOgY3wkQNA/ZZo2w7tCMAuBzAkMGEAwNLlg1hbeAXA/leDNNd+tj8ufX6FeDwEwFEgltGwVPo/wNPglD385z9kbsEcFtjWv/J9KeOUvQRA06eFa/xqCsCWOAvvW0ABQBw3ggfQAtc/mnSp8bm3CsChrbJwdRsGQIuNDDc7Dfw/vAZA5zvLC0AsJT7009D4v0G6NwOrowrATYDOKIoC8L/ZJOx868sKwACBwmYIne8/ntG85AV07j/Az0HmGAX7P82diQURrQrAlm8w+7VPBkBsIL7Q/zD9v/b2ryTZc/u/BX3D3V5U4j9NDcWoKc3rP/NNsPppLwjAkshRZbRLA8BHoaLYPbMFQOfsjWjkQAJAcNEvmzoXy7/fcwNxpZH9v2CjNo3pqwpAYZ/NE66z+79T57kovNnuv/sScF2W+/m/5H017MZh6z/fM+9m4pb+v1oV3+CqRuQ/c6hM5+Xs+D+5ceh9odIGwANbk17alts/Df2Qqh2hCcAiJH1ZJ1EKwL7178/74gDAdBhwcM9mA8D2FLtRzoAHwG0cVtExkg5AuvAIpUEADkACI2aUyrIKwLbMymP0hwPAUu0/ROLlBMCmdtW13KAJQEcxoLcIMOE/7InpSr8K7T/nvZ0NBjgGwEMOGcMidvU/k+lOuA5A5r/UIJNTZxz6v9hDz/ACk8m/lc2wCvbE+z+4KfcvipUFQK4YqrzAawbAjin5/H9T/r9dyu4AtLYHwGOXxQZju++/zBAojSsCC8BNt77cX6D7v24ABT1SleW/5s+BCYWRAsBsXRdZfdEAwHKFfgaSaM0/PV7SpGJd6j+mrJ8/hZoFwP7/KxAtzgbAwLbZNoOa978/C4g88pvwP2tduFkH7QbAs34VTuirxz/yctvFqGcHwLy1zPDDLfY/QZ9BlJaL8D9dLfZPUfYFwO9G1l5KGwBA+eJ2GkBj6D81zWhBZGYHQGmENLXlMgZAgegYK9us4T+x4BkyqW7zv7mzSx4GNATArnDYr21R6z/K5yZyw2MEwOcSsPp80fk/t8SnE75jyb+hW7x8hdcGwJ39GzsLUQVAPxR3Z6Cl4L+2AEMuxLEIQOfOR67cGwxADHL7vI8u7T9L8gxU7qT1v7O8Hf7Q/f8/j51v2UdY8z9qAtMPH4X8v/c6SnaFqew/Xwn15rJf67/0+dK4Zn4GQK7AfiFsmu0/DBfRXZlnqD/JZoWjJVLjP8+/jLFCXte/RVQpItj2CMA3BvRWIXMBQPXhSImhZwVA4UQ78MeV4L/MvBYXQhMKwLw1lHja/+I/foYLEO/p5j/ZfBSPWEDKP4mRNFxYofo/FFdfnLElCsCg3Hfz0gsAwFfscBNh4QNAH5UT55NnCEDmZI6DARvbv9iwFEgmB+2/bOk0xWfd4j9Ma0Q5CmYJwAD/IjQqWQZAVyuo/3jK7b/yxDbbsnT5P3cKdq0XhANA3zraA6tsBsD4vHM+vwsKQJEY+KPUfuk/bp6/LuN30z+3NG8CcDjwP6Jfy3qv7wDAZOf37Rjr/j8Lv0ORtGUCwCvxyaCTmfg/s5BQdUDY/j/1XGJPiGfzv9X8GSCLm/q/y8C4+jA8+z9wkUVvqM7vv/SbBuGWU/U/L3UJkdn3BUBRrljK4vYHQJ+TAnc4QQRAWm2/MUM2CsDNjUJMIEHhPz9DO2ygQQlAgJFCyFSM0L90kxxkEZj/P4CN9/l0GuE/3VESXU/E8z8zwd1OgFUHwL5wDXKC1wLABkNoTmntA8Cy6VdkOUDRPzmlVaflqwfAbmtJsqMcAUDKeNqoYrYJwOOMJzMkQem/yt7s2HgYBMDjlV1eAGoDQGCfdx6xDOI/yhQ8lhPluz+j3aRCK4sEwEIH94dqwvS/KCVkG/jXCMAlRRFJrXoEQFy6To9xNgXAM9N4f1FMB0AY2czSpckBwD1/YaPdWQ1AieBX2Oze5D87C3t5fOj0PyF7T4VJWAfAr9IZwTpBBEAKEALtM8EEwP2z7U4eYgbA/QjChA28+b91kVAGKtoIQDbPJEtLFwNAX6YrJINUt7+qyD/Yj3IHwKGx/VWSfOq/c5JQCFlF7z88ntaSykb5P0bqvo+F6gtALoc2lyL4CsCBwaOIjgIFwPc/9BqcbAnAkPYz65B6+7+X0VxymHsKwDGTLa+/MeQ/YniVQy+UDEB68AWIu1kEwBSSQcG9FcI/jaFeNejK9D+txeqa+kj/P+BQ7pEdrApAgJSL6C0h8D99f7nu6bAJwF+dE7kYb9i/bgryEmlIBUAssfP0TeMEQOaTDqVVGQNAry/DgXyiCMBq/6HNa+7tP5dRzkkLFdC/0pAzDMdRCcDZ5C6t4B38P4DtaNnH/64/92QWa+83CsAZ9LcgHVQKQCe2jQxoitW/rSAqwRjTCEBl+by5gGsAwPq4taE8AwlAFL3yqyUA6z+aW6tRHKn6P9iZ4hZd7fy/vk4LNQh73L9SJFKLQCcAQGM881P+huG/S4QPgQTAB0BpsNJMpvYIQArOIFTT7AHAmxY9/Tfmxr8XgsrOwiACwNvwNiMCuwnARvI93ZIrCcCDXJkZKnsJwLCcYxiU2gpAYpcwYx5ADUD34Sy7jbcKwDNYViHTzAfAOgzAvyg9CcBX5W6VfDD7v7MfKHvtf/U/1/y668ekCcDlv3tWNkvyv/5642AvQgVARMRDKQr5BsBbvPq+SxgKwM2hmLZsdtc/W3MV0W6c+r/wMUYOBMwIwHMdEAJ9juM/yt+PUTG2CcAsYVWNmqQIQMxwSuumFvo/85K1ZWn96L+jrpHFgZYIQMnb/eLfVAnA1/cGwGzjAMAWVAgihF8FwJIry26nI/G/H6R/gqct6T/DzkO59O4BQJjcZ+6A3a0/UmjL9YAlA0B0Ky3nzsIEwPJ3asWlZvQ/LYsenXQI/b/OGO3x1nIJwHUzjNkwnAXAGmhIHIYo8D/DkPC68YHjv9dEPaDQ2++/7rhzeZBADECfHYQVQYwJQEWw8xmOx+4/5LbTkzkp9r+zyyoMnE7yPyg/E2gpEv8/8DI4sJS2B8D9czjhsPwJwE2yTA9+/gfAWMSlyAdzAsC9u8hycDDZv3NImDVRPts/OX15UJA2AkDwj5E7fgrwP3onWXxXjsK/t6fAgBoK9r/ZA7V2k5v6P4z2pKtXz4C/78biVjdB9L8Amm4KKnT/Pxp2ov40cA1Awx9hKiwQCMBxttf7XEgEwJKRFtoEvADAjtS8gWvVAUASOYqLFo0DwKdfLQvZjwrA8Z8r8y/aqT8DIkihtYMAwCmO49XjFAbAwE7sZBbi0b86R88P/E8AQCMKr2FSfP8/yBf0WLkN/z8zJJ9dFkfrv2t13nnA8eM/M9R75x0W8T9iBNwpkZT6vx1BBZtQmvK/Gd2VmXeA4r/uxAbnSbDpP63Gf+Z3aOO/yQLDIzSm4b9oCtCfqG/pv22ye4EauwJA9XbyrLrZ8D+jGRKBD4jmP7rDBst9Y/u/C8sj0OZWBkBjZjmmAgHwv1boKVP+gPG/pQgrVxnaBUDWrgaQKRTqv8z9je3GQgnACff/9NJo9z8bVYP+QdQBQPDhtBHiyvk/vZQ6Nq3NBEDloTtgbocHwB5JVkvBBgVASR97AQwKDUDmzkVxuS72vzesaqBS5Ng/fc48QJc167+KoLGRfdEBwI0BbEKqPwjAYKD3I9Bg9794Zkx2VZT4v0qvfWRJj/u/Q/3HN+w+CsAWRGFd2GfXv0D+xy9gLOQ/Ja2COclpB8A5izdeEW0JQGnW6QmOavw/Yuxk5evABsCnnu+fr3IBQO5xn3s1dAbARqM9zBU/+T8diHqHtmnJv2WUAHbKmwJA48i2BHA8xj8Zt4igksn9P1t598UkIQdAQqLJdJ6I8T+aW0IrgB7vP6/Ycki4zv6/mB2JKR9K9r/zB3wXYvIEQIqqtLEa+P6/irVk1bYR8j/qXOw2U2D7v2uQ8xDjJP8/SF+GlbZN5b/vD83/dQ37P7/5QCbkf/W/Z2A8IZFOCUBpI5FkKVXsPzETvrsB/f2/kTO3nQth+T8qkztqFhTdP3c0dAesNw1AkJIpg5pO6L8nwr3iknnIP4bSea0a/9Q/G+NN4YQ39b9EKMCEJ+sGwOyHLqdNm/a/J6PD0Yu58L8Lsmk/+inxv0Z6OCo7yvw/HeN28dkK5z+O5Xmm5cvkP0+RDCxSJQdAVIk+OuJwBMDT+OSMkvMFwMfaXjyRwgHAm4h+nrKJ779EjTbyfW8IwOVsdj75MQnAwI0+Wk1bBMByC2swhyL/P95KxZKhpgLAVVWmF2uo9z8oOP3OFksEQO3XqKQyWgjAKYCroR9M/b+wGQeSt3QDQALDI3GsYArAphwzdIjtAMBhC6jq9F0KwFeLqe7ajQFAomE3YcquCEC2OmZPbCrBv2c2Pcz90fE/M/ktMvnhAkBUAVRjyJn8P9+YPyVCHQBA7/rqUPRrAEBX0GXaasEHwNjPFVvaOALAstBGzIPKzr/IGncoEXIEwKFSR+FzMPk/w4Sbh2VcAkBRWQcS7WkBQLv5cFz7vgXA65gEbNJP3D9KaagPDxvfvwxHkk2Vmdu/sGR3G0lZDECpUdp4tkH0v/NQ0ME0sADAjyjYp7g+BUCnkSM3M/PwPwAtX3ICGPi/cCBU/+U667+KiuzJ3VHNv3Em3EouH/K/9KEQZ5dyBsDfCrMkuTn5Pz73EQsHnuc/ppHPRVl3979gNn/dP08AQK7tGXLWZfC/+9lRBZdZ0T8++9X3/BcGQLgjmLQ4BO+/Z5+yMts7+T+cAeshJiXQPzf/jf+JDP6/3tiv8L6hB8Bo6e3TsM3jP424IALrw/a/uu1trQ7vDUB82F+e15sDwHHxDfRwZgLA6x1TPDUG6D/cN4xrLyrVP1tZiX2zJPM/JBXdf70m6T9xBdAvyu0GQJmHbqf80AVAkW0bXVZZAEBerVCnJLsCQE7GPDBYqAxAJJ5FNhvSA0B/yGsq2pbyv15iZY6s7f8/bwq7AoxICsD6UeiUMZ/hv0HuAHxqkvM/sqZFBilQ77+LFuHHP9DNvww38LflYvw/8etS6e/b3r+gM+98axn2P7v8CuMKF+a/3YPpbDwI8r/ZTHjALG//PxL60AvkCwPAlQfkJNfCCMAEhDhU8/DzP2XOXFr78fE/SDQhINoPCMAl8uRHhlMFQEDb640wjwbAjBVcuiapBsDoAAAxxarkP2Z4ArFInArAJVarFtNjA8Dzm7Dy3okBQP0tIKjVXAjAdvozRkrDo78oSiuPS/Pnv1/fMZbfhwdAb08wVPQywz+sh/DYwSQGwKaPZhwahQfAsWWAu27l8r/vH6vSK5bmv+w6iak2KAnAs13m79n9qj9uro/DbOUFQLkHKnk21wjAzkU/AR+HBEBgN7KLFKMGQCY0+Igu0wjAwVb2kPk5C0CItPgjoGTpv5s/ArubC86/7AqamOXv9z8FlwPbdngDQGaNg/l5hQnAYl+drHDf6b/Xvoh4ZC4FwHgAsf0P3/Q/ELcnG4bU+T8Q1I03EIQEQIvF8sBRlwNAxEmpVnUA/z/16FS3R/HWv5RSShn3C9o/wzLV8/pX9D8Kifm3nKTYP9O/8mHkOAJALUy9ZsOa+L9tvMVs/zT6v6ZdUMxrFuk/ur0c8yPSBsBuQvkArQMJQES+rSVQsADAc1Y2DVs8CEDnwVylo6Lvvx0ucsVA3AnAv7vgZIJjBUAL37EZq6n6P2PL4o7ZkAHAtwbacy1d+7+KZhH8NLf8PwWXehE+FQDAda9n8b0mC0BcZ8QhzqEMQG8MMwe7tgXAkqxBYyO4CkAJ70qded73vw5zzR7eOwbAGT59ftXq+r+jZrIdoMvuP9UGC5Kak/Q/plKMwL6MzL96y2StAcMJwA6DnIGMm86/fLh/jHEWBcDNA9ZhgqgFQNplP+6R7fe/C0J+rEFd8b/PDt1e50sOQDcMVpTHu/0/fWMtki4o7z9Mh4nlc7cFwAneml53VwpA4hjiu86+CcC0dJ8tzoQJQFBWfTWVMQVAPfm2DfjQ9b+ThwPpJJYHwH+pnzcZCbQ//f1d0GX+8z9XypHHEPIDwBAliV0jfwfAMmjd130PAcBhf2N1V6cAwHSjx3wLaQVANwsjUcykCsABOB4+Srb1v+p5CoIFGPM/V//PCgMzCsAECy1RoJYAwIU/0kBXCQRA6Or6IYuo+z96uXmDTdUJwOfVsDDnMN+/ZBKlIjvV+T+tEBi72ksDwCdLFRm65fo/YvfgeIhkB0AU9OjOgKAJwEVyd+V51di/ce1YInM3lD+4QyJCSkQBQP9Zt2/cSNg/3s+H/q9W7z8aHviX02fWP+3j68vzTwVAm5KFJSJUCcDJ0cLXklrkP9pftAQctQdAXT0YPy4vAMBi/wgPdjgCQBta7Hbil+C/FGxk8eS+1z+3iTWUmFb2v9TdfQhqPgrANN3UhhLp6L/lkVqoI0jOP4JmzwSrKPi/cCAcrZ8c6L8YMWptMp/zv7yEIlBw7wbAgv+N0cYL9z/dhOnjCfoFwJns0TS2UPM/OlSa5M9nAsAe+ZUHy/Xzv6acZtJMVQrApRra+5qaBMBymboV+d0IwGEmDX0NkgVAw3I2qfhQ0T+0EHCHuAkGQKRKo675ndM/Dp7OPFxpB0Da7GW7JUwGQDXTmEHdJgbAgE1+Thv/BEB/AwvvlTcAQLDlpAQ4xQdAUn5nAzkdBMDJ2gBO3nsFQMikbXyKcPg/IlZjF48pA0AapEMp1aP1P+z34rhXsAZApge2yuLmBUDg8vJzi86hv8DLeM3aYQbAKmtabOHWA8DNByOw5y3ivxL4rLR1PvK/Dee8/wuw8r+/owFcwx3XP9TA7imRL/8/KMEEo07l9r+dxUKH4QYAQN4jOwLpcLi/GNVqbNexBcCQwvvIUGMFQLpTFcseNQDAlxC/m5PT2z8vGWXeTIEJwBc5zHiCcPM/uYZDwzjQBkBkexGqqDDwP1HBDIcTbAZAAzoutT6h+L9xCph99Fz1v16dAmbqewDANDk4v6gI378Rxa+BWoDqv0I9gNm2HQpAgCbs5C+AAEDASSfu9m7lP39tS4J8jQdAdEN5sfSm279sR+pTRC/oP+1yVgcA69Y/ej4xy6e/1L9Kxj26N98AwHd5N9m/ZApAxvUVVoW0BUALQ0DBllP5P76bL4f8PwFAXGETFwmL9z972jEMsB8DwNlELNPuSwVAiQdOw1dvAkBYpebZdQkOQCGQ2zdU9gxACVKHo45h7z/k735E2GrwP4ejXxsJRP6/CexURJUy/7916ER8lJHkv7unNMuQlOI/Off2o/rt/T8zGHBvgSUAQMcXgc3YrABALgD73tf60j/L048tVQYAQK68j9QGrfk/Sknk3cEC8r/cRaOT0Rb1v8s/DFfzYQPAvUdL7ltJBsA3dkz6W9YGwP+XL3CcWfc/jmhlm1zA8j+bk8/63Lf9v5Pxfpk6PwhAgyHV9lmE/b9zDdTk/ljxP0Wi0fGhbfi/n4a7dvmd+b/GbGzxXmYDwFP8HOgPSgrAACcjcmKW0j/eJvSO7QrovwnhU5giPAnA/oKMvoo7B0C87NY2En/2v2ON+PVW6eC/l11C7JQD7j/KFtglqZYNQPRBJ53PQwfAfzzpDEidDEBK7oEb5BXhP41krlh8k/W/qYJFwntBC0AuHsMwnYP0v2IVfklBZgDA51tlBPPRAUCnMz362EMDQDGE7kIYtQfAjSbUEMyX+z/+xrq++F3ov5OImu/EIQPA2N+0ksby4b+YZRdaLXLiv80mEppvTQdAydh+lRwhBcAArnG9H1oEQFXXXFnK7wxAFksvZu5RCcDM3UT6UaPev9OooWpWJgPAa3m4uyU5BkBA21hmZNHlv7m3hj24+us/PNTZ9DygCUAytpWzZeEGwF2oAM0qZPG/9jeO768w3b+0g8Lz7yHnvxF6aKjZRvU/BwVri/Y24j/noCABmTgEQMGYGArSa9A/g6kcpyX5CMBc9v/3aKwCQEzH//hEPwBAyCLW/a3cB8BzIWfA4ETnv1mvWsw4rL+/txIea3XcAcBXwQI5SQb5P53InViw/vI/WZehsiTdvz/i33pRAmf1P2mXZzWgzQFAH4lhlID7+j9uQfXNwCcAwJcfaR+1g8c/i9aYBqMmy7+uupYCBYAIwNFh+VIhXAhAuvTf/kIu7T+LcblHg1gIwIueQMbXCgnAF+gSI0x6C0AqtpyW6iPvP9jgijIP5+Q/6wKVS7DXAECB+TjX5Yvbv2hOlzrLMAfAXX5blKSNBkDetd+53qvrv/PFlPZyB+S/WwpgmMcUB8CkVAIYgHEIwI84MZAkcgVAC6Y/bZtN/7+GjXuA/koEQJEYLeVSi/E/Q5CtR/Y94b/4noNHiKjnP6F2YUAGbvk/gSCDc9mf4j+Lj0dLwCbVv6qET2Q/uAPAQSdMVzM56z8g2Y7HqjkFQNUVoHfpoAdArOSxFBpT/7/2GAIy8yT8v1uCddP9c6u/2U1breMa5j+bGOzvEDIIQGdGYuYE6v+/XADjw8/83z9mzUrWxQjBP2zzjr5d+wFAynmZHemm/D+s6zo0suT+PylGwwp4Wg1AdThW50rqBcA1f6aEN/MEQBlP/2H2xeW/ESWl8UZj0T9sjOGnrsENQIRDO61XiIS/55VwgYDACsB+I4CciBv2P5ui0XB1Xfa/qBzX95Zp8b+7qTKa3/gHwMX2r2eW6AJAy6kpjH3cBcB6XJ3OspUJwLoA6rXbZgZAhC52kBAYzD+UHtTFpRsCQFJDdvX77to/3S7vhgxzx7/ypjU+Ksj+v+d0F+RcwAdAogh8vsl9uD9PvvG4nz7wvxTMnYNSYApABbuky0Cw9z8aA6feJ1MFQOOqmnekjAHAiL1vmt0iCsAzLsCZbWL7P+NfjqzwsOW/083PmjGICsDA/6cm+IgBwHp7oT8wNcy/m+r0FVStAMBR2UHXbG7vPw7r4IuMl7M/Us3XlB/15L8tw8+nehn8PzqUYP49e/Y/vb4gILJm/j9/nuAhDXbpvybuWYyuvOy/gzWRZS+spz8nIqMRv0P1v1jrr3+8MvM/SUBsntP5/j8JdyJCm54EQF1qabc4NwZAenh59k7q7r//XhMyLIYBQKTPRmJ36AfA/nKMTByC4L8KQSlIgYIEQP5ZmA/2U+0/d34QhwAf+r+qLQBvQG32v2eXrzaRrO6/DfGmmu6M8z/kFvk86p0DQEt5ERQQK94/j3Dhsv/rDEDRCTKg6h0BwMfhjhUkywNAP395VRZOC0DIzg9FFrYJwK789FstqAPANtDAEsEKyz9qxu773JTnP7N8AGo1Lua/c+5OaSRwCMD49GS3HMrIv3BOTSHaRANA+SBVxabW97+sjVtStpEOQPYNU0gGqgnAm19l/auxAECkg2/u+fP1P50FkkKzJgfAjpLrOPbcAEDTncgmNsb+P6f7AYIMR+c/g78b1kJ4+78KM3ZvdOsJwDeIR9z+hPy/OyU0Pz6K7b9RM0m52SEKQDcXuqz+DADAowLEEzTg+z9o6tAk0NLxP8P0cRmWygbAlHOnIp/n/j9jtzpBfvMGwFklFz35Xuq/pLtyAIHUBUAdPfEbM2QHQPYezFTbXARAdKaFhAMYC0A1zJg9GngDwD23mbmumf+/QUckyyLpDUBvBiOVRNn0P2QxKEy49/Q/Zz5cA/JMCcDZxwZCjnXLv/euYhh2Ptu/bxho5hJ81b+GH1SgxivpP+xLpmce5+A/CiBTnFjw+j+KhmWuZDC5PzmfJRHgSwXA88dCYMxdA0DtYTXCv1gHwL85eGn/8tY/kN3Apn0PBMDH+9+Ggmfqv8nRkE5TSL8/n/GhtrSg9T9PTQH4guXnPyO0awVsQcg/byoPpMxdCsBXSDC9uwwKwOflXACF3AXA/GVzuhw4BUB9DyEj2A/6P+ICmMd9lvq/03iIJ2Wa1r+cp5WYU+zkv/5lMnyGF9k/JjZyF/2GB0Dre/zGghDwvyOiAgzskwFA+EygKY/t6j8wRo6TvtkEwK5bBDrdefu/b9h4PRXP8T8ykSxw4GkJQLJKySO93vy/MXpaqiOM+z/m742f9DYKwJQzVCo2+wLAc3ir8hM2B0BzvEhZ36yzP9aW+me77QRA4ra+TMnACUAb2zq3zAvTv1slkwuM19E/Y5jURmaL7T/SgPKkl3v7P737m3isGwrAoP7I3elj97/UyI869mbxv9ANe1VToABAGNpR3OYS6z+XFihfrZkHQC7G5FwR5+O/Po2gWDgU8T/qmIKu1Hvxvwir7iECxfe/ryVtnFnYBkC1tzFjk/2yv+aQ33c5sQfAtbFBdUP+A0C3i7BxnFT3P+F7cYwFHA1A6ALKPug7BkC6prqrpAsDwOh4j47e1v6/qrN1N9A+sb+LhBbml+8AQHL2Bx8vXgBANJ75BtcQAcA4HZIgXMULQIXhRfQarvw/ISmS5w/mCsA/g+3kI3MJQLanKP+8Ava/vC8fd/Hv5j8JFI7U9T0JwKm+Z9GYN+k/18tbzB45+L9rG/mgxJwCwALmwXDsrgbA6ODQ1OReCUDqWX7oO8PivyJxLlrbHO4/BATp9X9W/D+VUlIB/GEDQCzsyIVmxv6/cMgx4exO6r/Da6ZBYcnrP2YgQMy/8/y//pbk+mPr4z9r838TQCmtv8T0EHsJ7grAp1ElKJyExr+8BMa9pYn7v4zlj81ypNc/LvSYzNok/b/cA+i3/+nvP+WClS0J8QjAU3YrClgG+L+IqylC8HbwP/ZgkbVBj9m/NpjNGsA98r/xjAg62QX4v6+q1KL8JOg/nllXhaUlA8DtMFeh44oJwEV414rrAwZABqgj3b+NBsDecWqIuYP1v0OVSLBfANA/ysJoRzoczL+FjdXw1LUKQLQqMDJKWgPAJ8jKNdtlBMA+LQFkDCkHwHJ1xdpbOPu/q/22pwGTDUDGhoRIVDsDwMOJLn+BxANAdmIHjcMdBcAoD+kxs9QDwIIkRaJzPPA/0vFaLVe5zT+Gj7nULSkAwMawl89N4gZAmldKt/io+b8Tok+JSzEJQE5d00RAdAbAbiARyCp7B8C9zmkDXf3TP6XQkdVCXQ1AD0NtGWeaAkAsFuNv5CUKwOOyCnY4LQfA/c5OJvgUCsCSmV1iO+MIQHPiPgQOSwpAzGLL44APCUCRff557NkMQCOPeh8tPAFADX0067ahAsDegS5+P8Tzv/nnbu9GWAZABNU7ak0W6r8znTAlYrAOQB6TBrxE4QRAqq4VrQYNAMA49W1xOkP0vx2GIaMnJgpAeKmTs/ZLCEDfRZ+O17gKwMDA4Qno4wnAlJRQLOlEBUDJKPGut4/pv7QsJwE/HwhAELLMwOAp/r+NILkp5nTaPwbTuc0INvI/R9PCTsgjBcDWm83AiSL/vyDNIa3Egdg/9yb2/xmpCsDdUB1o/cz8vxbiw/V8Mv4/2LjgEAeYAkAjQ0oHS/YAQGeb1f6OhgjAZUjneMSTBUCo4H64AerUv1w0ZAbtPfA/tae1KTOg7L8d+nZWum8HwFnAOiDofgRAiqtZgXFv+T/aUozonScGQD8YTMGKIwfAbnSnrDuH1b8gGHFkWDEGQHz8q7AfzwnAQtQ4o6X7+L9UB32fNhj6vyNHGrWZEgTAbTTQEWL6CMCaqH+BcDQEwEuS5t30vwnAVRN33xQaBUCVwvsKown7Pw1BQwDnhAFA3SQ8ED57+T+PoMVzOwsKwFTMLU+KxPu/JeIQiwc8AcAU7ecDcJDoPyyjVE2nmwbAQSdZYD+X4j8agKOxO/kIwG0PsSXjlv+/bueK3zvkzj+kbbDSC539P8A0PJ2w+wDA0987HKHy6D8k6pMyLFcGQEvF/vLzVgfAOjKsYjuAU7+inf1QuzvvP73XVsR0UwjANoW44XffCsANWhiXMjHuv+wzjVZFzuC/7KeAzCVcDUDxFhcvkg3rP8jRBOxqkOq/qKP1fP+48T+VTcIE/7f9P4hUkKm56Oo/VS2pN9I6vD+7DSdDvRDbPzMx15EhTeM/1x7jtTEFAEDM39srMzTsvyB+n1Au6tI/iprz5dS7/z9t11It1iYBwOXui91FjQZAazAcQEZm5j88KYeji6XrvznCZbmuygjAxYkJNNQZCEAm5q1CjFL5v80X16TZ0AdAZ7u+z/s89r+RhDOHXdfvv5svEF6V0APAw8J2gLRK7r+9kNCRzvUFwKKJa4OWKQDAjse2TI2U9z/addj0G4YFQB0dcnYeEAjA0L2KbNZ5AsBcAbQ24Kvnv0WQ2M1whfS/Bfel+Lrr8T8Ok3+yW17Vv+gcb47OQ8y/nn7mCB+uBUBH+FZ3rT3svyjPo2WxsgbAac0q/exP9r9gI5Wooyryv9si2d5i+QJACen41dxi9L9uBS9QK+ijv9gmVCGyyADAQDtEIxKZ7b/nAsWjeRwBwFLOp/O6RAfAaWmF+yJ0B0DS337eMygFwCzNECzcIgRAeAXzrY3vBUBiddzxH7cGwEVkap4KfQZAFiMCY5YJ5T/ABaugSzPcPwkiRZGBPuM/aMfTKCTnAcDAwEuXgv4HwARosTWy8v0/8WlrBpnS2z+nHyOAZibwPy++mXJ5bpc/y0caYQ1l/T89z3jUUmL2PxQ25ntQHPE/m83QSts/A8BZa/aAXPYIQC4IeMG/RQnA3n+lU6nu+79nO54GJuMEQGiEntZ7Bvq/vaVC/XMK/79+LJLOTPkJwOD+dYwLsLw/8Hkt0oeZ9D84HLpRBATlvz4ay7hx6QLAXq8Y3UtACMB11simMzUIQEowjNqJIsm/1FxGaKGaAEDVVLQRGOwIwMuv6JLSCgrAk3UTsSI77D9FZrm6AYYKQJRLLr1Ox+E/BbODx4c0/L95U21wcoAEQCJmZ7H7cwDApiNEqY5nBkCxBddPxsf1P3pvQhInewfAqUkGNz40/T8mabC2w0sGQNYjercHmQBAqWWKkKe5AsD5y9bfM3oAwNi3NRX+5fS/GDhNuRW0CsCkqjHuWFf4v/Utp0FyLQRAaj9eAicy0b9e8XlWoasJwIEsddekj/+/itFGF0F9B0CZTqoZQtYDwH+LFORczvq/JbBMSwbkCkC3TsZRQUMLQG6l/1WKP/Y/HFj4qHEB+j/fWeVFzp4JwDwSlR2IVwrAEpFCLOj2BEDcORgBtTUGQAocalq4HfE/c3BmPQD67b8cKtnXdroFwHmg0kJE7wLAfjTGjHNk+T//o8MawGwBQEInHEkZX+u/y0YlTYug/T/kMWFNnDTjP+1qExSWLgBAtNJpxalK9T/oEqtlZQQKwIsV+4CLPQrANz55Na4nBUD+G/uJ5urwP2Oazpd3YwnAeHboYBDcC0BdvDM1lWT9P/9QfX1MkgnAdrTPSgDhB8C1EOEOXD8DwPalATbgqvg/JdstQKu1+L9oPxyVQP39v3qGWmyR2wZAhGU82lm2BsCOvlUU+XcGwOBHUgZdAANAc5zjVmgU/7+AS6VJzczKv26RGn/URfg/ta5DEg0f+r+NWdustKYKwInIIhNpSgRASxNQqMM49z8BNrXCm7/VP2b5l9IlxQlAVYBa/Xp+7r/AlelAjcEHwPqAvb6jDwrAGdKC08Qm4T994ki2ijQEQN7tN5IBgQRAXO6Y13OyAsBgtdD+U17lP0zFs9DB8/o/HDIWtVtLCkDzpuY8a8kIwNseqj8cfQrA/ZAcc0AG5r9w2jVdpX8IwArUYmrm+Lg/zwUaCiHU7j8RLbaozmfEv4cLc/vsOOM/QaUg/cLLw796lKM0rRL4P8bpvwq2iQxApwtA+izcB0CsCRQrMSEKQM8NrXF3UQLA4AwYSHwd+T+2osd5DIz2v0xbRGz0DQRAnLY2x6gb/L/Cpt1H9/PUPyhgmFefAArAcODl/3Ib8r/xfoFoSu30v9oxy00ZVgNAHszt+E19+D/SH36VQcn4vxcq0dLmoOY/VyePKjbnAUA8G1sdDbAJQA/nvKA/OAHAWayZaq0RAUABspULizj0P87Gu2000dU/9zMJCF4gyr8v1E5jrYUMQIN3b0NZkQDAj1o2j64z5j+X/yzEjlD7P3QNG8XKEvU/sU3jSwy7+L9gKmEQxmwJwCaZXSCBGwnAXdyF9/LfCsA3qpqstFb9v1F0utVXBPK/7pu6gzNvBcBFie9Bh9T3v8z9zPS8sua/hpKfQbG4DEAk1v8yEQkGwKKLiCFCR/a/BFZlh31W2T+fJLb5ad0CQORv7kD2JeM/d2fz9SIdCsDWreL3XZsGQHz7o1BEXue/CDz81drw679MbT3zfXsHQDJHpE2Wmvk/bcNFaY7+BMDEXvmq6t34P5dHcSPR+ee/VgM6IsmK/L/aKVdtHsQJQIGX/GBg1gnAhr+YS9UFCsDx5/IJBUf2v9EGCShKT+M/bJ9lEIJEBsCnejzRwZAKQEESReAe4QVAwMUnKaJj4L8p7qpPOfT3P5io1loJjsK/SVJYmP/d7z/7Yg1SiYr8P2WbaKISg/8/ObXfy5eS9z+ca7XXIyfnPx+rv+i9XQJASOWDAG+M8r+22mQQUeX2v+iogByez/k/RdohRC2nBMBg4R8SLGznvxzESPutxgVAMmKZeNLjAMCB15WHseXWPw//cj8zGvm/TDrZ1MNU7T+YtVk18rwNQFe3yfQIOf0/QlM1+CrVCMAkOvEyHdnoP5yGxqrfOAtA4DYiRB/UCsDoPZ0g6v8JwAg8nmXKxQXAds43cC1S978uKAJkPaTrv1djCFZKiQhAHpm+Cyu47796VYwDRWEHwIjlTI9jZQRAvJu+a6OMA8A52L6P9yj9Py+d7o9fIfM/erXRpW137D+v8Lo1SIcLQIcEEDad7wLAwcdayG8TCsDguBqa9WMKwATLCrDUYNk/2hwL+2WaBkATweslkGoIwECW+WlqzgxAlPnlnachCcAG2K7vzcwKwGQ805kI0Q1A1tB+aL1y+D9MVa8Sm7AJwFUfrJaDhOM/8zForp1c5L+Qfp4d6SEDQOCzguhQuwDAhpx+JMiy7b9ov+EREePfv6PhHP2+ZABA9EMVPkre97+4lbwiipfqv0kVXxbiggdA14O8QHbM6j+MdsWujgj9P46hCZW8eNa/7wKAgVyQAcB/Do1IJAr7PzOjyuSUN/w//AD216YxCcDvTlQIZKAGwADXTNPmWP0/a1+7eIsSBEBal3yVCwEAQKsN0G+Pkfs/pst/aIIy9j/y2GbrzurpP66EqVYWJ+A/Fi+DMbWb/b/iW1mpp0cBwJmM9iGeVPG/tTGB3NsvBMAfqJZHZ0kHQMZgP0rz8vK/pdGwfC8U5z+Jm85jhH/5Pxmu+2jIJvI/c3M6qtuG4j9+hSdxIOYMQFeByXF5V/0/ic82MEK0878cyIP8FPz+vxaYIvr9mQTAta1/EfEjAsA256mzDrviP9RKuvewjv2/ueaD7NaR3j/xUmeq4PAFQOJVN9E1NN+/G3U96Yuevb8sZlcaCT8JwA5uYVePJ/G/f5/jtoV1+L8tvsOA+7cCQH9Q0MpEvwJAO5I/cbfw2T9YzS3HndQJwPgKGO9RiglAQ8KsX0HH8r+iC2C4jfwCQL1GLukGhQhA7mKNAXuXAkAZOiSCUwABwDZ//bXAf/W/sOmBlgNA/j/1FUd2aJDXP0ug1oYLdu+/sWD93akL5798hkfkZcj5vzIcZ3qcgKg/xwZ3MPoZ+T/VPJTUeTbgP5THmERZavq/L5tx6tuKCcDpymofRpx7P2VRfcrmg/G/13Vkn6nr2b8GukqdxB8JwJrV/UDwrQPATrgm6QGK+L+FN4UZhrEEQJd43z10FrW/nT/vKV4F+b8SgE36l37pv4VrQUFuV/k/HSFxUSuH3D+MCUt8uEz7vzg/Xbaz3AXAu+QvpuQWAsDJEPRjYEKBP5ghn2wBN/k/MYNra8C1BcA9MoyzxV0MQIDIRFuDnQXAGDU69/QKAUDa/WEMTdT5P4kfH+Z9EPY/qWzvb3li1r8KpNm6Vt8AwCNaJ0tlEPC/WFmnX37A3L+ldeFAVoj9P2axuCd/NQdAdfjxfGYo279VjG80I9UNQNjaQcQ28PO/Ud0xf1An8r/76FNvknMIwOfZEohRJwDA/cmD8xtcBMCaybkfR5HTP3TFDtWzI+6/z+MdoBlypT/SExSGrazxPxsWrDM6cfO/D+v57g4jAMBDYWtRH8L3v2bQeFBOTvk/VgKY5qRKCMAvswtwQebhvz7UyIj0CArA3hRjxHKDwD80Co7BsdXwv7o6AygeJv6/BDHF53bZ5b+XBXI3tjoAQKRjtexIzwJAUQ8e2aS+47/tv/VSK8AMQAaifkZGvAtAp5VTn0tTDkDOTtcLG4fnv7MXNqsGGdM/BQmAoxbn4b8LN4vD1S8FQJ7EHAcWJbc/yTfPeuo2AUARA6ew3HUGQIZonR1exwpAduTatRaCB0Af/COLc6vgPxRRDgV+AwnAVERSMo9gB8CWW2MiDZwFQBGlkNhPQtW/0qAbVm0qC0C9QFHkFWACQBa2c04bOgnAqNdSMsKUCcBxfW4xozIBwDD0bZeAurq/tnvhcncoCUDymTY5gf/rP6QBx/+HsQhASGcpTdqi/j8bNTF5s/f6vwLOfSEQB/e/M2zgKR1cAsDIYe/8mFgCwNH7N0an7+S/SpJs3i7GCsAUlTQHeu7yv2v2iCaj9/I/8jFTjRiBB0B4XqXPOGoOQMk7Ujn6igtAOubPQ3ldAcDrpLAACVvhvzIzqVwZdgrAjUdvetOzBsCPC5TdIP33P/0NLlyFzOO/umk90lmJCEA+TbqICs7aP7/bX3uw7+q/nhTg6OsXCsCBWQGdTJ4KwFEW6CxSY/K/TXH+wSLSBcCCyxrPFrTuP5SLCpqYSui/NbaYWP7UBsDviqozPRIJQC37mrjmS/S/MiUZAkUWCMDER50BZkj9v5CEvNouggjAQyHMk8UfBUDueJukyBTvPzhNMZGMWPk/+09jkK+CCcDvdLtiYDfkP3sKpRKNaAnAgm5s399XCcCCWlnU94LjP/ulxM+gCO0/qQBZeEpx2b9yCNBQf8QHQF84/u4eZgJAcXdzLQssA8DHm8mMdYIJQGOuHHVDYPE/k8+cjO8E/r/TXzHFdeUKwIHtb+DhswjAFmQqT87b+L/akvsMhSUKwMykBRj5Ffq/0VFu8jk+BsAx6M89zP4FwMC09H6BlPW/Np9c3E6JA8BaLO0bklDwPw246W09UeW/DQ5S594x9b8HTca+c/8EwMBWBZRvqAtAES8sobT0A8A4SlEbm4cHwKAx2V8cePC/SR6dSnxBDUDQqJ3KX9EIwCShugHwgvk/LrHjcuiaCsB5XS34Krz5Pz5kptZcE/g/fTSLCDW1AcAuHHQegd7Wv4atuaLctAZAzABWNPgfzL9XShvKihzhP6Z7RamMtfm/ot5WHYXm5r8ktJVbecEFwArOQ5Ara/s/vq0hjCvh+b/OXp3JEaYAwIqKcuQg0wjAGg+Dbt/xCsCMCLsiAEgJwDx8t+3fLQtA4Ipr3CKw4L9wkFuFmSTRP1QLxiD5zgrABAtIDWvP8D8OQJLo1/LzPyMWvbEYAwvArLQigISEBcAE4vkuVDUJQAfD8NcmJAhAI11RM9O5/D8WMCP++4rBv9/efwGXvu0/stNPyncz7b91ln4pVwfqPywCPr/kVus/EmfVgSWtCsC5OGpE9JUHwCyLevFCAgfA1teNU+YaCUBe7xgAg5oGwJJepe6WnPW/qvCJiKKwCMDTzBCUxvgJwPqCSHGisgjAfQXdW2bN8r9h9tAaZy0DwK/yZxCGiArAf2pWM9keBcCknz0w/EkIwLM1RGurkglAl4nnxZ/RBsComkhdl8sEQC45AeEdoQfAI1IT+1eT6L9E+U6IPL0JwH749fMd8Oa/tc3f0BM87T8e8UlsEODyvzUti0aa5QnAJA68dCDlvj+oggyVz9cHQDgt0vqusv6/0LrH53Xd+T/4s57ka6QAQNo1IxC99wbA0hMj8jYhBMCZShmhJEz4Pzz+jkKfgQlAOHvIED3z/7+1rTGSOXbsvygqx1wc1wPA1lpqT4MaCsDI/3KK98q6PzwTUhFpEA1Ai5wNtBN/BUAjIq30mSkHQNOp4xNYkgnARF8QiMcpCMBIgi9XnrT7v9iIt9Baj/E/FoqKeLdVBcAquLyaEEMBQB9evXtaxL8/yGDsN2JkBEAcxbY/gSSzvwTNL1dlugrAgZcCxLlR/D8Y2lwh5aHvvw2LPdarCwZA9QbR280E/r/q7IOQyzb8vzAz/9n5XgtA3/sox56U+r9zxqKLvXzdP+iQ2yNXUglAyCndSq2yBcAa48sIlp3hv0jRBGSH6co/C7Nf07Fu8D9aAFYCD0Tiv78o93guNADAYlno5kCjtz+Eqke01XMJwAaZzvbS8NI/NTNuXInj6z/U8BYUjuMKwHw8EC5bi8o/EWHUj1g1BUAg9QrFZKf7v5GaRjSOsgdAXSMDeMiv5z+UAtxhzK0HwA3c0FsXpvi/PM0L/0+/678Uqtx84MT6P+RBtgYBfAfAb1/5XmfNCcAgGxbmfLv/v0XpoEpNsQBAsEI6QlcK+L8gqIITsKwIwAGhtBPy9AHAovjlU7HPBEDvzXxuYnTnP1JMQYIJJAlAzpNGTJzYBcB6bZxnB2HvP+o6uadpSAJAgu1kUpv77L8nQ5rly/btP29nA1cTC+O/99c6Ltl10r8iwiVeFtkFQHMPVFdfgsS/RqodsDTP5D/JeGCb9BMGwK4w+8wL4wfAO4Utbkiz+D/DbW6yMFXiP1G/Hr+XkArAbE6Zuyou8L9XCAuqFaLyvz37hMf5iwjAfg7gqN+Z+z+TI/+9XUD2P+XVz9mlJdq/KsSB0IsUx7/1O+P7+bYGwHblDTYNSwFAWFMjjET09T+JM2F7obcJwPqKk0Otjey/vzzLdThNC0DXaEkqqXwFQN2daFKJlNc/SxEj2Q4X6L/6xz7RqKDoP2p02VVHO/K/+VZiG/73CcD5nxiZl7XWP6CgokFzVOg/nFzUv4TY4T9OEfgNI64FQI6s4d4Yhf0/ZtxYYVYOB8A4vIZh+vn8v7VMwC6Edfa/pUWFaTVnBcDdMn61TGsKwBPXuZvV3QpAbpMO92o5BMAI/h7ozLHpv76dUeSnRPO/KZjwi+A18L9bxvGZXPjPP0Nxq8A62wnAq98UGwic8T9NlI8NdoAGwGCTN14vqPS/FLW0k3ExA8DJv5P1lJnwP1+EF4QFzATA+T2RU2M9A8Dnw72KyxD7v1MPb76fbgnA7L3NRPmk/j/Egh43Jpv9PzJNlrhehgPATwogOYDo9b/6W8P5D9HxP1bJo26pLfg/tv6FEk9Q6r/y7xerAurbP8RDoPlpugnAEEV8Z01YBUCXOSqrpKj+v1mgqb0LoPE/HQa3L6WHCsCsoB7ySwYGwN95/agmivG/foY6coHuCMAsxlegoljtv6c0N14l4vM/ijw9L9sc7z9KlfGr/00GQM2q43oRrvk/gz2pK4YiBkBZYkJ+WS4MQAhlgu6XWfi/dNQ9t9Pw+T/rBNGZSvb3vwMKSHcA9fI/cCOQGDRp8r8lBFxaAMAIwCG/M9jj6wtAAHJRcIhk4L8PS/yV5MH+v+RTYKZowQjA0hcO0wUK8T886UcW4z0IwHmW45qdmfM/B4Xv8Vtl279dJVU1dugAQKQVQrmWVvW/6dkBREoU7j/KYvYQpeNvP8PDzFF1GAlA6A39Hd7RB0DLTc85G3jkP+Y3SwJPdu6/blARK9TNAMBY1DXIzgsHwEGZFtCyWOC/Qocd4XF1CcCV45qml2YFwM+Tvh0Tq/Y/z4Xy9WIq3D+gjiCE0PUFwAHhYigwIuq/FOC9c5J3/b++ZtfD+Y33P3KTFXHe0fc/7eTcPIUfCsCk3zaoMXTqP1/armUuBwVAiXzc6Zui7D8EGerqPBcBQNDEm1mC3Pu/2epERk12BUBDwOmrPt0DwGcBBIVf4wrABGjfX9C0/r+G9BiOqYEIwPhCLr0lvOy/kiQV6mONBkDX46exJQr0P+1sya/pffk/J8dvhS8B3r9TGSWIM4b5v0LPxZ8iDQPAcDrHi3Mg8L++f5zZOov5P03ExR+btgXA3yWBrpDkAsBY8nLZ8sn1P9E7hKhx+gJA3/oWKEX0BEB86ds6vx3uPwwONGD2Ydw/CuSGRDRL6T91BmS89lLHv/1HkxP8h/y/hjMdVsZx9r++Ssw456/9vzKFGgYbK7E/DqTs6EkS+T8VfosplZUDwFG6dyaNivW/9a4nHIRLBcD6Vn1+DkQMQNBrawDCxuU/vIoQNvmBDUBiS6xosXsCQBN1Bt83fv0/48TqAlvkCcCiHdB4VYYFwFXXdCSboPk/I+W3l5s+AkCizpZFPFgDQMB2dbUVovc/rU5G1++x7z+FNPCxO9f2v0IMvZVTFui/QQ2ORv3q+T+OJkCKVXIDwEJWA4ouUf0/ANciiafr8z8D3y3Aign5v07L6STCxe2/jYE/LAc0rz/zwA5S3g8KwNG1xxQ8mes/ti4vzDORBEDlwSVRgL0NQPzOKt5Z3Pm/ORiPzZ9LDEDy8mojSoEBQDRgQVCIq8+/1h6oqAy9zT8QQK+jylX3PyG8CoQFq/Q/UEVXYqcIBUCQp4xrFyAAwPIrgcEIRAfAN7OkDgWJA8A4Z97vk+33P9n7wtA55gZA2oIq3gx0BcCa4AvD7qn1vyWVykLVHuK/jlLtIJujA0AR5MZhEuj8v5WjJCHNXAXACzACO904CsCjyedOOo7mPx2SR/I65PK/qnTsdfnl/D9pN4GIhPIDwJYw4dddWfW/kk/eSwXxCEAuoik+WzHUPwgOoneNa/M/tfBhIlpeAkBq+QVaPm/jv4j2YDpYHADAzB3Q64daBUABRpWiHfbwvy4rMRklDgpAdnntubrG9b8YV84kp0wJwL9ICEZ3EADAi2GBf2yf+b9ZqA7ES2YEQDrAK2gAt+Q/4lImUKqP9z+QJ0QcCgWcP3V+f+od8vo/LLcTX9jgAUDigFkzmtnRP1tN9WEB3gnAQrZyWS4S+T9o0DslLbT2P19jv+vyyAnA1QttqBtkC0AzkVDP57ILQCSjMh3I4AfAnHJS9hqm+T/Y2Z2ADakAQBgVv+JnpwRAjT10QqcvBcBxOW4AdDUGQHDpGyxzmAnAk3TrE41enr9sMIdkXNn3vzaX4dcvAe0/NP0UjoKFBMDT48S0uHb/v7FUHGlQ3wHANPR5wJEY5D9KV4A989v2Py+SpYCLCALAUsmv9aUIAsBJbztr0qQIQK/vsnDfu+g/fKQKVC0k77+9g0oX4Z79P+aVox8clL+/ilSiwq1KCkDunYokGU7uvyzh/Av4u/S/lwTqobsR9r/n/tY5MNgAQEN0rjZQgfW/vWJfMeQFAkDHQKqcODMLQLgsmXr2IAVARYETBKgD2T9d8IW4eif6v97dBeh05vu/q5DClSsi97+AGq2uNgEDwEnN1vZr7NO/szq8qIe04T+3uYvSmccBwCB0tgt2tQFAruTXc5/n5z+3bROqTyXmv1Q7tpHZJv4/fK9LADqeBUAioHxFdQoCQCYB0aWPIArAVl9BdwpICsDCUVUoq/AHwFYG0qo7SAHAG0bEbage7D+jgA/kErP2v9XGiTw2VeQ/3yfkAoqjAkCXqjAbAST0P7ElCBib2ATAa/NWQHY0/r8Jk3gMYe4IwKaK/N4MYeI/BosfAeix1z+/rCwfIKIAQH5TM4FFJ/8/P+fRiSn2AkAbPwRSCUb2P1CFjZ4lv+U/F+8lVbkP8D9bS6019K4CQMtLxU1YiNc/kW4frhoO+L9IprKZtmbqP0KnNRIILwNAeSYDxfWXBsBkOYZUX9XUv54fQFWjOwRAPr8gvnMz+D/9pLCgREz0v9MqTq6xiAPAbbCVQzEw1r/K5S1FjG7QvyZmgMq+eQZAafq/4sll6T90lqIcETIJwLj9PKdAMQXAJe/okoCRBsDx9zJyx8j4vwuYL9UtQwpArhFHxfQ4/7/cXHf/cPjcP83JvcBF8/k/nTKd+JqfBUBbxAu0/ucJwFIhZj+ZyPy/qqcA7C/CAMD5O/a9XRyyv1QrEEEo2Pi/h5zd/fjyBED7KDpF3D8AwEjpvKpFKQrAdFN6yRk2BkD7ysmHHrgBQNxmfNjJs/4/CDxglqIxjj91LhrNWeXfPwx+5xGvvgtAWW81Q2e8AECHNpln73cDQNxYEN/dUgxAvcTM1qsZ9T+PbxMLb23VPwnGPj52tqa/yBA4HJUo0T+uaC99Iazlv+eyD8YI6gTASHbtL8l/278jNsDLrjsJwCk5w1YIqfY/VLjVYc3H9T/v2QYSZ4sBQCCLdjVgSfA/sv/5qRqyAkA/lhoexNoHQHQP0jxmKvc/3NX72zK5878lKHEjkO8IwJ4rj/mNLNM/CNdNAH5NCsC6L8XDAKoDwCXohUcRf+c/7+HzDMp89b+Bqy317T2jv1sTNs6lAts/VJFEBicQ9r9pVi4fc+gJQGbx8FceJau/3xaCMNQK9b9iMqVPuEUJwL4sofH0mAtAn01VfL9hCcCbMaT/kDQFwFjGgEd8gQXA+p5a9OWdAMCZ7gR3FybrvzOA6zyLBgNATFv7PpwhBsB8q8jE5Z/tPycG7chW2P4/nKROBtqu9z/psl6Jzd0EQLQKGArhJwRAXn2dajFDDUCdSDvBk0kCQMoOSaLT1dq/ypBWzfvQ/L8g7xMpV40FQBvHAiTZVPK/xiFK2KB/9b8vVT5W8ncOQIKbHbLlqQVAHQ3KTQpAB8C7LmKG5AAFQB0Z0C/kPwHALY3feQDHDUDrw/iKmgYEQFQNROOF9wbALDB1LHxj/b/a3YNNQxTqPz/QxFi0Tfo/G2qQMPdTAsBAUZYZ1Tr/v1qdlZLtst+/WqdEHGPOB8D8bmyIt6C5P9ToBF/jagNAMpza7/AW+D9bO6RlJRgCQCYzjRVNwcY/1glgP1Sp8D/RGof+HD/4v3LGWyT+YPu/U9+L4WfG3D+DAvAROrIEQPonzlvKMvA/WIpj4mRR4b9YWCxUyRP0P+dGrVxGVglAXfm9pPwXBEClWjRpAuoCQB7cR0d98/E/BIbNfuB8B0APYCbd8fkKwJwJWI7cawtAudeRI5ABz7+IA1wjkLQKwEzdXopymvW/c8R/ZHBr/7+CiV8ARGf/vylxG8orA/o/oyyF7YzPBUDPSxTK7Q8GwNAX8tnBTtc/Bxgk4Q9zAUArQscVTr35vzbc2b/rPwrA8q6bPJx3A8ArNANJqgL7P6h4I6dea/Q/NQpL6nNV4r+kEvZaxRYHwIKM/sWfsQFA5szgaT964L8u9TKX7zsKwEyTbjRGE/2/qLzOJAukAcBPmsgULK37P8jS2s3Xa+I/3sjjriZI5b9p/vsM2b3sv0k2krpfVgrAE62B6eouCsA3k8UTCnULQEuqg00cAAfA5Qr6O4Jq9L+vBKZQX9DzP9b5ZcQLve0/htPSSmICBkDaV86tT4viv5NQ1EPt4P6/2QWSskeX4b+7+fIkweLxv8raL+gqQvs/7gmR9LKU1T/VCSC8+s4GwETa8eEUDwnAc8XFSqHr7D8kTY2fK87zv9087jgHnda/hJP17LNl8b9FgITmgZIFQJL+1h2HKwdA5F0DgwGC+T+UQ1aqGXD3PwCuQGO/UPM/83MjsXGp8z8tr3Kr4zUNQIssK1oe8rC/FfhcrFitA0A3OALUxnK8v4l7Eeaf5ADAmp6qb3VK5b8YSgDJkxIKQO26XoE7ZwnAAxOROnWZBMCegwGVBmsDQMQlFRM+TwfAWvR3qX6PCcD33bxDB5kEwPcRhSE++QZA2IcU0pby/T+ys/IMMyEIQCIwbtldDvW/Olip4RqnCsBmnXZDTOndP2T5IQkrvw1AGanOBs3T97/X2aKUiFnQvzJ0c+pPYOU/4ILKGGV9BMAkCljSa3P5P28VAgsifeO/YEgqBcdH4z+9/9tgfwMKwByrdx+f6wnAT2ZOFvjSCsBmMXRE8Gv+v0DL3QwdpwdADkXEagpXCMBFyIES67LQv+DjMXM+aAZApnTDbCgaBUBbwaAegC/3P8fPYVbRUQnAs/hVXAqf9L+Bep2brFX6vznHESBq7QPABq5yWu5Eoj/HWzB34kP/PwdIY49wFJi/lT3oPCfP3T/uKIbNEFz4P2r9jQFxVOG/SGWY7JamDkBIt5qIYSrcv1oEeQvFgAbAArK+ynjZAEAGeobGHJ7/v82qWGefv98/rRW5K4jxCkAB7iUhe+XtP07q08IWwgjAKEKxM18yA0BIp8U69ogEQMpdgtFoDAbAUnvD7F5Fvj9PoB8VSzcDQP/7jbAj9wlAfcpRxOg+CMDefCPIThDrvxjH6ogENQrA12YP4IxU6D8PKQSlLPIFQKuHx55BUvO/MD/daTy7vz/imc6Gxva4vyinZEBUfwDA3OJTXRJa6z+70bpxOmIJwNZ9TATV5uQ/16wIWKwqCsC/AZbg2ND5v1Soq1eXGvq/HtgVOZpMsr+33OSjmtfyPyEeHJGfZQLAZWUd49P8A0BOPY5YroHzv2UNbZ9xRQdArcVF231c0r+DEWzYSqfvPw5BozOC4uY/X29bbpWaBcCs2lyhSLAFwJ04tCp5g/Q/0tL43rcxCsB1CG42TN/xv1qH4VEORN8/AlnXbjuE+r9yoYPoz1flPzsl4Z3Id/K/tdnzoevvDEDvNjLMI3XJPzjVW6Cm2wJALQ2j4JKxBMAHiMvmYCMKwE2QLkOFn/E/88j2NfZr+78Dr7xTaU/mP8qQetth2AZAjaqHAQC327+54COCvVnqv/ZzLhmHKQpArSwEpxaWDUB1o61NPPnxPxEgu7XBZAfAaGPFPrsz879OZW2pMvHxP8lrB7skcwlApQGLetr0BEBruhDm+lD+v8QdDKnnT9m/1W7J+wXZ0D8mQ0DMZeQHQLkbzh1NdQnAKNrGhrKeDkAOCNpYSp31Pyq/kZEUCgtAypbSkSmeyb/6I45eSR7kPzkps7fZEL4/6EgJjbe1BkDdjA4kkb8BQLyZYrS4ywbAD2cLHl6kAcC1xJSN+nQCQENNLVpA6gnAXyCqRgGX178Jy05NDpvoP/I1Rd3yVQHAZoZaBt6mDEDyFlTVhh8DQEdD6hCbPQRAuhcOVRcj/b+iQsBSnzz+v92mxDmMCci/0yFcm8rV8z9/LSM7dcXtvw7C2dMKrQnAxEZeY4YBCsDwTxMk1vsFQPxw3UAblgVAx2GWYiqd5z+Qpw8uNav4v/5IeXXPDQPAQBrzLypzCcCo6Wcp4XT0vxk0SG/MbwRA4I/5tnD87j/eHxQOXEMCwJOVWf1sgvW/arIf1tKoCcCKw8iLyF3zP3r+nQeZrf6/+n42qEjmCcD9I19WTW30P8usOa6Vp5E/fXGOrYMpDUDkRlTfaekEQDi+Xdhr9ABACLVYcVBF8D/tCcFMwocGQJuxjW0bbfo/RL9zwmYz579ULYIMla74P9J4cNg7ogHADiHlGK927D/YA/yjh+0AQC+XUVKE+/a/rg05eCGC+b9sup2XVxkJwMOgMS7PuwrAp4qddbAQBMD1gL6AvAcHQBvzF0WElglANS9N7yO54b+JyMF8WowDwITfGujgQwnA+wJhLJgf3b/xMJLX+c/mP47LdbzHegtAWhGcznDx8r8cG63zWJXqvxzmlBQTOg5ApHtOj4SiCcATorCN6QQKwPA2sQvRlsc/DYv2K2rd9z+WnxH84bgFwJxtY/CJqgFAIPtFClF2CsCOL/tj4Ar8v3vYMx4T0PK/nfNq9FxC9z8SiaYj72DzP0sBlpqPFdw/NdxfiuMMB0AITCcWtxIKwISjpdoKYOm/m8/5MKasCsBZNdOgh/QAQGWMjP6rOAdAGsVTynMR9D+TPpLQT9P2P9GB8qApLgnAiCPA5YgB978AN2gMADkKQNOyxeq5ewVA+mbmX8PF1L8512pVgZ0AwNjpHyOsTAXALf1XvNYF4z9teUKNQxQEwKFXg0t9v/W/l23SDXBzAcC2dEaDdRP9P5piMN0Cddg/Is/mGlym3D+wLe2EjUAGwFlNl9U0RgFAxfUlBTWf8D/Vws7wHFzxv3e5ZJFldwpApFOmcJ5x+j9SVJLX3mEJQJDbwlm3/MO/iFaNozIBCsARP1+E3o4EQLJnvPs1UQNA4JyTp7TnBMDBZTNdwYIBwAg4mtVZdQFAcrg0U3ny5L/tqkuRzz4EQPeElvpGC/O/REO26OCCBUBMu7YXH/X7P7OGiKFpLOO/2557PySPB0DrR3qLlqkMQC6RrupPOgNARNKw2jWz6T/uiD5SC472v5dmzcvDmfW/MiXuDhQuB8A5rpj/ixH2v7sgzF0q0v6/5CCl6/xax7/OG1mH2j0KwNO4zpvSxQVAap95daqG979TKtI72m8CwJTE63zLqQVAfgMkiUtV4j9DQrhDAkL0P2O/PnZv1uK/rM4anwqaAUDgKlZKS/qFP0QUsunfgAjAYpkYGfFr5z/8H2iy718HQOAnA0o2xfg/HeZcQ6+X1r+JRuukDKAGwJCIsGgMgPw/cnhbAA826z/rZRDlJZoFQKU9Cpa90/4/jHpScaGp7D/gcgWDfpgJQIS0iU0CuQFA6xC8pci1+j9Ac5rf5PgFQMhDm9lemQLA6mbV8lG4A0Cu/vl2z4gDQNMyDQHBG+C/IThivihX5T8dDw5qBAzuPwr1r+oSeMs/GKqkgVwyBUDEQULbK2HJP6oOmJDBaNc/G2Gl8bXoCcC2sO/D42EJwFrANMTpcP8/683QkiDL7D8lHAmMUGoHQFCFcfGOdP6/cS8B3LLw/r8FLUDrujDaP/pRx+kW9PY/XUk398n26D9Tsj5xV+EFQPe19YvHPAJASUQtwSEfA0DnlNYC6cADwBHcZEYZhgJA5sGtXgeJsb83uFvUtfwIQJfbxAcHEtw/2aGH2MCL5D9CpadZ/s/iv7v22j29aPg/vAJwIS9gAsA2U3CmuJAGQF3o/CWTK86/ufmeIbPDCUDQjRd1VNQHwOWHOkeGRApAr4LvsdyN8b8BG2BNxS0FQO9EADOcoPO/CSlY+vLqBkAbGGjptET5P68Q0GKLXvE/t73tjRhZBECf8DNWu0j+vyalYDEZW/W/Cz0cOmlICsDxPLXYUdDUv95x5pf32/k/b4nyOzEK+z+1Kf3zA08KQE0S18Mw4vy/egnHSQFi5r+5tCdg7Uf/P0yJWmgJ2grAreo7G3Te7r9UZ7l09BXvv5j2TaUmi+s/uybbHGE/BcC+Wqi6CSL2v1xoZKOrFOk/TvOHRyJizT/deVYTVJQKQO2XjNbVVeq/Wv1rrJ+bgT/cX7iAlugBQKxLP18r5vm/IM3WBVpA878AfJvxdPIHwPhmkTWAYvU/K+VNLDIN4T/IusG9yIDmvxlTpm2KaAJAZBIk4nEABUCcelsTYefoP4CjEIPNteA/tWMhKaLx8r9wj3h3LNP6v0XDNCPn7du/cH7UN/nB5T8FgBdDoasFwGzG1rSTyOU/OUaodQGY/b+vW6bDmA8MQBYp36tWswpA9ihxRq+W+T9s9d4JEEQBwH9jHcJhS/C/J2x/oYqkUr9eABVjNrAJQDYpJZrZA/w/2HdvTN3A2z9OFmcTZxQBwJGcufDPhgRAeQYEE/vOC0AItyC1nhIHwI5WyEmF7wTAr4sp/SPY2b/O2PiRDwzsvxtE/5qn+AhAWHoFmq9qAMD276T7nyX4P8TfGFT0GgLAvW57FVtaCEDxlaAaPzD5v/4p4sz4Pv+/dMMnpTyKCMD8pmPMIJ/9v/4f1EAN8Pe/Y64pbufO/T+qNKME6wgKwBdYDMgmJuq/wz4yTU82CcDc0ky/TQ8GQLh2bqvkkeW/FfKXOEFJ6L9x0PbU51H3P8qlB8tfPuA/ocQeRMD66T/MkF88yv4CQBuSBmpR1wXAby+oyNW1A8BlD+a6+Bvcvys5f8fHbPy/9tbI3tno7D/Kquy71/4KwAuftmtP2wZAEeTG/t+xCkBGTskhZGPwP33dPZoo3gZA0lX6cD8VCsCw7IhobGQKQKOiqGZingrAHslRMI6uAUBrSjFGGQMLQHsUxgaDxwfA8mnvhOQT/L/Lm9WREJv6v/j2x3xhDv0/MZvGwsUVA8Bn7+s01ucKwA4RQp2s3QNA2PBooE46wb+FZEPeEF3oP7ut9QzDPay/DWinwYwD9r+Tf2/nOjzZvyb8kIm0fwrAY9eUILDXAMBV8qsF/EADQD2kz6t8pgnAevwgNfTEAEBMV8XVbsLWv8darr7zRADAsbrrgckfCcDJd/B3jQv0v8DGVRkQff+/qg5RmTupBcBpiLJyfQoJQOZwnw4sV/C/LuqUoie9AEB/ZyYxWE0KQKR2aB6lFg1An6x/J/h8AkB5NKb0gcnuv+kVwnXriQ1A+Ugqve+dAsDeE/r4t8gBQI/KODO+rgnAg6cNQUXqA8AmCFTzUwXpPx/XmXyzAbA/Njry3Nvs7D/kfnh4GTUAQP6iV6IdqOu/B3dd+mpaBMC33aH/wDABQFQ6GFS5x/c/50yoOmIp7r8MqNVecIgDwHZXLaFScuy/Ck2GUlsn9z9MMr/+L/8FQH5bfQbw3gRAHx66eYhC8b9nLWnUrPELQJnhyT5oMfE/gZOfGHXG7j/YKZTgjp/5PxEB4pIK39y/5LSqpNK19b/J+8of58ANQA0IuAYxcc2/n47lst6OBUB8kZs4n8CuP9hKoggV6ew/cn34o21b8z8XdcC2O2oIwMJFIOXH6fU/v6UlSNKE7L/FqBkblIT1v8dm0FgasQPAPahVYci7CMC6SEEZVgDHP5dzKt0ihP0/70u/aVrTAUCuxcZZZ68GQOwoFNPRLgTAqftj71L2xT8gDq00+dwGwICU48JFPARANdWvXU8a27/wBlXUXNn4vwWhyJoI2QHA/tMlk4Oe+T+HEEBFwfj3vxgVGhcfQf6/4B0aDIDc87/s1PC5HxjpvxGuu/u4CAnApXdr8JxYCcDZVHBUccj1v0GBF3LkM9o/ExGxKAb1AkCy3AXjWEfSv1x/woYEqQBAmJtlqFpM+7+TfZ2UD4X5P6ajpvFSGeS/njH4Y2zACMCArENPKVLwP6XYfQk1FgJA3pHcQTzw1T+LiL/+TJEFQCajjq22LQFA3E5KZYOJCsAMtxfVdkgFwI7M7OeExvs/35HQXilM47/Vm7AhGX4FwKAJp5na7AlAxkCipIWcCsD13IK9bHkFQP9MxdOTCgfASdZh4SqVBECyCbMDTVrxP7m4/mdTKfE/DyBSuxhJCcDfglGoBe8HQFOgDGVNjvQ/8HOL7lF0778lrUJ7CCXkv8UuxMwowv6/TuthpI5j5D/1aqe0qDDmvzv0l2/t9fK/fRB6N19+AMBOsrdwcHjyvyvwP9nIc/S/Z+wkvpUf2b/F3kfUSWoJwKuj9VQt5sa/C/YtQcg0A0CtqgkdvqwKwOhRtvd+g9S/xtYiKU0vB0CF74qJ2e3vP0KayhNRDf2/t6GxwraB/z8kr+lTXODpv3AAj9yWtQFAg7LTTlOnCED9HJq7UaoFQGd+PadPjg5AprIw8og7B0CfqRPvFNYGwPQbOzSe8gpAf8j5qk0IDECLMZ4gpVP6P0UkNSMGn/c/UnFsHRRLBMAq1EVOE10FwDSeHIMyU/O/xPGan6aV5j/8+eKYu53Yv58hMYQr1vo/2hZUaQufCEDIGY+3xR7iP4Y2i15flwHAGXe/DwUIAUCEaJcblS0IQP7+/i3+Yui/GMhlzMmqBMB4vftotRgAwPaxqHNZ2AtAHqxSG75XCUDW3CpQlQzlv3OnfIqMYQjAUrM7Rne02z/0FxioT8IIwJLpU3LgpgHA6TzlW4zHCMB4VflvcN8CQFrv+RYuRw1Ac1aFQ6zUAUD3wy2Yf20EwHpw1FtBavE/pON7QClPCMAIesRx5WLwv+pnC3Xi7vM/H56zdLChCcBORYhg9vSxv1salLzYbfq/fiRvkgh9+j9fl4/2G78KwIbDChw/Qtw/Z5B/mMlLAMAzeGAXk2MGQN6snBk3fee/uY7l0nXCAkDXjQKZpqTYPzw6VTTyofi/6G9ow+Wg7T80foAS848AwKW/xhn+aPC/qidXl97ADEChJNrBmU4IwCAkNfMdYOS/G41Ok9mSwr8YPgiCjIsOQNbAiLab7wjAb6Q1CFWMBsCvvBnG4voDQHpyEyChvgNAs6tTC3C6AEDErH94Tru5v5H/Ad7q8K8/TZtS6g0PCUCXHDjCqxcDQINnosBjVAlAtiU0xOJG8D+01SIDVnj/vxvOCJXvtQZAQT/oowzg6T/NN4VMDWEJwOOPuDT63fo/E3mM8xWl+D9QeaUDI08KwOWCbgPPxATA5z1d/Xnq9L+rsyP1vtEDwKZDNV5wzAZAj6QcJfuAB8BHYlsgGhXyv1DgnxoTHQLAuj8IJyS9CkCiq9iR3sAIwKGKq8uK4gnAirC2LNa6/7+cAcqpjM7hv2FrUUf8bQNA37OHqnFC9T/ksag6CtkKQJYUPDQO7AbA2Tbzuzjo7T+5UhJFIHv/vzG3+8zzBgjAd38occu71r+9lsklk7TTP21FK9WAJQVAstot6tGe9T8Bnt/1bdX8v+jV7gKeK/q/tbWBL6U8tL9sNscGhR4NQINSd+5LpAnA2Un7eal7BEAhsqfJNjHsP4ED3tJ9DPQ/Tz6fEl4G8T8ZoSpgpHX5vyc6CyKj8QXA1zEGXZIF/r+ngbzWqrwCwGt+0cWRzvK/MEo3CH0kAkBlM3+62OsCQOp1ywin6QRAHaeeYXccAcBfI49drIcGQF2LDHTAwP0/4W7JJD3bBcCumSoqsmD4P1hQxnVF7QnAhaByrGkWBEAWrAIMwVEDQKc5C0E/SwnAgnF7hhJG3j+8yTSKNyIGwKofbTUobAtAYehq/4wPAUBZavidDDTpv0dqyQldhuy//aXvduEW/b+LHKhZkj4IwJK/nl8OswlAZZ5C5/aMCcBFjMZ0NAT7P9mygsn3R+S/R0So0PwuB0AA5LSKcWoFQBfInDBLyPM/6dNs4jFQCcCVJmoPRk8KwBho48UYetY/MCWS7ONpCMBj5zndhjAKwJ3Um53jz/i/MU05T1bVCsCfGswQXPXnP8aLH0xW8ug/VkatvDdc8D9Wo83Yg3X4P4u27PlSeQRAYmJtRiydB0BzgCfekBL+PyHCDssAXQHAus9K6NED87/4vMMOBq33P5tcyyafafk/h6lvci6E979mu9hM6E0DQAbiWPXBrv8/E0o+8H9K4783VF1L38H/vz9OPam6Ovs/OGEaMyuY2T+p2N6RB70KwFi9AZtG8gLAoKsybIxf9b8VqIwzACEFQDyXgBTeiPY/o1kZinEd4D90z5eneLn0P1zn5FqjieA/zlJxTofD+L9+sBQozp0IQJGYdmYFDQnAgsF3pS3xCcAieVil013+vxNuY05ygwBAzwGhlU4jAUCzjPOMWnYKwH2pc0sE0AxAzlbso5WeB8Dp3FnsO/Pyv9zfPcLnkApAuMIR5HmJCkACLzXLHPj0v5Z3oiiZcgpA4ctMzMIdBcDgnGspbrvavy3kQr0ZUQVATbrMv/u62r8iu8FhFqfyP1NkEsjDrgZAa9LWNXsS6b+1k467+XcHwJaUMLYCqvm/FgUErlaf4j97fArUHgD3vzRHbDq+AgFAUSXFpouB7b+ZcwS+5JUKwKvKtbAeYgTAQlYiCIGOBMCKckXP+6X9P60gPBtW5gxAZdu26yV3C0AV23+jKh4JQLntMIG51gTA4Rm4YzALyL9fa0MNss/9PxGdrleMJQNAh5gVXMklCsDe++h5dGr2Py3HNWd6oWG/Z+gDJggt/z8xKoF0EGb1v09jh2GcxPw/OUrOQvrI778OKwblj7jPP9wMmpyMXgPA7WipY+VPBUCBtSB4RFj/P2/9IwqRQwLAwTkoi+IdBsCKe/hMeRwGwMHNmziJjtu/VMj+g6PJtT9b4Z73dTgHwFaW8eJNovQ/2N4wozLo9b8NAy1NwxkBQErkftyfBOK/XyTfPBGS8b+Nki01cfbFv8202/KX5wHAMKe5PFh7CkCECqDsqgsKwEaCvBytyQLA+++Om33S8r+AYjNZkoYCwCYH2loR4cM/HZ4DUWDm/z9o0lliIeD0v2PEGD25Kuo/U21z1jSaBUDYZPw3AEz/v1gsFTtVGwlAuXZjAu5QCcD+AfKoKTUJQLAx/HTXTAnA5Ygqo5+Q+r+/ihy9zEzDP3WKYX1i7wrAPuEv4HKqA0BzdtrDxdYDQD3nfEDHogBAC0IkKcoC8T8XO4hvxhkLQFkw8Jx/ogrAJ51v+2Pr9D/W10qqy0rxvwsW4ugnrNW/XjDBft3R8T8jigqspGzCPznq+nkCNds/IZEFkaL14z9Rm8oaZNkKwMKHW4aS3ro/e+CKAfh4A8CxxJH3GNLhv5GHitEzo/q/wtymOmE+978b0onMrS/9P5TXBgAxNgDAX72HQ3A3DkBNpxIEXFwJQOKOFYjrcwtAGE1P4+gL1j+5HXjq/WkIwNxgIytYBOo/He8RrkksCsAGYWOXQAL5v23SWMfiiAVAD0v89Dv5CsDNcHsLY0b2P6U/8cBfe/K/Cmjjo8Rc/b+FQG5OyuDyv8QnJaNwYs0/aR0p6mxv9D/tVsSmLJsHQOUm6EFvlgLA+YxgXAli+L8FZdKoIrAHwNMlN7vfJvg/n4N9pGVSBUCLbJZIUZ4KwC37GtnI1ui/rTV/lGP/CcDZK6bTPuPtv+N+i/nsSvS/3fw6lxY8/78+JKoUxzr6P7y5VNwvX/G/2kqPfbp7/b9TZfU+PU/mP4YLQbf55fi/yB9qsRoi6r9yKJiPNyv5v4c3bRw9+/U/RCC5FztDDkBo1NBEBNoDQPRbTqWPQuW/RAuP4ROktz8tgJYRLHi5P16e1qkEPsU/IMcbJ+6RBEDV6tzI0YQKwBzsZREHVfm/MlC/lQDQ+7/OcvhqBJnQv/me0d1DgALAEOtMPZhUAcA9juBPUcYIwIU0Gtn/pAdAoBJtsTcmuL++YXw15kr+vzpi7usS1/k/WggidgW6CcAxzrA2mAcKwKNbvDmQawVA9wY2XjvaB8CrsxesvsLkv6YBf9hfBABAL0MKWvDh+r/97GtWiKngv2IasaWd4OS/A4qWBNY/8L/z5w7UlErMPwjuIMMzWgfAOW5WukMLAcD3hTZntpyAv1qc5uJIq86/apcnNm/O97+tHUeX+s8GwIs4uFG9KArAHGOEeTD2B8DefrrZCqrTPz4MYf7D2gjAY0ItEEmM2r+mq74UgqACwG3V0amlrgZAR1+lIcGkAsCkT6MkOJ4HwLnFrHRb8uO/QOdr6C60CMBuHHO6LmQCwILgbdAIAw5AD1yMcuLo3b9Zsbtl6rcGQG5EZEKilg1AppohHmgj/D+zo7istdAEQErRsYZyjfm/NG3qv55L7z+yW/lb9tYBQL5nH/c1LbO/pFQjIRkrAMCY+VUH0JIMQNXBfXTGvgnAGYdOEirX+z+HGVK9ZssHQCSy1u4aqf6/QQAqJk2RtT8VlO2JN7zxP7qbY2hnT/E/eue8jtwy0j/F8Mse+awFwGCst6EWAABA5CPKUYEhBkAErEyDp3roP5t424ePdfQ/hlVoSFjqDUA77XyFW7XYP1we1TMG3grA5u07VcvzCsAJ2jA46ZH2Pxjecx7r7v0/8ALf143dBECH9TtMxrriv6Qso8MFYsI/ZrXjlJolCMCeMKQcG5P1v9JVoVsOwQjA6vp7+RSF7D+dNRt1+xfDPwxNC70pZgZAtO8t9MMmAsDVoOH09T4KwBkgVV5e9fm/SGAkAVu9AUBledVq2oQDwA2uJ4vI8AnAe19ThoHfB0AsRMQwZOsDwA+E1m3eA/i/a69AIduo7j/MQonZsg4BQIKF3DBoEArAOpz7Dh6bBEAHmoQ0Q6rzPzBTU5ZYxwnAtLsoRY7R8r85Uj1mxWHQP+WNdD1N5fY/Z1ud7qO1A0DPoQf51LsKwJMil8i6uAVAWYepGXeeBkCl911SznIIQDxIj9dglgTAMdSZshLYB8AHIqLaiaH0v1T1MSN9uti/ABLAuOn+BUDUXgle7dACQEnbhGiEDrW/XxCpLY4wAcCYVt08CvQNQJxvFDniVgVA3YNtB7vT5z+thJ4KgMb/v/p1ZNtA8gFASpLfxaJfCcAPsB0hfEMIQKvIrXf7o/K/nEWdOhCfBkBFsdVI6p0JwGnFVpMclgJAwHECcLxsAkB9TcDHS2eyP75iWuRz7QnApZJ/ZRJSBUC9OwNYbLXRPxEF9jRZtQhAlm6CwPWM2L/IFArpcy/8v9zqaWiG2Ow/p+N38zw3rz/ASlZxTg0KwNXUkIztx+E/db6ppuBcBsC/Agq2bPP2vyupqh3kBuc/HAc+Nu1rCMBpWbnwdqn9v9/6BbvQGgHAVFD2/4QHCMDbm5WUJibUv0jLpa4qzfa/q8Wn8UV+4D8PPp+Jss8AQH/SjcuYNQJAAwyZuFd01z/c6la0M2b3Pzd79TNSVAZAwPwx38bMA0BgEnVQHMEJwMAzVZJhSPs/P5yXszbPCcAfZ83ylj3UP05lOMOU6wjAOToMc56hqz9LHjVI5Y/4P4AfxALTVes/6OoP9hzO/r/4WCNNaAHVP+j6LYwtIrC/zX7OydJB9b8oCa9ko28KwB1z8ck06gXAe8jsY5Lw7L9AGETb544FQJ0jhHau6PG/g88U26k1AkA7waIoOEYAwPiz4ggpVgrANxFMlwAX6r+HF1AJ2CEAwA1zyg33euc/NGtS333sAMAdfMVHaSr/v2Mbse2q8eY/zrSgRaRLAsAtSBEBbZ0CQFRZ1Fi/VQdAokFs+gblpb+ocyAo6+zrPxwCo0fsYfo/zg2fGPYF+z/vCMs9IScOQGNPFtqRKfC/xxUat4ogBcCOXDRqC9nsv8EDtBXWEQfAD01/2gd/sD9KrnuSVmwOQO4+0EFZ2OO/tnWqNmX5A0AtnEr2Y0j4PxIp0zWpUAPAWnowd1IkBUDKtVWB0aD4P16J+vQeBb8/0vKpR1vXBsAS0U8NFxgJQDy7pzvwEwFAwd+zjmDj+b/FumF3lhgOQIq+Q57ICAZAi+xUMQF0CkDr6tecwEoFQBKmQ3aK5wXA2+qCvl/4CsBTkLEIO5sAwPw77xpisOo/dni+KB0z6T8A1FqQzyPiP7znVUjxcAVAWdNIg1UB/r9LxyonJqr1v+m7QxV6PAXARtpNIu1xAMD2AsyhweH3v0FM2JohDv+/tLr6U21g8r8EauH/613PP/5XPdK6ffq/3+kcaqrZ/b/9lvcplrUGQCcpr/YDLQdAZiN02R8U5j/5Y9hZj9UHQHNQZZq7pOu/fnRUFik1BkCHhZlggr3wvxnCdatac/s/mrmz6+cu+T/I4ODuI3L3v7SETs3SVNg/w/59kyn4BUAF3+zeRRoFQK0ipXBiEfq/CxqFDyEcAcBfiJVqYAYCQAenOhMHhAfA4IsyhjQfAMAWJdEiAEgCwP3AFcQ04vY/MxLaWTqNAkCM0otCOmjuP5+//j84ffI/Ho0kD45zCsBLJkZZhGwKwD9u8OpbsPC/MsNh2Rh8+b8GKHQ6ihPuv5FR71h3mwXAFk88xp9PA0CU5uHfL3oKQB3I26JnngFAvLIMMRd/9j+SjlVjTGnnv9DW9ChBW/0/cB4LAsem/T9S4K7iM3EJwByMJOHmK+o/0tFEW8mM/D+QrxuDMKjwvzHw5P5RCN4/5yLcsqYzAkDBFHmhFo4IQDnx3RjMxAZAHHxu8L3/+79PTFR3vEHZv7ocaO5UDgnA0jX0nxXi6r/8cRlJX+P8P0ll50OPP7I/LeuM51jkxb85Iigw6Mj0v3eFlazdSv4/28Tnu4inBkCqJpAy+qflv+PybUnSV+q/xfuqkV21CsD7ZwuXjifzv6Wa09cZMQRAKdP3YC90CsB+Qg8PWtr6P2WYFv7VRwNAnB8KqL6tyb9en7Feqbz4vw2JNeHPzwPAf1ia4S3M6T/cdUHdUwUDwDzZQR50ZvE/xN1uOJN96z/4aohfpgoAQDACdCYR+wfA/kvjhEed8b/Z8jujR3cKwI6w1YmOxfa/xsxZf7deCMBLMf3gR+L5v9yO3Eg4hQNAyv4dP20lDECAbKPWT08DwK0djISoGAXA58ySOEMcB0CIPqXhtLb4v7Dcegoi7wtAukZdFwga8D8ugO8yvRgAQCPVEOEW6wpAB2SlL4LGtr84fdm3ZkTaP30RSHMe4Oc/QEGsXFbv5T+inbPcciPiP19LjpR5qeu/0xOBsY9r5D8Um3tL1UMEQEo9cdFk9AHAYZlFLkZFBsAVXhnEs14LQBzV+sjfJtI/3DHE7AdMA0DmFcejzfflv5Kov300pgbAQCunbreoCsDL25kEj9nuP9IlJHy6xte/HkGhnfB2CcDDRHpdUygJwJcgTWphvQJAXPRCMr8yAUBIZOv651YEQPnFTkUWsf0/TnarOxr8CcBcoC1bnY/0P9wx450iRPI/LlwgoP87/b94EOtCUlD+v1+9TjMJVv4/BqrdXKeU9L87WArf1bP2P7UkBBcbzvq/3M4DrfcYCMBTtwt2lb//v/6aihEIKABAcONBtICvB8CnxYdR2zUCwLsPCvc67AxABCtOPmzEA8DXD+3SjofhP2D9Pzu1AAVA0vf0+jcLBcDLwQqqX2kFwC2wWS3IEvU/yEdueKoYp7/RfVdrSpHyPwIZBPD+jwZAKX59kn9RCcACFk/IevLDv/9miTjirABAKn551ss9BMDsleS+utzpP2Q2H52VxQFAzIGmTDCQp79f39Ep8yPwv0YomYWwVue/2FMfVjO+BEAwZzVSyL/+P8bcQpK37gDAABgnv7Sb/b9mtPpw8OwCwPXRcaVhEvm/BiMfq5x7DEA6AGqT9f4GQOWOJGiVfATAbKyanMwfB8C0Iw4HtdvwvyJziOY7ZwlAx08H6kXG6L/LBlYMeUrrP1dyV/Zbzdg/l3c34csj8T/XbHN1hjIOQHY3Z8naAfm/SddLHlG9A0C2eliYIwkKwJ4N9/4oCQHA3SYWUUYvB8A/OVcPjafrv8Cl5UwKeAXAK/0GSwRpAcC8SgM4DrH+P3USQODeeuw/ITdNJo0JBMA/ffVW1ir9v4bJT3b/RAbAnckQn1vqBEBVGUDAfCD4v6FQxS18DApAACTkgs+xC0ADC91IzR4BwFE6y1FOngfA4HzsUCCc6D8pesvhKmbJv8DpjVw5UfQ/ZBXegPH7+D/hZ1XOHo72v8D6QUBWMfE/7LlfD/Wd8L+C7rWCDiqsv+aFj7oCcwtAK0zdC0V+BEAGDC5PjGn8PzmX+tzaTsc/dARPk+vOAUA3scEwsaUHwHh54i+PlAJAz/Gl7KvQ77+RiE5OnePxPyRsAGDwmgdAiNz5dYba8z84g/eIICjzP8Ws2zP0EQjAkDGbhRnz9L8NdQSVj7z3v61PPqql1PU/W8NpQbY29T+EBpqGjQPiP5UNxr1g2QXAFVuAbr/7AMAMH83Qfrv0vwz9o+ugM+y/DXjfecmiCEBaXwC0bB4DQBNDPrwYpADA4/wY3p4u+z90vLXzqwIHwLN4mU4LYwdA8grPzN5YBkBsWhqnM2MGwKTzagbIzPg/hx/lXm7v+7/T8rcijxUGQB01OTiPlN6/U8xOQfKG/z+kwrOiRpDiP/nKXjWSb/K/qWch0oXpAsCE6BuCgkaTP9W1WfIOxuo/O2h1rOQ8BsDKx+KQZiwGwPXWT+ThSwdAd4WU+G13CMCU9L7Q6dL8vwOZsP3QhQDAg+iGUVmD8j/uVaoXu5gMQOFNjKItdQXAVrLLRoKnAUCfMjYc/WzXv4oYh77yQ/2/ODY3fJ2LDkDmmH/1hhX4P3GKj2ik2gjAS4JqhM0gA8CBUHlDa90IQLY30I+k/AnAR9zTOrKWwr8LqmM/V1gCQMaCrIFXSQjAuJUSA3DoRb+ISjjk0lEGQHRMwNXZFAHAfdy2kBCaBkDwZqwOBscFwEHmYJXJLQZAPpzZjXnMAMD6PzEZFUgKwAPquPc2X+Y/AcRkw7oB8b9DFtu8BvIAQGV2G17wiwhA5VwxfxQICcDUEb7r7HQIQFLl1yl4mvC/8slnvBWVB8Ai30PlogLyv8EZ9XzECJi/5ruCcfMa+z/O8ilvLrXrv2Uy5HFHx+Y/FbR1QnaHDkD6ZRfcBK8JwGEcMuh8AwJAX9ntlc1kCsCX1dtCV13uvxQ/5L+Q5gXAp652kVdrCsD+TQlZTMXVv4KIVXs3/AVANxKgx2jc9T/CZ5g4/xH7vwJ1ZFuLju4/lmPjvp6BzL8iOhGAFEL3vx9u+QNFkgJAbqAhyVHmyT/KQhacsLvaP967R1FVCfe/bJ1Ydj+UCcCCpqCZIk31PztwBXM/fMc/24dm3p7Zlr9N37hMiOvgv5q65MgT+ABA+/wmakG347+tN4NZyokFwH8hu2+pYQTAVqW8hCQ49z/x0sH09TsAwPNF49cM6wTAnLcjkq8u2r93fvzB7KwAQBaASdux4AnAST0iSa6U+D9YRy9y+Tr9PxhZ63T1CwTAOdLChLLUBMAn9BUztokOQGxLOBNB2wNAfiJZHX+3AEAqJhXWGr/ZPzmnzww/3/s/sp3NhJ1B2j8eCWg4m93HP6qFolvpVQVA2/ay3bwT7z8HcCjG9lgIQKjYjTz97PW/vgv41oiDCsDCVPDlOlqKP6CigP83EQJATLhwYIha/T9B7JS5BOkJwNafgMN+8r6/wFuk/yvw2D9qknvO5TwNQMQ22amjzwZASCq5pmdk9z/oDK4DX5HuP/qsT/2KXQRADzTgLY4FBEA2rLi9YJf7P4tyqN2wzgHAJEiXpulR1T8JC2DLpVsFQGZRZHc+aAxAbDSvkvQnBsDXfOSn9WD9P86IUiWIuAZAZBPE/ZeI/T/W+DG8qBQFQMzN8ho9uQjAF6ikcX9B579IrgJ6oGbpPyGRYLEXgQVA5w/siXBj6L9OTsw92J3CPyXZ1aTSDwBAeDOAuq+SAMCKaN9QBWoBwKfpEOij3vk/U24V2ABn/L8/s46e7J7xP2y0F7MlugBAhfOUYhRxBUDm0c8QdGPev63ljakcKQHAQDy+jDLgBUBi7uoU2nICwLlOavZPOPo/qiddtR7BCsBbTYlfBXi7v92BTirjAt2/hMcGGYVlBsBx4Rf7J7L5PyJydFPSvwpAjJkSt54eDUALY8E7fKoBwAlXB6Wq6AfAVZLxhEGK4L/ctxH8i48AQBMxePouiAXAMjyBWJhqCMCUfCqCcRH8vwPTn0wRqgZA+TRjw7Pr5L9+ZNWgS54DwHzJC6PqFfs/UhwHgOK08j/7lH254Q0FwETPsaFMB7s/eufcB+wQAMAIWRKhwdnLv9p2MauU9vi/z/T59UyyBcCLpXCvNUL/P4QmSSSoaAZA4Wt4X1faBED3zVIZaeH1PzOo/n1BPgfAM6xOwsUf/7/oIbb7N/8CQLl7A4QBpP4/LlRvRWxl8T/Mwy/HjSgKwC3KVrOE+Ou/pEcUiVneAEAy8g78a2cGwHhkhBVJveo/BFUj1Yc8AkBK4g2Ro5nHP75m8ye66fE/tw3FmkAsBsC2ma+n7lzvvynxz87z9/W/LTmupuawB0DvvMwtN+4JwDdTUHTy+vs/YEUC9uJS8z88DqILOXgIQMuobL/jbgdAFHpraicLAUB1Kc5BUOYAQDrdFJoT6wjATQKc+uyOCEALFESx1ljqv2irJsbC2+2/hYI0nUPUA8Apc6TPddwJwGXmT0DpigJAa3wf/kTXCUAks8Mc1cLrP8RE84afwPs/IJC+L7/S+r/10AcVs5rkPzzNrCrwXgDAyJpO20Mh/L+45qf3PdQGwKhMt5M8DwhAOcj5u6k2AMCX5l469pgEwPscEVlkZPU/cBy4BNQu+L9jyNfBk48JQBv2/9F5u+Q/lldGcMa/9b+PWpzAGzf1P8Kpu+c1JQJAYMfRNDiEpj8ysGtUWZ0AQJfSsqXQUQNAqgFTlV/4AcD0+iRf3skEQE4znc2lR9K/T+hMfHHAAMDh2E1wxpv/vzgbuyj7i+m/lsCtgRF6AsAP4jvxZ6MBwAXvzsvK7wrAaXOBC0Tb1D8pjxQLOrMAwAw1p8z9QPI/Nf5rjTMqAEBKGOTrIHIKQDOVkI7HlfC/MJHat2eHC0AEFnyVzMoGQJ1OBPzKitG/L+6I+CW/C0D9R1sPW6oDQKnZZ2xcxaw/PWsQY3FQAcCY09JvKuYKwF9NMz1SYQJAUKuTqt8V5L+taexZRYjUv9iy78oBWQXAD3ddQ7wf8L/WiY4DQCkJwGpltI6Wt/C/+hO6UbZRCcDGfd5FnswJwDKbVJsEVwbAfsRF0KXa6D/xZROOQzf8Pw1qUhzNYQbA91jCBWqt/r/OXl9Zor77Pw==",
          "dtype": "f8"
         },
         "z": {
          "bdata": "AAAAAAAAAAAAAAAAAAAAAAAAAAAAAAAAAAAAAAAAAAAAAAAAAAAAAAAAAAAAAAAAAAAAAAAAAAAAAAAAAAAAAAAAAAAAAAAAAAAAAAAAAAAAAAAAAAAAAAAAAAAAAAAAAAAAAAAAAAAAAAAAAAAAAAAAAAAAAAAAAAAAAAAAAAAAAAAAAAAAAAAAAAAAAAAAAAAAAAAAAAAAAAAAAAAAAAAAAAAAAAAAAAAAAAAAAAAAAAAAAAAAAAAAAAAAAAAAAAAAAAAAAAAAAAAAAAAAAAAAAAAAAAAAAAAAAAAAAAAAAAAAAAAAAAAAAAAAAAAAAAAAAAAAAAAAAAAAAAAAAAAAAAAAAAAAAAAAAAAAAAAAAAAAAAAAAAAAAAAAAAAAAAAAAAAAAAAAAAAAAAAAAAAAAAAAAAAAAAAAAAAAAAAAAAAAAAAAAAAAAAAAAAAAAAAAAAAAAAAAAAAAAAAAAAAAAAAAAAAAAAAAAAAAAAAAAAAAAAAAAAAAAAAAAAAAAAAAAAAAAAAAAAAAAAAAAAAAAAAAAAAAAAAAAAAAAAAAAAAAAAAAAAAAAAAAAAAAAAAAAAAAAAAAAAAAAAAAAAAAAAAAAAAAAAAAAAAAAAAAAAAAAAAAAAAAAAAAAAAAAAAAAAAAAAAAAAAAAAAAAAAAAAAAAAAAAAAAAAAAAAAAAAAAAAAAAAAAAAAAAAAAAAAAAAAAAAAAAAAAAAAAAAAAAAAAAAAAAAAAAAAAAAAAAAAAAAAAAAAAAAAAAAAAAAAAAAAAAAAAAAAAAAAAAAAAAAAAAAAAAAAAAAAAAAAAAAAAAAAAAAAAAAAAAAAAAAAAAAAAAAAAAAAAAAAAAAAAAAAAAAAAAAAAAAAAAAAAAAAAAAAAAAAAAAAAAAAAAAAAAAAAAAAAAAAAAAAAAAAAAAAAAAAAAAAAAAAAAAAAAAAAAAAAAAAAAAAAAAAAAAAAAAAAAAAAAAAAAAAAAAAAAAAAAAAAAAAAAAAAAAAAAAAAAAAAAAAAAAAAAAAAAAAAAAAAAAAAAAAAAAAAAAAAAAAAAAAAAAAAAAAAAAAAAAAAAAAAAAAAAAAAAAAAAAAAAAAAAAAAAAAAAAAAAAAAAAAAAAAAAAAAAAAAAAAAAAAAAAAAAAAAAAAAAAAAAAAAAAAAAAAAAAAAAAAAAAAAAAAAAAAAAAAAAAAAAAAAAAAAAAAAAAAAAAAAAAAAAAAAAAAAAAAAAAAAAAAAAAAAAAAAAAAAAAAAAAAAAAAAAAAAAAAAAAAAAAAAAAAAAAAAAAAAAAAAAAAAAAAAAAAAAAAAAAAAAAAAAAAAAAAAAAAAAAAAAAAAAAAAAAAAAAAAAAAAAAAAAAAAAAAAAAAAAAAAAAAAAAAAAAAAAAAAAAAAAAAAAAAAAAAAAAAAAAAAAAAAAAAAAAAAAAAAAAAAAAAAAAAAAAAAAAAAAAAAAAAAAAAAAAAAAAAAAAAAAAAAAAAAAAAAAAAAAAAAAAAAAAAAAAAAAAAAAAAAAAAAAAAAAAAAAAAAAAAAAAAAAAAAAAAAAAAAAAAAAAAAAAAAAAAAAAAAAAAAAAAAAAAAAAAAAAAAAAAAAAAAAAAAAAAAAAAAAAAAAAAAAAAAAAAAAAAAAAAAAAAAAAAAAAAAAAAAAAAAAAAAAAAAAAAAAAAAAAAAAAAAAAAAAAAAAAAAAAAAAAAAAAAAAAAAAAAAAAAAAAAAAAAAAAAAAAAAAAAAAAAAAAAAAAAAAAAAAAAAAAAAAAAAAAAAAAAAAAAAAAAAAAAAAAAAAAAAAAAAAAAAAAAAAAAAAAAAAAAAAAAAAAAAAAAAAAAAAAAAAAAAAAAAAAAAAAAAAAAAAAAAAAAAAAAAAAAAAAAAAAAAAAAAAAAAAAAAAAAAAAAAAAAAAAAAAAAAAAAAAAAAAAAAAAAAAAAAAAAAAAAAAAAAAAAAAAAAAAAAAAAAAAAAAAAAAAAAAAAAAAAAAAAAAAAAAAAAAAAAAAAAAAAAAAAAAAAAAAAAAAAAAAAAAAAAAAAAAAAAAAAAAAAAAAAAAAAAAAAAAAAAAAAAAAAAAAAAAAAAAAAAAAAAAAAAAAAAAAAAAAAAAAAAAAAAAAAAAAAAAAAAAAAAAAAAAAAAAAAAAAAAAAAAAAAAAAAAAAAAAAAAAAAAAAAAAAAAAAAAAAAAAAAAAAAAAAAAAAAAAAAAAAAAAAAAAAAAAAAAAAAAAAAAAAAAAAAAAAAAAAAAAAAAAAAAAAAAAAAAAAAAAAAAAAAAAAAAAAAAAAAAAAAAAAAAAAAAAAAAAAAAAAAAAAAAAAAAAAAAAAAAAAAAAAAAAAAAAAAAAAAAAAAAAAAAAAAAAAAAAAAAAAAAAAAAAAAAAAAAAAAAAAAAAAAAAAAAAAAAAAAAAAAAAAAAAAAAAAAAAAAAAAAAAAAAAAAAAAAAAAAAAAAAAAAAAAAAAAAAAAAAAAAAAAAAAAAAAAAAAAAAAAAAAAAAAAAAAAAAAAAAAAAAAAAAAAAAAAAAAAAAAAAAAAAAAAAAAAAAAAAAAAAAAAAAAAAAAAAAAAAAAAAAAAAAAAAAAAAAAAAAAAAAAAAAAAAAAAAAAAAAAAAAAAAAAAAAAAAAAAAAAAAAAAAAAAAAAAAAAAAAAAAAAAAAAAAAAAAAAAAAAAAAAAAAAAAAAAAAAAAAAAAAAAAAAAAAAAAAAAAAAAAAAAAAAAAAAAAAAAAAAAAAAAAAAAAAAAAAAAAAAAAAAAAAAAAAAAAAAAAAAAAAAAAAAAAAAAAAAAAAAAAAAAAAAAAAAAAAAAAAAAAAAAAAAAAAAAAAAAAAAAAAAAAAAAAAAAAAAAAAAAAAAAAAAAAAAAAAAAAAAAAAAAAAAAAAAAAAAAAAAAAAAAAAAAAAAAAAAAAAAAAAAAAAAAAAAAAAAAAAAAAAAAAAAAAAAAAAAAAAAAAAAAAAAAAAAAAAAAAAAAAAAAAAAAAAAAAAAAAAAAAAAAAAAAAAAAAAAAAAAAAAAAAAAAAAAAAAAAAAAAAAAAAAAAAAAAAAAAAAAAAAAAAAAAAAAAAAAAAAAAAAAAAAAAAAAAAAAAAAAAAAAAAAAAAAAAAAAAAAAAAAAAAAAAAAAAAAAAAAAAAAAAAAAAAAAAAAAAAAAAAAAAAAAAAAAAAAAAAAAAAAAAAAAAAAAAAAAAAAAAAAAAAAAAAAAAAAAAAAAAAAAAAAAAAAAAAAAAAAAAAAAAAAAAAAAAAAAAAAAAAAAAAAAAAAAAAAAAAAAAAAAAAAAAAAAAAAAAAAAAAAAAAAAAAAAAAAAAAAAAAAAAAAAAAAAAAAAAAAAAAAAAAAAAAAAAAAAAAAAAAAAAAAAAAAAAAAAAAAAAAAAAAAAAAAAAAAAAAAAAAAAAAAAAAAAAAAAAAAAAAAAAAAAAAAAAAAAAAAAAAAAAAAAAAAAAAAAAAAAAAAAAAAAAAAAAAAAAAAAAAAAAAAAAAAAAAAAAAAAAAAAAAAAAAAAAAAAAAAAAAAAAAAAAAAAAAAAAAAAAAAAAAAAAAAAAAAAAAAAAAAAAAAAAAAAAAAAAAAAAAAAAAAAAAAAAAAAAAAAAAAAAAAAAAAAAAAAAAAAAAAAAAAAAAAAAAAAAAAAAAAAAAAAAAAAAAAAAAAAAAAAAAAAAAAAAAAAAAAAAAAAAAAAAAAAAAAAAAAAAAAAAAAAAAAAAAAAAAAAAAAAAAAAAAAAAAAAAAAAAAAAAAAAAAAAAAAAAAAAAAAAAAAAAAAAAAAAAAAAAAAAAAAAAAAAAAAAAAAAAAAAAAAAAAAAAAAAAAAAAAAAAAAAAAAAAAAAAAAAAAAAAAAAAAAAAAAAAAAAAAAAAAAAAAAAAAAAAAAAAAAAAAAAAAAAAAAAAAAAAAAAAAAAAAAAAAAAAAAAAAAAAAAAAAAAAAAAAAAAAAAAAAAAAAAAAAAAAAAAAAAAAAAAAAAAAAAAAAAAAAAAAAAAAAAAAAAAAAAAAAAAAAAAAAAAAAAAAAAAAAAAAAAAAAAAAAAAAAAAAAAAAAAAAAAAAAAAAAAAAAAAAAAAAAAAAAAAAAAAAAAAAAAAAAAAAAAAAAAAAAAAAAAAAAAAAAAAAAAAAAAAAAAAAAAAAAAAAAAAAAAAAAAAAAAAAAAAAAAAAAAAAAAAAAAAAAAAAAAAAAAAAAAAAAAAAAAAAAAAAAAAAAAAAAAAAAAAAAAAAAAAAAAAAAAAAAAAAAAAAAAAAAAAAAAAAAAAAAAAAAAAAAAAAAAAAAAAAAAAAAAAAAAAAAAAAAAAAAAAAAAAAAAAAAAAAAAAAAAAAAAAAAAAAAAAAAAAAAAAAAAAAAAAAAAAAAAAAAAAAAAAAAAAAAAAAAAAAAAAAAAAAAAAAAAAAAAAAAAAAAAAAAAAAAAAAAAAAAAAAAAAAAAAAAAAAAAAAAAAAAAAAAAAAAAAAAAAAAAAAAAAAAAAAAAAAAAAAAAAAAAAAAAAAAAAAAAAAAAAAAAAAAAAAAAAAAAAAAAAAAAAAAAAAAAAAAAAAAAAAAAAAAAAAAAAAAAAAAAAAAAAAAAAAAAAAAAAAAAAAAAAAAAAAAAAAAAAAAAAAAAAAAAAAAAAAAAAAAAAAAAAAAAAAAAAAAAAAAAAAAAAAAAAAAAAAAAAAAAAAAAAAAAAAAAAAAAAAAAAAAAAAAAAAAAAAAAAAAAAAAAAAAAAAAAAAAAAAAAAAAAAAAAAAAAAAAAAAAAAAAAAAAAAAAAAAAAAAAAAAAAAAAAAAAAAAAAAAAAAAAAAAAAAAAAAAAAAAAAAAAAAAAAAAAAAAAAAAAAAAAAAAAAAAAAAAAAAAAAAAAAAAAAAAAAAAAAAAAAAAAAAAAAAAAAAAAAAAAAAAAAAAAAAAAAAAAAAAAAAAAAAAAAAAAAAAAAAAAAAAAAAAAAAAAAAAAAAAAAAAAAAAAAAAAAAAAAAAAAAAAAAAAAAAAAAAAAAAAAAAAAAAAAAAAAAAAAAAAAAAAAAAAAAAAAAAAAAAAAAAAAAAAAAAAAAAAAAAAAAAAAAAAAAAAAAAAAAAAAAAAAAAAAAAAAAAAAAAAAAAAAAAAAAAAAAAAAAAAAAAAAAAAAAAAAAAAAAAAAAAAAAAAAAAAAAAAAAAAAAAAAAAAAAAAAAAAAAAAAAAAAAAAAAAAAAAAAAAAAAAAAAAAAAAAAAAAAAAAAAAAAAAAAAAAAAAAAAAAAAAAAAAAAAAAAAAAAAAAAAAAAAAAAAAAAAAAAAAAAAAAAAAAAAAAAAAAAAAAAAAAAAAAAAAAAAAAAAAAAAAAAAAAAAAAAAAAAAAAAAAAAAAAAAAAAAAAAAAAAAAAAAAAAAAAAAAAAAAAAAAAAAAAAAAAAAAAAAAAAAAAAAAAAAAAAAAAAAAAAAAAAAAAAAAAAAAAAAAAAAAAAAAAAAAAAAAAAAAAAAAAAAAAAAAAAAAAAAAAAAAAAAAAAAAAAAAAAAAAAAAAAAAAAAAAAAAAAAAAAAAAAAAAAAAAAAAAAAAAAAAAAAAAAAAAAAAAAAAAAAAAAAAAAAAAAAAAAAAAAAAAAAAAAAAAAAAAAAAAAAAAAAAAAAAAAAAAAAAAAAAAAAAAAAAAAAAAAAAAAAAAAAAAAAAAAAAAAAAAAAAAAAAAAAAAAAAAAAAAAAAAAAAAAAAAAAAAAAAAAAAAAAAAAAAAAAAAAAAAAAAAAAAAAAAAAAAAAAAAAAAAAAAAAAAAAAAAAAAAAAAAAAAAAAAAAAAAAAAAAAAAAAAAAAAAAAAAAAAAAAAAAAAAAAAAAAAAAAAAAAAAAAAAAAAAAAAAAAAAAAAAAAAAAAAAAAAAAAAAAAAAAAAAAAAAAAAAAAAAAAAAAAAAAAAAAAAAAAAAAAAAAAAAAAAAAAAAAAAAAAAAAAAAAAAAAAAAAAAAAAAAAAAAAAAAAAAAAAAAAAAAAAAAAAAAAAAAAAAAAAAAAAAAAAAAAAAAAAAAAAAAAAAAAAAAAAAAAAAAAAAAAAAAAAAAAAAAAAAAAAAAAAAAAAAAAAAAAAAAAAAAAAAAAAAAAAAAAAAAAAAAAAAAAAAAAAAAAAAAAAAAAAAAAAAAAAAAAAAAAAAAAAAAAAAAAAAAAAAAAAAAAAAAAAAAAAAAAAAAAAAAAAAAAAAAAAAAAAAAAAAAAAAAAAAAAAAAAAAAAAAAAAAAAAAAAAAAAAAAAAAAAAAAAAAAAAAAAAAAAAAAAAAAAAAAAAAAAAAAAAAAAAAAAAAAAAAAAAAAAAAAAAAAAAAAAAAAAAAAAAAAAAAAAAAAAAAAAAAAAAAAAAAAAAAAAAAAAAAAAAAAAAAAAAAAAAAAAAAAAAAAAAAAAAAAAAAAAAAAAAAAAAAAAAAAAAAAAAAAAAAAAAAAAAAAAAAAAAAAAAAAAAAAAAAAAAAAAAAAAAAAAAAAAAAAAAAAAAAAAAAAAAAAAAAAAAAAAAAAAAAAAAAAAAAAAAAAAAAAAAAAAAAAAAAAAAAAAAAAAAAAAAAAAAAAAAAAAAAAAAAAAAAAAAAAAAAAAAAAAAAAAAAAAAAAAAAAAAAAAAAAAAAAAAAAAAAAAAAAAAAAAAAAAAAAAAAAAAAAAAAAAAAAAAAAAAAAAAAAAAAAAAAAAAAAAAAAAAAAAAAAAAAAAAAAAAAAAAAAAAAAAAAAAAAAAAAAAAAAAAAAAAAAAAAA=",
          "dtype": "i1"
         }
        }
       ],
       "layout": {
        "coloraxis": {
         "colorbar": {
          "title": {
           "text": "color"
          }
         },
         "colorscale": [
          [
           0,
           "#0d0887"
          ],
          [
           0.1111111111111111,
           "#46039f"
          ],
          [
           0.2222222222222222,
           "#7201a8"
          ],
          [
           0.3333333333333333,
           "#9c179e"
          ],
          [
           0.4444444444444444,
           "#bd3786"
          ],
          [
           0.5555555555555556,
           "#d8576b"
          ],
          [
           0.6666666666666666,
           "#ed7953"
          ],
          [
           0.7777777777777778,
           "#fb9f3a"
          ],
          [
           0.8888888888888888,
           "#fdca26"
          ],
          [
           1,
           "#f0f921"
          ]
         ]
        },
        "height": 800,
        "legend": {
         "tracegroupgap": 0
        },
        "scene": {
         "domain": {
          "x": [
           0,
           1
          ],
          "y": [
           0,
           1
          ]
         },
         "xaxis": {
          "title": {
           "text": "x"
          }
         },
         "yaxis": {
          "title": {
           "text": "y"
          }
         },
         "zaxis": {
          "title": {
           "text": "z"
          }
         }
        },
        "template": {
         "data": {
          "bar": [
           {
            "error_x": {
             "color": "#2a3f5f"
            },
            "error_y": {
             "color": "#2a3f5f"
            },
            "marker": {
             "line": {
              "color": "#E5ECF6",
              "width": 0.5
             },
             "pattern": {
              "fillmode": "overlay",
              "size": 10,
              "solidity": 0.2
             }
            },
            "type": "bar"
           }
          ],
          "barpolar": [
           {
            "marker": {
             "line": {
              "color": "#E5ECF6",
              "width": 0.5
             },
             "pattern": {
              "fillmode": "overlay",
              "size": 10,
              "solidity": 0.2
             }
            },
            "type": "barpolar"
           }
          ],
          "carpet": [
           {
            "aaxis": {
             "endlinecolor": "#2a3f5f",
             "gridcolor": "white",
             "linecolor": "white",
             "minorgridcolor": "white",
             "startlinecolor": "#2a3f5f"
            },
            "baxis": {
             "endlinecolor": "#2a3f5f",
             "gridcolor": "white",
             "linecolor": "white",
             "minorgridcolor": "white",
             "startlinecolor": "#2a3f5f"
            },
            "type": "carpet"
           }
          ],
          "choropleth": [
           {
            "colorbar": {
             "outlinewidth": 0,
             "ticks": ""
            },
            "type": "choropleth"
           }
          ],
          "contour": [
           {
            "colorbar": {
             "outlinewidth": 0,
             "ticks": ""
            },
            "colorscale": [
             [
              0,
              "#0d0887"
             ],
             [
              0.1111111111111111,
              "#46039f"
             ],
             [
              0.2222222222222222,
              "#7201a8"
             ],
             [
              0.3333333333333333,
              "#9c179e"
             ],
             [
              0.4444444444444444,
              "#bd3786"
             ],
             [
              0.5555555555555556,
              "#d8576b"
             ],
             [
              0.6666666666666666,
              "#ed7953"
             ],
             [
              0.7777777777777778,
              "#fb9f3a"
             ],
             [
              0.8888888888888888,
              "#fdca26"
             ],
             [
              1,
              "#f0f921"
             ]
            ],
            "type": "contour"
           }
          ],
          "contourcarpet": [
           {
            "colorbar": {
             "outlinewidth": 0,
             "ticks": ""
            },
            "type": "contourcarpet"
           }
          ],
          "heatmap": [
           {
            "colorbar": {
             "outlinewidth": 0,
             "ticks": ""
            },
            "colorscale": [
             [
              0,
              "#0d0887"
             ],
             [
              0.1111111111111111,
              "#46039f"
             ],
             [
              0.2222222222222222,
              "#7201a8"
             ],
             [
              0.3333333333333333,
              "#9c179e"
             ],
             [
              0.4444444444444444,
              "#bd3786"
             ],
             [
              0.5555555555555556,
              "#d8576b"
             ],
             [
              0.6666666666666666,
              "#ed7953"
             ],
             [
              0.7777777777777778,
              "#fb9f3a"
             ],
             [
              0.8888888888888888,
              "#fdca26"
             ],
             [
              1,
              "#f0f921"
             ]
            ],
            "type": "heatmap"
           }
          ],
          "histogram": [
           {
            "marker": {
             "pattern": {
              "fillmode": "overlay",
              "size": 10,
              "solidity": 0.2
             }
            },
            "type": "histogram"
           }
          ],
          "histogram2d": [
           {
            "colorbar": {
             "outlinewidth": 0,
             "ticks": ""
            },
            "colorscale": [
             [
              0,
              "#0d0887"
             ],
             [
              0.1111111111111111,
              "#46039f"
             ],
             [
              0.2222222222222222,
              "#7201a8"
             ],
             [
              0.3333333333333333,
              "#9c179e"
             ],
             [
              0.4444444444444444,
              "#bd3786"
             ],
             [
              0.5555555555555556,
              "#d8576b"
             ],
             [
              0.6666666666666666,
              "#ed7953"
             ],
             [
              0.7777777777777778,
              "#fb9f3a"
             ],
             [
              0.8888888888888888,
              "#fdca26"
             ],
             [
              1,
              "#f0f921"
             ]
            ],
            "type": "histogram2d"
           }
          ],
          "histogram2dcontour": [
           {
            "colorbar": {
             "outlinewidth": 0,
             "ticks": ""
            },
            "colorscale": [
             [
              0,
              "#0d0887"
             ],
             [
              0.1111111111111111,
              "#46039f"
             ],
             [
              0.2222222222222222,
              "#7201a8"
             ],
             [
              0.3333333333333333,
              "#9c179e"
             ],
             [
              0.4444444444444444,
              "#bd3786"
             ],
             [
              0.5555555555555556,
              "#d8576b"
             ],
             [
              0.6666666666666666,
              "#ed7953"
             ],
             [
              0.7777777777777778,
              "#fb9f3a"
             ],
             [
              0.8888888888888888,
              "#fdca26"
             ],
             [
              1,
              "#f0f921"
             ]
            ],
            "type": "histogram2dcontour"
           }
          ],
          "mesh3d": [
           {
            "colorbar": {
             "outlinewidth": 0,
             "ticks": ""
            },
            "type": "mesh3d"
           }
          ],
          "parcoords": [
           {
            "line": {
             "colorbar": {
              "outlinewidth": 0,
              "ticks": ""
             }
            },
            "type": "parcoords"
           }
          ],
          "pie": [
           {
            "automargin": true,
            "type": "pie"
           }
          ],
          "scatter": [
           {
            "fillpattern": {
             "fillmode": "overlay",
             "size": 10,
             "solidity": 0.2
            },
            "type": "scatter"
           }
          ],
          "scatter3d": [
           {
            "line": {
             "colorbar": {
              "outlinewidth": 0,
              "ticks": ""
             }
            },
            "marker": {
             "colorbar": {
              "outlinewidth": 0,
              "ticks": ""
             }
            },
            "type": "scatter3d"
           }
          ],
          "scattercarpet": [
           {
            "marker": {
             "colorbar": {
              "outlinewidth": 0,
              "ticks": ""
             }
            },
            "type": "scattercarpet"
           }
          ],
          "scattergeo": [
           {
            "marker": {
             "colorbar": {
              "outlinewidth": 0,
              "ticks": ""
             }
            },
            "type": "scattergeo"
           }
          ],
          "scattergl": [
           {
            "marker": {
             "colorbar": {
              "outlinewidth": 0,
              "ticks": ""
             }
            },
            "type": "scattergl"
           }
          ],
          "scattermap": [
           {
            "marker": {
             "colorbar": {
              "outlinewidth": 0,
              "ticks": ""
             }
            },
            "type": "scattermap"
           }
          ],
          "scattermapbox": [
           {
            "marker": {
             "colorbar": {
              "outlinewidth": 0,
              "ticks": ""
             }
            },
            "type": "scattermapbox"
           }
          ],
          "scatterpolar": [
           {
            "marker": {
             "colorbar": {
              "outlinewidth": 0,
              "ticks": ""
             }
            },
            "type": "scatterpolar"
           }
          ],
          "scatterpolargl": [
           {
            "marker": {
             "colorbar": {
              "outlinewidth": 0,
              "ticks": ""
             }
            },
            "type": "scatterpolargl"
           }
          ],
          "scatterternary": [
           {
            "marker": {
             "colorbar": {
              "outlinewidth": 0,
              "ticks": ""
             }
            },
            "type": "scatterternary"
           }
          ],
          "surface": [
           {
            "colorbar": {
             "outlinewidth": 0,
             "ticks": ""
            },
            "colorscale": [
             [
              0,
              "#0d0887"
             ],
             [
              0.1111111111111111,
              "#46039f"
             ],
             [
              0.2222222222222222,
              "#7201a8"
             ],
             [
              0.3333333333333333,
              "#9c179e"
             ],
             [
              0.4444444444444444,
              "#bd3786"
             ],
             [
              0.5555555555555556,
              "#d8576b"
             ],
             [
              0.6666666666666666,
              "#ed7953"
             ],
             [
              0.7777777777777778,
              "#fb9f3a"
             ],
             [
              0.8888888888888888,
              "#fdca26"
             ],
             [
              1,
              "#f0f921"
             ]
            ],
            "type": "surface"
           }
          ],
          "table": [
           {
            "cells": {
             "fill": {
              "color": "#EBF0F8"
             },
             "line": {
              "color": "white"
             }
            },
            "header": {
             "fill": {
              "color": "#C8D4E3"
             },
             "line": {
              "color": "white"
             }
            },
            "type": "table"
           }
          ]
         },
         "layout": {
          "annotationdefaults": {
           "arrowcolor": "#2a3f5f",
           "arrowhead": 0,
           "arrowwidth": 1
          },
          "autotypenumbers": "strict",
          "coloraxis": {
           "colorbar": {
            "outlinewidth": 0,
            "ticks": ""
           }
          },
          "colorscale": {
           "diverging": [
            [
             0,
             "#8e0152"
            ],
            [
             0.1,
             "#c51b7d"
            ],
            [
             0.2,
             "#de77ae"
            ],
            [
             0.3,
             "#f1b6da"
            ],
            [
             0.4,
             "#fde0ef"
            ],
            [
             0.5,
             "#f7f7f7"
            ],
            [
             0.6,
             "#e6f5d0"
            ],
            [
             0.7,
             "#b8e186"
            ],
            [
             0.8,
             "#7fbc41"
            ],
            [
             0.9,
             "#4d9221"
            ],
            [
             1,
             "#276419"
            ]
           ],
           "sequential": [
            [
             0,
             "#0d0887"
            ],
            [
             0.1111111111111111,
             "#46039f"
            ],
            [
             0.2222222222222222,
             "#7201a8"
            ],
            [
             0.3333333333333333,
             "#9c179e"
            ],
            [
             0.4444444444444444,
             "#bd3786"
            ],
            [
             0.5555555555555556,
             "#d8576b"
            ],
            [
             0.6666666666666666,
             "#ed7953"
            ],
            [
             0.7777777777777778,
             "#fb9f3a"
            ],
            [
             0.8888888888888888,
             "#fdca26"
            ],
            [
             1,
             "#f0f921"
            ]
           ],
           "sequentialminus": [
            [
             0,
             "#0d0887"
            ],
            [
             0.1111111111111111,
             "#46039f"
            ],
            [
             0.2222222222222222,
             "#7201a8"
            ],
            [
             0.3333333333333333,
             "#9c179e"
            ],
            [
             0.4444444444444444,
             "#bd3786"
            ],
            [
             0.5555555555555556,
             "#d8576b"
            ],
            [
             0.6666666666666666,
             "#ed7953"
            ],
            [
             0.7777777777777778,
             "#fb9f3a"
            ],
            [
             0.8888888888888888,
             "#fdca26"
            ],
            [
             1,
             "#f0f921"
            ]
           ]
          },
          "colorway": [
           "#636efa",
           "#EF553B",
           "#00cc96",
           "#ab63fa",
           "#FFA15A",
           "#19d3f3",
           "#FF6692",
           "#B6E880",
           "#FF97FF",
           "#FECB52"
          ],
          "font": {
           "color": "#2a3f5f"
          },
          "geo": {
           "bgcolor": "white",
           "lakecolor": "white",
           "landcolor": "#E5ECF6",
           "showlakes": true,
           "showland": true,
           "subunitcolor": "white"
          },
          "hoverlabel": {
           "align": "left"
          },
          "hovermode": "closest",
          "mapbox": {
           "style": "light"
          },
          "paper_bgcolor": "white",
          "plot_bgcolor": "#E5ECF6",
          "polar": {
           "angularaxis": {
            "gridcolor": "white",
            "linecolor": "white",
            "ticks": ""
           },
           "bgcolor": "#E5ECF6",
           "radialaxis": {
            "gridcolor": "white",
            "linecolor": "white",
            "ticks": ""
           }
          },
          "scene": {
           "xaxis": {
            "backgroundcolor": "#E5ECF6",
            "gridcolor": "white",
            "gridwidth": 2,
            "linecolor": "white",
            "showbackground": true,
            "ticks": "",
            "zerolinecolor": "white"
           },
           "yaxis": {
            "backgroundcolor": "#E5ECF6",
            "gridcolor": "white",
            "gridwidth": 2,
            "linecolor": "white",
            "showbackground": true,
            "ticks": "",
            "zerolinecolor": "white"
           },
           "zaxis": {
            "backgroundcolor": "#E5ECF6",
            "gridcolor": "white",
            "gridwidth": 2,
            "linecolor": "white",
            "showbackground": true,
            "ticks": "",
            "zerolinecolor": "white"
           }
          },
          "shapedefaults": {
           "line": {
            "color": "#2a3f5f"
           }
          },
          "ternary": {
           "aaxis": {
            "gridcolor": "white",
            "linecolor": "white",
            "ticks": ""
           },
           "baxis": {
            "gridcolor": "white",
            "linecolor": "white",
            "ticks": ""
           },
           "bgcolor": "#E5ECF6",
           "caxis": {
            "gridcolor": "white",
            "linecolor": "white",
            "ticks": ""
           }
          },
          "title": {
           "x": 0.05
          },
          "xaxis": {
           "automargin": true,
           "gridcolor": "white",
           "linecolor": "white",
           "ticks": "",
           "title": {
            "standoff": 15
           },
           "zerolinecolor": "white",
           "zerolinewidth": 2
          },
          "yaxis": {
           "automargin": true,
           "gridcolor": "white",
           "linecolor": "white",
           "ticks": "",
           "title": {
            "standoff": 15
           },
           "zerolinecolor": "white",
           "zerolinewidth": 2
          }
         }
        },
        "title": {
         "text": "3D Scatter plot"
        },
        "width": 800
       }
      }
     },
     "metadata": {},
     "output_type": "display_data"
    }
   ],
   "source": [
    "fig = px.scatter_3d(\n",
    "    x=x_pca[:,0],\n",
    "    y=x_pca[:,1],\n",
    "    z=[0]*len(x_pca[:,0]),\n",
    "    color=x_pca[:,0],          # Assigns the color of the points based on this column\n",
    "    opacity=0.7,                  # Adjusts the transparency of the points\n",
    "    title='3D Scatter plot',\n",
    ")\n",
    "fig.update_traces(\n",
    "    marker=dict(\n",
    "        size=3,                 # Set the size of the markers (e.g., 3 is small)\n",
    "    )\n",
    ")\n",
    "\n",
    "fig.update_layout( width = 800, height = 800)\n",
    "fig.show()"
   ]
  }
 ],
 "metadata": {
  "kernelspec": {
   "display_name": "Python 3",
   "language": "python",
   "name": "python3"
  },
  "language_info": {
   "codemirror_mode": {
    "name": "ipython",
    "version": 3
   },
   "file_extension": ".py",
   "mimetype": "text/x-python",
   "name": "python",
   "nbconvert_exporter": "python",
   "pygments_lexer": "ipython3",
   "version": "3.12.10"
  }
 },
 "nbformat": 4,
 "nbformat_minor": 5
}
